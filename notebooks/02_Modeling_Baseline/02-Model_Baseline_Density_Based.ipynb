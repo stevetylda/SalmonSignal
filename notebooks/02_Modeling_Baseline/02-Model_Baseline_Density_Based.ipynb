{
 "cells": [
  {
   "cell_type": "code",
   "execution_count": 1313,
   "id": "364576fa",
   "metadata": {},
   "outputs": [],
   "source": [
    "# ----------------------------------------- #\n",
    "#                  MODULES                  #\n",
    "\n",
    "# Standard Modules\n",
    "import os\n",
    "\n",
    "# Third-Party Modules\n",
    "import h3\n",
    "import geopandas as gpd\n",
    "import numpy as np\n",
    "import pandas as pd\n",
    "import plotly.express as px\n",
    "import pandas as pd\n",
    "from sklearn.metrics import accuracy_score, precision_score, recall_score, f1_score\n",
    "from sklearn.metrics import confusion_matrix\n",
    "from scipy.spatial.distance import cdist\n",
    "\n",
    "#                                           #\n",
    "# ----------------------------------------- #\n",
    "\n",
    "# ----------------------------------------- #\n",
    "#                 FUNCTIONS                 #\n",
    "\n",
    "\n",
    "# Compute pairwise distances (Haversine) in km\n",
    "def haversine(latlon1, latlon2):\n",
    "    lat1, lon1 = np.radians(latlon1[:, 0]), np.radians(latlon1[:, 1])\n",
    "    lat2, lon2 = np.radians(latlon2[:, 0]), np.radians(latlon2[:, 1])\n",
    "    dlat = lat2[:, None] - lat1[None, :]\n",
    "    dlon = lon2[:, None] - lon1[None, :]\n",
    "    a = (\n",
    "        np.sin(dlat / 2) ** 2\n",
    "        + np.cos(lat1[None, :]) * np.cos(lat2[:, None]) * np.sin(dlon / 2) ** 2\n",
    "    )\n",
    "    c = 2 * np.arcsin(np.sqrt(a))\n",
    "    return 6371 * c  # Earth radius in km\n",
    "\n",
    "\n",
    "# Data Opener for Sightings Data\n",
    "def open_sightings(path):\n",
    "    if os.path.exists(path):\n",
    "        if \".csv\" in path:\n",
    "            sightings = pd.read_csv(path)\n",
    "            return sightings\n",
    "        elif \".parquet\" in path:\n",
    "            sightings = pd.read_parquet(path)\n",
    "            return sightings\n",
    "        else:\n",
    "            print(\"WARNING: Path is not a supported file type.\")\n",
    "    else:\n",
    "        print(\"WARNING: Path does not exist.\")\n",
    "\n",
    "\n",
    "# Quick Preprocess on Read of Sightings Data\n",
    "def quick_preprocess(data, H3_RESOLUTION):\n",
    "    # Preprocess Sightings - Remove Spurious Data\n",
    "    data[\"LONGITUDE\"] = np.where(\n",
    "        data[\"LONGITUDE\"] > 0, data[\"LONGITUDE\"] * -1, data[\"LONGITUDE\"]\n",
    "    )\n",
    "    data = data[(data[\"LONGITUDE\"] < -115) & (data[\"LONGITUDE\"] > -160)]\n",
    "\n",
    "    # Expand by COUNT\n",
    "    data = data.loc[data.index.repeat(data[\"COUNT\"])].reset_index(drop=True)\n",
    "\n",
    "    # Assign H3 cell (parallelized with swifter)\n",
    "    data[\"H3_CELL\"] = data.apply(\n",
    "        lambda x: h3.latlng_to_cell(x[\"LATITUDE\"], x[\"LONGITUDE\"], H3_RESOLUTION),\n",
    "        axis=1,\n",
    "    )\n",
    "\n",
    "    return data\n",
    "\n",
    "\n",
    "# Threshold Metrics\n",
    "def threshold_metrics_with_cm(df, prob_col, target_col, thresholds=None):\n",
    "    \"\"\"\n",
    "    Compute accuracy, precision, recall, F1, and CM percentages for multiple thresholds.\n",
    "\n",
    "    Returns a DataFrame with:\n",
    "    threshold, accuracy, precision, recall, f1, TN_pct, FP_pct, FN_pct, TP_pct\n",
    "    \"\"\"\n",
    "    if thresholds is None:\n",
    "        thresholds = [i / 20 for i in range(21)]  # 0.0, 0.05, ..., 1.0\n",
    "\n",
    "    metrics_list = []\n",
    "\n",
    "    for t in thresholds:\n",
    "        preds = df[prob_col] >= t\n",
    "        tn, fp, fn, tp = confusion_matrix(df[target_col], preds).ravel()\n",
    "        total = tn + fp + fn + tp\n",
    "\n",
    "        metrics_list.append(\n",
    "            {\n",
    "                \"threshold\": t,\n",
    "                \"accuracy\": accuracy_score(df[target_col], preds),\n",
    "                \"precision\": precision_score(df[target_col], preds, zero_division=0),\n",
    "                \"recall\": recall_score(df[target_col], preds, zero_division=0),\n",
    "                \"f1\": f1_score(df[target_col], preds, zero_division=0),\n",
    "                \"TN_pct\": tn / total,\n",
    "                \"FP_pct\": fp / total,\n",
    "                \"FN_pct\": fn / total,\n",
    "                \"TP_pct\": tp / total,\n",
    "            }\n",
    "        )\n",
    "\n",
    "    return pd.DataFrame(metrics_list)\n",
    "\n",
    "\n",
    "#                                           #\n",
    "# ----------------------------------------- #"
   ]
  },
  {
   "cell_type": "code",
   "execution_count": 1314,
   "id": "40a5b6c7",
   "metadata": {},
   "outputs": [],
   "source": [
    "# Parameters\n",
    "H3_RESOLUTION = 6  # Target Resolution\n",
    "SIGHTINGS_PATH = (\n",
    "    \"../../data/processed/ORCA_SIGHTINGS/ORCA_SIGHTINGS.parquet\"  # Data Paths\n",
    ")\n",
    "WATER_POLYGONS_PATH = (\n",
    "    f\"../../data/processed/GIS/H3_{H3_RESOLUTION}_Polygons_With_Water_Coverage.parquet\"\n",
    ")"
   ]
  },
  {
   "cell_type": "code",
   "execution_count": 1315,
   "id": "ac458017",
   "metadata": {},
   "outputs": [],
   "source": [
    "# Open sightings and preprocess\n",
    "sightings_data = open_sightings(SIGHTINGS_PATH)\n",
    "sightings_data = quick_preprocess(sightings_data, H3_RESOLUTION)\n",
    "sightings_data.DATE = pd.to_datetime(sightings_data.DATE)\n",
    "sightings_data[\"POD_TYPE\"] = np.where(\n",
    "    sightings_data[\"POD_TAG\"] == \"T\", \"TRANSIENT\", sightings_data[\"POD_TYPE\"]\n",
    ")\n",
    "sightings_data[\"POD_TYPE\"] = np.where(\n",
    "    sightings_data[\"POD_TAG\"] == \"O\", \"OTHER\", sightings_data[\"POD_TYPE\"]\n",
    ")\n",
    "\n",
    "# Date range\n",
    "start_date = sightings_data[\"DATE\"].min()\n",
    "end_date = sightings_data[\"DATE\"].max()"
   ]
  },
  {
   "cell_type": "code",
   "execution_count": 1316,
   "id": "d07a181a",
   "metadata": {},
   "outputs": [],
   "source": [
    "# Open Water Polygons\n",
    "water_polygons = gpd.read_parquet(WATER_POLYGONS_PATH).rename(\n",
    "    columns={\"h3_index\": \"H3_CELL\"}\n",
    ")"
   ]
  },
  {
   "cell_type": "code",
   "execution_count": 1317,
   "id": "1a3445b3",
   "metadata": {},
   "outputs": [
    {
     "data": {
      "text/html": [
       "<div>\n",
       "<style scoped>\n",
       "    .dataframe tbody tr th:only-of-type {\n",
       "        vertical-align: middle;\n",
       "    }\n",
       "\n",
       "    .dataframe tbody tr th {\n",
       "        vertical-align: top;\n",
       "    }\n",
       "\n",
       "    .dataframe thead th {\n",
       "        text-align: right;\n",
       "    }\n",
       "</style>\n",
       "<table border=\"1\" class=\"dataframe\">\n",
       "  <thead>\n",
       "    <tr style=\"text-align: right;\">\n",
       "      <th></th>\n",
       "      <th>POD_TAG</th>\n",
       "      <th>POD_TYPE</th>\n",
       "    </tr>\n",
       "  </thead>\n",
       "  <tbody>\n",
       "    <tr>\n",
       "      <th>0</th>\n",
       "      <td>O</td>\n",
       "      <td>OTHER</td>\n",
       "    </tr>\n",
       "    <tr>\n",
       "      <th>11</th>\n",
       "      <td>K</td>\n",
       "      <td>SRKW</td>\n",
       "    </tr>\n",
       "    <tr>\n",
       "      <th>12</th>\n",
       "      <td>L</td>\n",
       "      <td>SRKW</td>\n",
       "    </tr>\n",
       "    <tr>\n",
       "      <th>52</th>\n",
       "      <td>J</td>\n",
       "      <td>SRKW</td>\n",
       "    </tr>\n",
       "    <tr>\n",
       "      <th>132</th>\n",
       "      <td>T</td>\n",
       "      <td>TRANSIENT</td>\n",
       "    </tr>\n",
       "    <tr>\n",
       "      <th>160171</th>\n",
       "      <td>A</td>\n",
       "      <td>NRKW</td>\n",
       "    </tr>\n",
       "    <tr>\n",
       "      <th>160172</th>\n",
       "      <td>G</td>\n",
       "      <td>NRKW</td>\n",
       "    </tr>\n",
       "    <tr>\n",
       "      <th>160173</th>\n",
       "      <td>R</td>\n",
       "      <td>NRKW</td>\n",
       "    </tr>\n",
       "  </tbody>\n",
       "</table>\n",
       "</div>"
      ],
      "text/plain": [
       "       POD_TAG   POD_TYPE\n",
       "0            O      OTHER\n",
       "11           K       SRKW\n",
       "12           L       SRKW\n",
       "52           J       SRKW\n",
       "132          T  TRANSIENT\n",
       "160171       A       NRKW\n",
       "160172       G       NRKW\n",
       "160173       R       NRKW"
      ]
     },
     "execution_count": 1317,
     "metadata": {},
     "output_type": "execute_result"
    }
   ],
   "source": [
    "sightings_data[[\"POD_TAG\", \"POD_TYPE\"]].drop_duplicates()"
   ]
  },
  {
   "cell_type": "code",
   "execution_count": 1318,
   "id": "6f5c3f5d",
   "metadata": {},
   "outputs": [],
   "source": [
    "# pod_type = \"SRKW\"\n",
    "\n",
    "pod_tag = [\"K\", \"L\", \"J\"]  # , \"T\", \"O\"]\n",
    "\n",
    "metric = \"DOY\"\n",
    "metric_end_date_test = 27  # 205\n",
    "\n",
    "# split_dates = (\"2020-01-01\", \"2022-01-01\")\n",
    "split_dates = (\"2024-01-01\", \"2025-08-01\")\n",
    "split_dates = (pd.to_datetime(split_dates[0]), pd.to_datetime(split_dates[1]))"
   ]
  },
  {
   "cell_type": "code",
   "execution_count": 1319,
   "id": "81fa2e43",
   "metadata": {},
   "outputs": [],
   "source": [
    "# 1. Make sightings data scaled such that it can be compared over time.\n",
    "# --- Filter for the pod type ---\n",
    "sightings_data_pod = sightings_data[\n",
    "    (sightings_data.POD_TAG.isin(pod_tag))\n",
    "    & ((sightings_data.DATE < split_dates[0]) | (sightings_data.DATE > split_dates[1]))\n",
    "]\n",
    "\n",
    "# Clip by Water Poly Area\n",
    "sightings_data_pod = pd.merge(sightings_data_pod, water_polygons, how=\"left\")\n",
    "sightings_data_pod[\"water_covers\"] = sightings_data_pod[\"water_covers\"].fillna(1)\n",
    "\n",
    "sightings_data_pod[\"COUNT_OVER_AREA\"] = (\n",
    "    sightings_data_pod[\"COUNT\"] / sightings_data_pod[\"water_covers\"]\n",
    ")"
   ]
  },
  {
   "cell_type": "code",
   "execution_count": 1320,
   "id": "5937ea7a",
   "metadata": {},
   "outputs": [],
   "source": [
    "# --- Calculate per-cell counts ---\n",
    "sightings_data_pod_cell_totals = sightings_data_pod.groupby(\n",
    "    [\"DATE\", metric, \"H3_CELL\"], as_index=False\n",
    ").agg(CELL_COUNT=(\"COUNT_OVER_AREA\", \"sum\"))\n",
    "\n",
    "# --- Calculate daily totals ---\n",
    "sightings_data_pod_date_totals = sightings_data_pod.groupby(\n",
    "    [\"DATE\", metric], as_index=False\n",
    ").agg(TOTAL_COUNT=(\"COUNT_OVER_AREA\", \"sum\"))\n",
    "\n",
    "# --- Merge and compute ratio ---\n",
    "sightings_data_pod_ratios = pd.merge(\n",
    "    sightings_data_pod_cell_totals,\n",
    "    sightings_data_pod_date_totals,\n",
    "    on=[\"DATE\", metric],\n",
    "    how=\"left\",\n",
    ")\n",
    "sightings_data_pod_ratios[\"CELL_RATIO\"] = (\n",
    "    sightings_data_pod_ratios[\"CELL_COUNT\"] / sightings_data_pod_ratios[\"TOTAL_COUNT\"]\n",
    ")"
   ]
  },
  {
   "cell_type": "code",
   "execution_count": 1321,
   "id": "c023fe81",
   "metadata": {},
   "outputs": [],
   "source": [
    "# Use continuous date range to ensure zero-activity days are included\n",
    "all_dates = pd.date_range(\n",
    "    sightings_data_pod[\"DATE\"].min(), sightings_data_pod[\"DATE\"].max(), freq=\"D\"\n",
    ")\n",
    "all_cells = sightings_data_pod[\"H3_CELL\"].unique()\n",
    "\n",
    "full_index = pd.MultiIndex.from_product(\n",
    "    [all_dates, all_cells], names=[\"DATE\", \"H3_CELL\"]\n",
    ")\n",
    "full_df = pd.DataFrame(index=full_index).reset_index()\n",
    "\n",
    "# Ensure DATE columns are datetime\n",
    "sightings_data_pod_ratios[\"DATE\"] = pd.to_datetime(sightings_data_pod_ratios[\"DATE\"])\n",
    "full_df[\"DATE\"] = pd.to_datetime(full_df[\"DATE\"])\n",
    "\n",
    "# --- Merge with ratios and fill missing ---\n",
    "full_ratios = full_df.merge(\n",
    "    sightings_data_pod_ratios[[\"DATE\", \"H3_CELL\", \"CELL_RATIO\"]],\n",
    "    on=[\"DATE\", \"H3_CELL\"],\n",
    "    how=\"left\",\n",
    ")"
   ]
  },
  {
   "cell_type": "code",
   "execution_count": 1322,
   "id": "e08a33f5",
   "metadata": {},
   "outputs": [],
   "source": [
    "# --- Build full date × cell grid ---\n",
    "# Fill Method\n",
    "# fill_method = \"zero\"\n",
    "fill_method = \"mean\"\n",
    "\n",
    "if fill_method == \"zero\":\n",
    "    full_ratios[\"CELL_RATIO\"] = full_ratios[\"CELL_RATIO\"].fillna(0)\n",
    "\n",
    "    if metric == \"DOY\":\n",
    "        full_ratios[metric] = full_ratios[\"DATE\"].dt.day_of_year\n",
    "\n",
    "    elif metric == \"WOY\":\n",
    "        full_ratios[metric] = full_ratios[\"DATE\"].dt.isocalendar().week\n",
    "\n",
    "    # --- Final output ---\n",
    "    sightings_data_pod_ratios = full_ratios[[\"DATE\", metric, \"H3_CELL\", \"CELL_RATIO\"]]\n",
    "\n",
    "elif fill_method == \"mean\":\n",
    "    if metric == \"DOY\":\n",
    "        full_ratios[metric] = full_ratios[\"DATE\"].dt.day_of_year\n",
    "\n",
    "    elif metric == \"WOY\":\n",
    "        full_ratios[metric] = full_ratios[\"DATE\"].dt.isocalendar().week\n",
    "\n",
    "    # --- Final output ---\n",
    "    sightings_data_pod_ratios = full_ratios[[\"DATE\", metric, \"H3_CELL\", \"CELL_RATIO\"]]\n",
    "\n",
    "    sightings_data_pod_ratios_means = sightings_data_pod_ratios.groupby(\n",
    "        [\"H3_CELL\", metric], as_index=False\n",
    "    ).agg(MEAN_CELL_RATIO=(\"CELL_RATIO\", \"mean\"))\n",
    "\n",
    "    sightings_data_pod_ratios = pd.merge(\n",
    "        sightings_data_pod_ratios, sightings_data_pod_ratios_means, how=\"outer\"\n",
    "    )\n",
    "    sightings_data_pod_ratios[\"MEAN_CELL_RATIO\"] = sightings_data_pod_ratios[\n",
    "        \"MEAN_CELL_RATIO\"\n",
    "    ].fillna(0)\n",
    "    sightings_data_pod_ratios[\"CELL_RATIO\"] = sightings_data_pod_ratios[\n",
    "        \"CELL_RATIO\"\n",
    "    ].fillna(sightings_data_pod_ratios[\"MEAN_CELL_RATIO\"])"
   ]
  },
  {
   "cell_type": "code",
   "execution_count": 1323,
   "id": "5edc16c0",
   "metadata": {},
   "outputs": [],
   "source": [
    "# Average By WOY to Get General Sense\n",
    "sightings_data_pod_ratios = sightings_data_pod_ratios.groupby(\n",
    "    [\"H3_CELL\", metric], as_index=False\n",
    ")[\"CELL_RATIO\"].mean()"
   ]
  },
  {
   "cell_type": "code",
   "execution_count": 1324,
   "id": "76b5b0ce",
   "metadata": {},
   "outputs": [],
   "source": [
    "## Divide by Area of Water in Cell to Weight by Water Coverage\n",
    "# (i.e., if cell is 50% covered, then sighting density will be higher than one that is 100% covered if count remains constant)\n",
    "doy_list = list(sightings_data_pod_ratios[metric].unique())\n",
    "\n",
    "water_polygons_nosightings = water_polygons[\n",
    "    ~water_polygons.H3_CELL.isin(sightings_data_pod_ratios.H3_CELL.unique())\n",
    "]\n",
    "water_polygons_nosightings = water_polygons_nosightings[[\"H3_CELL\"]]\n",
    "water_polygons_nosightings[metric] = water_polygons_nosightings.apply(\n",
    "    lambda x: doy_list, axis=1\n",
    ")\n",
    "water_polygons_nosightings = water_polygons_nosightings.explode(metric)\n",
    "\n",
    "sightings_data_pod_ratios = pd.concat(\n",
    "    [sightings_data_pod_ratios, water_polygons_nosightings]\n",
    ")\n",
    "\n",
    "sightings_data_pod_ratios[\"CELL_RATIO\"] = sightings_data_pod_ratios[\n",
    "    \"CELL_RATIO\"\n",
    "].fillna(0)"
   ]
  },
  {
   "cell_type": "code",
   "execution_count": 1325,
   "id": "4f98de63",
   "metadata": {},
   "outputs": [],
   "source": [
    "# Unique cells and their coordinates\n",
    "cells = sightings_data_pod_ratios[\"H3_CELL\"].unique()\n",
    "cell_coords = np.array([h3.cell_to_latlng(cell) for cell in cells])\n",
    "\n",
    "# Distance matrix in km\n",
    "dist_matrix = haversine(cell_coords, cell_coords)\n",
    "\n",
    "# Gaussian weights\n",
    "sigma_km = 5\n",
    "weights = np.exp(-(dist_matrix**2) / (2 * sigma_km**2))\n",
    "\n",
    "# Container for smoothed results\n",
    "smoothed_list = []\n",
    "\n",
    "# Loop over each DOY\n",
    "for doy, subdf in sightings_data_pod_ratios.groupby(metric):\n",
    "    # Get mean probability per cell for this DOY\n",
    "    proba_vector = (\n",
    "        subdf.groupby(\"H3_CELL\")[\"CELL_RATIO\"].mean().reindex(cells).fillna(0).values\n",
    "    )\n",
    "\n",
    "    # Spatial smoothing\n",
    "    smoothed_proba = weights @ proba_vector / weights.sum(axis=1)\n",
    "\n",
    "    # Map smoothed values back to the rows in this DOY\n",
    "    subdf[\"CELL_RATIO_smooth\"] = subdf[\"H3_CELL\"].map(dict(zip(cells, smoothed_proba)))\n",
    "\n",
    "    smoothed_list.append(subdf)\n",
    "\n",
    "# Combine all DOYs\n",
    "sightings_data_pod_ratios = pd.concat(smoothed_list, ignore_index=True)"
   ]
  },
  {
   "cell_type": "code",
   "execution_count": 1326,
   "id": "fd057d78",
   "metadata": {},
   "outputs": [],
   "source": [
    "sightings_data_pod_ratios = pd.merge(\n",
    "    sightings_data_pod_ratios, water_polygons[[\"H3_CELL\", \"geometry\"]], how=\"left\"\n",
    ")\n",
    "sightings_data_pod_ratios = gpd.GeoDataFrame(\n",
    "    sightings_data_pod_ratios, geometry=\"geometry\", crs=\"EPSG:4326\"\n",
    ")"
   ]
  },
  {
   "cell_type": "code",
   "execution_count": 1327,
   "id": "54a050e8",
   "metadata": {},
   "outputs": [],
   "source": [
    "sightings_data_pod_ratios_minmax = sightings_data_pod_ratios.groupby(\n",
    "    [metric], as_index=False\n",
    ").agg(\n",
    "    MAX_SMOOTHED_RATIO=(\"CELL_RATIO_smooth\", \"max\"),\n",
    "    MIN_SMOOTHED_RATIO=(\"CELL_RATIO_smooth\", \"min\"),\n",
    ")"
   ]
  },
  {
   "cell_type": "code",
   "execution_count": 1328,
   "metadata": {},
   "outputs": [],
   "source": [
    "sightings_data_pod_ratios = pd.merge(\n",
    "    sightings_data_pod_ratios, sightings_data_pod_ratios_minmax\n",
    ")\n",
    "sightings_data_pod_ratios[\"CELL_RATIO_smooth_Scaled\"] = (\n",
    "    sightings_data_pod_ratios[\"CELL_RATIO_smooth\"]\n",
    "    - sightings_data_pod_ratios[\"MIN_SMOOTHED_RATIO\"]\n",
    ") / (\n",
    "    sightings_data_pod_ratios[\"MAX_SMOOTHED_RATIO\"]\n",
    "    - sightings_data_pod_ratios[\"MIN_SMOOTHED_RATIO\"]\n",
    ")"
   ]
  },
  {
   "cell_type": "code",
   "execution_count": 1329,
   "id": "707977f7",
   "metadata": {},
   "outputs": [],
   "source": [
    "sightings_data_pod_ratios[sightings_data_pod_ratios[metric] == 244].explore(\n",
    "    \"CELL_RATIO_smooth_Scaled\", cmap=\"turbo\"\n",
    ").save(\"smooth_200.html\")"
   ]
  },
  {
   "cell_type": "code",
   "execution_count": 1330,
   "id": "3f3255d6",
   "metadata": {},
   "outputs": [],
   "source": [
    "# For each H3_CELL, find the index of the max CELL_RATIO_smooth_Scaled\n",
    "idx = sightings_data_pod_ratios.groupby(\"H3_CELL\")[\"CELL_RATIO_smooth_Scaled\"].idxmax()\n",
    "\n",
    "# Select the rows corresponding to that max\n",
    "max_doy_per_cell = sightings_data_pod_ratios.loc[\n",
    "    idx, [\"H3_CELL\", metric, \"CELL_RATIO_smooth_Scaled\"]\n",
    "].reset_index(drop=True)\n",
    "\n",
    "max_doy_per_cell = pd.merge(\n",
    "    water_polygons[[\"H3_CELL\", \"geometry\"]], max_doy_per_cell, on=\"H3_CELL\"\n",
    ")\n",
    "max_doy_per_cell = max_doy_per_cell.sort_values(metric).reset_index(drop=True)"
   ]
  },
  {
   "cell_type": "code",
   "execution_count": 1331,
   "id": "295fd0e8",
   "metadata": {},
   "outputs": [],
   "source": [
    "# Make sure DOY is an integer\n",
    "max_doy_per_cell[metric] = max_doy_per_cell[metric].astype(int)\n",
    "\n",
    "# Set min and max for the color scale\n",
    "if metric == \"DOY\":\n",
    "    vmin = 1\n",
    "    vmax = 365\n",
    "\n",
    "elif metric == \"WOY\":\n",
    "    vmin = 1\n",
    "    vmax = 52\n",
    "\n",
    "# Explore with continuous colormap, explicitly setting vmin and vmax\n",
    "max_doy_per_cell.explore(\n",
    "    column=metric, cmap=\"turbo\", vmin=vmin, vmax=vmax, legend=True\n",
    ").save(\"doy_max.html\")"
   ]
  },
  {
   "cell_type": "code",
   "execution_count": 1332,
   "id": "305f7cb6",
   "metadata": {},
   "outputs": [],
   "source": [
    "# Aggregate to WOY"
   ]
  },
  {
   "cell_type": "code",
   "execution_count": 1333,
   "id": "730879f9",
   "metadata": {},
   "outputs": [],
   "source": [
    "woy_sightings_data_pod_ratios = sightings_data_pod_ratios.copy()\n",
    "woy_sightings_data_pod_ratios[\"WOY\"] = (woy_sightings_data_pod_ratios[\"DOY\"] // 7) + 1\n",
    "woy_sightings_data_pod_ratios[\"WOY\"] = np.where(\n",
    "    woy_sightings_data_pod_ratios[\"WOY\"] > 52, 1, woy_sightings_data_pod_ratios[\"WOY\"]\n",
    ")\n",
    "woy_sightings_data_pod_ratios = woy_sightings_data_pod_ratios.groupby(\n",
    "    [\"H3_CELL\", \"WOY\"], as_index=False\n",
    ")[\"CELL_RATIO_smooth_Scaled\"].mean()\n",
    "\n",
    "woy_sightings_data_pod_ratiosmnmx = woy_sightings_data_pod_ratios.groupby(\n",
    "    [\"WOY\"], as_index=False\n",
    ").agg(\n",
    "    MX_VAL=(\"CELL_RATIO_smooth_Scaled\", \"max\"),\n",
    "    MN_VAL=(\"CELL_RATIO_smooth_Scaled\", \"min\"),\n",
    ")\n",
    "woy_sightings_data_pod_ratios = pd.merge(\n",
    "    woy_sightings_data_pod_ratios, woy_sightings_data_pod_ratiosmnmx\n",
    ")\n",
    "woy_sightings_data_pod_ratios[\"CELL_RATIO_smooth_Scaled\"] = (\n",
    "    woy_sightings_data_pod_ratios[\"CELL_RATIO_smooth_Scaled\"]\n",
    "    - woy_sightings_data_pod_ratios[\"MN_VAL\"]\n",
    ") / (woy_sightings_data_pod_ratios[\"MX_VAL\"] - woy_sightings_data_pod_ratios[\"MN_VAL\"])"
   ]
  },
  {
   "cell_type": "code",
   "execution_count": 1334,
   "id": "43fa8b7f",
   "metadata": {},
   "outputs": [],
   "source": [
    "woy_sightings_data_pod_ratios = pd.merge(\n",
    "    woy_sightings_data_pod_ratios, water_polygons[[\"H3_CELL\", \"geometry\"]], how=\"left\"\n",
    ")\n",
    "woy_sightings_data_pod_ratios = gpd.GeoDataFrame(\n",
    "    woy_sightings_data_pod_ratios, geometry=\"geometry\", crs=\"EPSG:4326\"\n",
    ")"
   ]
  },
  {
   "cell_type": "markdown",
   "id": "2415f4f1",
   "metadata": {},
   "source": [
    "***\n",
    "\n",
    "### Validation"
   ]
  },
  {
   "cell_type": "code",
   "execution_count": 1335,
   "id": "876028ce",
   "metadata": {},
   "outputs": [],
   "source": [
    "eval_metric = \"WOY\""
   ]
  },
  {
   "cell_type": "code",
   "execution_count": 1336,
   "id": "5044a02b",
   "metadata": {},
   "outputs": [],
   "source": [
    "max_date = sightings_data[(sightings_data.POD_TAG.isin(pod_tag))].DATE.max()\n",
    "max_ = (\n",
    "    sightings_data[\n",
    "        (sightings_data.POD_TAG.isin(pod_tag)) & (sightings_data.DATE == max_date)\n",
    "    ][[\"YEAR\", eval_metric]]\n",
    "    .drop_duplicates()\n",
    "    .iloc[0]\n",
    ")\n",
    "max_year = max_[\"YEAR\"]\n",
    "max_metric = max_[eval_metric]\n",
    "\n",
    "sightings_data.DATE = pd.to_datetime(sightings_data.DATE)\n",
    "\n",
    "sightings_data_pod_test = sightings_data[\n",
    "    (sightings_data.POD_TAG.isin(pod_tag))\n",
    "    & ((sightings_data.DATE > split_dates[0]) & (sightings_data.DATE < split_dates[1]))\n",
    "]\n",
    "\n",
    "sightings_data_pod_test = sightings_data_pod_test.groupby(\n",
    "    [\"H3_CELL\", eval_metric, \"YEAR\"], as_index=False\n",
    ").agg(SIGHTING=(\"COUNT\", \"count\"))\n",
    "sightings_data_pod_test[\"SIGHTING\"] = 1"
   ]
  },
  {
   "cell_type": "code",
   "execution_count": 1337,
   "id": "2974f2c5",
   "metadata": {},
   "outputs": [],
   "source": [
    "sightings_data_pod_ratios_lookup = woy_sightings_data_pod_ratios[\n",
    "    [\"H3_CELL\", eval_metric, \"CELL_RATIO_smooth_Scaled\"]\n",
    "]\n",
    "\n",
    "sightings_data_pod_test_fin = []\n",
    "for yr in sightings_data_pod_test.YEAR.unique():\n",
    "    # max_year, max_metric\n",
    "    sightings_data_pod_test_yr = pd.merge(\n",
    "        sightings_data_pod_test[sightings_data_pod_test.YEAR == yr],\n",
    "        sightings_data_pod_ratios_lookup,\n",
    "        how=\"outer\",\n",
    "    )\n",
    "\n",
    "    if yr == max_year:\n",
    "        sightings_data_pod_test_yr = sightings_data_pod_test_yr[\n",
    "            sightings_data_pod_test_yr[eval_metric] <= max_metric\n",
    "        ]\n",
    "    sightings_data_pod_test_yr[\"YEAR\"] = yr\n",
    "    sightings_data_pod_test_fin.append(sightings_data_pod_test_yr)\n",
    "\n",
    "sightings_data_pod_test_fin = pd.concat(sightings_data_pod_test_fin)\n",
    "sightings_data_pod_test_fin[\"SIGHTING\"] = sightings_data_pod_test_fin[\n",
    "    \"SIGHTING\"\n",
    "].fillna(0)"
   ]
  },
  {
   "cell_type": "code",
   "execution_count": 1338,
   "id": "a159e326",
   "metadata": {},
   "outputs": [],
   "source": [
    "# Get Metrics DF\n",
    "metrics_df = threshold_metrics_with_cm(\n",
    "    sightings_data_pod_test_fin,\n",
    "    prob_col=\"CELL_RATIO_smooth_Scaled\",\n",
    "    target_col=\"SIGHTING\",\n",
    ")"
   ]
  },
  {
   "cell_type": "code",
   "execution_count": 1339,
   "id": "939d2500",
   "metadata": {},
   "outputs": [
    {
     "data": {
      "application/vnd.plotly.v1+json": {
       "config": {
        "plotlyServerURL": "https://plot.ly"
       },
       "data": [
        {
         "hovertemplate": "<extra></extra>",
         "legendgroup": "",
         "line": {
          "color": "#636efa",
          "dash": "solid"
         },
         "marker": {
          "symbol": "circle"
         },
         "mode": "lines",
         "name": "",
         "orientation": "v",
         "showlegend": false,
         "type": "scatter",
         "xaxis": "x",
         "yaxis": "y"
        },
        {
         "name": "accuracy",
         "type": "scatter",
         "x": [
          0,
          0.05,
          0.1,
          0.15,
          0.2,
          0.25,
          0.3,
          0.35,
          0.4,
          0.45,
          0.5,
          0.55,
          0.6,
          0.65,
          0.7,
          0.75,
          0.8,
          0.85,
          0.9,
          0.95,
          1
         ],
         "y": [
          0.001748935534236208,
          0.9482982857251882,
          0.9620321994931267,
          0.9718453177815866,
          0.9785167118740004,
          0.9832897159410704,
          0.9868957030243866,
          0.9894173500764761,
          0.9915446916626653,
          0.9930773951672142,
          0.9943366287518642,
          0.9952842338231412,
          0.9960410459270471,
          0.9965879857668446,
          0.9969981906466928,
          0.9972716605665916,
          0.9975101517758056,
          0.99774546310223,
          0.997898097476127,
          0.9979934939598126,
          0.998044372084445
         ]
        },
        {
         "name": "precision",
         "type": "scatter",
         "x": [
          0,
          0.05,
          0.1,
          0.15,
          0.2,
          0.25,
          0.3,
          0.35,
          0.4,
          0.45,
          0.5,
          0.55,
          0.6,
          0.65,
          0.7,
          0.75,
          0.8,
          0.85,
          0.9,
          0.95,
          1
         ],
         "y": [
          0.0017489744649728115,
          0.027617328519855596,
          0.034056487924682764,
          0.042259737393798964,
          0.050079837421977066,
          0.059452363090772696,
          0.06956521739130435,
          0.08002424977265839,
          0.0897736143637783,
          0.09661354581673307,
          0.10516129032258065,
          0.11735537190082644,
          0.13326226012793177,
          0.15040650406504066,
          0.17035775127768313,
          0.16923076923076924,
          0.17714285714285713,
          0.1910569105691057,
          0.18292682926829268,
          0.1509433962264151,
          0.14634146341463414
         ]
        },
        {
         "name": "recall",
         "type": "scatter",
         "x": [
          0,
          0.05,
          0.1,
          0.15,
          0.2,
          0.25,
          0.3,
          0.35,
          0.4,
          0.45,
          0.5,
          0.55,
          0.6,
          0.65,
          0.7,
          0.75,
          0.8,
          0.85,
          0.9,
          0.95,
          1
         ],
         "y": [
          0.9874326750448833,
          0.8240574506283662,
          0.7468581687612208,
          0.6876122082585279,
          0.6193895870736086,
          0.5691202872531418,
          0.5170556552962298,
          0.473967684021544,
          0.4129263913824057,
          0.348294434470377,
          0.2926391382405745,
          0.25493716337522443,
          0.2244165170556553,
          0.1992818671454219,
          0.17953321364452424,
          0.13824057450628366,
          0.11131059245960502,
          0.0843806104129264,
          0.05385996409335727,
          0.02872531418312388,
          0.02154398563734291
         ]
        },
        {
         "name": "f1",
         "type": "scatter",
         "x": [
          0,
          0.05,
          0.1,
          0.15,
          0.2,
          0.25,
          0.3,
          0.35,
          0.4,
          0.45,
          0.5,
          0.55,
          0.6,
          0.65,
          0.7,
          0.75,
          0.8,
          0.85,
          0.9,
          0.95,
          1
         ],
         "y": [
          0.003491764197989379,
          0.053443558246492405,
          0.06514249921703727,
          0.07962577962577963,
          0.0926672038678485,
          0.10765834606894209,
          0.12263146689376198,
          0.13692946058091288,
          0.14748316768194936,
          0.15126705653021444,
          0.15472235405790222,
          0.16072439162422184,
          0.16722408026755853,
          0.17142857142857143,
          0.17482517482517482,
          0.15217391304347827,
          0.13671444321940462,
          0.11706102117061021,
          0.08321775312066575,
          0.048265460030165915,
          0.03755868544600939
         ]
        }
       ],
       "layout": {
        "legend": {
         "tracegroupgap": 0
        },
        "margin": {
         "t": 60
        },
        "template": {
         "data": {
          "bar": [
           {
            "error_x": {
             "color": "#2a3f5f"
            },
            "error_y": {
             "color": "#2a3f5f"
            },
            "marker": {
             "line": {
              "color": "#E5ECF6",
              "width": 0.5
             },
             "pattern": {
              "fillmode": "overlay",
              "size": 10,
              "solidity": 0.2
             }
            },
            "type": "bar"
           }
          ],
          "barpolar": [
           {
            "marker": {
             "line": {
              "color": "#E5ECF6",
              "width": 0.5
             },
             "pattern": {
              "fillmode": "overlay",
              "size": 10,
              "solidity": 0.2
             }
            },
            "type": "barpolar"
           }
          ],
          "carpet": [
           {
            "aaxis": {
             "endlinecolor": "#2a3f5f",
             "gridcolor": "white",
             "linecolor": "white",
             "minorgridcolor": "white",
             "startlinecolor": "#2a3f5f"
            },
            "baxis": {
             "endlinecolor": "#2a3f5f",
             "gridcolor": "white",
             "linecolor": "white",
             "minorgridcolor": "white",
             "startlinecolor": "#2a3f5f"
            },
            "type": "carpet"
           }
          ],
          "choropleth": [
           {
            "colorbar": {
             "outlinewidth": 0,
             "ticks": ""
            },
            "type": "choropleth"
           }
          ],
          "contour": [
           {
            "colorbar": {
             "outlinewidth": 0,
             "ticks": ""
            },
            "colorscale": [
             [
              0,
              "#0d0887"
             ],
             [
              0.1111111111111111,
              "#46039f"
             ],
             [
              0.2222222222222222,
              "#7201a8"
             ],
             [
              0.3333333333333333,
              "#9c179e"
             ],
             [
              0.4444444444444444,
              "#bd3786"
             ],
             [
              0.5555555555555556,
              "#d8576b"
             ],
             [
              0.6666666666666666,
              "#ed7953"
             ],
             [
              0.7777777777777778,
              "#fb9f3a"
             ],
             [
              0.8888888888888888,
              "#fdca26"
             ],
             [
              1,
              "#f0f921"
             ]
            ],
            "type": "contour"
           }
          ],
          "contourcarpet": [
           {
            "colorbar": {
             "outlinewidth": 0,
             "ticks": ""
            },
            "type": "contourcarpet"
           }
          ],
          "heatmap": [
           {
            "colorbar": {
             "outlinewidth": 0,
             "ticks": ""
            },
            "colorscale": [
             [
              0,
              "#0d0887"
             ],
             [
              0.1111111111111111,
              "#46039f"
             ],
             [
              0.2222222222222222,
              "#7201a8"
             ],
             [
              0.3333333333333333,
              "#9c179e"
             ],
             [
              0.4444444444444444,
              "#bd3786"
             ],
             [
              0.5555555555555556,
              "#d8576b"
             ],
             [
              0.6666666666666666,
              "#ed7953"
             ],
             [
              0.7777777777777778,
              "#fb9f3a"
             ],
             [
              0.8888888888888888,
              "#fdca26"
             ],
             [
              1,
              "#f0f921"
             ]
            ],
            "type": "heatmap"
           }
          ],
          "heatmapgl": [
           {
            "colorbar": {
             "outlinewidth": 0,
             "ticks": ""
            },
            "colorscale": [
             [
              0,
              "#0d0887"
             ],
             [
              0.1111111111111111,
              "#46039f"
             ],
             [
              0.2222222222222222,
              "#7201a8"
             ],
             [
              0.3333333333333333,
              "#9c179e"
             ],
             [
              0.4444444444444444,
              "#bd3786"
             ],
             [
              0.5555555555555556,
              "#d8576b"
             ],
             [
              0.6666666666666666,
              "#ed7953"
             ],
             [
              0.7777777777777778,
              "#fb9f3a"
             ],
             [
              0.8888888888888888,
              "#fdca26"
             ],
             [
              1,
              "#f0f921"
             ]
            ],
            "type": "heatmapgl"
           }
          ],
          "histogram": [
           {
            "marker": {
             "pattern": {
              "fillmode": "overlay",
              "size": 10,
              "solidity": 0.2
             }
            },
            "type": "histogram"
           }
          ],
          "histogram2d": [
           {
            "colorbar": {
             "outlinewidth": 0,
             "ticks": ""
            },
            "colorscale": [
             [
              0,
              "#0d0887"
             ],
             [
              0.1111111111111111,
              "#46039f"
             ],
             [
              0.2222222222222222,
              "#7201a8"
             ],
             [
              0.3333333333333333,
              "#9c179e"
             ],
             [
              0.4444444444444444,
              "#bd3786"
             ],
             [
              0.5555555555555556,
              "#d8576b"
             ],
             [
              0.6666666666666666,
              "#ed7953"
             ],
             [
              0.7777777777777778,
              "#fb9f3a"
             ],
             [
              0.8888888888888888,
              "#fdca26"
             ],
             [
              1,
              "#f0f921"
             ]
            ],
            "type": "histogram2d"
           }
          ],
          "histogram2dcontour": [
           {
            "colorbar": {
             "outlinewidth": 0,
             "ticks": ""
            },
            "colorscale": [
             [
              0,
              "#0d0887"
             ],
             [
              0.1111111111111111,
              "#46039f"
             ],
             [
              0.2222222222222222,
              "#7201a8"
             ],
             [
              0.3333333333333333,
              "#9c179e"
             ],
             [
              0.4444444444444444,
              "#bd3786"
             ],
             [
              0.5555555555555556,
              "#d8576b"
             ],
             [
              0.6666666666666666,
              "#ed7953"
             ],
             [
              0.7777777777777778,
              "#fb9f3a"
             ],
             [
              0.8888888888888888,
              "#fdca26"
             ],
             [
              1,
              "#f0f921"
             ]
            ],
            "type": "histogram2dcontour"
           }
          ],
          "mesh3d": [
           {
            "colorbar": {
             "outlinewidth": 0,
             "ticks": ""
            },
            "type": "mesh3d"
           }
          ],
          "parcoords": [
           {
            "line": {
             "colorbar": {
              "outlinewidth": 0,
              "ticks": ""
             }
            },
            "type": "parcoords"
           }
          ],
          "pie": [
           {
            "automargin": true,
            "type": "pie"
           }
          ],
          "scatter": [
           {
            "fillpattern": {
             "fillmode": "overlay",
             "size": 10,
             "solidity": 0.2
            },
            "type": "scatter"
           }
          ],
          "scatter3d": [
           {
            "line": {
             "colorbar": {
              "outlinewidth": 0,
              "ticks": ""
             }
            },
            "marker": {
             "colorbar": {
              "outlinewidth": 0,
              "ticks": ""
             }
            },
            "type": "scatter3d"
           }
          ],
          "scattercarpet": [
           {
            "marker": {
             "colorbar": {
              "outlinewidth": 0,
              "ticks": ""
             }
            },
            "type": "scattercarpet"
           }
          ],
          "scattergeo": [
           {
            "marker": {
             "colorbar": {
              "outlinewidth": 0,
              "ticks": ""
             }
            },
            "type": "scattergeo"
           }
          ],
          "scattergl": [
           {
            "marker": {
             "colorbar": {
              "outlinewidth": 0,
              "ticks": ""
             }
            },
            "type": "scattergl"
           }
          ],
          "scattermapbox": [
           {
            "marker": {
             "colorbar": {
              "outlinewidth": 0,
              "ticks": ""
             }
            },
            "type": "scattermapbox"
           }
          ],
          "scatterpolar": [
           {
            "marker": {
             "colorbar": {
              "outlinewidth": 0,
              "ticks": ""
             }
            },
            "type": "scatterpolar"
           }
          ],
          "scatterpolargl": [
           {
            "marker": {
             "colorbar": {
              "outlinewidth": 0,
              "ticks": ""
             }
            },
            "type": "scatterpolargl"
           }
          ],
          "scatterternary": [
           {
            "marker": {
             "colorbar": {
              "outlinewidth": 0,
              "ticks": ""
             }
            },
            "type": "scatterternary"
           }
          ],
          "surface": [
           {
            "colorbar": {
             "outlinewidth": 0,
             "ticks": ""
            },
            "colorscale": [
             [
              0,
              "#0d0887"
             ],
             [
              0.1111111111111111,
              "#46039f"
             ],
             [
              0.2222222222222222,
              "#7201a8"
             ],
             [
              0.3333333333333333,
              "#9c179e"
             ],
             [
              0.4444444444444444,
              "#bd3786"
             ],
             [
              0.5555555555555556,
              "#d8576b"
             ],
             [
              0.6666666666666666,
              "#ed7953"
             ],
             [
              0.7777777777777778,
              "#fb9f3a"
             ],
             [
              0.8888888888888888,
              "#fdca26"
             ],
             [
              1,
              "#f0f921"
             ]
            ],
            "type": "surface"
           }
          ],
          "table": [
           {
            "cells": {
             "fill": {
              "color": "#EBF0F8"
             },
             "line": {
              "color": "white"
             }
            },
            "header": {
             "fill": {
              "color": "#C8D4E3"
             },
             "line": {
              "color": "white"
             }
            },
            "type": "table"
           }
          ]
         },
         "layout": {
          "annotationdefaults": {
           "arrowcolor": "#2a3f5f",
           "arrowhead": 0,
           "arrowwidth": 1
          },
          "autotypenumbers": "strict",
          "coloraxis": {
           "colorbar": {
            "outlinewidth": 0,
            "ticks": ""
           }
          },
          "colorscale": {
           "diverging": [
            [
             0,
             "#8e0152"
            ],
            [
             0.1,
             "#c51b7d"
            ],
            [
             0.2,
             "#de77ae"
            ],
            [
             0.3,
             "#f1b6da"
            ],
            [
             0.4,
             "#fde0ef"
            ],
            [
             0.5,
             "#f7f7f7"
            ],
            [
             0.6,
             "#e6f5d0"
            ],
            [
             0.7,
             "#b8e186"
            ],
            [
             0.8,
             "#7fbc41"
            ],
            [
             0.9,
             "#4d9221"
            ],
            [
             1,
             "#276419"
            ]
           ],
           "sequential": [
            [
             0,
             "#0d0887"
            ],
            [
             0.1111111111111111,
             "#46039f"
            ],
            [
             0.2222222222222222,
             "#7201a8"
            ],
            [
             0.3333333333333333,
             "#9c179e"
            ],
            [
             0.4444444444444444,
             "#bd3786"
            ],
            [
             0.5555555555555556,
             "#d8576b"
            ],
            [
             0.6666666666666666,
             "#ed7953"
            ],
            [
             0.7777777777777778,
             "#fb9f3a"
            ],
            [
             0.8888888888888888,
             "#fdca26"
            ],
            [
             1,
             "#f0f921"
            ]
           ],
           "sequentialminus": [
            [
             0,
             "#0d0887"
            ],
            [
             0.1111111111111111,
             "#46039f"
            ],
            [
             0.2222222222222222,
             "#7201a8"
            ],
            [
             0.3333333333333333,
             "#9c179e"
            ],
            [
             0.4444444444444444,
             "#bd3786"
            ],
            [
             0.5555555555555556,
             "#d8576b"
            ],
            [
             0.6666666666666666,
             "#ed7953"
            ],
            [
             0.7777777777777778,
             "#fb9f3a"
            ],
            [
             0.8888888888888888,
             "#fdca26"
            ],
            [
             1,
             "#f0f921"
            ]
           ]
          },
          "colorway": [
           "#636efa",
           "#EF553B",
           "#00cc96",
           "#ab63fa",
           "#FFA15A",
           "#19d3f3",
           "#FF6692",
           "#B6E880",
           "#FF97FF",
           "#FECB52"
          ],
          "font": {
           "color": "#2a3f5f"
          },
          "geo": {
           "bgcolor": "white",
           "lakecolor": "white",
           "landcolor": "#E5ECF6",
           "showlakes": true,
           "showland": true,
           "subunitcolor": "white"
          },
          "hoverlabel": {
           "align": "left"
          },
          "hovermode": "closest",
          "mapbox": {
           "style": "light"
          },
          "paper_bgcolor": "white",
          "plot_bgcolor": "#E5ECF6",
          "polar": {
           "angularaxis": {
            "gridcolor": "white",
            "linecolor": "white",
            "ticks": ""
           },
           "bgcolor": "#E5ECF6",
           "radialaxis": {
            "gridcolor": "white",
            "linecolor": "white",
            "ticks": ""
           }
          },
          "scene": {
           "xaxis": {
            "backgroundcolor": "#E5ECF6",
            "gridcolor": "white",
            "gridwidth": 2,
            "linecolor": "white",
            "showbackground": true,
            "ticks": "",
            "zerolinecolor": "white"
           },
           "yaxis": {
            "backgroundcolor": "#E5ECF6",
            "gridcolor": "white",
            "gridwidth": 2,
            "linecolor": "white",
            "showbackground": true,
            "ticks": "",
            "zerolinecolor": "white"
           },
           "zaxis": {
            "backgroundcolor": "#E5ECF6",
            "gridcolor": "white",
            "gridwidth": 2,
            "linecolor": "white",
            "showbackground": true,
            "ticks": "",
            "zerolinecolor": "white"
           }
          },
          "shapedefaults": {
           "line": {
            "color": "#2a3f5f"
           }
          },
          "ternary": {
           "aaxis": {
            "gridcolor": "white",
            "linecolor": "white",
            "ticks": ""
           },
           "baxis": {
            "gridcolor": "white",
            "linecolor": "white",
            "ticks": ""
           },
           "bgcolor": "#E5ECF6",
           "caxis": {
            "gridcolor": "white",
            "linecolor": "white",
            "ticks": ""
           }
          },
          "title": {
           "x": 0.05
          },
          "xaxis": {
           "automargin": true,
           "gridcolor": "white",
           "linecolor": "white",
           "ticks": "",
           "title": {
            "standoff": 15
           },
           "zerolinecolor": "white",
           "zerolinewidth": 2
          },
          "yaxis": {
           "automargin": true,
           "gridcolor": "white",
           "linecolor": "white",
           "ticks": "",
           "title": {
            "standoff": 15
           },
           "zerolinecolor": "white",
           "zerolinewidth": 2
          }
         }
        },
        "xaxis": {
         "anchor": "y",
         "domain": [
          0,
          1
         ]
        },
        "yaxis": {
         "anchor": "x",
         "domain": [
          0,
          1
         ]
        }
       }
      }
     },
     "metadata": {},
     "output_type": "display_data"
    }
   ],
   "source": [
    "fig = px.line()\n",
    "fig.add_scatter(x=metrics_df[\"threshold\"], y=metrics_df[\"accuracy\"], name=\"accuracy\")\n",
    "fig.add_scatter(x=metrics_df[\"threshold\"], y=metrics_df[\"precision\"], name=\"precision\")\n",
    "fig.add_scatter(x=metrics_df[\"threshold\"], y=metrics_df[\"recall\"], name=\"recall\")\n",
    "fig.add_scatter(x=metrics_df[\"threshold\"], y=metrics_df[\"f1\"], name=\"f1\")\n",
    "fig.show()"
   ]
  },
  {
   "cell_type": "code",
   "execution_count": 1340,
   "id": "a32197f9",
   "metadata": {},
   "outputs": [
    {
     "data": {
      "text/html": [
       "<div>\n",
       "<style scoped>\n",
       "    .dataframe tbody tr th:only-of-type {\n",
       "        vertical-align: middle;\n",
       "    }\n",
       "\n",
       "    .dataframe tbody tr th {\n",
       "        vertical-align: top;\n",
       "    }\n",
       "\n",
       "    .dataframe thead th {\n",
       "        text-align: right;\n",
       "    }\n",
       "</style>\n",
       "<table border=\"1\" class=\"dataframe\">\n",
       "  <thead>\n",
       "    <tr style=\"text-align: right;\">\n",
       "      <th></th>\n",
       "      <th>Predicted False</th>\n",
       "      <th>Predicted True</th>\n",
       "    </tr>\n",
       "  </thead>\n",
       "  <tbody>\n",
       "    <tr>\n",
       "      <th>Actual False</th>\n",
       "      <td>297759</td>\n",
       "      <td>16161</td>\n",
       "    </tr>\n",
       "    <tr>\n",
       "      <th>Actual True</th>\n",
       "      <td>98</td>\n",
       "      <td>459</td>\n",
       "    </tr>\n",
       "  </tbody>\n",
       "</table>\n",
       "</div>"
      ],
      "text/plain": [
       "              Predicted False  Predicted True\n",
       "Actual False           297759           16161\n",
       "Actual True                98             459"
      ]
     },
     "metadata": {},
     "output_type": "display_data"
    },
    {
     "name": "stdout",
     "output_type": "stream",
     "text": [
      "\n"
     ]
    },
    {
     "data": {
      "text/html": [
       "<div>\n",
       "<style scoped>\n",
       "    .dataframe tbody tr th:only-of-type {\n",
       "        vertical-align: middle;\n",
       "    }\n",
       "\n",
       "    .dataframe tbody tr th {\n",
       "        vertical-align: top;\n",
       "    }\n",
       "\n",
       "    .dataframe thead th {\n",
       "        text-align: right;\n",
       "    }\n",
       "</style>\n",
       "<table border=\"1\" class=\"dataframe\">\n",
       "  <thead>\n",
       "    <tr style=\"text-align: right;\">\n",
       "      <th></th>\n",
       "      <th>threshold</th>\n",
       "      <th>accuracy</th>\n",
       "      <th>precision</th>\n",
       "      <th>recall</th>\n",
       "      <th>f1</th>\n",
       "      <th>TN_pct</th>\n",
       "      <th>FP_pct</th>\n",
       "      <th>FN_pct</th>\n",
       "      <th>TP_pct</th>\n",
       "    </tr>\n",
       "  </thead>\n",
       "  <tbody>\n",
       "    <tr>\n",
       "      <th>1</th>\n",
       "      <td>0.05</td>\n",
       "      <td>0.948298</td>\n",
       "      <td>0.027617</td>\n",
       "      <td>0.824057</td>\n",
       "      <td>0.053444</td>\n",
       "      <td>0.946839</td>\n",
       "      <td>0.05139</td>\n",
       "      <td>0.000312</td>\n",
       "      <td>0.00146</td>\n",
       "    </tr>\n",
       "  </tbody>\n",
       "</table>\n",
       "</div>"
      ],
      "text/plain": [
       "   threshold  accuracy  precision    recall        f1    TN_pct   FP_pct  \\\n",
       "1       0.05  0.948298   0.027617  0.824057  0.053444  0.946839  0.05139   \n",
       "\n",
       "     FN_pct   TP_pct  \n",
       "1  0.000312  0.00146  "
      ]
     },
     "metadata": {},
     "output_type": "display_data"
    }
   ],
   "source": [
    "# Example threshold\n",
    "threshold = 0.05\n",
    "\n",
    "# Make predictions based on threshold\n",
    "sightings_data_pod_test_fin[\"PREDICTION\"] = (\n",
    "    sightings_data_pod_test_fin[\"CELL_RATIO_smooth_Scaled\"] >= threshold\n",
    ")\n",
    "\n",
    "# Compute confusion matrix\n",
    "cm = confusion_matrix(\n",
    "    sightings_data_pod_test_fin[\"SIGHTING\"], sightings_data_pod_test_fin[\"PREDICTION\"]\n",
    ")\n",
    "\n",
    "# Optional: make it readable\n",
    "cm_df = pd.DataFrame(\n",
    "    cm,\n",
    "    index=[\"Actual False\", \"Actual True\"],\n",
    "    columns=[\"Predicted False\", \"Predicted True\"],\n",
    ")\n",
    "\n",
    "display(cm_df)\n",
    "\n",
    "print()\n",
    "display(metrics_df[metrics_df.threshold == threshold])"
   ]
  },
  {
   "cell_type": "code",
   "execution_count": 1341,
   "id": "d6b4d559",
   "metadata": {},
   "outputs": [],
   "source": [
    "tt = sightings_data_pod_test_fin[\n",
    "    (sightings_data_pod_test_fin.SIGHTING == 1)\n",
    "    & (sightings_data_pod_test_fin.PREDICTION == False)\n",
    "]\n",
    "tt_cells = tt.H3_CELL.tolist()"
   ]
  },
  {
   "cell_type": "code",
   "execution_count": 1342,
   "id": "57ca4591",
   "metadata": {},
   "outputs": [
    {
     "data": {
      "text/html": [
       "<div>\n",
       "<style scoped>\n",
       "    .dataframe tbody tr th:only-of-type {\n",
       "        vertical-align: middle;\n",
       "    }\n",
       "\n",
       "    .dataframe tbody tr th {\n",
       "        vertical-align: top;\n",
       "    }\n",
       "\n",
       "    .dataframe thead th {\n",
       "        text-align: right;\n",
       "    }\n",
       "</style>\n",
       "<table border=\"1\" class=\"dataframe\">\n",
       "  <thead>\n",
       "    <tr style=\"text-align: right;\">\n",
       "      <th></th>\n",
       "      <th>H3_CELL</th>\n",
       "      <th>WOY</th>\n",
       "      <th>YEAR</th>\n",
       "      <th>SIGHTING</th>\n",
       "      <th>CELL_RATIO_smooth_Scaled</th>\n",
       "      <th>PREDICTION</th>\n",
       "    </tr>\n",
       "  </thead>\n",
       "  <tbody>\n",
       "    <tr>\n",
       "      <th>112079</th>\n",
       "      <td>8628c249fffffff</td>\n",
       "      <td>20</td>\n",
       "      <td>2024</td>\n",
       "      <td>1.0</td>\n",
       "      <td>4.957097e-04</td>\n",
       "      <td>False</td>\n",
       "    </tr>\n",
       "    <tr>\n",
       "      <th>134605</th>\n",
       "      <td>8628d0a67ffffff</td>\n",
       "      <td>30</td>\n",
       "      <td>2024</td>\n",
       "      <td>1.0</td>\n",
       "      <td>2.951750e-02</td>\n",
       "      <td>False</td>\n",
       "    </tr>\n",
       "    <tr>\n",
       "      <th>134662</th>\n",
       "      <td>8628d0a6fffffff</td>\n",
       "      <td>35</td>\n",
       "      <td>2024</td>\n",
       "      <td>1.0</td>\n",
       "      <td>1.282369e-05</td>\n",
       "      <td>False</td>\n",
       "    </tr>\n",
       "    <tr>\n",
       "      <th>134663</th>\n",
       "      <td>8628d0a6fffffff</td>\n",
       "      <td>36</td>\n",
       "      <td>2024</td>\n",
       "      <td>1.0</td>\n",
       "      <td>1.188584e-03</td>\n",
       "      <td>False</td>\n",
       "    </tr>\n",
       "    <tr>\n",
       "      <th>134671</th>\n",
       "      <td>8628d0a6fffffff</td>\n",
       "      <td>44</td>\n",
       "      <td>2024</td>\n",
       "      <td>1.0</td>\n",
       "      <td>2.993289e-02</td>\n",
       "      <td>False</td>\n",
       "    </tr>\n",
       "    <tr>\n",
       "      <th>...</th>\n",
       "      <td>...</td>\n",
       "      <td>...</td>\n",
       "      <td>...</td>\n",
       "      <td>...</td>\n",
       "      <td>...</td>\n",
       "      <td>...</td>\n",
       "    </tr>\n",
       "    <tr>\n",
       "      <th>150455</th>\n",
       "      <td>8628d5c2fffffff</td>\n",
       "      <td>17</td>\n",
       "      <td>2025</td>\n",
       "      <td>1.0</td>\n",
       "      <td>7.980097e-08</td>\n",
       "      <td>False</td>\n",
       "    </tr>\n",
       "    <tr>\n",
       "      <th>150663</th>\n",
       "      <td>8628d5c77ffffff</td>\n",
       "      <td>17</td>\n",
       "      <td>2025</td>\n",
       "      <td>1.0</td>\n",
       "      <td>5.240475e-06</td>\n",
       "      <td>False</td>\n",
       "    </tr>\n",
       "    <tr>\n",
       "      <th>151175</th>\n",
       "      <td>8628d5d4fffffff</td>\n",
       "      <td>9</td>\n",
       "      <td>2025</td>\n",
       "      <td>1.0</td>\n",
       "      <td>2.038533e-02</td>\n",
       "      <td>False</td>\n",
       "    </tr>\n",
       "    <tr>\n",
       "      <th>176237</th>\n",
       "      <td>8628deb6fffffff</td>\n",
       "      <td>7</td>\n",
       "      <td>2025</td>\n",
       "      <td>1.0</td>\n",
       "      <td>5.635701e-11</td>\n",
       "      <td>False</td>\n",
       "    </tr>\n",
       "    <tr>\n",
       "      <th>182275</th>\n",
       "      <td>8628f516fffffff</td>\n",
       "      <td>13</td>\n",
       "      <td>2025</td>\n",
       "      <td>1.0</td>\n",
       "      <td>4.057589e-232</td>\n",
       "      <td>False</td>\n",
       "    </tr>\n",
       "  </tbody>\n",
       "</table>\n",
       "<p>98 rows × 6 columns</p>\n",
       "</div>"
      ],
      "text/plain": [
       "                H3_CELL WOY  YEAR  SIGHTING  CELL_RATIO_smooth_Scaled  \\\n",
       "112079  8628c249fffffff  20  2024       1.0              4.957097e-04   \n",
       "134605  8628d0a67ffffff  30  2024       1.0              2.951750e-02   \n",
       "134662  8628d0a6fffffff  35  2024       1.0              1.282369e-05   \n",
       "134663  8628d0a6fffffff  36  2024       1.0              1.188584e-03   \n",
       "134671  8628d0a6fffffff  44  2024       1.0              2.993289e-02   \n",
       "...                 ...  ..   ...       ...                       ...   \n",
       "150455  8628d5c2fffffff  17  2025       1.0              7.980097e-08   \n",
       "150663  8628d5c77ffffff  17  2025       1.0              5.240475e-06   \n",
       "151175  8628d5d4fffffff   9  2025       1.0              2.038533e-02   \n",
       "176237  8628deb6fffffff   7  2025       1.0              5.635701e-11   \n",
       "182275  8628f516fffffff  13  2025       1.0             4.057589e-232   \n",
       "\n",
       "        PREDICTION  \n",
       "112079       False  \n",
       "134605       False  \n",
       "134662       False  \n",
       "134663       False  \n",
       "134671       False  \n",
       "...            ...  \n",
       "150455       False  \n",
       "150663       False  \n",
       "151175       False  \n",
       "176237       False  \n",
       "182275       False  \n",
       "\n",
       "[98 rows x 6 columns]"
      ]
     },
     "execution_count": 1342,
     "metadata": {},
     "output_type": "execute_result"
    }
   ],
   "source": [
    "tt"
   ]
  },
  {
   "cell_type": "code",
   "execution_count": 1343,
   "id": "914f5454",
   "metadata": {},
   "outputs": [],
   "source": [
    "tmp = tt[eval_metric].value_counts().reset_index()\n",
    "tmp2 = pd.DataFrame({eval_metric: sightings_data[eval_metric].unique()})\n",
    "\n",
    "tmp = pd.merge(tmp, tmp2, how=\"outer\")\n",
    "tmp[\"count\"] = tmp[\"count\"].fillna(0)\n",
    "\n",
    "tmp = tmp.sort_values(eval_metric).reset_index(drop=True)"
   ]
  },
  {
   "cell_type": "code",
   "execution_count": 1344,
   "id": "67ff9c04",
   "metadata": {},
   "outputs": [
    {
     "data": {
      "application/vnd.plotly.v1+json": {
       "config": {
        "plotlyServerURL": "https://plot.ly"
       },
       "data": [
        {
         "alignmentgroup": "True",
         "hovertemplate": "WOY=%{x}<br>count=%{y}<extra></extra>",
         "legendgroup": "",
         "marker": {
          "color": "#636efa",
          "pattern": {
           "shape": ""
          }
         },
         "name": "",
         "offsetgroup": "",
         "orientation": "v",
         "showlegend": false,
         "textposition": "auto",
         "type": "bar",
         "x": [
          1,
          2,
          3,
          4,
          5,
          6,
          7,
          8,
          9,
          10,
          11,
          12,
          13,
          14,
          15,
          16,
          17,
          18,
          19,
          20,
          21,
          22,
          23,
          24,
          25,
          26,
          27,
          28,
          29,
          30,
          31,
          32,
          33,
          34,
          35,
          36,
          37,
          38,
          39,
          40,
          41,
          42,
          43,
          44,
          45,
          46,
          47,
          48,
          49,
          50,
          51,
          52,
          53
         ],
         "xaxis": "x",
         "y": [
          0,
          1,
          0,
          0,
          7,
          3,
          2,
          7,
          4,
          8,
          5,
          5,
          5,
          5,
          2,
          0,
          2,
          6,
          1,
          2,
          1,
          0,
          1,
          0,
          1,
          1,
          1,
          0,
          0,
          1,
          0,
          1,
          0,
          3,
          3,
          4,
          2,
          0,
          0,
          0,
          0,
          1,
          2,
          7,
          2,
          1,
          0,
          1,
          0,
          0,
          0,
          0,
          0
         ],
         "yaxis": "y"
        }
       ],
       "layout": {
        "barmode": "relative",
        "legend": {
         "tracegroupgap": 0
        },
        "margin": {
         "t": 60
        },
        "template": {
         "data": {
          "bar": [
           {
            "error_x": {
             "color": "#2a3f5f"
            },
            "error_y": {
             "color": "#2a3f5f"
            },
            "marker": {
             "line": {
              "color": "#E5ECF6",
              "width": 0.5
             },
             "pattern": {
              "fillmode": "overlay",
              "size": 10,
              "solidity": 0.2
             }
            },
            "type": "bar"
           }
          ],
          "barpolar": [
           {
            "marker": {
             "line": {
              "color": "#E5ECF6",
              "width": 0.5
             },
             "pattern": {
              "fillmode": "overlay",
              "size": 10,
              "solidity": 0.2
             }
            },
            "type": "barpolar"
           }
          ],
          "carpet": [
           {
            "aaxis": {
             "endlinecolor": "#2a3f5f",
             "gridcolor": "white",
             "linecolor": "white",
             "minorgridcolor": "white",
             "startlinecolor": "#2a3f5f"
            },
            "baxis": {
             "endlinecolor": "#2a3f5f",
             "gridcolor": "white",
             "linecolor": "white",
             "minorgridcolor": "white",
             "startlinecolor": "#2a3f5f"
            },
            "type": "carpet"
           }
          ],
          "choropleth": [
           {
            "colorbar": {
             "outlinewidth": 0,
             "ticks": ""
            },
            "type": "choropleth"
           }
          ],
          "contour": [
           {
            "colorbar": {
             "outlinewidth": 0,
             "ticks": ""
            },
            "colorscale": [
             [
              0,
              "#0d0887"
             ],
             [
              0.1111111111111111,
              "#46039f"
             ],
             [
              0.2222222222222222,
              "#7201a8"
             ],
             [
              0.3333333333333333,
              "#9c179e"
             ],
             [
              0.4444444444444444,
              "#bd3786"
             ],
             [
              0.5555555555555556,
              "#d8576b"
             ],
             [
              0.6666666666666666,
              "#ed7953"
             ],
             [
              0.7777777777777778,
              "#fb9f3a"
             ],
             [
              0.8888888888888888,
              "#fdca26"
             ],
             [
              1,
              "#f0f921"
             ]
            ],
            "type": "contour"
           }
          ],
          "contourcarpet": [
           {
            "colorbar": {
             "outlinewidth": 0,
             "ticks": ""
            },
            "type": "contourcarpet"
           }
          ],
          "heatmap": [
           {
            "colorbar": {
             "outlinewidth": 0,
             "ticks": ""
            },
            "colorscale": [
             [
              0,
              "#0d0887"
             ],
             [
              0.1111111111111111,
              "#46039f"
             ],
             [
              0.2222222222222222,
              "#7201a8"
             ],
             [
              0.3333333333333333,
              "#9c179e"
             ],
             [
              0.4444444444444444,
              "#bd3786"
             ],
             [
              0.5555555555555556,
              "#d8576b"
             ],
             [
              0.6666666666666666,
              "#ed7953"
             ],
             [
              0.7777777777777778,
              "#fb9f3a"
             ],
             [
              0.8888888888888888,
              "#fdca26"
             ],
             [
              1,
              "#f0f921"
             ]
            ],
            "type": "heatmap"
           }
          ],
          "heatmapgl": [
           {
            "colorbar": {
             "outlinewidth": 0,
             "ticks": ""
            },
            "colorscale": [
             [
              0,
              "#0d0887"
             ],
             [
              0.1111111111111111,
              "#46039f"
             ],
             [
              0.2222222222222222,
              "#7201a8"
             ],
             [
              0.3333333333333333,
              "#9c179e"
             ],
             [
              0.4444444444444444,
              "#bd3786"
             ],
             [
              0.5555555555555556,
              "#d8576b"
             ],
             [
              0.6666666666666666,
              "#ed7953"
             ],
             [
              0.7777777777777778,
              "#fb9f3a"
             ],
             [
              0.8888888888888888,
              "#fdca26"
             ],
             [
              1,
              "#f0f921"
             ]
            ],
            "type": "heatmapgl"
           }
          ],
          "histogram": [
           {
            "marker": {
             "pattern": {
              "fillmode": "overlay",
              "size": 10,
              "solidity": 0.2
             }
            },
            "type": "histogram"
           }
          ],
          "histogram2d": [
           {
            "colorbar": {
             "outlinewidth": 0,
             "ticks": ""
            },
            "colorscale": [
             [
              0,
              "#0d0887"
             ],
             [
              0.1111111111111111,
              "#46039f"
             ],
             [
              0.2222222222222222,
              "#7201a8"
             ],
             [
              0.3333333333333333,
              "#9c179e"
             ],
             [
              0.4444444444444444,
              "#bd3786"
             ],
             [
              0.5555555555555556,
              "#d8576b"
             ],
             [
              0.6666666666666666,
              "#ed7953"
             ],
             [
              0.7777777777777778,
              "#fb9f3a"
             ],
             [
              0.8888888888888888,
              "#fdca26"
             ],
             [
              1,
              "#f0f921"
             ]
            ],
            "type": "histogram2d"
           }
          ],
          "histogram2dcontour": [
           {
            "colorbar": {
             "outlinewidth": 0,
             "ticks": ""
            },
            "colorscale": [
             [
              0,
              "#0d0887"
             ],
             [
              0.1111111111111111,
              "#46039f"
             ],
             [
              0.2222222222222222,
              "#7201a8"
             ],
             [
              0.3333333333333333,
              "#9c179e"
             ],
             [
              0.4444444444444444,
              "#bd3786"
             ],
             [
              0.5555555555555556,
              "#d8576b"
             ],
             [
              0.6666666666666666,
              "#ed7953"
             ],
             [
              0.7777777777777778,
              "#fb9f3a"
             ],
             [
              0.8888888888888888,
              "#fdca26"
             ],
             [
              1,
              "#f0f921"
             ]
            ],
            "type": "histogram2dcontour"
           }
          ],
          "mesh3d": [
           {
            "colorbar": {
             "outlinewidth": 0,
             "ticks": ""
            },
            "type": "mesh3d"
           }
          ],
          "parcoords": [
           {
            "line": {
             "colorbar": {
              "outlinewidth": 0,
              "ticks": ""
             }
            },
            "type": "parcoords"
           }
          ],
          "pie": [
           {
            "automargin": true,
            "type": "pie"
           }
          ],
          "scatter": [
           {
            "fillpattern": {
             "fillmode": "overlay",
             "size": 10,
             "solidity": 0.2
            },
            "type": "scatter"
           }
          ],
          "scatter3d": [
           {
            "line": {
             "colorbar": {
              "outlinewidth": 0,
              "ticks": ""
             }
            },
            "marker": {
             "colorbar": {
              "outlinewidth": 0,
              "ticks": ""
             }
            },
            "type": "scatter3d"
           }
          ],
          "scattercarpet": [
           {
            "marker": {
             "colorbar": {
              "outlinewidth": 0,
              "ticks": ""
             }
            },
            "type": "scattercarpet"
           }
          ],
          "scattergeo": [
           {
            "marker": {
             "colorbar": {
              "outlinewidth": 0,
              "ticks": ""
             }
            },
            "type": "scattergeo"
           }
          ],
          "scattergl": [
           {
            "marker": {
             "colorbar": {
              "outlinewidth": 0,
              "ticks": ""
             }
            },
            "type": "scattergl"
           }
          ],
          "scattermapbox": [
           {
            "marker": {
             "colorbar": {
              "outlinewidth": 0,
              "ticks": ""
             }
            },
            "type": "scattermapbox"
           }
          ],
          "scatterpolar": [
           {
            "marker": {
             "colorbar": {
              "outlinewidth": 0,
              "ticks": ""
             }
            },
            "type": "scatterpolar"
           }
          ],
          "scatterpolargl": [
           {
            "marker": {
             "colorbar": {
              "outlinewidth": 0,
              "ticks": ""
             }
            },
            "type": "scatterpolargl"
           }
          ],
          "scatterternary": [
           {
            "marker": {
             "colorbar": {
              "outlinewidth": 0,
              "ticks": ""
             }
            },
            "type": "scatterternary"
           }
          ],
          "surface": [
           {
            "colorbar": {
             "outlinewidth": 0,
             "ticks": ""
            },
            "colorscale": [
             [
              0,
              "#0d0887"
             ],
             [
              0.1111111111111111,
              "#46039f"
             ],
             [
              0.2222222222222222,
              "#7201a8"
             ],
             [
              0.3333333333333333,
              "#9c179e"
             ],
             [
              0.4444444444444444,
              "#bd3786"
             ],
             [
              0.5555555555555556,
              "#d8576b"
             ],
             [
              0.6666666666666666,
              "#ed7953"
             ],
             [
              0.7777777777777778,
              "#fb9f3a"
             ],
             [
              0.8888888888888888,
              "#fdca26"
             ],
             [
              1,
              "#f0f921"
             ]
            ],
            "type": "surface"
           }
          ],
          "table": [
           {
            "cells": {
             "fill": {
              "color": "#EBF0F8"
             },
             "line": {
              "color": "white"
             }
            },
            "header": {
             "fill": {
              "color": "#C8D4E3"
             },
             "line": {
              "color": "white"
             }
            },
            "type": "table"
           }
          ]
         },
         "layout": {
          "annotationdefaults": {
           "arrowcolor": "#2a3f5f",
           "arrowhead": 0,
           "arrowwidth": 1
          },
          "autotypenumbers": "strict",
          "coloraxis": {
           "colorbar": {
            "outlinewidth": 0,
            "ticks": ""
           }
          },
          "colorscale": {
           "diverging": [
            [
             0,
             "#8e0152"
            ],
            [
             0.1,
             "#c51b7d"
            ],
            [
             0.2,
             "#de77ae"
            ],
            [
             0.3,
             "#f1b6da"
            ],
            [
             0.4,
             "#fde0ef"
            ],
            [
             0.5,
             "#f7f7f7"
            ],
            [
             0.6,
             "#e6f5d0"
            ],
            [
             0.7,
             "#b8e186"
            ],
            [
             0.8,
             "#7fbc41"
            ],
            [
             0.9,
             "#4d9221"
            ],
            [
             1,
             "#276419"
            ]
           ],
           "sequential": [
            [
             0,
             "#0d0887"
            ],
            [
             0.1111111111111111,
             "#46039f"
            ],
            [
             0.2222222222222222,
             "#7201a8"
            ],
            [
             0.3333333333333333,
             "#9c179e"
            ],
            [
             0.4444444444444444,
             "#bd3786"
            ],
            [
             0.5555555555555556,
             "#d8576b"
            ],
            [
             0.6666666666666666,
             "#ed7953"
            ],
            [
             0.7777777777777778,
             "#fb9f3a"
            ],
            [
             0.8888888888888888,
             "#fdca26"
            ],
            [
             1,
             "#f0f921"
            ]
           ],
           "sequentialminus": [
            [
             0,
             "#0d0887"
            ],
            [
             0.1111111111111111,
             "#46039f"
            ],
            [
             0.2222222222222222,
             "#7201a8"
            ],
            [
             0.3333333333333333,
             "#9c179e"
            ],
            [
             0.4444444444444444,
             "#bd3786"
            ],
            [
             0.5555555555555556,
             "#d8576b"
            ],
            [
             0.6666666666666666,
             "#ed7953"
            ],
            [
             0.7777777777777778,
             "#fb9f3a"
            ],
            [
             0.8888888888888888,
             "#fdca26"
            ],
            [
             1,
             "#f0f921"
            ]
           ]
          },
          "colorway": [
           "#636efa",
           "#EF553B",
           "#00cc96",
           "#ab63fa",
           "#FFA15A",
           "#19d3f3",
           "#FF6692",
           "#B6E880",
           "#FF97FF",
           "#FECB52"
          ],
          "font": {
           "color": "#2a3f5f"
          },
          "geo": {
           "bgcolor": "white",
           "lakecolor": "white",
           "landcolor": "#E5ECF6",
           "showlakes": true,
           "showland": true,
           "subunitcolor": "white"
          },
          "hoverlabel": {
           "align": "left"
          },
          "hovermode": "closest",
          "mapbox": {
           "style": "light"
          },
          "paper_bgcolor": "white",
          "plot_bgcolor": "#E5ECF6",
          "polar": {
           "angularaxis": {
            "gridcolor": "white",
            "linecolor": "white",
            "ticks": ""
           },
           "bgcolor": "#E5ECF6",
           "radialaxis": {
            "gridcolor": "white",
            "linecolor": "white",
            "ticks": ""
           }
          },
          "scene": {
           "xaxis": {
            "backgroundcolor": "#E5ECF6",
            "gridcolor": "white",
            "gridwidth": 2,
            "linecolor": "white",
            "showbackground": true,
            "ticks": "",
            "zerolinecolor": "white"
           },
           "yaxis": {
            "backgroundcolor": "#E5ECF6",
            "gridcolor": "white",
            "gridwidth": 2,
            "linecolor": "white",
            "showbackground": true,
            "ticks": "",
            "zerolinecolor": "white"
           },
           "zaxis": {
            "backgroundcolor": "#E5ECF6",
            "gridcolor": "white",
            "gridwidth": 2,
            "linecolor": "white",
            "showbackground": true,
            "ticks": "",
            "zerolinecolor": "white"
           }
          },
          "shapedefaults": {
           "line": {
            "color": "#2a3f5f"
           }
          },
          "ternary": {
           "aaxis": {
            "gridcolor": "white",
            "linecolor": "white",
            "ticks": ""
           },
           "baxis": {
            "gridcolor": "white",
            "linecolor": "white",
            "ticks": ""
           },
           "bgcolor": "#E5ECF6",
           "caxis": {
            "gridcolor": "white",
            "linecolor": "white",
            "ticks": ""
           }
          },
          "title": {
           "x": 0.05
          },
          "xaxis": {
           "automargin": true,
           "gridcolor": "white",
           "linecolor": "white",
           "ticks": "",
           "title": {
            "standoff": 15
           },
           "zerolinecolor": "white",
           "zerolinewidth": 2
          },
          "yaxis": {
           "automargin": true,
           "gridcolor": "white",
           "linecolor": "white",
           "ticks": "",
           "title": {
            "standoff": 15
           },
           "zerolinecolor": "white",
           "zerolinewidth": 2
          }
         }
        },
        "xaxis": {
         "anchor": "y",
         "domain": [
          0,
          1
         ],
         "title": {
          "text": "WOY"
         }
        },
        "yaxis": {
         "anchor": "x",
         "domain": [
          0,
          1
         ],
         "title": {
          "text": "count"
         }
        }
       }
      }
     },
     "metadata": {},
     "output_type": "display_data"
    }
   ],
   "source": [
    "fig = px.bar(tmp, x=eval_metric, y=\"count\")\n",
    "fig.show()"
   ]
  },
  {
   "cell_type": "code",
   "execution_count": null,
   "id": "90cc576d",
   "metadata": {},
   "outputs": [],
   "source": []
  },
  {
   "cell_type": "code",
   "execution_count": null,
   "id": "f4382310",
   "metadata": {},
   "outputs": [],
   "source": []
  },
  {
   "cell_type": "code",
   "execution_count": 1345,
   "id": "51560d7a",
   "metadata": {},
   "outputs": [],
   "source": [
    "sightings_checks = sightings_data[\n",
    "    (sightings_data.POD_TAG.isin(pod_tag))\n",
    "    & (sightings_data.H3_CELL.isin(tt_cells))\n",
    "    & ((sightings_data.DATE > split_dates[0]) & (sightings_data.DATE < split_dates[1]))\n",
    "]\n",
    "\n",
    "sightings_checks = pd.merge(sightings_checks, tt)"
   ]
  },
  {
   "cell_type": "code",
   "execution_count": 1346,
   "id": "97b490d8",
   "metadata": {},
   "outputs": [],
   "source": [
    "import geopandas as gpd\n",
    "from shapely.geometry import Point\n",
    "\n",
    "# Suppose your DataFrame is called df and has LATITUDE, LONGITUDE\n",
    "sightings_checks[\"geometry\"] = sightings_checks.apply(\n",
    "    lambda row: Point(row[\"LONGITUDE\"], row[\"LATITUDE\"]), axis=1\n",
    ")\n",
    "\n",
    "# Convert to GeoDataFrame\n",
    "sightings_checks = gpd.GeoDataFrame(\n",
    "    sightings_checks, geometry=\"geometry\", crs=\"EPSG:4326\"\n",
    ")"
   ]
  },
  {
   "cell_type": "code",
   "execution_count": 1347,
   "id": "0c551b3f",
   "metadata": {},
   "outputs": [],
   "source": [
    "metric_filter = 18"
   ]
  },
  {
   "cell_type": "code",
   "execution_count": 1348,
   "id": "76de69c0",
   "metadata": {},
   "outputs": [],
   "source": [
    "m = woy_sightings_data_pod_ratios[\n",
    "    woy_sightings_data_pod_ratios[eval_metric] == metric_filter\n",
    "].explore(\"CELL_RATIO_smooth_Scaled\", cmap=\"turbo\")\n",
    "\n",
    "sightings_checks[sightings_checks[eval_metric] == metric_filter].explore(\n",
    "    m=m, color=\"#FCFF4B\"\n",
    ").save(\"points.html\")"
   ]
  },
  {
   "cell_type": "code",
   "execution_count": null,
   "id": "6326b25c",
   "metadata": {},
   "outputs": [],
   "source": []
  },
  {
   "cell_type": "code",
   "execution_count": 1349,
   "id": "14c82d4c",
   "metadata": {},
   "outputs": [
    {
     "name": "stderr",
     "output_type": "stream",
     "text": [
      "/var/folders/p8/19qwfgfd1b1cn30h8qtz26k00000gn/T/ipykernel_13044/2412949199.py:6: UserWarning:\n",
      "\n",
      "Geometry is in a geographic CRS. Results from 'centroid' are likely incorrect. Use 'GeoSeries.to_crs()' to re-project geometries to a projected CRS before this operation.\n",
      "\n",
      "\n",
      "/var/folders/p8/19qwfgfd1b1cn30h8qtz26k00000gn/T/ipykernel_13044/2412949199.py:7: UserWarning:\n",
      "\n",
      "Geometry is in a geographic CRS. Results from 'centroid' are likely incorrect. Use 'GeoSeries.to_crs()' to re-project geometries to a projected CRS before this operation.\n",
      "\n",
      "\n"
     ]
    }
   ],
   "source": [
    "temporal_plot = woy_sightings_data_pod_ratios[\n",
    "    [\"WOY\", \"CELL_RATIO_smooth_Scaled\", \"geometry\"]\n",
    "].copy()\n",
    "temporal_plot.columns = [\"WOY\", \"PROBS\", \"geometry\"]\n",
    "temporal_plot = gpd.GeoDataFrame(temporal_plot, geometry=\"geometry\", crs=\"EPSG:4326\")\n",
    "temporal_plot[\"Latitude\"] = temporal_plot.geometry.centroid.y\n",
    "temporal_plot[\"Longitude\"] = temporal_plot.geometry.centroid.x"
   ]
  },
  {
   "cell_type": "code",
   "execution_count": 1350,
   "id": "7e284626",
   "metadata": {},
   "outputs": [],
   "source": [
    "# import plotly.express as px\n",
    "\n",
    "# # Get fixed scale bounds\n",
    "# zmin = temporal_plot[\"PROBS\"].min()\n",
    "# zmax = temporal_plot[\"PROBS\"].max()\n",
    "\n",
    "# fig = px.density_mapbox(\n",
    "#     temporal_plot,\n",
    "#     lat=\"Latitude\",\n",
    "#     lon=\"Longitude\",\n",
    "#     z=\"PROBS\",\n",
    "#     radius=50,\n",
    "#     center=dict(lat=48, lon=-122),\n",
    "#     zoom=5,\n",
    "#     mapbox_style=\"carto-positron\",\n",
    "#     color_continuous_scale=\"Reds\",\n",
    "#     range_color=(zmin, zmax),  # <-- fixed color range\n",
    "#     height=800,\n",
    "#     animation_frame=\"WOY\"\n",
    "# )\n",
    "\n",
    "# # Optional: keep colorbar in the same position\n",
    "# fig.update_layout(\n",
    "#     coloraxis_colorbar=dict(\n",
    "#         x=0.92,  # position to the right\n",
    "#         y=0.5,   # center vertically\n",
    "#         title=\"Probability\"\n",
    "#     )\n",
    "# )\n",
    "\n",
    "# fig.show()"
   ]
  },
  {
   "cell_type": "code",
   "execution_count": null,
   "id": "d70a59c6",
   "metadata": {},
   "outputs": [],
   "source": []
  },
  {
   "cell_type": "code",
   "execution_count": 1351,
   "id": "78e89772",
   "metadata": {},
   "outputs": [
    {
     "name": "stderr",
     "output_type": "stream",
     "text": [
      "/var/folders/p8/19qwfgfd1b1cn30h8qtz26k00000gn/T/ipykernel_13044/1458706045.py:8: UserWarning:\n",
      "\n",
      "Geometry is in a geographic CRS. Results from 'centroid' are likely incorrect. Use 'GeoSeries.to_crs()' to re-project geometries to a projected CRS before this operation.\n",
      "\n",
      "\n",
      "/var/folders/p8/19qwfgfd1b1cn30h8qtz26k00000gn/T/ipykernel_13044/1458706045.py:9: UserWarning:\n",
      "\n",
      "Geometry is in a geographic CRS. Results from 'centroid' are likely incorrect. Use 'GeoSeries.to_crs()' to re-project geometries to a projected CRS before this operation.\n",
      "\n",
      "\n"
     ]
    }
   ],
   "source": [
    "import folium\n",
    "from folium.plugins import HeatMapWithTime\n",
    "import pandas as pd\n",
    "import numpy as np\n",
    "\n",
    "# Ensure numeric columns\n",
    "df = temporal_plot.copy()\n",
    "df[\"lat\"] = df.geometry.centroid.y.astype(float)\n",
    "df[\"lon\"] = df.geometry.centroid.x.astype(float)\n",
    "df[\"PROBS\"] = df[\"PROBS\"].astype(float)\n",
    "\n",
    "df[\"PROBS\"] = np.where(df[\"PROBS\"] < 0.01, 0.01, df[\"PROBS\"])\n",
    "\n",
    "\n",
    "weeks = sorted(df[\"WOY\"].unique())\n",
    "heat_data = []\n",
    "\n",
    "for w in weeks:\n",
    "    week_df = df[df[\"WOY\"] == w]\n",
    "    # Drop any rows with missing coords or PROBS\n",
    "    week_df = week_df.dropna(subset=[\"lat\", \"lon\", \"PROBS\"])\n",
    "    # Convert to list of [lat, lon, weight]\n",
    "    points = week_df[[\"lat\", \"lon\", \"PROBS\"]].values.tolist()\n",
    "    heat_data.append(points)\n",
    "\n",
    "# Map\n",
    "m = folium.Map(location=[48, -122], zoom_start=6, tiles=\"CartoDB positron\")\n",
    "\n",
    "HeatMapWithTime(\n",
    "    heat_data,\n",
    "    index=weeks,\n",
    "    auto_play=False,\n",
    "    max_opacity=0.8,\n",
    "    radius=15,\n",
    "    gradient={\n",
    "        0.1: \"#001219\",\n",
    "        0.2: \"#005f73\",\n",
    "        0.3: \"#0a9396\",\n",
    "        0.4: \"#94d2bd\",\n",
    "        0.5: \"#e9d8a6\",\n",
    "        0.6: \"#ee9b00\",\n",
    "        0.7: \"#ca6702\",\n",
    "        0.8: \"#bb3e03\",\n",
    "        0.9: \"#ae2012\",\n",
    "        1.0: \"#9b2226\",\n",
    "    },\n",
    ").add_to(m)\n",
    "\n",
    "m.save(\"sightings_heatmap.html\")"
   ]
  },
  {
   "cell_type": "code",
   "execution_count": null,
   "id": "d990c511",
   "metadata": {},
   "outputs": [],
   "source": []
  }
 ],
 "metadata": {
  "kernelspec": {
   "display_name": "salmonsignal",
   "language": "python",
   "name": "python3"
  },
  "language_info": {
   "codemirror_mode": {
    "name": "ipython",
    "version": 3
   },
   "file_extension": ".py",
   "mimetype": "text/x-python",
   "name": "python",
   "nbconvert_exporter": "python",
   "pygments_lexer": "ipython3",
   "version": "3.10.18"
  }
 },
 "nbformat": 4,
 "nbformat_minor": 5
}
