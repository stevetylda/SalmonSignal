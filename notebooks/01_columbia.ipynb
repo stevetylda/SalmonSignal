{
 "cells": [
  {
   "cell_type": "code",
   "execution_count": 35,
   "id": "c35685ee",
   "metadata": {},
   "outputs": [],
   "source": [
    "import os\n",
    "import pandas as pd\n",
    "import plotly.express as px\n",
    "import plotly.graph_objects as go\n",
    "import re\n",
    "from bs4 import BeautifulSoup\n",
    "from io import StringIO\n",
    "\n",
    "import calendar\n",
    "import requests\n",
    "import geopandas as gpd\n",
    "from shapely.geometry import Point\n",
    "import time\n",
    "\n",
    "\n",
    "def extract_single_date(date_str, year):\n",
    "    if pd.isna(date_str):\n",
    "        return None\n",
    "\n",
    "    # Strip periods (e.g., \"Aug.\" → \"Aug\") and whitespace\n",
    "    clean = date_str.strip().replace(\".\", \"\")\n",
    "\n",
    "    # Match a single date or date range like \"Aug 25–26\" or \"Aug 25\"\n",
    "    match = re.match(r\"([A-Za-z]+)\\s*(\\d{1,2})\", clean)\n",
    "    if match:\n",
    "        month = match.group(1)\n",
    "        day = match.group(2)\n",
    "        return f\"{month} {day} {year}\"\n",
    "\n",
    "    # Fallback\n",
    "    return f\"{clean} {year}\"\n",
    "\n",
    "\n",
    "def fetch_buoy10_year(year: int) -> pd.DataFrame:\n",
    "    \"\"\"Fetches the Buoy 10 fishing report table for a given year and returns it as a DataFrame.\"\"\"\n",
    "    url = f\"https://wdfw.wa.gov/fishing/reports/creel/buoy10#{year}\"\n",
    "    resp = requests.get(url)\n",
    "    resp.raise_for_status()\n",
    "    soup = BeautifulSoup(resp.text, \"html.parser\")\n",
    "\n",
    "    # Find the header containing the year\n",
    "    year_header = soup.find(\n",
    "        lambda tag: tag.name in [\"h2\", \"h3\"] and str(year) in tag.text\n",
    "    )\n",
    "    if not year_header:\n",
    "        raise ValueError(f\"No data found for year {year}\")\n",
    "\n",
    "    # Get the table after the year header\n",
    "    table = year_header.find_next(\"table\")\n",
    "    if table is None:\n",
    "        raise ValueError(f\"No table found for year {year}\")\n",
    "\n",
    "    # Use StringIO to pass the HTML table to pandas\n",
    "    table_html = StringIO(str(table))\n",
    "    df = pd.read_html(table_html)[0]\n",
    "    df[\"Year\"] = year\n",
    "\n",
    "    # Clean & convert the Date column\n",
    "    df[\"Date_clean\"] = df[\"Date\"].apply(lambda x: extract_single_date(x, year))\n",
    "    df[\"Date_parsed\"] = pd.to_datetime(df[\"Date_clean\"], errors=\"coerce\")\n",
    "\n",
    "    return df\n",
    "\n",
    "\n",
    "def build_buoy10_df(years: list[int]) -> pd.DataFrame:\n",
    "    \"\"\"Fetches data for each year in the list and concatenates into one mega DataFrame.\"\"\"\n",
    "    dfs = []\n",
    "    for y in years:\n",
    "        try:\n",
    "            df = fetch_buoy10_year(y)\n",
    "            dfs.append(df)\n",
    "        except Exception as e:\n",
    "            print(f\"⚠️ Warning: Skipped year {y} due to: {e}\")\n",
    "    if not dfs:\n",
    "        raise ValueError(\n",
    "            \"No valid data frames fetched – check your years or site structure.\"\n",
    "        )\n",
    "\n",
    "    result = pd.concat(dfs, ignore_index=True)\n",
    "\n",
    "    result.columns = result.columns.str.strip()\n",
    "    result[[\"Number of Boats\", \"Chinook Kept\"]] = result[\n",
    "        [\"Number of Boats\", \"Chinook Kept\"]\n",
    "    ].apply(pd.to_numeric, errors=\"coerce\")\n",
    "\n",
    "    return result"
   ]
  },
  {
   "cell_type": "code",
   "execution_count": 100,
   "id": "c3c9815e",
   "metadata": {},
   "outputs": [],
   "source": [
    "# # Open Washington Hydrography Data\n",
    "# washington_hydrography = gpd.read_file(\n",
    "#     \"/Users/tylerstevenson/Documents/CODE/SalmonSignal/data/processed/GIS/inland_rivers/US_WUHD_Washington/NHDWaterbody.shp\"\n",
    "# )\n",
    "# washington_hydrography\n"
   ]
  },
  {
   "cell_type": "code",
   "execution_count": null,
   "id": "cac003a1",
   "metadata": {},
   "outputs": [],
   "source": []
  },
  {
   "cell_type": "code",
   "execution_count": 2,
   "id": "fea7f8f8",
   "metadata": {},
   "outputs": [],
   "source": [
    "## Bonneville Data\n",
    "bon_data = pd.read_csv(\n",
    "    \"/Users/tylerstevenson/Documents/CODE/SalmonSignal/data/AD16894096d7ce32.csv\"\n",
    ")\n",
    "bon_data = bon_data[bon_data[\"Dam\"] == \"BON\"].copy()\n",
    "bon_data[\"DATETIME\"] = pd.to_datetime(bon_data[\"Date\"])\n",
    "bon_data[\"DoY\"] = bon_data[\"DATETIME\"].dt.day_of_year\n",
    "bon_data[\"Year\"] = bon_data[\"DATETIME\"].dt.year\n",
    "\n",
    "# Dalles Data\n",
    "dalles = pd.read_csv(\n",
    "    \"/Users/tylerstevenson/Documents/CODE/SalmonSignal/data/AD1689415a04da39.csv\"\n",
    ")\n",
    "dalles = dalles[dalles[\"Dam\"] == \"TDA\"].copy()\n",
    "\n",
    "dalles[\"DATETIME\"] = pd.to_datetime(dalles[\"Date\"])\n",
    "dalles[\"DoY\"] = dalles[\"DATETIME\"].dt.day_of_year\n",
    "dalles[\"Year\"] = dalles[\"DATETIME\"].dt.year\n",
    "\n",
    "# John Day Data\n",
    "johnday = pd.read_csv(\n",
    "    \"/Users/tylerstevenson/Documents/CODE/SalmonSignal/data/AD16894181728912.csv\"\n",
    ")\n",
    "\n",
    "johnday = johnday[johnday[\"Dam\"] == \"JDA\"].copy()\n",
    "\n",
    "johnday[\"DATETIME\"] = pd.to_datetime(johnday[\"Date\"])\n",
    "johnday[\"DoY\"] = johnday[\"DATETIME\"].dt.day_of_year\n",
    "johnday[\"Year\"] = johnday[\"DATETIME\"].dt.year\n",
    "\n",
    "willamette = pd.read_csv(\n",
    "    \"/Users/tylerstevenson/Documents/CODE/SalmonSignal/data/AD168948e560fe6a.csv\"\n",
    ")\n",
    "willamette = willamette[willamette[\"Dam\"] == \"WFA\"].copy()\n",
    "\n",
    "willamette[\"DATETIME\"] = pd.to_datetime(willamette[\"Date\"])\n",
    "willamette[\"DoY\"] = willamette[\"DATETIME\"].dt.day_of_year\n",
    "willamette[\"Year\"] = willamette[\"DATETIME\"].dt.year\n",
    "\n",
    "# Calculate Mean Count by Day of Year\n",
    "bon_avg = bon_data.groupby(\"DoY\", as_index=False)[\"ChinookAdult\"].mean()\n",
    "dalles_avg = dalles.groupby(\"DoY\", as_index=False)[\"ChinookAdult\"].mean()\n",
    "johnday_avg = johnday.groupby(\"DoY\", as_index=False)[\"ChinookAdult\"].mean()\n",
    "willamette_avg = willamette.groupby(\"DoY\", as_index=False)[\"ChinookAdult\"].mean()"
   ]
  },
  {
   "cell_type": "code",
   "execution_count": 3,
   "id": "2e036eeb",
   "metadata": {},
   "outputs": [
    {
     "data": {
      "application/vnd.plotly.v1+json": {
       "config": {
        "plotlyServerURL": "https://plot.ly"
       },
       "data": [
        {
         "hovertemplate": "<extra></extra>",
         "legendgroup": "",
         "line": {
          "color": "#636efa",
          "dash": "solid"
         },
         "marker": {
          "symbol": "circle"
         },
         "mode": "lines",
         "name": "",
         "orientation": "v",
         "showlegend": false,
         "type": "scatter",
         "xaxis": "x",
         "yaxis": "y"
        },
        {
         "line": {
          "color": "#08B2E3",
          "width": 2
         },
         "mode": "lines",
         "name": "Bonneville",
         "type": "scatter",
         "x": {
          "bdata": "AQAAAAIAAAADAAAABAAAAAUAAAAGAAAABwAAAAgAAAAJAAAACgAAAAsAAAAMAAAADQAAAA4AAAAPAAAAEAAAABEAAAASAAAAEwAAABQAAAAVAAAAFgAAABcAAAAYAAAAGQAAABoAAAAbAAAAHAAAAB0AAAAeAAAAHwAAACAAAAAhAAAAIgAAACMAAAAkAAAAJQAAACYAAAAnAAAAKAAAACkAAAAqAAAAKwAAACwAAAAtAAAALgAAAC8AAAAwAAAAMQAAADIAAAAzAAAANAAAADUAAAA2AAAANwAAADgAAAA5AAAAOgAAADsAAAA8AAAAPQAAAD4AAAA/AAAAQAAAAEEAAABCAAAAQwAAAEQAAABFAAAARgAAAEcAAABIAAAASQAAAEoAAABLAAAATAAAAE0AAABOAAAATwAAAFAAAABRAAAAUgAAAFMAAABUAAAAVQAAAFYAAABXAAAAWAAAAFkAAABaAAAAWwAAAFwAAABdAAAAXgAAAF8AAABgAAAAYQAAAGIAAABjAAAAZAAAAGUAAABmAAAAZwAAAGgAAABpAAAAagAAAGsAAABsAAAAbQAAAG4AAABvAAAAcAAAAHEAAAByAAAAcwAAAHQAAAB1AAAAdgAAAHcAAAB4AAAAeQAAAHoAAAB7AAAAfAAAAH0AAAB+AAAAfwAAAIAAAACBAAAAggAAAIMAAACEAAAAhQAAAIYAAACHAAAAiAAAAIkAAACKAAAAiwAAAIwAAACNAAAAjgAAAI8AAACQAAAAkQAAAJIAAACTAAAAlAAAAJUAAACWAAAAlwAAAJgAAACZAAAAmgAAAJsAAACcAAAAnQAAAJ4AAACfAAAAoAAAAKEAAACiAAAAowAAAKQAAAClAAAApgAAAKcAAACoAAAAqQAAAKoAAACrAAAArAAAAK0AAACuAAAArwAAALAAAACxAAAAsgAAALMAAAC0AAAAtQAAALYAAAC3AAAAuAAAALkAAAC6AAAAuwAAALwAAAC9AAAAvgAAAL8AAADAAAAAwQAAAMIAAADDAAAAxAAAAMUAAADGAAAAxwAAAMgAAADJAAAAygAAAMsAAADMAAAAzQAAAM4AAADPAAAA0AAAANEAAADSAAAA0wAAANQAAADVAAAA1gAAANcAAADYAAAA2QAAANoAAADbAAAA3AAAAN0AAADeAAAA3wAAAOAAAADhAAAA4gAAAOMAAADkAAAA5QAAAOYAAADnAAAA6AAAAOkAAADqAAAA6wAAAOwAAADtAAAA7gAAAO8AAADwAAAA8QAAAPIAAADzAAAA9AAAAPUAAAD2AAAA9wAAAPgAAAD5AAAA+gAAAPsAAAD8AAAA/QAAAP4AAAD/AAAAAAEAAAEBAAACAQAAAwEAAAQBAAAFAQAABgEAAAcBAAAIAQAACQEAAAoBAAALAQAADAEAAA0BAAAOAQAADwEAABABAAARAQAAEgEAABMBAAAUAQAAFQEAABYBAAAXAQAAGAEAABkBAAAaAQAAGwEAABwBAAAdAQAAHgEAAB8BAAAgAQAAIQEAACIBAAAjAQAAJAEAACUBAAAmAQAAJwEAACgBAAApAQAAKgEAACsBAAAsAQAALQEAAC4BAAAvAQAAMAEAADEBAAAyAQAAMwEAADQBAAA1AQAANgEAADcBAAA4AQAAOQEAADoBAAA7AQAAPAEAAD0BAAA+AQAAPwEAAEABAABBAQAAQgEAAEMBAABEAQAARQEAAEYBAABHAQAASAEAAEkBAABKAQAASwEAAEwBAABNAQAATgEAAE8BAABQAQAAUQEAAFIBAABTAQAAVAEAAFUBAABWAQAAVwEAAFgBAABZAQAAWgEAAFsBAABcAQAAXQEAAF4BAABfAQAAYAEAAGEBAABiAQAAYwEAAGQBAABlAQAAZgEAAGcBAABoAQAAaQEAAGoBAABrAQAAbAEAAG0BAABuAQAA",
          "dtype": "i4"
         },
         "y": {
          "bdata": "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",
          "dtype": "f8"
         }
        },
        {
         "line": {
          "color": "#EE6352",
          "width": 2
         },
         "mode": "lines",
         "name": "Dalles",
         "type": "scatter",
         "x": {
          "bdata": "AQAAAAIAAAADAAAABAAAAAUAAAAGAAAABwAAAAgAAAAJAAAACgAAAAsAAAAMAAAADQAAAA4AAAAPAAAAEAAAABEAAAASAAAAEwAAABQAAAAVAAAAFgAAABcAAAAYAAAAGQAAABoAAAAbAAAAHAAAAB0AAAAeAAAAHwAAACAAAAAhAAAAIgAAACMAAAAkAAAAJQAAACYAAAAnAAAAKAAAACkAAAAqAAAAKwAAACwAAAAtAAAALgAAAC8AAAAwAAAAMQAAADIAAAAzAAAANAAAADUAAAA2AAAANwAAADgAAAA5AAAAOgAAADsAAAA8AAAAPQAAAD4AAAA/AAAAQAAAAEEAAABCAAAAQwAAAEQAAABFAAAARgAAAEcAAABIAAAASQAAAEoAAABLAAAATAAAAE0AAABOAAAATwAAAFAAAABRAAAAUgAAAFMAAABUAAAAVQAAAFYAAABXAAAAWAAAAFkAAABaAAAAWwAAAFwAAABdAAAAXgAAAF8AAABgAAAAYQAAAGIAAABjAAAAZAAAAGUAAABmAAAAZwAAAGgAAABpAAAAagAAAGsAAABsAAAAbQAAAG4AAABvAAAAcAAAAHEAAAByAAAAcwAAAHQAAAB1AAAAdgAAAHcAAAB4AAAAeQAAAHoAAAB7AAAAfAAAAH0AAAB+AAAAfwAAAIAAAACBAAAAggAAAIMAAACEAAAAhQAAAIYAAACHAAAAiAAAAIkAAACKAAAAiwAAAIwAAACNAAAAjgAAAI8AAACQAAAAkQAAAJIAAACTAAAAlAAAAJUAAACWAAAAlwAAAJgAAACZAAAAmgAAAJsAAACcAAAAnQAAAJ4AAACfAAAAoAAAAKEAAACiAAAAowAAAKQAAAClAAAApgAAAKcAAACoAAAAqQAAAKoAAACrAAAArAAAAK0AAACuAAAArwAAALAAAACxAAAAsgAAALMAAAC0AAAAtQAAALYAAAC3AAAAuAAAALkAAAC6AAAAuwAAALwAAAC9AAAAvgAAAL8AAADAAAAAwQAAAMIAAADDAAAAxAAAAMUAAADGAAAAxwAAAMgAAADJAAAAygAAAMsAAADMAAAAzQAAAM4AAADPAAAA0AAAANEAAADSAAAA0wAAANQAAADVAAAA1gAAANcAAADYAAAA2QAAANoAAADbAAAA3AAAAN0AAADeAAAA3wAAAOAAAADhAAAA4gAAAOMAAADkAAAA5QAAAOYAAADnAAAA6AAAAOkAAADqAAAA6wAAAOwAAADtAAAA7gAAAO8AAADwAAAA8QAAAPIAAADzAAAA9AAAAPUAAAD2AAAA9wAAAPgAAAD5AAAA+gAAAPsAAAD8AAAA/QAAAP4AAAD/AAAAAAEAAAEBAAACAQAAAwEAAAQBAAAFAQAABgEAAAcBAAAIAQAACQEAAAoBAAALAQAADAEAAA0BAAAOAQAADwEAABABAAARAQAAEgEAABMBAAAUAQAAFQEAABYBAAAXAQAAGAEAABkBAAAaAQAAGwEAABwBAAAdAQAAHgEAAB8BAAAgAQAAIQEAACIBAAAjAQAAJAEAACUBAAAmAQAAJwEAACgBAAApAQAAKgEAACsBAAAsAQAALQEAAC4BAAAvAQAAMAEAADEBAAAyAQAAMwEAADQBAAA1AQAANgEAADcBAAA4AQAAOQEAADoBAAA7AQAAPAEAAD0BAAA+AQAAPwEAAEABAABBAQAAQgEAAEMBAABEAQAARQEAAEYBAABHAQAASAEAAEkBAABKAQAASwEAAEwBAABNAQAATgEAAE8BAABQAQAAUQEAAFIBAABTAQAAVAEAAFUBAABWAQAAVwEAAFgBAABZAQAAWgEAAFsBAABcAQAAXQEAAF4BAABfAQAAYAEAAGEBAABiAQAAYwEAAGQBAABlAQAAZgEAAGcBAABoAQAAaQEAAGoBAABrAQAAbAEAAG0BAABuAQAA",
          "dtype": "i4"
         },
         "y": {
          "bdata": "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",
          "dtype": "f8"
         }
        },
        {
         "line": {
          "color": "#B2FFA9",
          "width": 2
         },
         "mode": "lines",
         "name": "John Day",
         "type": "scatter",
         "x": {
          "bdata": "AQAAAAIAAAADAAAABAAAAAUAAAAGAAAABwAAAAgAAAAJAAAACgAAAAsAAAAMAAAADQAAAA4AAAAPAAAAEAAAABEAAAASAAAAEwAAABQAAAAVAAAAFgAAABcAAAAYAAAAGQAAABoAAAAbAAAAHAAAAB0AAAAeAAAAHwAAACAAAAAhAAAAIgAAACMAAAAkAAAAJQAAACYAAAAnAAAAKAAAACkAAAAqAAAAKwAAACwAAAAtAAAALgAAAC8AAAAwAAAAMQAAADIAAAAzAAAANAAAADUAAAA2AAAANwAAADgAAAA5AAAAOgAAADsAAAA8AAAAPQAAAD4AAAA/AAAAQAAAAEEAAABCAAAAQwAAAEQAAABFAAAARgAAAEcAAABIAAAASQAAAEoAAABLAAAATAAAAE0AAABOAAAATwAAAFAAAABRAAAAUgAAAFMAAABUAAAAVQAAAFYAAABXAAAAWAAAAFkAAABaAAAAWwAAAFwAAABdAAAAXgAAAF8AAABgAAAAYQAAAGIAAABjAAAAZAAAAGUAAABmAAAAZwAAAGgAAABpAAAAagAAAGsAAABsAAAAbQAAAG4AAABvAAAAcAAAAHEAAAByAAAAcwAAAHQAAAB1AAAAdgAAAHcAAAB4AAAAeQAAAHoAAAB7AAAAfAAAAH0AAAB+AAAAfwAAAIAAAACBAAAAggAAAIMAAACEAAAAhQAAAIYAAACHAAAAiAAAAIkAAACKAAAAiwAAAIwAAACNAAAAjgAAAI8AAACQAAAAkQAAAJIAAACTAAAAlAAAAJUAAACWAAAAlwAAAJgAAACZAAAAmgAAAJsAAACcAAAAnQAAAJ4AAACfAAAAoAAAAKEAAACiAAAAowAAAKQAAAClAAAApgAAAKcAAACoAAAAqQAAAKoAAACrAAAArAAAAK0AAACuAAAArwAAALAAAACxAAAAsgAAALMAAAC0AAAAtQAAALYAAAC3AAAAuAAAALkAAAC6AAAAuwAAALwAAAC9AAAAvgAAAL8AAADAAAAAwQAAAMIAAADDAAAAxAAAAMUAAADGAAAAxwAAAMgAAADJAAAAygAAAMsAAADMAAAAzQAAAM4AAADPAAAA0AAAANEAAADSAAAA0wAAANQAAADVAAAA1gAAANcAAADYAAAA2QAAANoAAADbAAAA3AAAAN0AAADeAAAA3wAAAOAAAADhAAAA4gAAAOMAAADkAAAA5QAAAOYAAADnAAAA6AAAAOkAAADqAAAA6wAAAOwAAADtAAAA7gAAAO8AAADwAAAA8QAAAPIAAADzAAAA9AAAAPUAAAD2AAAA9wAAAPgAAAD5AAAA+gAAAPsAAAD8AAAA/QAAAP4AAAD/AAAAAAEAAAEBAAACAQAAAwEAAAQBAAAFAQAABgEAAAcBAAAIAQAACQEAAAoBAAALAQAADAEAAA0BAAAOAQAADwEAABABAAARAQAAEgEAABMBAAAUAQAAFQEAABYBAAAXAQAAGAEAABkBAAAaAQAAGwEAABwBAAAdAQAAHgEAAB8BAAAgAQAAIQEAACIBAAAjAQAAJAEAACUBAAAmAQAAJwEAACgBAAApAQAAKgEAACsBAAAsAQAALQEAAC4BAAAvAQAAMAEAADEBAAAyAQAAMwEAADQBAAA1AQAANgEAADcBAAA4AQAAOQEAADoBAAA7AQAAPAEAAD0BAAA+AQAAPwEAAEABAABBAQAAQgEAAEMBAABEAQAARQEAAEYBAABHAQAASAEAAEkBAABKAQAASwEAAEwBAABNAQAATgEAAE8BAABQAQAAUQEAAFIBAABTAQAAVAEAAFUBAABWAQAAVwEAAFgBAABZAQAAWgEAAFsBAABcAQAAXQEAAF4BAABfAQAAYAEAAGEBAABiAQAAYwEAAGQBAABlAQAAZgEAAGcBAABoAQAAaQEAAGoBAABrAQAAbAEAAG0BAABuAQAA",
          "dtype": "i4"
         },
         "y": {
          "bdata": "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",
          "dtype": "f8"
         }
        },
        {
         "line": {
          "color": "#E5D4CE",
          "width": 2
         },
         "mode": "lines",
         "name": "Willamette",
         "type": "scatter",
         "x": {
          "bdata": "AQAAAAIAAAADAAAABAAAAAUAAAAGAAAABwAAAAgAAAAJAAAACgAAAAsAAAAMAAAADQAAAA4AAAAPAAAAEAAAABEAAAASAAAAEwAAABQAAAAVAAAAFgAAABcAAAAYAAAAGQAAABoAAAAbAAAAHAAAAB0AAAAeAAAAHwAAACAAAAAhAAAAIgAAACMAAAAkAAAAJQAAACYAAAAnAAAAKAAAACkAAAAqAAAAKwAAACwAAAAtAAAALgAAAC8AAAAwAAAAMQAAADIAAAAzAAAANAAAADUAAAA2AAAANwAAADgAAAA5AAAAOgAAADsAAAA8AAAAPQAAAD4AAAA/AAAAQAAAAEEAAABCAAAAQwAAAEQAAABFAAAARgAAAEcAAABIAAAASQAAAEoAAABLAAAATAAAAE0AAABOAAAATwAAAFAAAABRAAAAUgAAAFMAAABUAAAAVQAAAFYAAABXAAAAWAAAAFkAAABaAAAAWwAAAFwAAABdAAAAXgAAAF8AAABgAAAAYQAAAGIAAABjAAAAZAAAAGUAAABmAAAAZwAAAGgAAABpAAAAagAAAGsAAABsAAAAbQAAAG4AAABvAAAAcAAAAHEAAAByAAAAcwAAAHQAAAB1AAAAdgAAAHcAAAB4AAAAeQAAAHoAAAB7AAAAfAAAAH0AAAB+AAAAfwAAAIAAAACBAAAAggAAAIMAAACEAAAAhQAAAIYAAACHAAAAiAAAAIkAAACKAAAAiwAAAIwAAACNAAAAjgAAAI8AAACQAAAAkQAAAJIAAACTAAAAlAAAAJUAAACWAAAAlwAAAJgAAACZAAAAmgAAAJsAAACcAAAAnQAAAJ4AAACfAAAAoAAAAKEAAACiAAAAowAAAKQAAAClAAAApgAAAKcAAACoAAAAqQAAAKoAAACrAAAArAAAAK0AAACuAAAArwAAALAAAACxAAAAsgAAALMAAAC0AAAAtQAAALYAAAC3AAAAuAAAALkAAAC6AAAAuwAAALwAAAC9AAAAvgAAAL8AAADAAAAAwQAAAMIAAADDAAAAxAAAAMUAAADGAAAAxwAAAMgAAADJAAAAygAAAMsAAADMAAAAzQAAAM4AAADPAAAA0AAAANEAAADSAAAA0wAAANQAAADVAAAA1gAAANcAAADYAAAA2QAAANoAAADbAAAA3AAAAN0AAADeAAAA3wAAAOAAAADhAAAA4gAAAOMAAADkAAAA5QAAAOYAAADnAAAA6AAAAOkAAADqAAAA6wAAAOwAAADtAAAA7gAAAO8AAADwAAAA8QAAAPIAAADzAAAA9AAAAPUAAAD2AAAA9wAAAPgAAAD5AAAA+gAAAPsAAAD8AAAA/QAAAP4AAAD/AAAAAAEAAAEBAAACAQAAAwEAAAQBAAAFAQAABgEAAAcBAAAIAQAACQEAAAoBAAALAQAADAEAAA0BAAAOAQAADwEAABABAAARAQAAEgEAABMBAAAUAQAAFQEAABYBAAAXAQAAGAEAABkBAAAaAQAAGwEAABwBAAAdAQAAHgEAAB8BAAAgAQAAIQEAACIBAAAjAQAAJAEAACUBAAAmAQAAJwEAACgBAAApAQAAKgEAACsBAAAsAQAALQEAAC4BAAAvAQAAMAEAADEBAAAyAQAAMwEAADQBAAA1AQAANgEAADcBAAA4AQAAOQEAADoBAAA7AQAAPAEAAD0BAAA+AQAAPwEAAEABAABBAQAAQgEAAEMBAABEAQAARQEAAEYBAABHAQAASAEAAEkBAABKAQAASwEAAEwBAABNAQAATgEAAE8BAABQAQAAUQEAAFIBAABTAQAAVAEAAFUBAABWAQAAVwEAAFgBAABZAQAAWgEAAFsBAABcAQAAXQEAAF4BAABfAQAAYAEAAGEBAABiAQAAYwEAAGQBAABlAQAAZgEAAGcBAABoAQAAaQEAAGoBAABrAQAAbAEAAG0BAABuAQAA",
          "dtype": "i4"
         },
         "y": {
          "bdata": "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",
          "dtype": "f8"
         }
        }
       ],
       "layout": {
        "annotations": [
         {
          "font": {
           "color": "#666",
           "size": 12
          },
          "showarrow": false,
          "text": "Jan",
          "x": 16,
          "xanchor": "center",
          "xref": "x",
          "y": 0,
          "yanchor": "bottom",
          "yref": "paper"
         },
         {
          "font": {
           "color": "#666",
           "size": 12
          },
          "showarrow": false,
          "text": "Feb",
          "x": 47,
          "xanchor": "center",
          "xref": "x",
          "y": 0,
          "yanchor": "bottom",
          "yref": "paper"
         },
         {
          "font": {
           "color": "#666",
           "size": 12
          },
          "showarrow": false,
          "text": "Mar",
          "x": 76,
          "xanchor": "center",
          "xref": "x",
          "y": 0,
          "yanchor": "bottom",
          "yref": "paper"
         },
         {
          "font": {
           "color": "#666",
           "size": 12
          },
          "showarrow": false,
          "text": "Apr",
          "x": 107,
          "xanchor": "center",
          "xref": "x",
          "y": 0,
          "yanchor": "bottom",
          "yref": "paper"
         },
         {
          "font": {
           "color": "#666",
           "size": 12
          },
          "showarrow": false,
          "text": "May",
          "x": 137,
          "xanchor": "center",
          "xref": "x",
          "y": 0,
          "yanchor": "bottom",
          "yref": "paper"
         },
         {
          "font": {
           "color": "#666",
           "size": 12
          },
          "showarrow": false,
          "text": "Jun",
          "x": 168,
          "xanchor": "center",
          "xref": "x",
          "y": 0,
          "yanchor": "bottom",
          "yref": "paper"
         },
         {
          "font": {
           "color": "#666",
           "size": 12
          },
          "showarrow": false,
          "text": "Jul",
          "x": 198,
          "xanchor": "center",
          "xref": "x",
          "y": 0,
          "yanchor": "bottom",
          "yref": "paper"
         },
         {
          "font": {
           "color": "#666",
           "size": 12
          },
          "showarrow": false,
          "text": "Aug",
          "x": 229,
          "xanchor": "center",
          "xref": "x",
          "y": 0,
          "yanchor": "bottom",
          "yref": "paper"
         },
         {
          "font": {
           "color": "#666",
           "size": 12
          },
          "showarrow": false,
          "text": "Sep",
          "x": 260,
          "xanchor": "center",
          "xref": "x",
          "y": 0,
          "yanchor": "bottom",
          "yref": "paper"
         },
         {
          "font": {
           "color": "#666",
           "size": 12
          },
          "showarrow": false,
          "text": "Oct",
          "x": 290,
          "xanchor": "center",
          "xref": "x",
          "y": 0,
          "yanchor": "bottom",
          "yref": "paper"
         },
         {
          "font": {
           "color": "#666",
           "size": 12
          },
          "showarrow": false,
          "text": "Nov",
          "x": 321,
          "xanchor": "center",
          "xref": "x",
          "y": 0,
          "yanchor": "bottom",
          "yref": "paper"
         },
         {
          "font": {
           "color": "#666",
           "size": 12
          },
          "showarrow": false,
          "text": "Dec",
          "x": 351,
          "xanchor": "center",
          "xref": "x",
          "y": 0,
          "yanchor": "bottom",
          "yref": "paper"
         }
        ],
        "font": {
         "color": "#333",
         "family": "Helvetica Neue",
         "size": 14
        },
        "legend": {
         "font": {
          "size": 14
         },
         "title": {
          "text": "Dam Location"
         },
         "tracegroupgap": 0
        },
        "margin": {
         "b": 60,
         "l": 60,
         "r": 40,
         "t": 60
        },
        "paper_bgcolor": "white",
        "plot_bgcolor": "white",
        "shapes": [
         {
          "layer": "below",
          "line": {
           "color": "#999",
           "dash": "dash",
           "width": 1
          },
          "type": "line",
          "x0": 1,
          "x1": 1,
          "xref": "x",
          "y0": 0,
          "y1": 1,
          "yref": "y domain"
         },
         {
          "layer": "below",
          "line": {
           "color": "#999",
           "dash": "dash",
           "width": 1
          },
          "type": "line",
          "x0": 32,
          "x1": 32,
          "xref": "x",
          "y0": 0,
          "y1": 1,
          "yref": "y domain"
         },
         {
          "layer": "below",
          "line": {
           "color": "#999",
           "dash": "dash",
           "width": 1
          },
          "type": "line",
          "x0": 61,
          "x1": 61,
          "xref": "x",
          "y0": 0,
          "y1": 1,
          "yref": "y domain"
         },
         {
          "layer": "below",
          "line": {
           "color": "#999",
           "dash": "dash",
           "width": 1
          },
          "type": "line",
          "x0": 92,
          "x1": 92,
          "xref": "x",
          "y0": 0,
          "y1": 1,
          "yref": "y domain"
         },
         {
          "layer": "below",
          "line": {
           "color": "#999",
           "dash": "dash",
           "width": 1
          },
          "type": "line",
          "x0": 122,
          "x1": 122,
          "xref": "x",
          "y0": 0,
          "y1": 1,
          "yref": "y domain"
         },
         {
          "layer": "below",
          "line": {
           "color": "#999",
           "dash": "dash",
           "width": 1
          },
          "type": "line",
          "x0": 153,
          "x1": 153,
          "xref": "x",
          "y0": 0,
          "y1": 1,
          "yref": "y domain"
         },
         {
          "layer": "below",
          "line": {
           "color": "#999",
           "dash": "dash",
           "width": 1
          },
          "type": "line",
          "x0": 183,
          "x1": 183,
          "xref": "x",
          "y0": 0,
          "y1": 1,
          "yref": "y domain"
         },
         {
          "layer": "below",
          "line": {
           "color": "#999",
           "dash": "dash",
           "width": 1
          },
          "type": "line",
          "x0": 214,
          "x1": 214,
          "xref": "x",
          "y0": 0,
          "y1": 1,
          "yref": "y domain"
         },
         {
          "layer": "below",
          "line": {
           "color": "#999",
           "dash": "dash",
           "width": 1
          },
          "type": "line",
          "x0": 245,
          "x1": 245,
          "xref": "x",
          "y0": 0,
          "y1": 1,
          "yref": "y domain"
         },
         {
          "layer": "below",
          "line": {
           "color": "#999",
           "dash": "dash",
           "width": 1
          },
          "type": "line",
          "x0": 275,
          "x1": 275,
          "xref": "x",
          "y0": 0,
          "y1": 1,
          "yref": "y domain"
         },
         {
          "layer": "below",
          "line": {
           "color": "#999",
           "dash": "dash",
           "width": 1
          },
          "type": "line",
          "x0": 306,
          "x1": 306,
          "xref": "x",
          "y0": 0,
          "y1": 1,
          "yref": "y domain"
         },
         {
          "layer": "below",
          "line": {
           "color": "#999",
           "dash": "dash",
           "width": 1
          },
          "type": "line",
          "x0": 336,
          "x1": 336,
          "xref": "x",
          "y0": 0,
          "y1": 1,
          "yref": "y domain"
         }
        ],
        "template": {
         "data": {
          "bar": [
           {
            "error_x": {
             "color": "#2a3f5f"
            },
            "error_y": {
             "color": "#2a3f5f"
            },
            "marker": {
             "line": {
              "color": "#E5ECF6",
              "width": 0.5
             },
             "pattern": {
              "fillmode": "overlay",
              "size": 10,
              "solidity": 0.2
             }
            },
            "type": "bar"
           }
          ],
          "barpolar": [
           {
            "marker": {
             "line": {
              "color": "#E5ECF6",
              "width": 0.5
             },
             "pattern": {
              "fillmode": "overlay",
              "size": 10,
              "solidity": 0.2
             }
            },
            "type": "barpolar"
           }
          ],
          "carpet": [
           {
            "aaxis": {
             "endlinecolor": "#2a3f5f",
             "gridcolor": "white",
             "linecolor": "white",
             "minorgridcolor": "white",
             "startlinecolor": "#2a3f5f"
            },
            "baxis": {
             "endlinecolor": "#2a3f5f",
             "gridcolor": "white",
             "linecolor": "white",
             "minorgridcolor": "white",
             "startlinecolor": "#2a3f5f"
            },
            "type": "carpet"
           }
          ],
          "choropleth": [
           {
            "colorbar": {
             "outlinewidth": 0,
             "ticks": ""
            },
            "type": "choropleth"
           }
          ],
          "contour": [
           {
            "colorbar": {
             "outlinewidth": 0,
             "ticks": ""
            },
            "colorscale": [
             [
              0,
              "#0d0887"
             ],
             [
              0.1111111111111111,
              "#46039f"
             ],
             [
              0.2222222222222222,
              "#7201a8"
             ],
             [
              0.3333333333333333,
              "#9c179e"
             ],
             [
              0.4444444444444444,
              "#bd3786"
             ],
             [
              0.5555555555555556,
              "#d8576b"
             ],
             [
              0.6666666666666666,
              "#ed7953"
             ],
             [
              0.7777777777777778,
              "#fb9f3a"
             ],
             [
              0.8888888888888888,
              "#fdca26"
             ],
             [
              1,
              "#f0f921"
             ]
            ],
            "type": "contour"
           }
          ],
          "contourcarpet": [
           {
            "colorbar": {
             "outlinewidth": 0,
             "ticks": ""
            },
            "type": "contourcarpet"
           }
          ],
          "heatmap": [
           {
            "colorbar": {
             "outlinewidth": 0,
             "ticks": ""
            },
            "colorscale": [
             [
              0,
              "#0d0887"
             ],
             [
              0.1111111111111111,
              "#46039f"
             ],
             [
              0.2222222222222222,
              "#7201a8"
             ],
             [
              0.3333333333333333,
              "#9c179e"
             ],
             [
              0.4444444444444444,
              "#bd3786"
             ],
             [
              0.5555555555555556,
              "#d8576b"
             ],
             [
              0.6666666666666666,
              "#ed7953"
             ],
             [
              0.7777777777777778,
              "#fb9f3a"
             ],
             [
              0.8888888888888888,
              "#fdca26"
             ],
             [
              1,
              "#f0f921"
             ]
            ],
            "type": "heatmap"
           }
          ],
          "histogram": [
           {
            "marker": {
             "pattern": {
              "fillmode": "overlay",
              "size": 10,
              "solidity": 0.2
             }
            },
            "type": "histogram"
           }
          ],
          "histogram2d": [
           {
            "colorbar": {
             "outlinewidth": 0,
             "ticks": ""
            },
            "colorscale": [
             [
              0,
              "#0d0887"
             ],
             [
              0.1111111111111111,
              "#46039f"
             ],
             [
              0.2222222222222222,
              "#7201a8"
             ],
             [
              0.3333333333333333,
              "#9c179e"
             ],
             [
              0.4444444444444444,
              "#bd3786"
             ],
             [
              0.5555555555555556,
              "#d8576b"
             ],
             [
              0.6666666666666666,
              "#ed7953"
             ],
             [
              0.7777777777777778,
              "#fb9f3a"
             ],
             [
              0.8888888888888888,
              "#fdca26"
             ],
             [
              1,
              "#f0f921"
             ]
            ],
            "type": "histogram2d"
           }
          ],
          "histogram2dcontour": [
           {
            "colorbar": {
             "outlinewidth": 0,
             "ticks": ""
            },
            "colorscale": [
             [
              0,
              "#0d0887"
             ],
             [
              0.1111111111111111,
              "#46039f"
             ],
             [
              0.2222222222222222,
              "#7201a8"
             ],
             [
              0.3333333333333333,
              "#9c179e"
             ],
             [
              0.4444444444444444,
              "#bd3786"
             ],
             [
              0.5555555555555556,
              "#d8576b"
             ],
             [
              0.6666666666666666,
              "#ed7953"
             ],
             [
              0.7777777777777778,
              "#fb9f3a"
             ],
             [
              0.8888888888888888,
              "#fdca26"
             ],
             [
              1,
              "#f0f921"
             ]
            ],
            "type": "histogram2dcontour"
           }
          ],
          "mesh3d": [
           {
            "colorbar": {
             "outlinewidth": 0,
             "ticks": ""
            },
            "type": "mesh3d"
           }
          ],
          "parcoords": [
           {
            "line": {
             "colorbar": {
              "outlinewidth": 0,
              "ticks": ""
             }
            },
            "type": "parcoords"
           }
          ],
          "pie": [
           {
            "automargin": true,
            "type": "pie"
           }
          ],
          "scatter": [
           {
            "fillpattern": {
             "fillmode": "overlay",
             "size": 10,
             "solidity": 0.2
            },
            "type": "scatter"
           }
          ],
          "scatter3d": [
           {
            "line": {
             "colorbar": {
              "outlinewidth": 0,
              "ticks": ""
             }
            },
            "marker": {
             "colorbar": {
              "outlinewidth": 0,
              "ticks": ""
             }
            },
            "type": "scatter3d"
           }
          ],
          "scattercarpet": [
           {
            "marker": {
             "colorbar": {
              "outlinewidth": 0,
              "ticks": ""
             }
            },
            "type": "scattercarpet"
           }
          ],
          "scattergeo": [
           {
            "marker": {
             "colorbar": {
              "outlinewidth": 0,
              "ticks": ""
             }
            },
            "type": "scattergeo"
           }
          ],
          "scattergl": [
           {
            "marker": {
             "colorbar": {
              "outlinewidth": 0,
              "ticks": ""
             }
            },
            "type": "scattergl"
           }
          ],
          "scattermap": [
           {
            "marker": {
             "colorbar": {
              "outlinewidth": 0,
              "ticks": ""
             }
            },
            "type": "scattermap"
           }
          ],
          "scattermapbox": [
           {
            "marker": {
             "colorbar": {
              "outlinewidth": 0,
              "ticks": ""
             }
            },
            "type": "scattermapbox"
           }
          ],
          "scatterpolar": [
           {
            "marker": {
             "colorbar": {
              "outlinewidth": 0,
              "ticks": ""
             }
            },
            "type": "scatterpolar"
           }
          ],
          "scatterpolargl": [
           {
            "marker": {
             "colorbar": {
              "outlinewidth": 0,
              "ticks": ""
             }
            },
            "type": "scatterpolargl"
           }
          ],
          "scatterternary": [
           {
            "marker": {
             "colorbar": {
              "outlinewidth": 0,
              "ticks": ""
             }
            },
            "type": "scatterternary"
           }
          ],
          "surface": [
           {
            "colorbar": {
             "outlinewidth": 0,
             "ticks": ""
            },
            "colorscale": [
             [
              0,
              "#0d0887"
             ],
             [
              0.1111111111111111,
              "#46039f"
             ],
             [
              0.2222222222222222,
              "#7201a8"
             ],
             [
              0.3333333333333333,
              "#9c179e"
             ],
             [
              0.4444444444444444,
              "#bd3786"
             ],
             [
              0.5555555555555556,
              "#d8576b"
             ],
             [
              0.6666666666666666,
              "#ed7953"
             ],
             [
              0.7777777777777778,
              "#fb9f3a"
             ],
             [
              0.8888888888888888,
              "#fdca26"
             ],
             [
              1,
              "#f0f921"
             ]
            ],
            "type": "surface"
           }
          ],
          "table": [
           {
            "cells": {
             "fill": {
              "color": "#EBF0F8"
             },
             "line": {
              "color": "white"
             }
            },
            "header": {
             "fill": {
              "color": "#C8D4E3"
             },
             "line": {
              "color": "white"
             }
            },
            "type": "table"
           }
          ]
         },
         "layout": {
          "annotationdefaults": {
           "arrowcolor": "#2a3f5f",
           "arrowhead": 0,
           "arrowwidth": 1
          },
          "autotypenumbers": "strict",
          "coloraxis": {
           "colorbar": {
            "outlinewidth": 0,
            "ticks": ""
           }
          },
          "colorscale": {
           "diverging": [
            [
             0,
             "#8e0152"
            ],
            [
             0.1,
             "#c51b7d"
            ],
            [
             0.2,
             "#de77ae"
            ],
            [
             0.3,
             "#f1b6da"
            ],
            [
             0.4,
             "#fde0ef"
            ],
            [
             0.5,
             "#f7f7f7"
            ],
            [
             0.6,
             "#e6f5d0"
            ],
            [
             0.7,
             "#b8e186"
            ],
            [
             0.8,
             "#7fbc41"
            ],
            [
             0.9,
             "#4d9221"
            ],
            [
             1,
             "#276419"
            ]
           ],
           "sequential": [
            [
             0,
             "#0d0887"
            ],
            [
             0.1111111111111111,
             "#46039f"
            ],
            [
             0.2222222222222222,
             "#7201a8"
            ],
            [
             0.3333333333333333,
             "#9c179e"
            ],
            [
             0.4444444444444444,
             "#bd3786"
            ],
            [
             0.5555555555555556,
             "#d8576b"
            ],
            [
             0.6666666666666666,
             "#ed7953"
            ],
            [
             0.7777777777777778,
             "#fb9f3a"
            ],
            [
             0.8888888888888888,
             "#fdca26"
            ],
            [
             1,
             "#f0f921"
            ]
           ],
           "sequentialminus": [
            [
             0,
             "#0d0887"
            ],
            [
             0.1111111111111111,
             "#46039f"
            ],
            [
             0.2222222222222222,
             "#7201a8"
            ],
            [
             0.3333333333333333,
             "#9c179e"
            ],
            [
             0.4444444444444444,
             "#bd3786"
            ],
            [
             0.5555555555555556,
             "#d8576b"
            ],
            [
             0.6666666666666666,
             "#ed7953"
            ],
            [
             0.7777777777777778,
             "#fb9f3a"
            ],
            [
             0.8888888888888888,
             "#fdca26"
            ],
            [
             1,
             "#f0f921"
            ]
           ]
          },
          "colorway": [
           "#636efa",
           "#EF553B",
           "#00cc96",
           "#ab63fa",
           "#FFA15A",
           "#19d3f3",
           "#FF6692",
           "#B6E880",
           "#FF97FF",
           "#FECB52"
          ],
          "font": {
           "color": "#2a3f5f"
          },
          "geo": {
           "bgcolor": "white",
           "lakecolor": "white",
           "landcolor": "#E5ECF6",
           "showlakes": true,
           "showland": true,
           "subunitcolor": "white"
          },
          "hoverlabel": {
           "align": "left"
          },
          "hovermode": "closest",
          "mapbox": {
           "style": "light"
          },
          "paper_bgcolor": "white",
          "plot_bgcolor": "#E5ECF6",
          "polar": {
           "angularaxis": {
            "gridcolor": "white",
            "linecolor": "white",
            "ticks": ""
           },
           "bgcolor": "#E5ECF6",
           "radialaxis": {
            "gridcolor": "white",
            "linecolor": "white",
            "ticks": ""
           }
          },
          "scene": {
           "xaxis": {
            "backgroundcolor": "#E5ECF6",
            "gridcolor": "white",
            "gridwidth": 2,
            "linecolor": "white",
            "showbackground": true,
            "ticks": "",
            "zerolinecolor": "white"
           },
           "yaxis": {
            "backgroundcolor": "#E5ECF6",
            "gridcolor": "white",
            "gridwidth": 2,
            "linecolor": "white",
            "showbackground": true,
            "ticks": "",
            "zerolinecolor": "white"
           },
           "zaxis": {
            "backgroundcolor": "#E5ECF6",
            "gridcolor": "white",
            "gridwidth": 2,
            "linecolor": "white",
            "showbackground": true,
            "ticks": "",
            "zerolinecolor": "white"
           }
          },
          "shapedefaults": {
           "line": {
            "color": "#2a3f5f"
           }
          },
          "ternary": {
           "aaxis": {
            "gridcolor": "white",
            "linecolor": "white",
            "ticks": ""
           },
           "baxis": {
            "gridcolor": "white",
            "linecolor": "white",
            "ticks": ""
           },
           "bgcolor": "#E5ECF6",
           "caxis": {
            "gridcolor": "white",
            "linecolor": "white",
            "ticks": ""
           }
          },
          "title": {
           "x": 0.05
          },
          "xaxis": {
           "automargin": true,
           "gridcolor": "white",
           "linecolor": "white",
           "ticks": "",
           "title": {
            "standoff": 15
           },
           "zerolinecolor": "white",
           "zerolinewidth": 2
          },
          "yaxis": {
           "automargin": true,
           "gridcolor": "white",
           "linecolor": "white",
           "ticks": "",
           "title": {
            "standoff": 15
           },
           "zerolinecolor": "white",
           "zerolinewidth": 2
          }
         }
        },
        "title": {
         "font": {
          "color": "#333",
          "family": "Helvetica Neue",
          "size": 20
         },
         "text": "Mean Daily Chinook Adult Count by Day of Year"
        },
        "xaxis": {
         "anchor": "y",
         "domain": [
          0,
          1
         ],
         "gridcolor": "#E5ECF6",
         "tickfont": {
          "size": 14
         },
         "title": {
          "font": {
           "size": 16
          },
          "text": "Day of Year"
         },
         "zeroline": false
        },
        "yaxis": {
         "anchor": "x",
         "domain": [
          0,
          1
         ],
         "gridcolor": "#E5ECF6",
         "tickfont": {
          "size": 14
         },
         "title": {
          "font": {
           "size": 16
          },
          "text": "Mean Count"
         },
         "zeroline": false
        }
       }
      }
     },
     "metadata": {},
     "output_type": "display_data"
    }
   ],
   "source": [
    "# Plot Averages for the Dams\n",
    "fig = px.line()\n",
    "fig.add_scatter(\n",
    "    x=bon_avg[\"DoY\"],\n",
    "    y=bon_avg[\"ChinookAdult\"],\n",
    "    name=\"Bonneville\",\n",
    "    mode=\"lines\",\n",
    "    line=dict(color=\"#08B2E3\", width=2),\n",
    ")\n",
    "\n",
    "fig.add_scatter(\n",
    "    x=dalles_avg[\"DoY\"],\n",
    "    y=dalles_avg[\"ChinookAdult\"],\n",
    "    name=\"Dalles\",\n",
    "    mode=\"lines\",\n",
    "    line=dict(color=\"#EE6352\", width=2),\n",
    ")\n",
    "\n",
    "fig.add_scatter(\n",
    "    x=johnday_avg[\"DoY\"],\n",
    "    y=johnday_avg[\"ChinookAdult\"],\n",
    "    name=\"John Day\",\n",
    "    mode=\"lines\",\n",
    "    line=dict(color=\"#B2FFA9\", width=2),\n",
    ")\n",
    "\n",
    "fig.add_scatter(\n",
    "    x=willamette_avg[\"DoY\"],\n",
    "    y=willamette_avg[\"ChinookAdult\"],\n",
    "    name=\"Willamette\",\n",
    "    mode=\"lines\",\n",
    "    line=dict(color=\"#E5D4CE\", width=2),\n",
    ")\n",
    "\n",
    "# Update layout with correct syntax\n",
    "fig.update_layout(\n",
    "    title=dict(\n",
    "        text=\"Mean Daily Chinook Adult Count by Day of Year\",\n",
    "        font=dict(size=20, family=\"Helvetica Neue\", color=\"#333\"),\n",
    "    ),\n",
    "    plot_bgcolor=\"white\",\n",
    "    paper_bgcolor=\"white\",\n",
    "    xaxis=dict(\n",
    "        title=dict(text=\"Day of Year\", font=dict(size=16)),\n",
    "        tickfont=dict(size=14),\n",
    "        gridcolor=\"#E5ECF6\",\n",
    "        zeroline=False,\n",
    "    ),\n",
    "    yaxis=dict(\n",
    "        title=dict(text=\"Mean Count\", font=dict(size=16)),\n",
    "        tickfont=dict(size=14),\n",
    "        gridcolor=\"#E5ECF6\",\n",
    "        zeroline=False,\n",
    "    ),\n",
    "    legend=dict(title=\"Dam Location\", font=dict(size=14)),\n",
    "    font=dict(family=\"Helvetica Neue\", size=14, color=\"#333\"),\n",
    "    margin=dict(l=60, r=40, t=60, b=60),\n",
    ")\n",
    "import calendar\n",
    "\n",
    "# Get the first DoY of each month (non-leap year assumed)\n",
    "month_start_days = [1]\n",
    "for month in range(2, 13):\n",
    "    month_start_days.append(\n",
    "        sum(calendar.monthrange(2024, m)[1] for m in range(1, month)) + 1\n",
    "    )\n",
    "\n",
    "# Add monthly divider lines\n",
    "for doy in month_start_days:\n",
    "    fig.add_vline(x=doy, line=dict(color=\"#999\", width=1, dash=\"dash\"), layer=\"below\")\n",
    "\n",
    "for i, doy in enumerate(month_start_days):\n",
    "    fig.add_annotation(\n",
    "        x=doy + 15,  # push label into the month a bit\n",
    "        y=0,\n",
    "        yanchor=\"bottom\",\n",
    "        text=calendar.month_abbr[i + 1],\n",
    "        showarrow=False,\n",
    "        font=dict(size=12, color=\"#666\"),\n",
    "        xanchor=\"center\",\n",
    "        xref=\"x\",\n",
    "        yref=\"paper\",\n",
    "    )\n",
    "\n",
    "fig.show()"
   ]
  },
  {
   "cell_type": "code",
   "execution_count": 4,
   "id": "9b4453b3",
   "metadata": {},
   "outputs": [],
   "source": [
    "# Hypothesis - Orca Sightings Peak in October + April\n",
    "\n",
    "# April is 100 day of the year\n",
    "# October is 283 day of the year"
   ]
  },
  {
   "cell_type": "code",
   "execution_count": 5,
   "id": "bb9f1e3b",
   "metadata": {},
   "outputs": [],
   "source": [
    "buoy10_raw = build_buoy10_df(\n",
    "    [2014, 2015, 2016, 2017, 2018, 2019, 2020, 2021, 2022, 2023, 2024, 2025]\n",
    ")\n",
    "\n",
    "buoy10_raw[\"DATE\"] = pd.to_datetime(buoy10_raw[\"Date_clean\"], format=\"mixed\")\n",
    "buoy10_raw[\"DoY\"] = buoy10_raw[\"DATE\"].dt.day_of_year"
   ]
  },
  {
   "cell_type": "code",
   "execution_count": 6,
   "id": "49076580",
   "metadata": {},
   "outputs": [],
   "source": [
    "buoy10 = buoy10_raw.copy()\n",
    "\n",
    "buoy10[\"Chinook Kept\"] = buoy10[\"Chinook Kept\"] / buoy10[\"Number of Boats\"]\n",
    "\n",
    "buoy10_avg = buoy10.groupby(\"DoY\", as_index=False)[\"Chinook Kept\"].mean()"
   ]
  },
  {
   "cell_type": "code",
   "execution_count": 7,
   "id": "dcc5b562",
   "metadata": {},
   "outputs": [
    {
     "data": {
      "text/html": [
       "<div>\n",
       "<style scoped>\n",
       "    .dataframe tbody tr th:only-of-type {\n",
       "        vertical-align: middle;\n",
       "    }\n",
       "\n",
       "    .dataframe tbody tr th {\n",
       "        vertical-align: top;\n",
       "    }\n",
       "\n",
       "    .dataframe thead th {\n",
       "        text-align: right;\n",
       "    }\n",
       "</style>\n",
       "<table border=\"1\" class=\"dataframe\">\n",
       "  <thead>\n",
       "    <tr style=\"text-align: right;\">\n",
       "      <th></th>\n",
       "      <th>Date</th>\n",
       "      <th>Number of Boats</th>\n",
       "      <th>Number of Anglers</th>\n",
       "      <th>Chinook Kept</th>\n",
       "      <th>Coho Kept</th>\n",
       "      <th>Comments</th>\n",
       "      <th>Year</th>\n",
       "      <th>Date_clean</th>\n",
       "      <th>Date_parsed</th>\n",
       "      <th>Comment</th>\n",
       "      <th>DATE</th>\n",
       "      <th>DoY</th>\n",
       "    </tr>\n",
       "  </thead>\n",
       "  <tbody>\n",
       "    <tr>\n",
       "      <th>0</th>\n",
       "      <td>01-Aug</td>\n",
       "      <td>43.0</td>\n",
       "      <td>107.0</td>\n",
       "      <td>0.302326</td>\n",
       "      <td>15.0</td>\n",
       "      <td>Opening Day</td>\n",
       "      <td>2014</td>\n",
       "      <td>01-Aug 2014</td>\n",
       "      <td>2014-08-01</td>\n",
       "      <td>NaN</td>\n",
       "      <td>2014-08-01</td>\n",
       "      <td>213</td>\n",
       "    </tr>\n",
       "    <tr>\n",
       "      <th>1</th>\n",
       "      <td>02-Aug</td>\n",
       "      <td>46.0</td>\n",
       "      <td>118.0</td>\n",
       "      <td>0.673913</td>\n",
       "      <td>25.0</td>\n",
       "      <td>225 boats counted during effort flight count</td>\n",
       "      <td>2014</td>\n",
       "      <td>02-Aug 2014</td>\n",
       "      <td>2014-08-02</td>\n",
       "      <td>NaN</td>\n",
       "      <td>2014-08-02</td>\n",
       "      <td>214</td>\n",
       "    </tr>\n",
       "    <tr>\n",
       "      <th>2</th>\n",
       "      <td>03-Aug</td>\n",
       "      <td>46.0</td>\n",
       "      <td>126.0</td>\n",
       "      <td>0.717391</td>\n",
       "      <td>8.0</td>\n",
       "      <td>NaN</td>\n",
       "      <td>2014</td>\n",
       "      <td>03-Aug 2014</td>\n",
       "      <td>2014-08-03</td>\n",
       "      <td>NaN</td>\n",
       "      <td>2014-08-03</td>\n",
       "      <td>215</td>\n",
       "    </tr>\n",
       "    <tr>\n",
       "      <th>3</th>\n",
       "      <td>04-Aug</td>\n",
       "      <td>53.0</td>\n",
       "      <td>138.0</td>\n",
       "      <td>0.584906</td>\n",
       "      <td>5.0</td>\n",
       "      <td>Private boats</td>\n",
       "      <td>2014</td>\n",
       "      <td>04-Aug 2014</td>\n",
       "      <td>2014-08-04</td>\n",
       "      <td>NaN</td>\n",
       "      <td>2014-08-04</td>\n",
       "      <td>216</td>\n",
       "    </tr>\n",
       "    <tr>\n",
       "      <th>4</th>\n",
       "      <td>04-Aug</td>\n",
       "      <td>1.0</td>\n",
       "      <td>5.0</td>\n",
       "      <td>0.000000</td>\n",
       "      <td>0.0</td>\n",
       "      <td>Charter</td>\n",
       "      <td>2014</td>\n",
       "      <td>04-Aug 2014</td>\n",
       "      <td>2014-08-04</td>\n",
       "      <td>NaN</td>\n",
       "      <td>2014-08-04</td>\n",
       "      <td>216</td>\n",
       "    </tr>\n",
       "    <tr>\n",
       "      <th>...</th>\n",
       "      <td>...</td>\n",
       "      <td>...</td>\n",
       "      <td>...</td>\n",
       "      <td>...</td>\n",
       "      <td>...</td>\n",
       "      <td>...</td>\n",
       "      <td>...</td>\n",
       "      <td>...</td>\n",
       "      <td>...</td>\n",
       "      <td>...</td>\n",
       "      <td>...</td>\n",
       "      <td>...</td>\n",
       "    </tr>\n",
       "    <tr>\n",
       "      <th>676</th>\n",
       "      <td>Sept. 2</td>\n",
       "      <td>NaN</td>\n",
       "      <td>NaN</td>\n",
       "      <td>NaN</td>\n",
       "      <td>NaN</td>\n",
       "      <td>NaN</td>\n",
       "      <td>2025</td>\n",
       "      <td>Sept 2 2025</td>\n",
       "      <td>NaT</td>\n",
       "      <td>NaN</td>\n",
       "      <td>2025-09-02</td>\n",
       "      <td>245</td>\n",
       "    </tr>\n",
       "    <tr>\n",
       "      <th>677</th>\n",
       "      <td>Sept. 3</td>\n",
       "      <td>NaN</td>\n",
       "      <td>NaN</td>\n",
       "      <td>NaN</td>\n",
       "      <td>NaN</td>\n",
       "      <td>NaN</td>\n",
       "      <td>2025</td>\n",
       "      <td>Sept 3 2025</td>\n",
       "      <td>NaT</td>\n",
       "      <td>NaN</td>\n",
       "      <td>2025-09-03</td>\n",
       "      <td>246</td>\n",
       "    </tr>\n",
       "    <tr>\n",
       "      <th>678</th>\n",
       "      <td>Sept. 4</td>\n",
       "      <td>NaN</td>\n",
       "      <td>NaN</td>\n",
       "      <td>NaN</td>\n",
       "      <td>NaN</td>\n",
       "      <td>NaN</td>\n",
       "      <td>2025</td>\n",
       "      <td>Sept 4 2025</td>\n",
       "      <td>NaT</td>\n",
       "      <td>NaN</td>\n",
       "      <td>2025-09-04</td>\n",
       "      <td>247</td>\n",
       "    </tr>\n",
       "    <tr>\n",
       "      <th>679</th>\n",
       "      <td>Sept. 5</td>\n",
       "      <td>NaN</td>\n",
       "      <td>NaN</td>\n",
       "      <td>NaN</td>\n",
       "      <td>NaN</td>\n",
       "      <td>NaN</td>\n",
       "      <td>2025</td>\n",
       "      <td>Sept 5 2025</td>\n",
       "      <td>NaT</td>\n",
       "      <td>NaN</td>\n",
       "      <td>2025-09-05</td>\n",
       "      <td>248</td>\n",
       "    </tr>\n",
       "    <tr>\n",
       "      <th>680</th>\n",
       "      <td>Sept. 6</td>\n",
       "      <td>NaN</td>\n",
       "      <td>NaN</td>\n",
       "      <td>NaN</td>\n",
       "      <td>NaN</td>\n",
       "      <td>NaN</td>\n",
       "      <td>2025</td>\n",
       "      <td>Sept 6 2025</td>\n",
       "      <td>NaT</td>\n",
       "      <td>NaN</td>\n",
       "      <td>2025-09-06</td>\n",
       "      <td>249</td>\n",
       "    </tr>\n",
       "  </tbody>\n",
       "</table>\n",
       "<p>681 rows × 12 columns</p>\n",
       "</div>"
      ],
      "text/plain": [
       "        Date  Number of Boats Number of Anglers  Chinook Kept Coho Kept  \\\n",
       "0     01-Aug             43.0             107.0      0.302326      15.0   \n",
       "1     02-Aug             46.0             118.0      0.673913      25.0   \n",
       "2     03-Aug             46.0             126.0      0.717391       8.0   \n",
       "3     04-Aug             53.0             138.0      0.584906       5.0   \n",
       "4     04-Aug              1.0               5.0      0.000000       0.0   \n",
       "..       ...              ...               ...           ...       ...   \n",
       "676  Sept. 2              NaN               NaN           NaN       NaN   \n",
       "677  Sept. 3              NaN               NaN           NaN       NaN   \n",
       "678  Sept. 4              NaN               NaN           NaN       NaN   \n",
       "679  Sept. 5              NaN               NaN           NaN       NaN   \n",
       "680  Sept. 6              NaN               NaN           NaN       NaN   \n",
       "\n",
       "                                         Comments  Year   Date_clean  \\\n",
       "0                                     Opening Day  2014  01-Aug 2014   \n",
       "1    225 boats counted during effort flight count  2014  02-Aug 2014   \n",
       "2                                             NaN  2014  03-Aug 2014   \n",
       "3                                   Private boats  2014  04-Aug 2014   \n",
       "4                                         Charter  2014  04-Aug 2014   \n",
       "..                                            ...   ...          ...   \n",
       "676                                           NaN  2025  Sept 2 2025   \n",
       "677                                           NaN  2025  Sept 3 2025   \n",
       "678                                           NaN  2025  Sept 4 2025   \n",
       "679                                           NaN  2025  Sept 5 2025   \n",
       "680                                           NaN  2025  Sept 6 2025   \n",
       "\n",
       "    Date_parsed Comment       DATE  DoY  \n",
       "0    2014-08-01     NaN 2014-08-01  213  \n",
       "1    2014-08-02     NaN 2014-08-02  214  \n",
       "2    2014-08-03     NaN 2014-08-03  215  \n",
       "3    2014-08-04     NaN 2014-08-04  216  \n",
       "4    2014-08-04     NaN 2014-08-04  216  \n",
       "..          ...     ...        ...  ...  \n",
       "676         NaT     NaN 2025-09-02  245  \n",
       "677         NaT     NaN 2025-09-03  246  \n",
       "678         NaT     NaN 2025-09-04  247  \n",
       "679         NaT     NaN 2025-09-05  248  \n",
       "680         NaT     NaN 2025-09-06  249  \n",
       "\n",
       "[681 rows x 12 columns]"
      ]
     },
     "execution_count": 7,
     "metadata": {},
     "output_type": "execute_result"
    }
   ],
   "source": [
    "buoy10"
   ]
  },
  {
   "cell_type": "code",
   "execution_count": 8,
   "id": "386ce26f",
   "metadata": {},
   "outputs": [],
   "source": [
    "# fig = px.line(buoy10_avg, x=\"DoY\", y=\"Chinook Kept\")\n",
    "# fig.show()"
   ]
  },
  {
   "cell_type": "code",
   "execution_count": 9,
   "id": "a972ff8a",
   "metadata": {},
   "outputs": [
    {
     "data": {
      "application/vnd.plotly.v1+json": {
       "config": {
        "plotlyServerURL": "https://plot.ly"
       },
       "data": [
        {
         "line": {
          "color": "#08B2E3",
          "width": 2
         },
         "mode": "lines",
         "name": "Bonneville",
         "type": "scatter",
         "x": {
          "bdata": "AQAAAAIAAAADAAAABAAAAAUAAAAGAAAABwAAAAgAAAAJAAAACgAAAAsAAAAMAAAADQAAAA4AAAAPAAAAEAAAABEAAAASAAAAEwAAABQAAAAVAAAAFgAAABcAAAAYAAAAGQAAABoAAAAbAAAAHAAAAB0AAAAeAAAAHwAAACAAAAAhAAAAIgAAACMAAAAkAAAAJQAAACYAAAAnAAAAKAAAACkAAAAqAAAAKwAAACwAAAAtAAAALgAAAC8AAAAwAAAAMQAAADIAAAAzAAAANAAAADUAAAA2AAAANwAAADgAAAA5AAAAOgAAADsAAAA8AAAAPQAAAD4AAAA/AAAAQAAAAEEAAABCAAAAQwAAAEQAAABFAAAARgAAAEcAAABIAAAASQAAAEoAAABLAAAATAAAAE0AAABOAAAATwAAAFAAAABRAAAAUgAAAFMAAABUAAAAVQAAAFYAAABXAAAAWAAAAFkAAABaAAAAWwAAAFwAAABdAAAAXgAAAF8AAABgAAAAYQAAAGIAAABjAAAAZAAAAGUAAABmAAAAZwAAAGgAAABpAAAAagAAAGsAAABsAAAAbQAAAG4AAABvAAAAcAAAAHEAAAByAAAAcwAAAHQAAAB1AAAAdgAAAHcAAAB4AAAAeQAAAHoAAAB7AAAAfAAAAH0AAAB+AAAAfwAAAIAAAACBAAAAggAAAIMAAACEAAAAhQAAAIYAAACHAAAAiAAAAIkAAACKAAAAiwAAAIwAAACNAAAAjgAAAI8AAACQAAAAkQAAAJIAAACTAAAAlAAAAJUAAACWAAAAlwAAAJgAAACZAAAAmgAAAJsAAACcAAAAnQAAAJ4AAACfAAAAoAAAAKEAAACiAAAAowAAAKQAAAClAAAApgAAAKcAAACoAAAAqQAAAKoAAACrAAAArAAAAK0AAACuAAAArwAAALAAAACxAAAAsgAAALMAAAC0AAAAtQAAALYAAAC3AAAAuAAAALkAAAC6AAAAuwAAALwAAAC9AAAAvgAAAL8AAADAAAAAwQAAAMIAAADDAAAAxAAAAMUAAADGAAAAxwAAAMgAAADJAAAAygAAAMsAAADMAAAAzQAAAM4AAADPAAAA0AAAANEAAADSAAAA0wAAANQAAADVAAAA1gAAANcAAADYAAAA2QAAANoAAADbAAAA3AAAAN0AAADeAAAA3wAAAOAAAADhAAAA4gAAAOMAAADkAAAA5QAAAOYAAADnAAAA6AAAAOkAAADqAAAA6wAAAOwAAADtAAAA7gAAAO8AAADwAAAA8QAAAPIAAADzAAAA9AAAAPUAAAD2AAAA9wAAAPgAAAD5AAAA+gAAAPsAAAD8AAAA/QAAAP4AAAD/AAAAAAEAAAEBAAACAQAAAwEAAAQBAAAFAQAABgEAAAcBAAAIAQAACQEAAAoBAAALAQAADAEAAA0BAAAOAQAADwEAABABAAARAQAAEgEAABMBAAAUAQAAFQEAABYBAAAXAQAAGAEAABkBAAAaAQAAGwEAABwBAAAdAQAAHgEAAB8BAAAgAQAAIQEAACIBAAAjAQAAJAEAACUBAAAmAQAAJwEAACgBAAApAQAAKgEAACsBAAAsAQAALQEAAC4BAAAvAQAAMAEAADEBAAAyAQAAMwEAADQBAAA1AQAANgEAADcBAAA4AQAAOQEAADoBAAA7AQAAPAEAAD0BAAA+AQAAPwEAAEABAABBAQAAQgEAAEMBAABEAQAARQEAAEYBAABHAQAASAEAAEkBAABKAQAASwEAAEwBAABNAQAATgEAAE8BAABQAQAAUQEAAFIBAABTAQAAVAEAAFUBAABWAQAAVwEAAFgBAABZAQAAWgEAAFsBAABcAQAAXQEAAF4BAABfAQAAYAEAAGEBAABiAQAAYwEAAGQBAABlAQAAZgEAAGcBAABoAQAAaQEAAGoBAABrAQAAbAEAAG0BAABuAQAA",
          "dtype": "i4"
         },
         "y": {
          "bdata": "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",
          "dtype": "f8"
         },
         "yaxis": "y"
        },
        {
         "line": {
          "color": "#EE6352",
          "width": 2
         },
         "mode": "lines",
         "name": "Dalles",
         "type": "scatter",
         "x": {
          "bdata": "AQAAAAIAAAADAAAABAAAAAUAAAAGAAAABwAAAAgAAAAJAAAACgAAAAsAAAAMAAAADQAAAA4AAAAPAAAAEAAAABEAAAASAAAAEwAAABQAAAAVAAAAFgAAABcAAAAYAAAAGQAAABoAAAAbAAAAHAAAAB0AAAAeAAAAHwAAACAAAAAhAAAAIgAAACMAAAAkAAAAJQAAACYAAAAnAAAAKAAAACkAAAAqAAAAKwAAACwAAAAtAAAALgAAAC8AAAAwAAAAMQAAADIAAAAzAAAANAAAADUAAAA2AAAANwAAADgAAAA5AAAAOgAAADsAAAA8AAAAPQAAAD4AAAA/AAAAQAAAAEEAAABCAAAAQwAAAEQAAABFAAAARgAAAEcAAABIAAAASQAAAEoAAABLAAAATAAAAE0AAABOAAAATwAAAFAAAABRAAAAUgAAAFMAAABUAAAAVQAAAFYAAABXAAAAWAAAAFkAAABaAAAAWwAAAFwAAABdAAAAXgAAAF8AAABgAAAAYQAAAGIAAABjAAAAZAAAAGUAAABmAAAAZwAAAGgAAABpAAAAagAAAGsAAABsAAAAbQAAAG4AAABvAAAAcAAAAHEAAAByAAAAcwAAAHQAAAB1AAAAdgAAAHcAAAB4AAAAeQAAAHoAAAB7AAAAfAAAAH0AAAB+AAAAfwAAAIAAAACBAAAAggAAAIMAAACEAAAAhQAAAIYAAACHAAAAiAAAAIkAAACKAAAAiwAAAIwAAACNAAAAjgAAAI8AAACQAAAAkQAAAJIAAACTAAAAlAAAAJUAAACWAAAAlwAAAJgAAACZAAAAmgAAAJsAAACcAAAAnQAAAJ4AAACfAAAAoAAAAKEAAACiAAAAowAAAKQAAAClAAAApgAAAKcAAACoAAAAqQAAAKoAAACrAAAArAAAAK0AAACuAAAArwAAALAAAACxAAAAsgAAALMAAAC0AAAAtQAAALYAAAC3AAAAuAAAALkAAAC6AAAAuwAAALwAAAC9AAAAvgAAAL8AAADAAAAAwQAAAMIAAADDAAAAxAAAAMUAAADGAAAAxwAAAMgAAADJAAAAygAAAMsAAADMAAAAzQAAAM4AAADPAAAA0AAAANEAAADSAAAA0wAAANQAAADVAAAA1gAAANcAAADYAAAA2QAAANoAAADbAAAA3AAAAN0AAADeAAAA3wAAAOAAAADhAAAA4gAAAOMAAADkAAAA5QAAAOYAAADnAAAA6AAAAOkAAADqAAAA6wAAAOwAAADtAAAA7gAAAO8AAADwAAAA8QAAAPIAAADzAAAA9AAAAPUAAAD2AAAA9wAAAPgAAAD5AAAA+gAAAPsAAAD8AAAA/QAAAP4AAAD/AAAAAAEAAAEBAAACAQAAAwEAAAQBAAAFAQAABgEAAAcBAAAIAQAACQEAAAoBAAALAQAADAEAAA0BAAAOAQAADwEAABABAAARAQAAEgEAABMBAAAUAQAAFQEAABYBAAAXAQAAGAEAABkBAAAaAQAAGwEAABwBAAAdAQAAHgEAAB8BAAAgAQAAIQEAACIBAAAjAQAAJAEAACUBAAAmAQAAJwEAACgBAAApAQAAKgEAACsBAAAsAQAALQEAAC4BAAAvAQAAMAEAADEBAAAyAQAAMwEAADQBAAA1AQAANgEAADcBAAA4AQAAOQEAADoBAAA7AQAAPAEAAD0BAAA+AQAAPwEAAEABAABBAQAAQgEAAEMBAABEAQAARQEAAEYBAABHAQAASAEAAEkBAABKAQAASwEAAEwBAABNAQAATgEAAE8BAABQAQAAUQEAAFIBAABTAQAAVAEAAFUBAABWAQAAVwEAAFgBAABZAQAAWgEAAFsBAABcAQAAXQEAAF4BAABfAQAAYAEAAGEBAABiAQAAYwEAAGQBAABlAQAAZgEAAGcBAABoAQAAaQEAAGoBAABrAQAAbAEAAG0BAABuAQAA",
          "dtype": "i4"
         },
         "y": {
          "bdata": "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",
          "dtype": "f8"
         },
         "yaxis": "y"
        },
        {
         "line": {
          "color": "#B2FFA9",
          "width": 2
         },
         "mode": "lines",
         "name": "John Day",
         "type": "scatter",
         "x": {
          "bdata": "AQAAAAIAAAADAAAABAAAAAUAAAAGAAAABwAAAAgAAAAJAAAACgAAAAsAAAAMAAAADQAAAA4AAAAPAAAAEAAAABEAAAASAAAAEwAAABQAAAAVAAAAFgAAABcAAAAYAAAAGQAAABoAAAAbAAAAHAAAAB0AAAAeAAAAHwAAACAAAAAhAAAAIgAAACMAAAAkAAAAJQAAACYAAAAnAAAAKAAAACkAAAAqAAAAKwAAACwAAAAtAAAALgAAAC8AAAAwAAAAMQAAADIAAAAzAAAANAAAADUAAAA2AAAANwAAADgAAAA5AAAAOgAAADsAAAA8AAAAPQAAAD4AAAA/AAAAQAAAAEEAAABCAAAAQwAAAEQAAABFAAAARgAAAEcAAABIAAAASQAAAEoAAABLAAAATAAAAE0AAABOAAAATwAAAFAAAABRAAAAUgAAAFMAAABUAAAAVQAAAFYAAABXAAAAWAAAAFkAAABaAAAAWwAAAFwAAABdAAAAXgAAAF8AAABgAAAAYQAAAGIAAABjAAAAZAAAAGUAAABmAAAAZwAAAGgAAABpAAAAagAAAGsAAABsAAAAbQAAAG4AAABvAAAAcAAAAHEAAAByAAAAcwAAAHQAAAB1AAAAdgAAAHcAAAB4AAAAeQAAAHoAAAB7AAAAfAAAAH0AAAB+AAAAfwAAAIAAAACBAAAAggAAAIMAAACEAAAAhQAAAIYAAACHAAAAiAAAAIkAAACKAAAAiwAAAIwAAACNAAAAjgAAAI8AAACQAAAAkQAAAJIAAACTAAAAlAAAAJUAAACWAAAAlwAAAJgAAACZAAAAmgAAAJsAAACcAAAAnQAAAJ4AAACfAAAAoAAAAKEAAACiAAAAowAAAKQAAAClAAAApgAAAKcAAACoAAAAqQAAAKoAAACrAAAArAAAAK0AAACuAAAArwAAALAAAACxAAAAsgAAALMAAAC0AAAAtQAAALYAAAC3AAAAuAAAALkAAAC6AAAAuwAAALwAAAC9AAAAvgAAAL8AAADAAAAAwQAAAMIAAADDAAAAxAAAAMUAAADGAAAAxwAAAMgAAADJAAAAygAAAMsAAADMAAAAzQAAAM4AAADPAAAA0AAAANEAAADSAAAA0wAAANQAAADVAAAA1gAAANcAAADYAAAA2QAAANoAAADbAAAA3AAAAN0AAADeAAAA3wAAAOAAAADhAAAA4gAAAOMAAADkAAAA5QAAAOYAAADnAAAA6AAAAOkAAADqAAAA6wAAAOwAAADtAAAA7gAAAO8AAADwAAAA8QAAAPIAAADzAAAA9AAAAPUAAAD2AAAA9wAAAPgAAAD5AAAA+gAAAPsAAAD8AAAA/QAAAP4AAAD/AAAAAAEAAAEBAAACAQAAAwEAAAQBAAAFAQAABgEAAAcBAAAIAQAACQEAAAoBAAALAQAADAEAAA0BAAAOAQAADwEAABABAAARAQAAEgEAABMBAAAUAQAAFQEAABYBAAAXAQAAGAEAABkBAAAaAQAAGwEAABwBAAAdAQAAHgEAAB8BAAAgAQAAIQEAACIBAAAjAQAAJAEAACUBAAAmAQAAJwEAACgBAAApAQAAKgEAACsBAAAsAQAALQEAAC4BAAAvAQAAMAEAADEBAAAyAQAAMwEAADQBAAA1AQAANgEAADcBAAA4AQAAOQEAADoBAAA7AQAAPAEAAD0BAAA+AQAAPwEAAEABAABBAQAAQgEAAEMBAABEAQAARQEAAEYBAABHAQAASAEAAEkBAABKAQAASwEAAEwBAABNAQAATgEAAE8BAABQAQAAUQEAAFIBAABTAQAAVAEAAFUBAABWAQAAVwEAAFgBAABZAQAAWgEAAFsBAABcAQAAXQEAAF4BAABfAQAAYAEAAGEBAABiAQAAYwEAAGQBAABlAQAAZgEAAGcBAABoAQAAaQEAAGoBAABrAQAAbAEAAG0BAABuAQAA",
          "dtype": "i4"
         },
         "y": {
          "bdata": "AAAAAAAAAAAAAAAAAAAAAAAAAAAAAAAAAAAAAAAAAAAAAAAAAAAAAAAAAAAAAAAAAAAAAAAAAAAAAAAAAAAAAAAAAAAAAAAAmpmZmZmZyT+amZmZmZnJvwAAAAAAAAAAAAAAAAAAAAAAAAAAAAAAAAAAAAAAAAAAAAAAAAAAAAAAAAAAAAAAAAAAAAAAAAAAmpmZmZmZ6T8AAAAAAAAAAAAAAAAAAAAAAAAAAAAAAAAAAAAAAAAAAAAAAAAAANA/AAAAAAAAAAAAAAAAAADQPwAAAAAAAAAAAAAAAAAAAAAAAAAAAAAAAAAAAAAAAAAAAAAAAAAAAAAAAAAAAAAAAAAAAAAAAAAAAAAAAAAAAAAAAAAAAAAAAAAAAAAAAAAAAAAAAAAAAAAAAAAAAAAAAAAAAAAAAAAAAAAAAAAAAAAAAAAAAAAAAAAAAAAAAAAAAAAAAAAAAAAAAAAAAAAAAAAAAAAAAAAAAAAAAAAAAAAAAAAAAAAAAAAAAAAAAAAAmpmZmZmZyT+amZmZmZnJPwAAAAAAAAAAAAAAAAAAAAAAAAAAAAAAAAAAAAAAAAAAAAAAAAAAAAAAAAAAAAAAAAAAAAAAAAAAAAAAAAAAAAAAAAAAAAAAAAAAAAAAAAAAAAAAAAAAAAAAAAAAAAAAAJqZmZmZmck/AAAAAAAAAACamZmZmZm5P5qZmZmZmbk/mpmZmZmZuT8AAAAAAAAAAAAAAAAAAOA/MzMzMzMz4z9yHMdxHMcJQAAAAAAAABBAZmZmZmZmFkAAAAAAAAAaQGZmZmZmZg5AmpmZmZmZGUAzMzMzMzMzQGZmZmZmZjFAAAAAAAAAMkDNzMzMzMwnQJqZmZmZmTRAmpmZmZnZQEAzMzMzMzNBQAAAAAAAgDdAZmZmZmbmMkAzMzMzMzM3QGZmZmZm5jtAAAAAAAAAN0DNzMzMzEw2QM3MzMzMbFZA4o64I+4ISUAAAAAAALBDQNu2bdu27UxAt23btm2jVkAtprOYzmJbQFpMZzGdRVhAJLiP4D5CZEAxncV0FhNnQL2G8hrK62pAZzGdxXRmckAAAAAAAGBwQEN5DeU1VHZADeU1lNegfUCrqqqqqpqAQNxHcB/BzYJA01lMZzGthUAN5TWU1zCEQGM6i+ksxohAoryG8hqSjEAor6G8hraRQDXCck8jBJBAR1juaYSnlEAJyz2NsOSSQITlnkZYzJJAsdzTCMvflUA+jbDc02yWQKgRlnsaZZZAqBGWexrflUB8GmG5p+uaQGG5pxGWDZ1AIyz3NMKYnkCNsNzTCG2fQBKWexphG6BAuacRlnvjoECfRljuabugQNQIyz2NWaFAIyz3NMIAn0AaYbmnEfabQO5phOWeGJxAAAAAAADonEC5pxGWezSaQAAAAAAAUppAEpZ7GmEfmkDCck8jLCGYQFjuaYTlSJZAWO5phOWQk0As9zTCcreSQD6NsNzT7pFATyMs9zTEkEBY7mmE5XqOQJ9GWO5pmIxAPo2w3NNgi0BPIyz3NLqJQE8jLPc0WolA5p5GWO5ZiECNsNzTCFuGQI2w3NMIq4VAIyz3NMLqhUDmnkZY7qmDQPc0wnJPZ4JAwnJPIyyDgkDd0wjLPXWDQE8jLPc08oJAWO5phOV+gkDCck8jLCeEQFjuaYTlsoRAPo2w3NOAhEA1wnJPIySGQGqE5Z5GjIZAWO5phOV6iEAs9zTCcoeJQLmnEZZ7zohAjbDc0wjniEBHWO5phEWJQPc0wnJPu4tAWO5phOVOjUASlnsaYRGOQKgRlnsamY1ACcs9jbAYjUA+jbDc02iQQLHc0wjLT5BA9zTCck93kEBzTyMs9zyRQFjuaYTljJBAsdzTCMvZkECx3NMIyz+SQMs9jbDcX5FAwnJPIyx9kkAAAAAAADSSQLmnEZZ7cpJAjbDc0wipkUDCck8jLFWRQO5phOWevo9A1AjLPY08kECWexphue+OQMs9jbDci41A1AjLPY1wjUDd0wjLPYGKQOaeRljuEYhANcJyTyNMh0AaYbmnEb6HQLmnEZZ7RodAyz2NsNy7g0AJyz2NsLiBQPc0wnJP34BAYbmnEZb/gUBY7mmE5caBQMs9jbDcS31APo2w3NMgf0DLPY2w3PN/QHNPIyz33H9AlnsaYbm/fkA1wnJPI4x5QHNPIyz3JHlAjbDc0wgzeUC5pxGWe8J3QE8jLPc0WnRAjbDc0wgbdkAjLPc0wgp2QMJyTyMsp3JAqBGWexoJckBqhOWeRhhvQKgRlnsagXJA1AjLPY34cUBY7mmE5S5wQBphuacRZm5A3dMIyz1tbUC4j+A+gtttQAT3EdxH0G5A9xHcR3DfbEAfwX0E9zFvQIvpLKazOHJAtJjOYjorcEA2lNdQXiNxQPMaymso33FAMZ3FdBaTc0CvobyG8qpyQIvpLKaz+HRA3EdwH8EddUBwH8F9BGd2QJ3FdBbTKXhAprOYzmIafEDcR3AfwS2CQNNZTGcxvYFA5TWU11BuhkD8CO4juLeEQDaU11BeO4tAUV5DeQ0BkECQ4D6C+7iRQIfyGsprWJdAFtNZTGf1mEDGdBbTWZCaQDqL6SymY51AkOA+gvuMokDGdBbTWfKkQJTXUF5DIaZAOovpLKb5p0BsKK+hvEKrQCivobyGnKxAWkxnMZ3VrkAfwX0E962uQMF9BPcRerBAeQ3lNZS7skCU11BeQ0KzQIL7CO4jSLJASHAfwX2Ds0CdxXQW05azQM9iOovpjLNAxnQW01k5s0Cms5jOYqmyQMZ0FtNZsrBAFtNZTGeRr0BVVVVVVXGuQOE+gvsI/KtAH8F9BPdDqECvobyG8pSlQCivobyGuqRAvYbyGsrZpECms5jOYsiiQCS4j+A+HKFAprOYzmKenEBsKK+hvDaYQDGdxXQWj5hAVVVVVVUpl0DlNZTXULKUQPMaymso75JAeQ3lNZTbkEDcR3AfwU2OQIL7CO4jiIxAKK+hvIZ6i0CU11BeQ0mHQGcxncV0FoZASHAfwX2kg0B5DeU1lLeEQJ3FdBbTmYJA3EdwH8H9gUAxncV0FoN/QFFeQ3kNBXtAG8prKK8xd0C0mM5iOtt0QHAfwX0Ex3NAprOYzmK6cEBsKK+hvJZwQCS4j+A+Qm9AuI/gPoIbb0AlSZIkSeZqQO0b1r5hjWpA0V5Cewm9ZkCu7HNITZBmQOQ4juM4DmRAhfYS2ksIY0B7Ce0ltIdhQO0ltJfQvl5Ax3Ecx3F8XkCPwvUoXE9XQMVO7MRO7FNAJ3ZiJ3biU0B2Yid2YidUQIqd2ImdWFNAntiJndgJVkBP7MRO7EROQJ7YiZ3YCUxA2Ymd2ImdQ0CKndiJnVhCQAAAAAAAoEFA0UUXXXTRQkDpoosuuuhBQM3MzMzMTERAmpmZmZmZO0CamZmZmZk5QGZmZmZmZjpAAAAAAACAOkBmZmZmZuYzQGZmZmZmZixAjuM4juM4NECrqqqqqqosQFVVVVVVVSVAchzHcRzHJUBVVVVVVVUdQAAAAAAAACRAmpmZmZmZJECamZmZmZkXQGZmZmZmZhBAzczMzMzMBEAcx3Ecx3EUQOQ4juM4jhdAOY7jOI7jEEAAAAAAAAAAQAAAAAAAgBhASZIkSZIkEUAAAAAAAAA8QKuqqqqqqhJAVVVVVVVV5T+rqqqqqqryPwAAAAAAAOA/AAAAAAAAAEAAAAAAAADwP1VVVVVVVdU/q6qqqqqq8j8AAAAAAADwP1VVVVVVVeU/VVVVVVVVxb8AAAAAAADgP1VVVVVVVcU/AAAAAAAA4D8AAAAAAADgP1VVVVVVVdU/AAAAAAAAAAAAAAAAAAAAAFVVVVVVVcU/VVVVVVVVxT8AAAAAAAAAAFVVVVVVVcU/AAAAAAAAAAAAAAAAAAAAAAAAAAAAAAAA",
          "dtype": "f8"
         },
         "yaxis": "y"
        },
        {
         "line": {
          "color": "#4B244A",
          "width": 2
         },
         "mode": "lines",
         "name": "Willamette",
         "type": "scatter",
         "x": {
          "bdata": "AQAAAAIAAAADAAAABAAAAAUAAAAGAAAABwAAAAgAAAAJAAAACgAAAAsAAAAMAAAADQAAAA4AAAAPAAAAEAAAABEAAAASAAAAEwAAABQAAAAVAAAAFgAAABcAAAAYAAAAGQAAABoAAAAbAAAAHAAAAB0AAAAeAAAAHwAAACAAAAAhAAAAIgAAACMAAAAkAAAAJQAAACYAAAAnAAAAKAAAACkAAAAqAAAAKwAAACwAAAAtAAAALgAAAC8AAAAwAAAAMQAAADIAAAAzAAAANAAAADUAAAA2AAAANwAAADgAAAA5AAAAOgAAADsAAAA8AAAAPQAAAD4AAAA/AAAAQAAAAEEAAABCAAAAQwAAAEQAAABFAAAARgAAAEcAAABIAAAASQAAAEoAAABLAAAATAAAAE0AAABOAAAATwAAAFAAAABRAAAAUgAAAFMAAABUAAAAVQAAAFYAAABXAAAAWAAAAFkAAABaAAAAWwAAAFwAAABdAAAAXgAAAF8AAABgAAAAYQAAAGIAAABjAAAAZAAAAGUAAABmAAAAZwAAAGgAAABpAAAAagAAAGsAAABsAAAAbQAAAG4AAABvAAAAcAAAAHEAAAByAAAAcwAAAHQAAAB1AAAAdgAAAHcAAAB4AAAAeQAAAHoAAAB7AAAAfAAAAH0AAAB+AAAAfwAAAIAAAACBAAAAggAAAIMAAACEAAAAhQAAAIYAAACHAAAAiAAAAIkAAACKAAAAiwAAAIwAAACNAAAAjgAAAI8AAACQAAAAkQAAAJIAAACTAAAAlAAAAJUAAACWAAAAlwAAAJgAAACZAAAAmgAAAJsAAACcAAAAnQAAAJ4AAACfAAAAoAAAAKEAAACiAAAAowAAAKQAAAClAAAApgAAAKcAAACoAAAAqQAAAKoAAACrAAAArAAAAK0AAACuAAAArwAAALAAAACxAAAAsgAAALMAAAC0AAAAtQAAALYAAAC3AAAAuAAAALkAAAC6AAAAuwAAALwAAAC9AAAAvgAAAL8AAADAAAAAwQAAAMIAAADDAAAAxAAAAMUAAADGAAAAxwAAAMgAAADJAAAAygAAAMsAAADMAAAAzQAAAM4AAADPAAAA0AAAANEAAADSAAAA0wAAANQAAADVAAAA1gAAANcAAADYAAAA2QAAANoAAADbAAAA3AAAAN0AAADeAAAA3wAAAOAAAADhAAAA4gAAAOMAAADkAAAA5QAAAOYAAADnAAAA6AAAAOkAAADqAAAA6wAAAOwAAADtAAAA7gAAAO8AAADwAAAA8QAAAPIAAADzAAAA9AAAAPUAAAD2AAAA9wAAAPgAAAD5AAAA+gAAAPsAAAD8AAAA/QAAAP4AAAD/AAAAAAEAAAEBAAACAQAAAwEAAAQBAAAFAQAABgEAAAcBAAAIAQAACQEAAAoBAAALAQAADAEAAA0BAAAOAQAADwEAABABAAARAQAAEgEAABMBAAAUAQAAFQEAABYBAAAXAQAAGAEAABkBAAAaAQAAGwEAABwBAAAdAQAAHgEAAB8BAAAgAQAAIQEAACIBAAAjAQAAJAEAACUBAAAmAQAAJwEAACgBAAApAQAAKgEAACsBAAAsAQAALQEAAC4BAAAvAQAAMAEAADEBAAAyAQAAMwEAADQBAAA1AQAANgEAADcBAAA4AQAAOQEAADoBAAA7AQAAPAEAAD0BAAA+AQAAPwEAAEABAABBAQAAQgEAAEMBAABEAQAARQEAAEYBAABHAQAASAEAAEkBAABKAQAASwEAAEwBAABNAQAATgEAAE8BAABQAQAAUQEAAFIBAABTAQAAVAEAAFUBAABWAQAAVwEAAFgBAABZAQAAWgEAAFsBAABcAQAAXQEAAF4BAABfAQAAYAEAAGEBAABiAQAAYwEAAGQBAABlAQAAZgEAAGcBAABoAQAAaQEAAGoBAABrAQAAbAEAAG0BAABuAQAA",
          "dtype": "i4"
         },
         "y": {
          "bdata": "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",
          "dtype": "f8"
         },
         "yaxis": "y"
        },
        {
         "line": {
          "color": "#C155D3",
          "dash": "dot",
          "width": 2
         },
         "mode": "lines",
         "name": "Buoy 10 Chinook Kept",
         "type": "scatter",
         "x": {
          "bdata": "1AAAANUAAADWAAAA1wAAANgAAADZAAAA2gAAANsAAADcAAAA3QAAAN4AAADfAAAA4AAAAOEAAADiAAAA4wAAAOQAAADlAAAA5gAAAOcAAADoAAAA6QAAAOoAAADrAAAA7AAAAO0AAADuAAAA7wAAAPAAAADxAAAA8gAAAPMAAAD0AAAA9QAAAPYAAAD3AAAA+AAAAPkAAAD6AAAA+wAAAPwAAAD9AAAA/gAAAP8AAAAAAQAAAQEAAAIBAAADAQAABAEAAAUBAAAGAQAABwEAAAgBAAAJAQAACgEAAAsBAAAMAQAADQEAAA4BAAAPAQAAEAEAABEBAAASAQAAEwEAABQBAAAVAQAAFgEAABcBAAAYAQAAGQEAABoBAAA=",
          "dtype": "i4"
         },
         "y": {
          "bdata": "AAAAAAAA+H+DFuNzqIjJP1X5S1gewc0/TteP5zXy2z8QV7XEDuLPPzvD+h38iNM/813evhn54D/ERTleYvLYP0uJrL3a19w/9r8IrX4U2D+uzaJ3QlHePy1ylXs2p9U/iMwh8bD94D8j1bSTN6/gP4wTx8a1euU/GE5WiNFZ5T8TROL4Bt3lP6tyF0zIx+I/bFSiY56U6T8PsejZKOvnPy+ZitJbU+U/+t1sPPCo4j9cHOrrDhDjPyV5B77F0Os/OlqJuzt04D+Sbw5U1OzlP+aeNYmbvOM/Jggpf6xE6z9rXA94t7veP/T9ITYU1OI/RsdbeY4e4j+DuHnyHRnSP6sfCTu6acc/IUNlh6nL1T/4bDfZK6nHP1uGFI2+M8A/kst/SL99nT+amZmZmZmpP57neZ7nea4/ERERERERwT8DnTbQaQPNP2AaA6YxYMo/hLsrDM1Ooj97FK5H4XqUPwAAAAAAAAAAAAAAAAAAAABVVVVVVVWVPwAAAAAAAAAAGIZhGIZhiD8d1EEd1EGdPwAAAAAAAAAAVVVVVVVVlT8AAAAAAAAAAAAAAAAAAAAAAAAAAAAAAAAAAAAAAAAAAAAAAAAAAAAAAAAAAAAAAAAAAAAAAAAAAAAAAAAAAAAAAAAAAAAAAAAAAAAAAAAAAJqZmZmZmak/AAAAAAAAAAAAAAAAAAD4fwAAAAAAAPh/AAAAAAAAAAAAAAAAAAAAAAAAAAAAAAAAAAAAAAAAAAAAAAAAAAAAAA==",
          "dtype": "f8"
         },
         "yaxis": "y2"
        }
       ],
       "layout": {
        "annotations": [
         {
          "font": {
           "color": "#666",
           "size": 12
          },
          "showarrow": false,
          "text": "Jan",
          "x": 16,
          "xanchor": "center",
          "xref": "x",
          "y": 0,
          "yanchor": "bottom",
          "yref": "paper"
         },
         {
          "font": {
           "color": "#666",
           "size": 12
          },
          "showarrow": false,
          "text": "Feb",
          "x": 47,
          "xanchor": "center",
          "xref": "x",
          "y": 0,
          "yanchor": "bottom",
          "yref": "paper"
         },
         {
          "font": {
           "color": "#666",
           "size": 12
          },
          "showarrow": false,
          "text": "Mar",
          "x": 76,
          "xanchor": "center",
          "xref": "x",
          "y": 0,
          "yanchor": "bottom",
          "yref": "paper"
         },
         {
          "font": {
           "color": "#666",
           "size": 12
          },
          "showarrow": false,
          "text": "Apr",
          "x": 107,
          "xanchor": "center",
          "xref": "x",
          "y": 0,
          "yanchor": "bottom",
          "yref": "paper"
         },
         {
          "font": {
           "color": "#666",
           "size": 12
          },
          "showarrow": false,
          "text": "May",
          "x": 137,
          "xanchor": "center",
          "xref": "x",
          "y": 0,
          "yanchor": "bottom",
          "yref": "paper"
         },
         {
          "font": {
           "color": "#666",
           "size": 12
          },
          "showarrow": false,
          "text": "Jun",
          "x": 168,
          "xanchor": "center",
          "xref": "x",
          "y": 0,
          "yanchor": "bottom",
          "yref": "paper"
         },
         {
          "font": {
           "color": "#666",
           "size": 12
          },
          "showarrow": false,
          "text": "Jul",
          "x": 198,
          "xanchor": "center",
          "xref": "x",
          "y": 0,
          "yanchor": "bottom",
          "yref": "paper"
         },
         {
          "font": {
           "color": "#666",
           "size": 12
          },
          "showarrow": false,
          "text": "Aug",
          "x": 229,
          "xanchor": "center",
          "xref": "x",
          "y": 0,
          "yanchor": "bottom",
          "yref": "paper"
         },
         {
          "font": {
           "color": "#666",
           "size": 12
          },
          "showarrow": false,
          "text": "Sep",
          "x": 260,
          "xanchor": "center",
          "xref": "x",
          "y": 0,
          "yanchor": "bottom",
          "yref": "paper"
         },
         {
          "font": {
           "color": "#666",
           "size": 12
          },
          "showarrow": false,
          "text": "Oct",
          "x": 290,
          "xanchor": "center",
          "xref": "x",
          "y": 0,
          "yanchor": "bottom",
          "yref": "paper"
         },
         {
          "font": {
           "color": "#666",
           "size": 12
          },
          "showarrow": false,
          "text": "Nov",
          "x": 321,
          "xanchor": "center",
          "xref": "x",
          "y": 0,
          "yanchor": "bottom",
          "yref": "paper"
         },
         {
          "font": {
           "color": "#666",
           "size": 12
          },
          "showarrow": false,
          "text": "Dec",
          "x": 351,
          "xanchor": "center",
          "xref": "x",
          "y": 0,
          "yanchor": "bottom",
          "yref": "paper"
         }
        ],
        "font": {
         "color": "#333",
         "family": "Helvetica Neue",
         "size": 14
        },
        "legend": {
         "font": {
          "size": 14
         },
         "title": {
          "text": "Location"
         }
        },
        "margin": {
         "b": 60,
         "l": 60,
         "r": 60,
         "t": 60
        },
        "paper_bgcolor": "white",
        "plot_bgcolor": "white",
        "shapes": [
         {
          "layer": "below",
          "line": {
           "color": "#999",
           "dash": "dash",
           "width": 1
          },
          "type": "line",
          "x0": 1,
          "x1": 1,
          "xref": "x",
          "y0": 0,
          "y1": 1,
          "yref": "y domain"
         },
         {
          "layer": "below",
          "line": {
           "color": "#999",
           "dash": "dash",
           "width": 1
          },
          "type": "line",
          "x0": 32,
          "x1": 32,
          "xref": "x",
          "y0": 0,
          "y1": 1,
          "yref": "y domain"
         },
         {
          "layer": "below",
          "line": {
           "color": "#999",
           "dash": "dash",
           "width": 1
          },
          "type": "line",
          "x0": 61,
          "x1": 61,
          "xref": "x",
          "y0": 0,
          "y1": 1,
          "yref": "y domain"
         },
         {
          "layer": "below",
          "line": {
           "color": "#999",
           "dash": "dash",
           "width": 1
          },
          "type": "line",
          "x0": 92,
          "x1": 92,
          "xref": "x",
          "y0": 0,
          "y1": 1,
          "yref": "y domain"
         },
         {
          "layer": "below",
          "line": {
           "color": "#999",
           "dash": "dash",
           "width": 1
          },
          "type": "line",
          "x0": 122,
          "x1": 122,
          "xref": "x",
          "y0": 0,
          "y1": 1,
          "yref": "y domain"
         },
         {
          "layer": "below",
          "line": {
           "color": "#999",
           "dash": "dash",
           "width": 1
          },
          "type": "line",
          "x0": 153,
          "x1": 153,
          "xref": "x",
          "y0": 0,
          "y1": 1,
          "yref": "y domain"
         },
         {
          "layer": "below",
          "line": {
           "color": "#999",
           "dash": "dash",
           "width": 1
          },
          "type": "line",
          "x0": 183,
          "x1": 183,
          "xref": "x",
          "y0": 0,
          "y1": 1,
          "yref": "y domain"
         },
         {
          "layer": "below",
          "line": {
           "color": "#999",
           "dash": "dash",
           "width": 1
          },
          "type": "line",
          "x0": 214,
          "x1": 214,
          "xref": "x",
          "y0": 0,
          "y1": 1,
          "yref": "y domain"
         },
         {
          "layer": "below",
          "line": {
           "color": "#999",
           "dash": "dash",
           "width": 1
          },
          "type": "line",
          "x0": 245,
          "x1": 245,
          "xref": "x",
          "y0": 0,
          "y1": 1,
          "yref": "y domain"
         },
         {
          "layer": "below",
          "line": {
           "color": "#999",
           "dash": "dash",
           "width": 1
          },
          "type": "line",
          "x0": 275,
          "x1": 275,
          "xref": "x",
          "y0": 0,
          "y1": 1,
          "yref": "y domain"
         },
         {
          "layer": "below",
          "line": {
           "color": "#999",
           "dash": "dash",
           "width": 1
          },
          "type": "line",
          "x0": 306,
          "x1": 306,
          "xref": "x",
          "y0": 0,
          "y1": 1,
          "yref": "y domain"
         },
         {
          "layer": "below",
          "line": {
           "color": "#999",
           "dash": "dash",
           "width": 1
          },
          "type": "line",
          "x0": 336,
          "x1": 336,
          "xref": "x",
          "y0": 0,
          "y1": 1,
          "yref": "y domain"
         }
        ],
        "template": {
         "data": {
          "bar": [
           {
            "error_x": {
             "color": "#2a3f5f"
            },
            "error_y": {
             "color": "#2a3f5f"
            },
            "marker": {
             "line": {
              "color": "#E5ECF6",
              "width": 0.5
             },
             "pattern": {
              "fillmode": "overlay",
              "size": 10,
              "solidity": 0.2
             }
            },
            "type": "bar"
           }
          ],
          "barpolar": [
           {
            "marker": {
             "line": {
              "color": "#E5ECF6",
              "width": 0.5
             },
             "pattern": {
              "fillmode": "overlay",
              "size": 10,
              "solidity": 0.2
             }
            },
            "type": "barpolar"
           }
          ],
          "carpet": [
           {
            "aaxis": {
             "endlinecolor": "#2a3f5f",
             "gridcolor": "white",
             "linecolor": "white",
             "minorgridcolor": "white",
             "startlinecolor": "#2a3f5f"
            },
            "baxis": {
             "endlinecolor": "#2a3f5f",
             "gridcolor": "white",
             "linecolor": "white",
             "minorgridcolor": "white",
             "startlinecolor": "#2a3f5f"
            },
            "type": "carpet"
           }
          ],
          "choropleth": [
           {
            "colorbar": {
             "outlinewidth": 0,
             "ticks": ""
            },
            "type": "choropleth"
           }
          ],
          "contour": [
           {
            "colorbar": {
             "outlinewidth": 0,
             "ticks": ""
            },
            "colorscale": [
             [
              0,
              "#0d0887"
             ],
             [
              0.1111111111111111,
              "#46039f"
             ],
             [
              0.2222222222222222,
              "#7201a8"
             ],
             [
              0.3333333333333333,
              "#9c179e"
             ],
             [
              0.4444444444444444,
              "#bd3786"
             ],
             [
              0.5555555555555556,
              "#d8576b"
             ],
             [
              0.6666666666666666,
              "#ed7953"
             ],
             [
              0.7777777777777778,
              "#fb9f3a"
             ],
             [
              0.8888888888888888,
              "#fdca26"
             ],
             [
              1,
              "#f0f921"
             ]
            ],
            "type": "contour"
           }
          ],
          "contourcarpet": [
           {
            "colorbar": {
             "outlinewidth": 0,
             "ticks": ""
            },
            "type": "contourcarpet"
           }
          ],
          "heatmap": [
           {
            "colorbar": {
             "outlinewidth": 0,
             "ticks": ""
            },
            "colorscale": [
             [
              0,
              "#0d0887"
             ],
             [
              0.1111111111111111,
              "#46039f"
             ],
             [
              0.2222222222222222,
              "#7201a8"
             ],
             [
              0.3333333333333333,
              "#9c179e"
             ],
             [
              0.4444444444444444,
              "#bd3786"
             ],
             [
              0.5555555555555556,
              "#d8576b"
             ],
             [
              0.6666666666666666,
              "#ed7953"
             ],
             [
              0.7777777777777778,
              "#fb9f3a"
             ],
             [
              0.8888888888888888,
              "#fdca26"
             ],
             [
              1,
              "#f0f921"
             ]
            ],
            "type": "heatmap"
           }
          ],
          "histogram": [
           {
            "marker": {
             "pattern": {
              "fillmode": "overlay",
              "size": 10,
              "solidity": 0.2
             }
            },
            "type": "histogram"
           }
          ],
          "histogram2d": [
           {
            "colorbar": {
             "outlinewidth": 0,
             "ticks": ""
            },
            "colorscale": [
             [
              0,
              "#0d0887"
             ],
             [
              0.1111111111111111,
              "#46039f"
             ],
             [
              0.2222222222222222,
              "#7201a8"
             ],
             [
              0.3333333333333333,
              "#9c179e"
             ],
             [
              0.4444444444444444,
              "#bd3786"
             ],
             [
              0.5555555555555556,
              "#d8576b"
             ],
             [
              0.6666666666666666,
              "#ed7953"
             ],
             [
              0.7777777777777778,
              "#fb9f3a"
             ],
             [
              0.8888888888888888,
              "#fdca26"
             ],
             [
              1,
              "#f0f921"
             ]
            ],
            "type": "histogram2d"
           }
          ],
          "histogram2dcontour": [
           {
            "colorbar": {
             "outlinewidth": 0,
             "ticks": ""
            },
            "colorscale": [
             [
              0,
              "#0d0887"
             ],
             [
              0.1111111111111111,
              "#46039f"
             ],
             [
              0.2222222222222222,
              "#7201a8"
             ],
             [
              0.3333333333333333,
              "#9c179e"
             ],
             [
              0.4444444444444444,
              "#bd3786"
             ],
             [
              0.5555555555555556,
              "#d8576b"
             ],
             [
              0.6666666666666666,
              "#ed7953"
             ],
             [
              0.7777777777777778,
              "#fb9f3a"
             ],
             [
              0.8888888888888888,
              "#fdca26"
             ],
             [
              1,
              "#f0f921"
             ]
            ],
            "type": "histogram2dcontour"
           }
          ],
          "mesh3d": [
           {
            "colorbar": {
             "outlinewidth": 0,
             "ticks": ""
            },
            "type": "mesh3d"
           }
          ],
          "parcoords": [
           {
            "line": {
             "colorbar": {
              "outlinewidth": 0,
              "ticks": ""
             }
            },
            "type": "parcoords"
           }
          ],
          "pie": [
           {
            "automargin": true,
            "type": "pie"
           }
          ],
          "scatter": [
           {
            "fillpattern": {
             "fillmode": "overlay",
             "size": 10,
             "solidity": 0.2
            },
            "type": "scatter"
           }
          ],
          "scatter3d": [
           {
            "line": {
             "colorbar": {
              "outlinewidth": 0,
              "ticks": ""
             }
            },
            "marker": {
             "colorbar": {
              "outlinewidth": 0,
              "ticks": ""
             }
            },
            "type": "scatter3d"
           }
          ],
          "scattercarpet": [
           {
            "marker": {
             "colorbar": {
              "outlinewidth": 0,
              "ticks": ""
             }
            },
            "type": "scattercarpet"
           }
          ],
          "scattergeo": [
           {
            "marker": {
             "colorbar": {
              "outlinewidth": 0,
              "ticks": ""
             }
            },
            "type": "scattergeo"
           }
          ],
          "scattergl": [
           {
            "marker": {
             "colorbar": {
              "outlinewidth": 0,
              "ticks": ""
             }
            },
            "type": "scattergl"
           }
          ],
          "scattermap": [
           {
            "marker": {
             "colorbar": {
              "outlinewidth": 0,
              "ticks": ""
             }
            },
            "type": "scattermap"
           }
          ],
          "scattermapbox": [
           {
            "marker": {
             "colorbar": {
              "outlinewidth": 0,
              "ticks": ""
             }
            },
            "type": "scattermapbox"
           }
          ],
          "scatterpolar": [
           {
            "marker": {
             "colorbar": {
              "outlinewidth": 0,
              "ticks": ""
             }
            },
            "type": "scatterpolar"
           }
          ],
          "scatterpolargl": [
           {
            "marker": {
             "colorbar": {
              "outlinewidth": 0,
              "ticks": ""
             }
            },
            "type": "scatterpolargl"
           }
          ],
          "scatterternary": [
           {
            "marker": {
             "colorbar": {
              "outlinewidth": 0,
              "ticks": ""
             }
            },
            "type": "scatterternary"
           }
          ],
          "surface": [
           {
            "colorbar": {
             "outlinewidth": 0,
             "ticks": ""
            },
            "colorscale": [
             [
              0,
              "#0d0887"
             ],
             [
              0.1111111111111111,
              "#46039f"
             ],
             [
              0.2222222222222222,
              "#7201a8"
             ],
             [
              0.3333333333333333,
              "#9c179e"
             ],
             [
              0.4444444444444444,
              "#bd3786"
             ],
             [
              0.5555555555555556,
              "#d8576b"
             ],
             [
              0.6666666666666666,
              "#ed7953"
             ],
             [
              0.7777777777777778,
              "#fb9f3a"
             ],
             [
              0.8888888888888888,
              "#fdca26"
             ],
             [
              1,
              "#f0f921"
             ]
            ],
            "type": "surface"
           }
          ],
          "table": [
           {
            "cells": {
             "fill": {
              "color": "#EBF0F8"
             },
             "line": {
              "color": "white"
             }
            },
            "header": {
             "fill": {
              "color": "#C8D4E3"
             },
             "line": {
              "color": "white"
             }
            },
            "type": "table"
           }
          ]
         },
         "layout": {
          "annotationdefaults": {
           "arrowcolor": "#2a3f5f",
           "arrowhead": 0,
           "arrowwidth": 1
          },
          "autotypenumbers": "strict",
          "coloraxis": {
           "colorbar": {
            "outlinewidth": 0,
            "ticks": ""
           }
          },
          "colorscale": {
           "diverging": [
            [
             0,
             "#8e0152"
            ],
            [
             0.1,
             "#c51b7d"
            ],
            [
             0.2,
             "#de77ae"
            ],
            [
             0.3,
             "#f1b6da"
            ],
            [
             0.4,
             "#fde0ef"
            ],
            [
             0.5,
             "#f7f7f7"
            ],
            [
             0.6,
             "#e6f5d0"
            ],
            [
             0.7,
             "#b8e186"
            ],
            [
             0.8,
             "#7fbc41"
            ],
            [
             0.9,
             "#4d9221"
            ],
            [
             1,
             "#276419"
            ]
           ],
           "sequential": [
            [
             0,
             "#0d0887"
            ],
            [
             0.1111111111111111,
             "#46039f"
            ],
            [
             0.2222222222222222,
             "#7201a8"
            ],
            [
             0.3333333333333333,
             "#9c179e"
            ],
            [
             0.4444444444444444,
             "#bd3786"
            ],
            [
             0.5555555555555556,
             "#d8576b"
            ],
            [
             0.6666666666666666,
             "#ed7953"
            ],
            [
             0.7777777777777778,
             "#fb9f3a"
            ],
            [
             0.8888888888888888,
             "#fdca26"
            ],
            [
             1,
             "#f0f921"
            ]
           ],
           "sequentialminus": [
            [
             0,
             "#0d0887"
            ],
            [
             0.1111111111111111,
             "#46039f"
            ],
            [
             0.2222222222222222,
             "#7201a8"
            ],
            [
             0.3333333333333333,
             "#9c179e"
            ],
            [
             0.4444444444444444,
             "#bd3786"
            ],
            [
             0.5555555555555556,
             "#d8576b"
            ],
            [
             0.6666666666666666,
             "#ed7953"
            ],
            [
             0.7777777777777778,
             "#fb9f3a"
            ],
            [
             0.8888888888888888,
             "#fdca26"
            ],
            [
             1,
             "#f0f921"
            ]
           ]
          },
          "colorway": [
           "#636efa",
           "#EF553B",
           "#00cc96",
           "#ab63fa",
           "#FFA15A",
           "#19d3f3",
           "#FF6692",
           "#B6E880",
           "#FF97FF",
           "#FECB52"
          ],
          "font": {
           "color": "#2a3f5f"
          },
          "geo": {
           "bgcolor": "white",
           "lakecolor": "white",
           "landcolor": "#E5ECF6",
           "showlakes": true,
           "showland": true,
           "subunitcolor": "white"
          },
          "hoverlabel": {
           "align": "left"
          },
          "hovermode": "closest",
          "mapbox": {
           "style": "light"
          },
          "paper_bgcolor": "white",
          "plot_bgcolor": "#E5ECF6",
          "polar": {
           "angularaxis": {
            "gridcolor": "white",
            "linecolor": "white",
            "ticks": ""
           },
           "bgcolor": "#E5ECF6",
           "radialaxis": {
            "gridcolor": "white",
            "linecolor": "white",
            "ticks": ""
           }
          },
          "scene": {
           "xaxis": {
            "backgroundcolor": "#E5ECF6",
            "gridcolor": "white",
            "gridwidth": 2,
            "linecolor": "white",
            "showbackground": true,
            "ticks": "",
            "zerolinecolor": "white"
           },
           "yaxis": {
            "backgroundcolor": "#E5ECF6",
            "gridcolor": "white",
            "gridwidth": 2,
            "linecolor": "white",
            "showbackground": true,
            "ticks": "",
            "zerolinecolor": "white"
           },
           "zaxis": {
            "backgroundcolor": "#E5ECF6",
            "gridcolor": "white",
            "gridwidth": 2,
            "linecolor": "white",
            "showbackground": true,
            "ticks": "",
            "zerolinecolor": "white"
           }
          },
          "shapedefaults": {
           "line": {
            "color": "#2a3f5f"
           }
          },
          "ternary": {
           "aaxis": {
            "gridcolor": "white",
            "linecolor": "white",
            "ticks": ""
           },
           "baxis": {
            "gridcolor": "white",
            "linecolor": "white",
            "ticks": ""
           },
           "bgcolor": "#E5ECF6",
           "caxis": {
            "gridcolor": "white",
            "linecolor": "white",
            "ticks": ""
           }
          },
          "title": {
           "x": 0.05
          },
          "xaxis": {
           "automargin": true,
           "gridcolor": "white",
           "linecolor": "white",
           "ticks": "",
           "title": {
            "standoff": 15
           },
           "zerolinecolor": "white",
           "zerolinewidth": 2
          },
          "yaxis": {
           "automargin": true,
           "gridcolor": "white",
           "linecolor": "white",
           "ticks": "",
           "title": {
            "standoff": 15
           },
           "zerolinecolor": "white",
           "zerolinewidth": 2
          }
         }
        },
        "title": {
         "font": {
          "color": "#333",
          "family": "Helvetica Neue",
          "size": 20
         },
         "text": "Mean Daily Chinook Adult Count (Dams) vs. Chinook Kept (Buoy 10)"
        },
        "xaxis": {
         "gridcolor": "#E5ECF6",
         "tickfont": {
          "size": 14
         },
         "title": {
          "font": {
           "size": 16
          },
          "text": "Day of Year"
         },
         "zeroline": false
        },
        "yaxis": {
         "gridcolor": "#E5ECF6",
         "tickfont": {
          "size": 14
         },
         "title": {
          "font": {
           "size": 16
          },
          "text": "Mean Count (Dam)"
         },
         "zeroline": false
        },
        "yaxis2": {
         "overlaying": "y",
         "showgrid": false,
         "side": "right",
         "tickfont": {
          "size": 14
         },
         "title": {
          "font": {
           "size": 16
          },
          "text": "Chinook Kept (Buoy 10)"
         }
        }
       }
      }
     },
     "metadata": {},
     "output_type": "display_data"
    }
   ],
   "source": [
    "# Base figure\n",
    "fig = go.Figure()\n",
    "\n",
    "# Primary axis: Dam counts\n",
    "fig.add_trace(\n",
    "    go.Scatter(\n",
    "        x=bon_avg[\"DoY\"],\n",
    "        y=bon_avg[\"ChinookAdult\"],\n",
    "        name=\"Bonneville\",\n",
    "        mode=\"lines\",\n",
    "        line=dict(color=\"#08B2E3\", width=2),\n",
    "        yaxis=\"y\",\n",
    "    )\n",
    ")\n",
    "\n",
    "fig.add_trace(\n",
    "    go.Scatter(\n",
    "        x=dalles_avg[\"DoY\"],\n",
    "        y=dalles_avg[\"ChinookAdult\"],\n",
    "        name=\"Dalles\",\n",
    "        mode=\"lines\",\n",
    "        line=dict(color=\"#EE6352\", width=2),\n",
    "        yaxis=\"y\",\n",
    "    )\n",
    ")\n",
    "\n",
    "fig.add_trace(\n",
    "    go.Scatter(\n",
    "        x=johnday_avg[\"DoY\"],\n",
    "        y=johnday_avg[\"ChinookAdult\"],\n",
    "        name=\"John Day\",\n",
    "        mode=\"lines\",\n",
    "        line=dict(color=\"#B2FFA9\", width=2),\n",
    "        yaxis=\"y\",\n",
    "    )\n",
    ")\n",
    "\n",
    "fig.add_trace(\n",
    "    go.Scatter(\n",
    "        x=willamette_avg[\"DoY\"],\n",
    "        y=willamette_avg[\"ChinookAdult\"],\n",
    "        name=\"Willamette\",\n",
    "        mode=\"lines\",\n",
    "        line=dict(color=\"#4B244A\", width=2),\n",
    "        yaxis=\"y\",\n",
    "    )\n",
    ")\n",
    "\n",
    "\n",
    "# Secondary axis: Buoy 10 catch data\n",
    "fig.add_trace(\n",
    "    go.Scatter(\n",
    "        x=buoy10_avg[\"DoY\"],\n",
    "        y=buoy10_avg[\"Chinook Kept\"],\n",
    "        name=\"Buoy 10 Chinook Kept\",\n",
    "        mode=\"lines\",\n",
    "        line=dict(color=\"#C155D3\", width=2, dash=\"dot\"),\n",
    "        yaxis=\"y2\",\n",
    "    )\n",
    ")\n",
    "\n",
    "# Layout\n",
    "fig.update_layout(\n",
    "    title=dict(\n",
    "        text=\"Mean Daily Chinook Adult Count (Dams) vs. Chinook Kept (Buoy 10)\",\n",
    "        font=dict(size=20, family=\"Helvetica Neue\", color=\"#333\"),\n",
    "    ),\n",
    "    plot_bgcolor=\"white\",\n",
    "    paper_bgcolor=\"white\",\n",
    "    xaxis=dict(\n",
    "        title=dict(text=\"Day of Year\", font=dict(size=16)),\n",
    "        tickfont=dict(size=14),\n",
    "        gridcolor=\"#E5ECF6\",\n",
    "        zeroline=False,\n",
    "    ),\n",
    "    yaxis=dict(\n",
    "        title=dict(text=\"Mean Count (Dam)\", font=dict(size=16)),\n",
    "        tickfont=dict(size=14),\n",
    "        gridcolor=\"#E5ECF6\",\n",
    "        zeroline=False,\n",
    "    ),\n",
    "    yaxis2=dict(\n",
    "        title=dict(text=\"Chinook Kept (Buoy 10)\", font=dict(size=16)),\n",
    "        tickfont=dict(size=14),\n",
    "        overlaying=\"y\",\n",
    "        side=\"right\",\n",
    "        showgrid=False,\n",
    "    ),\n",
    "    legend=dict(title=\"Location\", font=dict(size=14)),\n",
    "    font=dict(family=\"Helvetica Neue\", size=14, color=\"#333\"),\n",
    "    margin=dict(l=60, r=60, t=60, b=60),\n",
    ")\n",
    "\n",
    "# Month lines and labels\n",
    "month_start_days = [1]\n",
    "for month in range(2, 13):\n",
    "    month_start_days.append(\n",
    "        sum(calendar.monthrange(2024, m)[1] for m in range(1, month)) + 1\n",
    "    )\n",
    "\n",
    "for doy in month_start_days:\n",
    "    fig.add_vline(x=doy, line=dict(color=\"#999\", width=1, dash=\"dash\"), layer=\"below\")\n",
    "\n",
    "for i, doy in enumerate(month_start_days):\n",
    "    fig.add_annotation(\n",
    "        x=doy + 15,\n",
    "        y=0,\n",
    "        yanchor=\"bottom\",\n",
    "        text=calendar.month_abbr[i + 1],\n",
    "        showarrow=False,\n",
    "        font=dict(size=12, color=\"#666\"),\n",
    "        xanchor=\"center\",\n",
    "        xref=\"x\",\n",
    "        yref=\"paper\",\n",
    "    )\n",
    "\n",
    "fig.show()"
   ]
  },
  {
   "cell_type": "code",
   "execution_count": null,
   "id": "b6a3ff21",
   "metadata": {},
   "outputs": [],
   "source": []
  },
  {
   "cell_type": "code",
   "execution_count": 10,
   "id": "a375c6b4",
   "metadata": {},
   "outputs": [
    {
     "name": "stdout",
     "output_type": "stream",
     "text": [
      "                    lat       lon                   geometry\n",
      "name                                                        \n",
      "Bonneville Dam  45.6433 -121.9483  POINT (-121.9483 45.6433)\n",
      "Dalles Dam      45.6082 -121.1794  POINT (-121.1794 45.6082)\n",
      "John Day Dam    45.7175 -120.6892  POINT (-120.6892 45.7175)\n",
      "Buoy 10         46.2167 -123.9333  POINT (-123.9333 46.2167)\n"
     ]
    }
   ],
   "source": [
    "import geopandas as gpd\n",
    "from shapely.geometry import Point\n",
    "import pandas as pd\n",
    "\n",
    "# Approximate lat/lon for each site\n",
    "locations_data = {\n",
    "    \"name\": [\"Bonneville Dam\", \"Dalles Dam\", \"John Day Dam\", \"Buoy 10\"],\n",
    "    \"lat\": [45.6433, 45.6082, 45.7175, 46.2167],\n",
    "    \"lon\": [-121.9483, -121.1794, -120.6892, -123.9333],\n",
    "}\n",
    "\n",
    "# Create DataFrame\n",
    "df_locations = pd.DataFrame(locations_data)\n",
    "\n",
    "# Convert to GeoDataFrame\n",
    "gdf_locations = gpd.GeoDataFrame(\n",
    "    df_locations,\n",
    "    geometry=[Point(xy) for xy in zip(df_locations[\"lon\"], df_locations[\"lat\"])],\n",
    "    crs=\"EPSG:4326\",  # WGS84\n",
    ")\n",
    "\n",
    "# Optional: Set as lookup if you want\n",
    "locations_lookup = gdf_locations.set_index(\"name\")\n",
    "\n",
    "# Done\n",
    "print(locations_lookup)"
   ]
  },
  {
   "cell_type": "code",
   "execution_count": 11,
   "id": "f995668e",
   "metadata": {},
   "outputs": [],
   "source": [
    "# gdf_locations.explore()"
   ]
  },
  {
   "cell_type": "code",
   "execution_count": null,
   "id": "446090d2",
   "metadata": {},
   "outputs": [],
   "source": []
  },
  {
   "cell_type": "code",
   "execution_count": 12,
   "id": "dc281ccb",
   "metadata": {},
   "outputs": [
    {
     "name": "stdout",
     "output_type": "stream",
     "text": [
      "name            Bonneville Dam     Dalles Dam   John Day Dam        Buoy 10\n",
      "name                                                                       \n",
      "Bonneville Dam        0.000000   60073.800110   98421.415060  166560.037086\n",
      "Dalles Dam        60073.800110       0.000000   40084.186093  224021.781306\n",
      "John Day Dam      98421.415060   40084.186093       0.000000  257399.567898\n",
      "Buoy 10          166560.037086  224021.781306  257399.567898       0.000000\n"
     ]
    }
   ],
   "source": [
    "import geopandas as gpd\n",
    "\n",
    "# Assuming you already have your locations_lookup GeoDataFrame (in EPSG:4326)\n",
    "# Reproject to UTM zone appropriate for Washington state — usually UTM zone 10N\n",
    "gdf_utm = locations_lookup.to_crs(epsg=32610)\n",
    "\n",
    "# Create a distance matrix (in meters)\n",
    "distance_matrix = gdf_utm.geometry.apply(lambda geom1: gdf_utm.geometry.distance(geom1))\n",
    "\n",
    "print(distance_matrix)"
   ]
  },
  {
   "cell_type": "code",
   "execution_count": 13,
   "id": "5122983c",
   "metadata": {},
   "outputs": [
    {
     "name": "stdout",
     "output_type": "stream",
     "text": [
      "name            Bonneville Dam  Dalles Dam  John Day Dam  Buoy 10\n",
      "name                                                             \n",
      "Bonneville Dam            0.00       37.33         61.16   103.50\n",
      "Dalles Dam               37.33        0.00         24.91   139.20\n",
      "John Day Dam             61.16       24.91          0.00   159.94\n",
      "Buoy 10                 103.50      139.20        159.94     0.00\n"
     ]
    }
   ],
   "source": [
    "distance_miles = (distance_matrix * 0.000621371).round(2)\n",
    "print(distance_miles)"
   ]
  },
  {
   "cell_type": "code",
   "execution_count": 14,
   "id": "d8ba7119",
   "metadata": {},
   "outputs": [
    {
     "data": {
      "text/plain": [
       "(8.625, 17.25)"
      ]
     },
     "execution_count": 14,
     "metadata": {},
     "output_type": "execute_result"
    }
   ],
   "source": [
    "# How fast do chinook swim up river?\n",
    "# 2-4 miles per hour\n",
    "\n",
    "# from bonneville to dalles\n",
    "distance_miles_lu = distance_miles[\"Bonneville Dam\"].reset_index()\n",
    "distance_miles_lu[distance_miles_lu[\"name\"] == \"Dalles Dam\"]\n",
    "\n",
    "37.33 * 2 / 24, 37.33 * 4 / 24\n",
    "\n",
    "# 3 - 6 days - we would expect 3-6 day lag then\n",
    "# day 120 : 122 (2 days)\n",
    "# day 251 : 254 (3 days)\n",
    "# makes sense...though actual distance traveled will be different... not straight line\n",
    "\n",
    "# buoy10 - bonneville\n",
    "103.50 * 2 / 24, 103.50 * 4 / 24\n",
    "\n",
    "# 8 - 17 days\n",
    "# day 231 : 251 (20 days)"
   ]
  },
  {
   "cell_type": "code",
   "execution_count": 15,
   "id": "612c9f3a",
   "metadata": {},
   "outputs": [
    {
     "name": "stdout",
     "output_type": "stream",
     "text": [
      "/Users/tylerstevenson/Documents/CODE/orcasalmon/data/twm\n",
      "/Users/tylerstevenson/Documents/CODE/FindMyWhale/data/raw/sightings/acartia-export.csv\n"
     ]
    }
   ],
   "source": [
    "# What About Sightings Data\n",
    "import pandas as pd\n",
    "import geopandas as gpd\n",
    "import glob\n",
    "import h3\n",
    "from typing import Literal\n",
    "from datetime import datetime, timedelta\n",
    "import pandas as pd\n",
    "import plotly.express as px\n",
    "import geopandas as gpd\n",
    "from shapely.geometry import Point\n",
    "\n",
    "\n",
    "## Compute Sunday from Statistical Week\n",
    "def compute_sunday(row):\n",
    "    jan1 = datetime(int(row[\"catch_year\"]), 1, 1)\n",
    "    first_monday = jan1 + timedelta(days=(7 - jan1.weekday()) % 7)\n",
    "    return first_monday + timedelta(weeks=int(row[\"stat_week\"]) - 1, days=6)\n",
    "\n",
    "\n",
    "# Loan and Process Sightings\n",
    "def load_and_process_sighting_data(\n",
    "    directory: str,\n",
    "    date_col: str,\n",
    "    lat_col: str,\n",
    "    lon_col: str,\n",
    "    id_col: str,\n",
    "    h3_resolution: int,\n",
    "    start_date: str = None,\n",
    "    source: Literal[\"TMW\", \"ACARTIA\"] = \"TMW\",\n",
    ") -> pd.DataFrame:\n",
    "    \"\"\"\n",
    "    Load and process sighting data for TMW or Acartia.\n",
    "\n",
    "    Args:\n",
    "        directory (str): Path to CSV files.\n",
    "        date_col (str): Column name containing datetime string.\n",
    "        lat_col (str): Latitude column name.\n",
    "        lon_col (str): Longitude column name.\n",
    "        id_col (str): Unique identifier or countable column.\n",
    "        h3_resolution (int): H3 resolution to use.\n",
    "        start_date (str, optional): Filter records to start at this date.\n",
    "        source (str): \"TMW\" or \"ACARTIA\", for minor formatting differences.\n",
    "\n",
    "    Returns:\n",
    "        pd.DataFrame: Aggregated sightings data with full date-grid coverage.\n",
    "    \"\"\"\n",
    "    print(directory)\n",
    "    # Read & concat all CSVs\n",
    "    if \".csv\" in directory:\n",
    "        data = pd.read_csv(directory)\n",
    "    else:\n",
    "        data = pd.concat(\n",
    "            [pd.read_csv(path) for path in glob.glob(f\"{directory}/*.csv\")]\n",
    "        )\n",
    "\n",
    "    data.columns = data.columns.str.upper()\n",
    "\n",
    "    if source == \"TMW\":\n",
    "        # Filter to SRKW\n",
    "        data = data[\n",
    "            ~(\n",
    "                (data.POD.str.contains(\"t\"))\n",
    "                | (data.POD.str.contains(\"bigg\"))\n",
    "                | (data.POD.str.contains(\"orca\"))\n",
    "            )\n",
    "        ]\n",
    "\n",
    "    elif source == \"ACARTIA\":\n",
    "        data = data[\n",
    "            (data.TYPE.str.lower().str.contains(\"killer\"))\n",
    "            | (data.TYPE.str.lower().str.contains(\"orca\"))\n",
    "            | (data.TYPE.str.lower().str.contains(\"srk\"))\n",
    "        ]\n",
    "\n",
    "        data = data[\n",
    "            ~(\n",
    "                (data.DATA_SOURCE_COMMENTS.str.lower().str.contains(\"biggs\"))\n",
    "                | (data.DATA_SOURCE_COMMENTS.str.lower().str.contains(\"trans\"))\n",
    "            )\n",
    "        ]\n",
    "\n",
    "    # Parse date and geo\n",
    "    data[\"DATE\"] = data[date_col].str[:10]\n",
    "    data[\"LATITUDE\"] = pd.to_numeric(data[lat_col], errors=\"coerce\")\n",
    "    data[\"LONGITUDE\"] = pd.to_numeric(data[lon_col], errors=\"coerce\")\n",
    "    data = data.dropna(subset=[\"LATITUDE\", \"LONGITUDE\"])\n",
    "\n",
    "    # Calculate H3 grid\n",
    "    h3_col = f\"H3_GRID_{h3_resolution}\"\n",
    "    data[h3_col] = data.apply(\n",
    "        lambda x: h3.latlng_to_cell(x[\"LATITUDE\"], x[\"LONGITUDE\"], h3_resolution),\n",
    "        axis=1,\n",
    "    )\n",
    "\n",
    "    data[\"DATE\"] = pd.to_datetime(data[\"DATE\"])\n",
    "    if start_date:\n",
    "        data = data[data[\"DATE\"] >= pd.to_datetime(start_date)]\n",
    "\n",
    "    # Aggregate sightings\n",
    "    data_agg = data.groupby(\n",
    "        [\"DATE\", \"LATITUDE\", \"LONGITUDE\", h3_col], as_index=False\n",
    "    ).agg(SIGHTING_COUNT=(id_col, \"count\"))\n",
    "\n",
    "    return data_agg\n",
    "\n",
    "\n",
    "## Set H3 Resolution\n",
    "h3_resolution = 3\n",
    "\n",
    "## TMW Data Path\n",
    "tmw_directory = \"/Users/tylerstevenson/Documents/CODE/orcasalmon/data/twm\"\n",
    "\n",
    "## Acartia Data Path\n",
    "acartia_directory = \"/Users/tylerstevenson/Documents/CODE/FindMyWhale/data/raw/sightings/acartia-export.csv\"\n",
    "\n",
    "## Open TMW\n",
    "tmw_data_cleaned = load_and_process_sighting_data(\n",
    "    directory=tmw_directory,\n",
    "    date_col=\"SIGHTDATE\",\n",
    "    lat_col=\"LATITUDE\",\n",
    "    lon_col=\"LONGITUDE\",\n",
    "    id_col=\"DATE\",  # or other proxy for sightings count\n",
    "    h3_resolution=h3_resolution,\n",
    "    source=\"TMW\",\n",
    ")\n",
    "\n",
    "## Open Acartia\n",
    "acartia_data_cleaned = load_and_process_sighting_data(\n",
    "    directory=acartia_directory,\n",
    "    date_col=\"CREATED\",\n",
    "    lat_col=\"LATITUDE\",\n",
    "    lon_col=\"LONGITUDE\",\n",
    "    id_col=\"ENTRY_ID\",\n",
    "    h3_resolution=h3_resolution,\n",
    "    start_date=\"2022-01-01\",\n",
    "    source=\"ACARTIA\",\n",
    ")\n",
    "\n",
    "# Conbine Sightings Data\n",
    "sightings_data_raw = pd.concat([acartia_data_cleaned, tmw_data_cleaned])"
   ]
  },
  {
   "cell_type": "code",
   "execution_count": 16,
   "id": "57d2c350",
   "metadata": {},
   "outputs": [],
   "source": [
    "# Assuming your DataFrame is called df\n",
    "sightings_data_raw[\"DATE\"] = pd.to_datetime(sightings_data_raw[\"DATE\"])\n",
    "\n",
    "# Create geometry column from lat/lon\n",
    "sightings_data_raw[\"geometry\"] = sightings_data_raw.apply(\n",
    "    lambda row: Point(row[\"LONGITUDE\"], row[\"LATITUDE\"]), axis=1\n",
    ")\n",
    "\n",
    "# Convert to GeoDataFrame with WGS84 CRS\n",
    "sightings_gdf = gpd.GeoDataFrame(\n",
    "    sightings_data_raw, geometry=\"geometry\", crs=\"EPSG:4326\"\n",
    ")"
   ]
  },
  {
   "cell_type": "code",
   "execution_count": 17,
   "id": "2cf34fcb",
   "metadata": {},
   "outputs": [
    {
     "name": "stderr",
     "output_type": "stream",
     "text": [
      "/var/folders/p8/19qwfgfd1b1cn30h8qtz26k00000gn/T/ipykernel_1342/4160088833.py:4: UserWarning:\n",
      "\n",
      "Geometry is in a geographic CRS. Results from 'buffer' are likely incorrect. Use 'GeoSeries.to_crs()' to re-project geometries to a projected CRS before this operation.\n",
      "\n",
      "\n"
     ]
    }
   ],
   "source": [
    "degree_buffer_for_buoy10 = 0.2  # 1 degree ~ 70 miles, 0.5 degree ~ 35 miles\n",
    "\n",
    "locations_lookup_buffered = locations_lookup.copy()\n",
    "locations_lookup_buffered[\"geometry\"] = locations_lookup_buffered.buffer(\n",
    "    degree_buffer_for_buoy10\n",
    ")\n",
    "locations_lookup_buffered = locations_lookup_buffered.reset_index()\n",
    "\n",
    "sightings_gdf_near_buoy = sightings_gdf.sjoin(\n",
    "    locations_lookup_buffered[locations_lookup_buffered[\"name\"] == \"Buoy 10\"]\n",
    ")"
   ]
  },
  {
   "cell_type": "code",
   "execution_count": 18,
   "id": "00fd2d8c",
   "metadata": {},
   "outputs": [],
   "source": [
    "sightings_gdf_near_buoy[\"DoY\"] = sightings_gdf_near_buoy[\"DATE\"].dt.day_of_year\n",
    "sightings_gdf_near_buoy_sum = sightings_gdf_near_buoy.groupby(\"DoY\", as_index=False)[\n",
    "    \"SIGHTING_COUNT\"\n",
    "].sum()\n",
    "\n",
    "# Make sure your DATE column is datetime\n",
    "sightings_gdf_near_buoy[\"DATE\"] = pd.to_datetime(sightings_gdf_near_buoy[\"DATE\"])\n",
    "\n",
    "# Create a 'week_start' column (Monday as start of week)\n",
    "sightings_gdf_near_buoy[\"week_start\"] = (\n",
    "    sightings_gdf_near_buoy[\"DATE\"].dt.to_period(\"W\").apply(lambda r: r.start_time)\n",
    ")\n",
    "\n",
    "# Group by week_start and sum sightings\n",
    "weekly_sightings = (\n",
    "    sightings_gdf_near_buoy.groupby(\"week_start\")[\"SIGHTING_COUNT\"].sum().reset_index()\n",
    ")"
   ]
  },
  {
   "cell_type": "code",
   "execution_count": 19,
   "id": "3eef92b1",
   "metadata": {},
   "outputs": [],
   "source": [
    "weekly_sightings[\"DoY\"] = weekly_sightings[\"week_start\"].dt.day_of_year\n",
    "weekly_sightings = weekly_sightings.sort_values(\"DoY\").reset_index(drop=True)"
   ]
  },
  {
   "cell_type": "code",
   "execution_count": 20,
   "id": "372a2733",
   "metadata": {},
   "outputs": [],
   "source": [
    "# Step 1: Full DoY range (1–366)\n",
    "full_doy = pd.DataFrame({\"DoY\": range(1, 367)})\n",
    "\n",
    "# Step 2: Merge with existing data\n",
    "weekly_sightings = full_doy.merge(weekly_sightings, on=\"DoY\", how=\"left\")\n",
    "\n",
    "# Step 3: Fill missing SIGHTING_COUNT with 0\n",
    "weekly_sightings[\"SIGHTING_COUNT\"] = (\n",
    "    weekly_sightings[\"SIGHTING_COUNT\"].fillna(0).astype(int)\n",
    ")"
   ]
  },
  {
   "cell_type": "code",
   "execution_count": 21,
   "id": "8fd82250",
   "metadata": {},
   "outputs": [
    {
     "data": {
      "application/vnd.plotly.v1+json": {
       "config": {
        "plotlyServerURL": "https://plot.ly"
       },
       "data": [
        {
         "line": {
          "color": "#08B2E3",
          "width": 2
         },
         "mode": "lines",
         "name": "Bonneville",
         "type": "scatter",
         "x": {
          "bdata": "AQAAAAIAAAADAAAABAAAAAUAAAAGAAAABwAAAAgAAAAJAAAACgAAAAsAAAAMAAAADQAAAA4AAAAPAAAAEAAAABEAAAASAAAAEwAAABQAAAAVAAAAFgAAABcAAAAYAAAAGQAAABoAAAAbAAAAHAAAAB0AAAAeAAAAHwAAACAAAAAhAAAAIgAAACMAAAAkAAAAJQAAACYAAAAnAAAAKAAAACkAAAAqAAAAKwAAACwAAAAtAAAALgAAAC8AAAAwAAAAMQAAADIAAAAzAAAANAAAADUAAAA2AAAANwAAADgAAAA5AAAAOgAAADsAAAA8AAAAPQAAAD4AAAA/AAAAQAAAAEEAAABCAAAAQwAAAEQAAABFAAAARgAAAEcAAABIAAAASQAAAEoAAABLAAAATAAAAE0AAABOAAAATwAAAFAAAABRAAAAUgAAAFMAAABUAAAAVQAAAFYAAABXAAAAWAAAAFkAAABaAAAAWwAAAFwAAABdAAAAXgAAAF8AAABgAAAAYQAAAGIAAABjAAAAZAAAAGUAAABmAAAAZwAAAGgAAABpAAAAagAAAGsAAABsAAAAbQAAAG4AAABvAAAAcAAAAHEAAAByAAAAcwAAAHQAAAB1AAAAdgAAAHcAAAB4AAAAeQAAAHoAAAB7AAAAfAAAAH0AAAB+AAAAfwAAAIAAAACBAAAAggAAAIMAAACEAAAAhQAAAIYAAACHAAAAiAAAAIkAAACKAAAAiwAAAIwAAACNAAAAjgAAAI8AAACQAAAAkQAAAJIAAACTAAAAlAAAAJUAAACWAAAAlwAAAJgAAACZAAAAmgAAAJsAAACcAAAAnQAAAJ4AAACfAAAAoAAAAKEAAACiAAAAowAAAKQAAAClAAAApgAAAKcAAACoAAAAqQAAAKoAAACrAAAArAAAAK0AAACuAAAArwAAALAAAACxAAAAsgAAALMAAAC0AAAAtQAAALYAAAC3AAAAuAAAALkAAAC6AAAAuwAAALwAAAC9AAAAvgAAAL8AAADAAAAAwQAAAMIAAADDAAAAxAAAAMUAAADGAAAAxwAAAMgAAADJAAAAygAAAMsAAADMAAAAzQAAAM4AAADPAAAA0AAAANEAAADSAAAA0wAAANQAAADVAAAA1gAAANcAAADYAAAA2QAAANoAAADbAAAA3AAAAN0AAADeAAAA3wAAAOAAAADhAAAA4gAAAOMAAADkAAAA5QAAAOYAAADnAAAA6AAAAOkAAADqAAAA6wAAAOwAAADtAAAA7gAAAO8AAADwAAAA8QAAAPIAAADzAAAA9AAAAPUAAAD2AAAA9wAAAPgAAAD5AAAA+gAAAPsAAAD8AAAA/QAAAP4AAAD/AAAAAAEAAAEBAAACAQAAAwEAAAQBAAAFAQAABgEAAAcBAAAIAQAACQEAAAoBAAALAQAADAEAAA0BAAAOAQAADwEAABABAAARAQAAEgEAABMBAAAUAQAAFQEAABYBAAAXAQAAGAEAABkBAAAaAQAAGwEAABwBAAAdAQAAHgEAAB8BAAAgAQAAIQEAACIBAAAjAQAAJAEAACUBAAAmAQAAJwEAACgBAAApAQAAKgEAACsBAAAsAQAALQEAAC4BAAAvAQAAMAEAADEBAAAyAQAAMwEAADQBAAA1AQAANgEAADcBAAA4AQAAOQEAADoBAAA7AQAAPAEAAD0BAAA+AQAAPwEAAEABAABBAQAAQgEAAEMBAABEAQAARQEAAEYBAABHAQAASAEAAEkBAABKAQAASwEAAEwBAABNAQAATgEAAE8BAABQAQAAUQEAAFIBAABTAQAAVAEAAFUBAABWAQAAVwEAAFgBAABZAQAAWgEAAFsBAABcAQAAXQEAAF4BAABfAQAAYAEAAGEBAABiAQAAYwEAAGQBAABlAQAAZgEAAGcBAABoAQAAaQEAAGoBAABrAQAAbAEAAG0BAABuAQAA",
          "dtype": "i4"
         },
         "y": {
          "bdata": "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",
          "dtype": "f8"
         },
         "yaxis": "y"
        },
        {
         "line": {
          "color": "#EE6352",
          "width": 2
         },
         "mode": "lines",
         "name": "Dalles",
         "type": "scatter",
         "x": {
          "bdata": "AQAAAAIAAAADAAAABAAAAAUAAAAGAAAABwAAAAgAAAAJAAAACgAAAAsAAAAMAAAADQAAAA4AAAAPAAAAEAAAABEAAAASAAAAEwAAABQAAAAVAAAAFgAAABcAAAAYAAAAGQAAABoAAAAbAAAAHAAAAB0AAAAeAAAAHwAAACAAAAAhAAAAIgAAACMAAAAkAAAAJQAAACYAAAAnAAAAKAAAACkAAAAqAAAAKwAAACwAAAAtAAAALgAAAC8AAAAwAAAAMQAAADIAAAAzAAAANAAAADUAAAA2AAAANwAAADgAAAA5AAAAOgAAADsAAAA8AAAAPQAAAD4AAAA/AAAAQAAAAEEAAABCAAAAQwAAAEQAAABFAAAARgAAAEcAAABIAAAASQAAAEoAAABLAAAATAAAAE0AAABOAAAATwAAAFAAAABRAAAAUgAAAFMAAABUAAAAVQAAAFYAAABXAAAAWAAAAFkAAABaAAAAWwAAAFwAAABdAAAAXgAAAF8AAABgAAAAYQAAAGIAAABjAAAAZAAAAGUAAABmAAAAZwAAAGgAAABpAAAAagAAAGsAAABsAAAAbQAAAG4AAABvAAAAcAAAAHEAAAByAAAAcwAAAHQAAAB1AAAAdgAAAHcAAAB4AAAAeQAAAHoAAAB7AAAAfAAAAH0AAAB+AAAAfwAAAIAAAACBAAAAggAAAIMAAACEAAAAhQAAAIYAAACHAAAAiAAAAIkAAACKAAAAiwAAAIwAAACNAAAAjgAAAI8AAACQAAAAkQAAAJIAAACTAAAAlAAAAJUAAACWAAAAlwAAAJgAAACZAAAAmgAAAJsAAACcAAAAnQAAAJ4AAACfAAAAoAAAAKEAAACiAAAAowAAAKQAAAClAAAApgAAAKcAAACoAAAAqQAAAKoAAACrAAAArAAAAK0AAACuAAAArwAAALAAAACxAAAAsgAAALMAAAC0AAAAtQAAALYAAAC3AAAAuAAAALkAAAC6AAAAuwAAALwAAAC9AAAAvgAAAL8AAADAAAAAwQAAAMIAAADDAAAAxAAAAMUAAADGAAAAxwAAAMgAAADJAAAAygAAAMsAAADMAAAAzQAAAM4AAADPAAAA0AAAANEAAADSAAAA0wAAANQAAADVAAAA1gAAANcAAADYAAAA2QAAANoAAADbAAAA3AAAAN0AAADeAAAA3wAAAOAAAADhAAAA4gAAAOMAAADkAAAA5QAAAOYAAADnAAAA6AAAAOkAAADqAAAA6wAAAOwAAADtAAAA7gAAAO8AAADwAAAA8QAAAPIAAADzAAAA9AAAAPUAAAD2AAAA9wAAAPgAAAD5AAAA+gAAAPsAAAD8AAAA/QAAAP4AAAD/AAAAAAEAAAEBAAACAQAAAwEAAAQBAAAFAQAABgEAAAcBAAAIAQAACQEAAAoBAAALAQAADAEAAA0BAAAOAQAADwEAABABAAARAQAAEgEAABMBAAAUAQAAFQEAABYBAAAXAQAAGAEAABkBAAAaAQAAGwEAABwBAAAdAQAAHgEAAB8BAAAgAQAAIQEAACIBAAAjAQAAJAEAACUBAAAmAQAAJwEAACgBAAApAQAAKgEAACsBAAAsAQAALQEAAC4BAAAvAQAAMAEAADEBAAAyAQAAMwEAADQBAAA1AQAANgEAADcBAAA4AQAAOQEAADoBAAA7AQAAPAEAAD0BAAA+AQAAPwEAAEABAABBAQAAQgEAAEMBAABEAQAARQEAAEYBAABHAQAASAEAAEkBAABKAQAASwEAAEwBAABNAQAATgEAAE8BAABQAQAAUQEAAFIBAABTAQAAVAEAAFUBAABWAQAAVwEAAFgBAABZAQAAWgEAAFsBAABcAQAAXQEAAF4BAABfAQAAYAEAAGEBAABiAQAAYwEAAGQBAABlAQAAZgEAAGcBAABoAQAAaQEAAGoBAABrAQAAbAEAAG0BAABuAQAA",
          "dtype": "i4"
         },
         "y": {
          "bdata": "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",
          "dtype": "f8"
         },
         "yaxis": "y"
        },
        {
         "line": {
          "color": "#B2FFA9",
          "width": 2
         },
         "mode": "lines",
         "name": "John Day",
         "type": "scatter",
         "x": {
          "bdata": "AQAAAAIAAAADAAAABAAAAAUAAAAGAAAABwAAAAgAAAAJAAAACgAAAAsAAAAMAAAADQAAAA4AAAAPAAAAEAAAABEAAAASAAAAEwAAABQAAAAVAAAAFgAAABcAAAAYAAAAGQAAABoAAAAbAAAAHAAAAB0AAAAeAAAAHwAAACAAAAAhAAAAIgAAACMAAAAkAAAAJQAAACYAAAAnAAAAKAAAACkAAAAqAAAAKwAAACwAAAAtAAAALgAAAC8AAAAwAAAAMQAAADIAAAAzAAAANAAAADUAAAA2AAAANwAAADgAAAA5AAAAOgAAADsAAAA8AAAAPQAAAD4AAAA/AAAAQAAAAEEAAABCAAAAQwAAAEQAAABFAAAARgAAAEcAAABIAAAASQAAAEoAAABLAAAATAAAAE0AAABOAAAATwAAAFAAAABRAAAAUgAAAFMAAABUAAAAVQAAAFYAAABXAAAAWAAAAFkAAABaAAAAWwAAAFwAAABdAAAAXgAAAF8AAABgAAAAYQAAAGIAAABjAAAAZAAAAGUAAABmAAAAZwAAAGgAAABpAAAAagAAAGsAAABsAAAAbQAAAG4AAABvAAAAcAAAAHEAAAByAAAAcwAAAHQAAAB1AAAAdgAAAHcAAAB4AAAAeQAAAHoAAAB7AAAAfAAAAH0AAAB+AAAAfwAAAIAAAACBAAAAggAAAIMAAACEAAAAhQAAAIYAAACHAAAAiAAAAIkAAACKAAAAiwAAAIwAAACNAAAAjgAAAI8AAACQAAAAkQAAAJIAAACTAAAAlAAAAJUAAACWAAAAlwAAAJgAAACZAAAAmgAAAJsAAACcAAAAnQAAAJ4AAACfAAAAoAAAAKEAAACiAAAAowAAAKQAAAClAAAApgAAAKcAAACoAAAAqQAAAKoAAACrAAAArAAAAK0AAACuAAAArwAAALAAAACxAAAAsgAAALMAAAC0AAAAtQAAALYAAAC3AAAAuAAAALkAAAC6AAAAuwAAALwAAAC9AAAAvgAAAL8AAADAAAAAwQAAAMIAAADDAAAAxAAAAMUAAADGAAAAxwAAAMgAAADJAAAAygAAAMsAAADMAAAAzQAAAM4AAADPAAAA0AAAANEAAADSAAAA0wAAANQAAADVAAAA1gAAANcAAADYAAAA2QAAANoAAADbAAAA3AAAAN0AAADeAAAA3wAAAOAAAADhAAAA4gAAAOMAAADkAAAA5QAAAOYAAADnAAAA6AAAAOkAAADqAAAA6wAAAOwAAADtAAAA7gAAAO8AAADwAAAA8QAAAPIAAADzAAAA9AAAAPUAAAD2AAAA9wAAAPgAAAD5AAAA+gAAAPsAAAD8AAAA/QAAAP4AAAD/AAAAAAEAAAEBAAACAQAAAwEAAAQBAAAFAQAABgEAAAcBAAAIAQAACQEAAAoBAAALAQAADAEAAA0BAAAOAQAADwEAABABAAARAQAAEgEAABMBAAAUAQAAFQEAABYBAAAXAQAAGAEAABkBAAAaAQAAGwEAABwBAAAdAQAAHgEAAB8BAAAgAQAAIQEAACIBAAAjAQAAJAEAACUBAAAmAQAAJwEAACgBAAApAQAAKgEAACsBAAAsAQAALQEAAC4BAAAvAQAAMAEAADEBAAAyAQAAMwEAADQBAAA1AQAANgEAADcBAAA4AQAAOQEAADoBAAA7AQAAPAEAAD0BAAA+AQAAPwEAAEABAABBAQAAQgEAAEMBAABEAQAARQEAAEYBAABHAQAASAEAAEkBAABKAQAASwEAAEwBAABNAQAATgEAAE8BAABQAQAAUQEAAFIBAABTAQAAVAEAAFUBAABWAQAAVwEAAFgBAABZAQAAWgEAAFsBAABcAQAAXQEAAF4BAABfAQAAYAEAAGEBAABiAQAAYwEAAGQBAABlAQAAZgEAAGcBAABoAQAAaQEAAGoBAABrAQAAbAEAAG0BAABuAQAA",
          "dtype": "i4"
         },
         "y": {
          "bdata": "AAAAAAAAAAAAAAAAAAAAAAAAAAAAAAAAAAAAAAAAAAAAAAAAAAAAAAAAAAAAAAAAAAAAAAAAAAAAAAAAAAAAAAAAAAAAAAAAmpmZmZmZyT+amZmZmZnJvwAAAAAAAAAAAAAAAAAAAAAAAAAAAAAAAAAAAAAAAAAAAAAAAAAAAAAAAAAAAAAAAAAAAAAAAAAAmpmZmZmZ6T8AAAAAAAAAAAAAAAAAAAAAAAAAAAAAAAAAAAAAAAAAAAAAAAAAANA/AAAAAAAAAAAAAAAAAADQPwAAAAAAAAAAAAAAAAAAAAAAAAAAAAAAAAAAAAAAAAAAAAAAAAAAAAAAAAAAAAAAAAAAAAAAAAAAAAAAAAAAAAAAAAAAAAAAAAAAAAAAAAAAAAAAAAAAAAAAAAAAAAAAAAAAAAAAAAAAAAAAAAAAAAAAAAAAAAAAAAAAAAAAAAAAAAAAAAAAAAAAAAAAAAAAAAAAAAAAAAAAAAAAAAAAAAAAAAAAAAAAAAAAAAAAAAAAmpmZmZmZyT+amZmZmZnJPwAAAAAAAAAAAAAAAAAAAAAAAAAAAAAAAAAAAAAAAAAAAAAAAAAAAAAAAAAAAAAAAAAAAAAAAAAAAAAAAAAAAAAAAAAAAAAAAAAAAAAAAAAAAAAAAAAAAAAAAAAAAAAAAJqZmZmZmck/AAAAAAAAAACamZmZmZm5P5qZmZmZmbk/mpmZmZmZuT8AAAAAAAAAAAAAAAAAAOA/MzMzMzMz4z9yHMdxHMcJQAAAAAAAABBAZmZmZmZmFkAAAAAAAAAaQGZmZmZmZg5AmpmZmZmZGUAzMzMzMzMzQGZmZmZmZjFAAAAAAAAAMkDNzMzMzMwnQJqZmZmZmTRAmpmZmZnZQEAzMzMzMzNBQAAAAAAAgDdAZmZmZmbmMkAzMzMzMzM3QGZmZmZm5jtAAAAAAAAAN0DNzMzMzEw2QM3MzMzMbFZA4o64I+4ISUAAAAAAALBDQNu2bdu27UxAt23btm2jVkAtprOYzmJbQFpMZzGdRVhAJLiP4D5CZEAxncV0FhNnQL2G8hrK62pAZzGdxXRmckAAAAAAAGBwQEN5DeU1VHZADeU1lNegfUCrqqqqqpqAQNxHcB/BzYJA01lMZzGthUAN5TWU1zCEQGM6i+ksxohAoryG8hqSjEAor6G8hraRQDXCck8jBJBAR1juaYSnlEAJyz2NsOSSQITlnkZYzJJAsdzTCMvflUA+jbDc02yWQKgRlnsaZZZAqBGWexrflUB8GmG5p+uaQGG5pxGWDZ1AIyz3NMKYnkCNsNzTCG2fQBKWexphG6BAuacRlnvjoECfRljuabugQNQIyz2NWaFAIyz3NMIAn0AaYbmnEfabQO5phOWeGJxAAAAAAADonEC5pxGWezSaQAAAAAAAUppAEpZ7GmEfmkDCck8jLCGYQFjuaYTlSJZAWO5phOWQk0As9zTCcreSQD6NsNzT7pFATyMs9zTEkEBY7mmE5XqOQJ9GWO5pmIxAPo2w3NNgi0BPIyz3NLqJQE8jLPc0WolA5p5GWO5ZiECNsNzTCFuGQI2w3NMIq4VAIyz3NMLqhUDmnkZY7qmDQPc0wnJPZ4JAwnJPIyyDgkDd0wjLPXWDQE8jLPc08oJAWO5phOV+gkDCck8jLCeEQFjuaYTlsoRAPo2w3NOAhEA1wnJPIySGQGqE5Z5GjIZAWO5phOV6iEAs9zTCcoeJQLmnEZZ7zohAjbDc0wjniEBHWO5phEWJQPc0wnJPu4tAWO5phOVOjUASlnsaYRGOQKgRlnsamY1ACcs9jbAYjUA+jbDc02iQQLHc0wjLT5BA9zTCck93kEBzTyMs9zyRQFjuaYTljJBAsdzTCMvZkECx3NMIyz+SQMs9jbDcX5FAwnJPIyx9kkAAAAAAADSSQLmnEZZ7cpJAjbDc0wipkUDCck8jLFWRQO5phOWevo9A1AjLPY08kECWexphue+OQMs9jbDci41A1AjLPY1wjUDd0wjLPYGKQOaeRljuEYhANcJyTyNMh0AaYbmnEb6HQLmnEZZ7RodAyz2NsNy7g0AJyz2NsLiBQPc0wnJP34BAYbmnEZb/gUBY7mmE5caBQMs9jbDcS31APo2w3NMgf0DLPY2w3PN/QHNPIyz33H9AlnsaYbm/fkA1wnJPI4x5QHNPIyz3JHlAjbDc0wgzeUC5pxGWe8J3QE8jLPc0WnRAjbDc0wgbdkAjLPc0wgp2QMJyTyMsp3JAqBGWexoJckBqhOWeRhhvQKgRlnsagXJA1AjLPY34cUBY7mmE5S5wQBphuacRZm5A3dMIyz1tbUC4j+A+gtttQAT3EdxH0G5A9xHcR3DfbEAfwX0E9zFvQIvpLKazOHJAtJjOYjorcEA2lNdQXiNxQPMaymso33FAMZ3FdBaTc0CvobyG8qpyQIvpLKaz+HRA3EdwH8EddUBwH8F9BGd2QJ3FdBbTKXhAprOYzmIafEDcR3AfwS2CQNNZTGcxvYFA5TWU11BuhkD8CO4juLeEQDaU11BeO4tAUV5DeQ0BkECQ4D6C+7iRQIfyGsprWJdAFtNZTGf1mEDGdBbTWZCaQDqL6SymY51AkOA+gvuMokDGdBbTWfKkQJTXUF5DIaZAOovpLKb5p0BsKK+hvEKrQCivobyGnKxAWkxnMZ3VrkAfwX0E962uQMF9BPcRerBAeQ3lNZS7skCU11BeQ0KzQIL7CO4jSLJASHAfwX2Ds0CdxXQW05azQM9iOovpjLNAxnQW01k5s0Cms5jOYqmyQMZ0FtNZsrBAFtNZTGeRr0BVVVVVVXGuQOE+gvsI/KtAH8F9BPdDqECvobyG8pSlQCivobyGuqRAvYbyGsrZpECms5jOYsiiQCS4j+A+HKFAprOYzmKenEBsKK+hvDaYQDGdxXQWj5hAVVVVVVUpl0DlNZTXULKUQPMaymso75JAeQ3lNZTbkEDcR3AfwU2OQIL7CO4jiIxAKK+hvIZ6i0CU11BeQ0mHQGcxncV0FoZASHAfwX2kg0B5DeU1lLeEQJ3FdBbTmYJA3EdwH8H9gUAxncV0FoN/QFFeQ3kNBXtAG8prKK8xd0C0mM5iOtt0QHAfwX0Ex3NAprOYzmK6cEBsKK+hvJZwQCS4j+A+Qm9AuI/gPoIbb0AlSZIkSeZqQO0b1r5hjWpA0V5Cewm9ZkCu7HNITZBmQOQ4juM4DmRAhfYS2ksIY0B7Ce0ltIdhQO0ltJfQvl5Ax3Ecx3F8XkCPwvUoXE9XQMVO7MRO7FNAJ3ZiJ3biU0B2Yid2YidUQIqd2ImdWFNAntiJndgJVkBP7MRO7EROQJ7YiZ3YCUxA2Ymd2ImdQ0CKndiJnVhCQAAAAAAAoEFA0UUXXXTRQkDpoosuuuhBQM3MzMzMTERAmpmZmZmZO0CamZmZmZk5QGZmZmZmZjpAAAAAAACAOkBmZmZmZuYzQGZmZmZmZixAjuM4juM4NECrqqqqqqosQFVVVVVVVSVAchzHcRzHJUBVVVVVVVUdQAAAAAAAACRAmpmZmZmZJECamZmZmZkXQGZmZmZmZhBAzczMzMzMBEAcx3Ecx3EUQOQ4juM4jhdAOY7jOI7jEEAAAAAAAAAAQAAAAAAAgBhASZIkSZIkEUAAAAAAAAA8QKuqqqqqqhJAVVVVVVVV5T+rqqqqqqryPwAAAAAAAOA/AAAAAAAAAEAAAAAAAADwP1VVVVVVVdU/q6qqqqqq8j8AAAAAAADwP1VVVVVVVeU/VVVVVVVVxb8AAAAAAADgP1VVVVVVVcU/AAAAAAAA4D8AAAAAAADgP1VVVVVVVdU/AAAAAAAAAAAAAAAAAAAAAFVVVVVVVcU/VVVVVVVVxT8AAAAAAAAAAFVVVVVVVcU/AAAAAAAAAAAAAAAAAAAAAAAAAAAAAAAA",
          "dtype": "f8"
         },
         "yaxis": "y"
        },
        {
         "line": {
          "color": "#4B244A",
          "width": 2
         },
         "mode": "lines",
         "name": "Willamette",
         "type": "scatter",
         "x": {
          "bdata": "AQAAAAIAAAADAAAABAAAAAUAAAAGAAAABwAAAAgAAAAJAAAACgAAAAsAAAAMAAAADQAAAA4AAAAPAAAAEAAAABEAAAASAAAAEwAAABQAAAAVAAAAFgAAABcAAAAYAAAAGQAAABoAAAAbAAAAHAAAAB0AAAAeAAAAHwAAACAAAAAhAAAAIgAAACMAAAAkAAAAJQAAACYAAAAnAAAAKAAAACkAAAAqAAAAKwAAACwAAAAtAAAALgAAAC8AAAAwAAAAMQAAADIAAAAzAAAANAAAADUAAAA2AAAANwAAADgAAAA5AAAAOgAAADsAAAA8AAAAPQAAAD4AAAA/AAAAQAAAAEEAAABCAAAAQwAAAEQAAABFAAAARgAAAEcAAABIAAAASQAAAEoAAABLAAAATAAAAE0AAABOAAAATwAAAFAAAABRAAAAUgAAAFMAAABUAAAAVQAAAFYAAABXAAAAWAAAAFkAAABaAAAAWwAAAFwAAABdAAAAXgAAAF8AAABgAAAAYQAAAGIAAABjAAAAZAAAAGUAAABmAAAAZwAAAGgAAABpAAAAagAAAGsAAABsAAAAbQAAAG4AAABvAAAAcAAAAHEAAAByAAAAcwAAAHQAAAB1AAAAdgAAAHcAAAB4AAAAeQAAAHoAAAB7AAAAfAAAAH0AAAB+AAAAfwAAAIAAAACBAAAAggAAAIMAAACEAAAAhQAAAIYAAACHAAAAiAAAAIkAAACKAAAAiwAAAIwAAACNAAAAjgAAAI8AAACQAAAAkQAAAJIAAACTAAAAlAAAAJUAAACWAAAAlwAAAJgAAACZAAAAmgAAAJsAAACcAAAAnQAAAJ4AAACfAAAAoAAAAKEAAACiAAAAowAAAKQAAAClAAAApgAAAKcAAACoAAAAqQAAAKoAAACrAAAArAAAAK0AAACuAAAArwAAALAAAACxAAAAsgAAALMAAAC0AAAAtQAAALYAAAC3AAAAuAAAALkAAAC6AAAAuwAAALwAAAC9AAAAvgAAAL8AAADAAAAAwQAAAMIAAADDAAAAxAAAAMUAAADGAAAAxwAAAMgAAADJAAAAygAAAMsAAADMAAAAzQAAAM4AAADPAAAA0AAAANEAAADSAAAA0wAAANQAAADVAAAA1gAAANcAAADYAAAA2QAAANoAAADbAAAA3AAAAN0AAADeAAAA3wAAAOAAAADhAAAA4gAAAOMAAADkAAAA5QAAAOYAAADnAAAA6AAAAOkAAADqAAAA6wAAAOwAAADtAAAA7gAAAO8AAADwAAAA8QAAAPIAAADzAAAA9AAAAPUAAAD2AAAA9wAAAPgAAAD5AAAA+gAAAPsAAAD8AAAA/QAAAP4AAAD/AAAAAAEAAAEBAAACAQAAAwEAAAQBAAAFAQAABgEAAAcBAAAIAQAACQEAAAoBAAALAQAADAEAAA0BAAAOAQAADwEAABABAAARAQAAEgEAABMBAAAUAQAAFQEAABYBAAAXAQAAGAEAABkBAAAaAQAAGwEAABwBAAAdAQAAHgEAAB8BAAAgAQAAIQEAACIBAAAjAQAAJAEAACUBAAAmAQAAJwEAACgBAAApAQAAKgEAACsBAAAsAQAALQEAAC4BAAAvAQAAMAEAADEBAAAyAQAAMwEAADQBAAA1AQAANgEAADcBAAA4AQAAOQEAADoBAAA7AQAAPAEAAD0BAAA+AQAAPwEAAEABAABBAQAAQgEAAEMBAABEAQAARQEAAEYBAABHAQAASAEAAEkBAABKAQAASwEAAEwBAABNAQAATgEAAE8BAABQAQAAUQEAAFIBAABTAQAAVAEAAFUBAABWAQAAVwEAAFgBAABZAQAAWgEAAFsBAABcAQAAXQEAAF4BAABfAQAAYAEAAGEBAABiAQAAYwEAAGQBAABlAQAAZgEAAGcBAABoAQAAaQEAAGoBAABrAQAAbAEAAG0BAABuAQAA",
          "dtype": "i4"
         },
         "y": {
          "bdata": "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",
          "dtype": "f8"
         },
         "yaxis": "y"
        },
        {
         "line": {
          "color": "#C155D3",
          "dash": "dot",
          "width": 2
         },
         "mode": "lines",
         "name": "Buoy 10 Chinook Kept",
         "type": "scatter",
         "x": {
          "bdata": "1AAAANUAAADWAAAA1wAAANgAAADZAAAA2gAAANsAAADcAAAA3QAAAN4AAADfAAAA4AAAAOEAAADiAAAA4wAAAOQAAADlAAAA5gAAAOcAAADoAAAA6QAAAOoAAADrAAAA7AAAAO0AAADuAAAA7wAAAPAAAADxAAAA8gAAAPMAAAD0AAAA9QAAAPYAAAD3AAAA+AAAAPkAAAD6AAAA+wAAAPwAAAD9AAAA/gAAAP8AAAAAAQAAAQEAAAIBAAADAQAABAEAAAUBAAAGAQAABwEAAAgBAAAJAQAACgEAAAsBAAAMAQAADQEAAA4BAAAPAQAAEAEAABEBAAASAQAAEwEAABQBAAAVAQAAFgEAABcBAAAYAQAAGQEAABoBAAA=",
          "dtype": "i4"
         },
         "y": {
          "bdata": "AAAAAAAA+H+DFuNzqIjJP1X5S1gewc0/TteP5zXy2z8QV7XEDuLPPzvD+h38iNM/813evhn54D/ERTleYvLYP0uJrL3a19w/9r8IrX4U2D+uzaJ3QlHePy1ylXs2p9U/iMwh8bD94D8j1bSTN6/gP4wTx8a1euU/GE5WiNFZ5T8TROL4Bt3lP6tyF0zIx+I/bFSiY56U6T8PsejZKOvnPy+ZitJbU+U/+t1sPPCo4j9cHOrrDhDjPyV5B77F0Os/OlqJuzt04D+Sbw5U1OzlP+aeNYmbvOM/Jggpf6xE6z9rXA94t7veP/T9ITYU1OI/RsdbeY4e4j+DuHnyHRnSP6sfCTu6acc/IUNlh6nL1T/4bDfZK6nHP1uGFI2+M8A/kst/SL99nT+amZmZmZmpP57neZ7nea4/ERERERERwT8DnTbQaQPNP2AaA6YxYMo/hLsrDM1Ooj97FK5H4XqUPwAAAAAAAAAAAAAAAAAAAABVVVVVVVWVPwAAAAAAAAAAGIZhGIZhiD8d1EEd1EGdPwAAAAAAAAAAVVVVVVVVlT8AAAAAAAAAAAAAAAAAAAAAAAAAAAAAAAAAAAAAAAAAAAAAAAAAAAAAAAAAAAAAAAAAAAAAAAAAAAAAAAAAAAAAAAAAAAAAAAAAAAAAAAAAAJqZmZmZmak/AAAAAAAAAAAAAAAAAAD4fwAAAAAAAPh/AAAAAAAAAAAAAAAAAAAAAAAAAAAAAAAAAAAAAAAAAAAAAAAAAAAAAA==",
          "dtype": "f8"
         },
         "yaxis": "y2"
        },
        {
         "line": {
          "color": "#C81D25",
          "dash": "longdash",
          "width": 1
         },
         "mode": "lines",
         "name": "Orca Sightings Near Buoy-10",
         "type": "scatter",
         "x": {
          "bdata": "AQACAAMABAAFAAYABwAIAAkACgALAAwADQAOAA8AEAARABIAEwAUABUAFgAXABgAGQAaABsAHAAdAB4AHwAgACEAIgAjACQAJQAmACcAKAApACoAKwAsAC0ALgAvADAAMQAyADMANAA1ADYANwA4ADkAOgA7ADwAPQA+AD8AQABBAEIAQwBEAEUARgBHAEgASQBKAEsATABNAE4ATwBQAFEAUgBTAFQAVQBWAFcAWABZAFoAWwBcAF0AXgBfAGAAYQBiAGMAZABlAGYAZwBoAGkAagBrAGwAbQBuAG8AcABxAHIAcwB0AHUAdgB3AHgAeQB6AHsAfAB9AH4AfwCAAIEAggCDAIQAhQCGAIcAiACJAIoAiwCMAI0AjgCPAJAAkQCSAJMAlACVAJYAlwCYAJkAmgCbAJwAnQCeAJ8AoAChAKIAowCkAKUApgCnAKgAqQCqAKsArACtAK4ArwCwALEAsgCzALQAtQC2ALcAuAC5ALoAuwC8AL0AvgC/AMAAwQDCAMMAxADFAMYAxwDIAMkAygDLAMwAzQDOAM8A0ADRANIA0wDUANUA1gDXANgA2QDaANsA3ADdAN4A3wDgAOEA4gDjAOQA5QDmAOcA6ADpAOoA6wDsAO0A7gDvAPAA8QDyAPMA9AD1APYA9wD4APkA+gD7APwA/QD+AP8AAAEBAQIBAwEEAQUBBgEHAQgBCQEKAQsBDAENAQ4BDwEQAREBEgETARQBFQEWARcBGAEZARoBGwEcAR0BHgEfASABIQEiASMBJAElASYBJwEoASkBKgErASwBLQEuAS8BMAExATIBMwE0ATUBNgE3ATgBOQE6ATsBPAE9AT4BPwFAAUEBQgFDAUQBRQFGAUcBSAFJAUoBSwFMAU0BTgFPAVABUQFSAVMBVAFVAVYBVwFYAVkBWgFbAVwBXQFeAV8BYAFhAWIBYwFkAWUBZgFnAWgBaQFqAWsBbAFtAW4B",
          "dtype": "i2"
         },
         "y": {
          "bdata": "AAAAAAAAAAAAAAAAAAAAAAAAAAAAAAAAAAAAAAAAAAAAAAAAAAAAAAAAAAAAAAAAAAAAAAAAAAAAAAAAAAAAAAAAAAAAAAAAAAAAAAAAAAAAAAAAAAEAAAAAAAAAAAAAAAAAAAAAAAAAAAAAAAAAAAAAAAAAAAAAAAAAAAAAAAAAAAAAAAAAAAAAAQAAAAAAAAAAAAAAAAAAAAAAAAAAAAAAAAAAAAAAAAAAAAAAAAAAAAAAAAAAAAAAAAAAAAAAAAAAAAAAAAAAAAAAAAAAAAAAAAAAAAAAAAAAAAAAAAAAAAAAAAAAAAAAAAAAAAAAAAAAAAAAAAAAAAAAAAAAAAAAAAAAAAAAAAAAAAAAAAAAAAAAAAAAAAAAAAAAAAAAAAAAAAAAAAAAAAAAAAAAAAAAAAAAAAAAAAAAAAAAAAAAAAAAAAAAAAAAAAAAAAAAAAAAAAAAAAAAAAAAAAAAAAAAAAAAAAAAAAAAAAAA",
          "dtype": "i1"
         },
         "yaxis": "y2"
        }
       ],
       "layout": {
        "annotations": [
         {
          "font": {
           "color": "#666",
           "size": 12
          },
          "showarrow": false,
          "text": "Jan",
          "x": 16,
          "xanchor": "center",
          "xref": "x",
          "y": 0,
          "yanchor": "bottom",
          "yref": "paper"
         },
         {
          "font": {
           "color": "#666",
           "size": 12
          },
          "showarrow": false,
          "text": "Feb",
          "x": 47,
          "xanchor": "center",
          "xref": "x",
          "y": 0,
          "yanchor": "bottom",
          "yref": "paper"
         },
         {
          "font": {
           "color": "#666",
           "size": 12
          },
          "showarrow": false,
          "text": "Mar",
          "x": 76,
          "xanchor": "center",
          "xref": "x",
          "y": 0,
          "yanchor": "bottom",
          "yref": "paper"
         },
         {
          "font": {
           "color": "#666",
           "size": 12
          },
          "showarrow": false,
          "text": "Apr",
          "x": 107,
          "xanchor": "center",
          "xref": "x",
          "y": 0,
          "yanchor": "bottom",
          "yref": "paper"
         },
         {
          "font": {
           "color": "#666",
           "size": 12
          },
          "showarrow": false,
          "text": "May",
          "x": 137,
          "xanchor": "center",
          "xref": "x",
          "y": 0,
          "yanchor": "bottom",
          "yref": "paper"
         },
         {
          "font": {
           "color": "#666",
           "size": 12
          },
          "showarrow": false,
          "text": "Jun",
          "x": 168,
          "xanchor": "center",
          "xref": "x",
          "y": 0,
          "yanchor": "bottom",
          "yref": "paper"
         },
         {
          "font": {
           "color": "#666",
           "size": 12
          },
          "showarrow": false,
          "text": "Jul",
          "x": 198,
          "xanchor": "center",
          "xref": "x",
          "y": 0,
          "yanchor": "bottom",
          "yref": "paper"
         },
         {
          "font": {
           "color": "#666",
           "size": 12
          },
          "showarrow": false,
          "text": "Aug",
          "x": 229,
          "xanchor": "center",
          "xref": "x",
          "y": 0,
          "yanchor": "bottom",
          "yref": "paper"
         },
         {
          "font": {
           "color": "#666",
           "size": 12
          },
          "showarrow": false,
          "text": "Sep",
          "x": 260,
          "xanchor": "center",
          "xref": "x",
          "y": 0,
          "yanchor": "bottom",
          "yref": "paper"
         },
         {
          "font": {
           "color": "#666",
           "size": 12
          },
          "showarrow": false,
          "text": "Oct",
          "x": 290,
          "xanchor": "center",
          "xref": "x",
          "y": 0,
          "yanchor": "bottom",
          "yref": "paper"
         },
         {
          "font": {
           "color": "#666",
           "size": 12
          },
          "showarrow": false,
          "text": "Nov",
          "x": 321,
          "xanchor": "center",
          "xref": "x",
          "y": 0,
          "yanchor": "bottom",
          "yref": "paper"
         },
         {
          "font": {
           "color": "#666",
           "size": 12
          },
          "showarrow": false,
          "text": "Dec",
          "x": 351,
          "xanchor": "center",
          "xref": "x",
          "y": 0,
          "yanchor": "bottom",
          "yref": "paper"
         }
        ],
        "font": {
         "color": "#333",
         "family": "Helvetica Neue",
         "size": 14
        },
        "legend": {
         "font": {
          "size": 14
         },
         "title": {
          "text": "Location"
         }
        },
        "margin": {
         "b": 60,
         "l": 60,
         "r": 60,
         "t": 60
        },
        "paper_bgcolor": "white",
        "plot_bgcolor": "white",
        "shapes": [
         {
          "layer": "below",
          "line": {
           "color": "#999",
           "dash": "dash",
           "width": 1
          },
          "type": "line",
          "x0": 1,
          "x1": 1,
          "xref": "x",
          "y0": 0,
          "y1": 1,
          "yref": "y domain"
         },
         {
          "layer": "below",
          "line": {
           "color": "#999",
           "dash": "dash",
           "width": 1
          },
          "type": "line",
          "x0": 32,
          "x1": 32,
          "xref": "x",
          "y0": 0,
          "y1": 1,
          "yref": "y domain"
         },
         {
          "layer": "below",
          "line": {
           "color": "#999",
           "dash": "dash",
           "width": 1
          },
          "type": "line",
          "x0": 61,
          "x1": 61,
          "xref": "x",
          "y0": 0,
          "y1": 1,
          "yref": "y domain"
         },
         {
          "layer": "below",
          "line": {
           "color": "#999",
           "dash": "dash",
           "width": 1
          },
          "type": "line",
          "x0": 92,
          "x1": 92,
          "xref": "x",
          "y0": 0,
          "y1": 1,
          "yref": "y domain"
         },
         {
          "layer": "below",
          "line": {
           "color": "#999",
           "dash": "dash",
           "width": 1
          },
          "type": "line",
          "x0": 122,
          "x1": 122,
          "xref": "x",
          "y0": 0,
          "y1": 1,
          "yref": "y domain"
         },
         {
          "layer": "below",
          "line": {
           "color": "#999",
           "dash": "dash",
           "width": 1
          },
          "type": "line",
          "x0": 153,
          "x1": 153,
          "xref": "x",
          "y0": 0,
          "y1": 1,
          "yref": "y domain"
         },
         {
          "layer": "below",
          "line": {
           "color": "#999",
           "dash": "dash",
           "width": 1
          },
          "type": "line",
          "x0": 183,
          "x1": 183,
          "xref": "x",
          "y0": 0,
          "y1": 1,
          "yref": "y domain"
         },
         {
          "layer": "below",
          "line": {
           "color": "#999",
           "dash": "dash",
           "width": 1
          },
          "type": "line",
          "x0": 214,
          "x1": 214,
          "xref": "x",
          "y0": 0,
          "y1": 1,
          "yref": "y domain"
         },
         {
          "layer": "below",
          "line": {
           "color": "#999",
           "dash": "dash",
           "width": 1
          },
          "type": "line",
          "x0": 245,
          "x1": 245,
          "xref": "x",
          "y0": 0,
          "y1": 1,
          "yref": "y domain"
         },
         {
          "layer": "below",
          "line": {
           "color": "#999",
           "dash": "dash",
           "width": 1
          },
          "type": "line",
          "x0": 275,
          "x1": 275,
          "xref": "x",
          "y0": 0,
          "y1": 1,
          "yref": "y domain"
         },
         {
          "layer": "below",
          "line": {
           "color": "#999",
           "dash": "dash",
           "width": 1
          },
          "type": "line",
          "x0": 306,
          "x1": 306,
          "xref": "x",
          "y0": 0,
          "y1": 1,
          "yref": "y domain"
         },
         {
          "layer": "below",
          "line": {
           "color": "#999",
           "dash": "dash",
           "width": 1
          },
          "type": "line",
          "x0": 336,
          "x1": 336,
          "xref": "x",
          "y0": 0,
          "y1": 1,
          "yref": "y domain"
         }
        ],
        "template": {
         "data": {
          "bar": [
           {
            "error_x": {
             "color": "#2a3f5f"
            },
            "error_y": {
             "color": "#2a3f5f"
            },
            "marker": {
             "line": {
              "color": "#E5ECF6",
              "width": 0.5
             },
             "pattern": {
              "fillmode": "overlay",
              "size": 10,
              "solidity": 0.2
             }
            },
            "type": "bar"
           }
          ],
          "barpolar": [
           {
            "marker": {
             "line": {
              "color": "#E5ECF6",
              "width": 0.5
             },
             "pattern": {
              "fillmode": "overlay",
              "size": 10,
              "solidity": 0.2
             }
            },
            "type": "barpolar"
           }
          ],
          "carpet": [
           {
            "aaxis": {
             "endlinecolor": "#2a3f5f",
             "gridcolor": "white",
             "linecolor": "white",
             "minorgridcolor": "white",
             "startlinecolor": "#2a3f5f"
            },
            "baxis": {
             "endlinecolor": "#2a3f5f",
             "gridcolor": "white",
             "linecolor": "white",
             "minorgridcolor": "white",
             "startlinecolor": "#2a3f5f"
            },
            "type": "carpet"
           }
          ],
          "choropleth": [
           {
            "colorbar": {
             "outlinewidth": 0,
             "ticks": ""
            },
            "type": "choropleth"
           }
          ],
          "contour": [
           {
            "colorbar": {
             "outlinewidth": 0,
             "ticks": ""
            },
            "colorscale": [
             [
              0,
              "#0d0887"
             ],
             [
              0.1111111111111111,
              "#46039f"
             ],
             [
              0.2222222222222222,
              "#7201a8"
             ],
             [
              0.3333333333333333,
              "#9c179e"
             ],
             [
              0.4444444444444444,
              "#bd3786"
             ],
             [
              0.5555555555555556,
              "#d8576b"
             ],
             [
              0.6666666666666666,
              "#ed7953"
             ],
             [
              0.7777777777777778,
              "#fb9f3a"
             ],
             [
              0.8888888888888888,
              "#fdca26"
             ],
             [
              1,
              "#f0f921"
             ]
            ],
            "type": "contour"
           }
          ],
          "contourcarpet": [
           {
            "colorbar": {
             "outlinewidth": 0,
             "ticks": ""
            },
            "type": "contourcarpet"
           }
          ],
          "heatmap": [
           {
            "colorbar": {
             "outlinewidth": 0,
             "ticks": ""
            },
            "colorscale": [
             [
              0,
              "#0d0887"
             ],
             [
              0.1111111111111111,
              "#46039f"
             ],
             [
              0.2222222222222222,
              "#7201a8"
             ],
             [
              0.3333333333333333,
              "#9c179e"
             ],
             [
              0.4444444444444444,
              "#bd3786"
             ],
             [
              0.5555555555555556,
              "#d8576b"
             ],
             [
              0.6666666666666666,
              "#ed7953"
             ],
             [
              0.7777777777777778,
              "#fb9f3a"
             ],
             [
              0.8888888888888888,
              "#fdca26"
             ],
             [
              1,
              "#f0f921"
             ]
            ],
            "type": "heatmap"
           }
          ],
          "histogram": [
           {
            "marker": {
             "pattern": {
              "fillmode": "overlay",
              "size": 10,
              "solidity": 0.2
             }
            },
            "type": "histogram"
           }
          ],
          "histogram2d": [
           {
            "colorbar": {
             "outlinewidth": 0,
             "ticks": ""
            },
            "colorscale": [
             [
              0,
              "#0d0887"
             ],
             [
              0.1111111111111111,
              "#46039f"
             ],
             [
              0.2222222222222222,
              "#7201a8"
             ],
             [
              0.3333333333333333,
              "#9c179e"
             ],
             [
              0.4444444444444444,
              "#bd3786"
             ],
             [
              0.5555555555555556,
              "#d8576b"
             ],
             [
              0.6666666666666666,
              "#ed7953"
             ],
             [
              0.7777777777777778,
              "#fb9f3a"
             ],
             [
              0.8888888888888888,
              "#fdca26"
             ],
             [
              1,
              "#f0f921"
             ]
            ],
            "type": "histogram2d"
           }
          ],
          "histogram2dcontour": [
           {
            "colorbar": {
             "outlinewidth": 0,
             "ticks": ""
            },
            "colorscale": [
             [
              0,
              "#0d0887"
             ],
             [
              0.1111111111111111,
              "#46039f"
             ],
             [
              0.2222222222222222,
              "#7201a8"
             ],
             [
              0.3333333333333333,
              "#9c179e"
             ],
             [
              0.4444444444444444,
              "#bd3786"
             ],
             [
              0.5555555555555556,
              "#d8576b"
             ],
             [
              0.6666666666666666,
              "#ed7953"
             ],
             [
              0.7777777777777778,
              "#fb9f3a"
             ],
             [
              0.8888888888888888,
              "#fdca26"
             ],
             [
              1,
              "#f0f921"
             ]
            ],
            "type": "histogram2dcontour"
           }
          ],
          "mesh3d": [
           {
            "colorbar": {
             "outlinewidth": 0,
             "ticks": ""
            },
            "type": "mesh3d"
           }
          ],
          "parcoords": [
           {
            "line": {
             "colorbar": {
              "outlinewidth": 0,
              "ticks": ""
             }
            },
            "type": "parcoords"
           }
          ],
          "pie": [
           {
            "automargin": true,
            "type": "pie"
           }
          ],
          "scatter": [
           {
            "fillpattern": {
             "fillmode": "overlay",
             "size": 10,
             "solidity": 0.2
            },
            "type": "scatter"
           }
          ],
          "scatter3d": [
           {
            "line": {
             "colorbar": {
              "outlinewidth": 0,
              "ticks": ""
             }
            },
            "marker": {
             "colorbar": {
              "outlinewidth": 0,
              "ticks": ""
             }
            },
            "type": "scatter3d"
           }
          ],
          "scattercarpet": [
           {
            "marker": {
             "colorbar": {
              "outlinewidth": 0,
              "ticks": ""
             }
            },
            "type": "scattercarpet"
           }
          ],
          "scattergeo": [
           {
            "marker": {
             "colorbar": {
              "outlinewidth": 0,
              "ticks": ""
             }
            },
            "type": "scattergeo"
           }
          ],
          "scattergl": [
           {
            "marker": {
             "colorbar": {
              "outlinewidth": 0,
              "ticks": ""
             }
            },
            "type": "scattergl"
           }
          ],
          "scattermap": [
           {
            "marker": {
             "colorbar": {
              "outlinewidth": 0,
              "ticks": ""
             }
            },
            "type": "scattermap"
           }
          ],
          "scattermapbox": [
           {
            "marker": {
             "colorbar": {
              "outlinewidth": 0,
              "ticks": ""
             }
            },
            "type": "scattermapbox"
           }
          ],
          "scatterpolar": [
           {
            "marker": {
             "colorbar": {
              "outlinewidth": 0,
              "ticks": ""
             }
            },
            "type": "scatterpolar"
           }
          ],
          "scatterpolargl": [
           {
            "marker": {
             "colorbar": {
              "outlinewidth": 0,
              "ticks": ""
             }
            },
            "type": "scatterpolargl"
           }
          ],
          "scatterternary": [
           {
            "marker": {
             "colorbar": {
              "outlinewidth": 0,
              "ticks": ""
             }
            },
            "type": "scatterternary"
           }
          ],
          "surface": [
           {
            "colorbar": {
             "outlinewidth": 0,
             "ticks": ""
            },
            "colorscale": [
             [
              0,
              "#0d0887"
             ],
             [
              0.1111111111111111,
              "#46039f"
             ],
             [
              0.2222222222222222,
              "#7201a8"
             ],
             [
              0.3333333333333333,
              "#9c179e"
             ],
             [
              0.4444444444444444,
              "#bd3786"
             ],
             [
              0.5555555555555556,
              "#d8576b"
             ],
             [
              0.6666666666666666,
              "#ed7953"
             ],
             [
              0.7777777777777778,
              "#fb9f3a"
             ],
             [
              0.8888888888888888,
              "#fdca26"
             ],
             [
              1,
              "#f0f921"
             ]
            ],
            "type": "surface"
           }
          ],
          "table": [
           {
            "cells": {
             "fill": {
              "color": "#EBF0F8"
             },
             "line": {
              "color": "white"
             }
            },
            "header": {
             "fill": {
              "color": "#C8D4E3"
             },
             "line": {
              "color": "white"
             }
            },
            "type": "table"
           }
          ]
         },
         "layout": {
          "annotationdefaults": {
           "arrowcolor": "#2a3f5f",
           "arrowhead": 0,
           "arrowwidth": 1
          },
          "autotypenumbers": "strict",
          "coloraxis": {
           "colorbar": {
            "outlinewidth": 0,
            "ticks": ""
           }
          },
          "colorscale": {
           "diverging": [
            [
             0,
             "#8e0152"
            ],
            [
             0.1,
             "#c51b7d"
            ],
            [
             0.2,
             "#de77ae"
            ],
            [
             0.3,
             "#f1b6da"
            ],
            [
             0.4,
             "#fde0ef"
            ],
            [
             0.5,
             "#f7f7f7"
            ],
            [
             0.6,
             "#e6f5d0"
            ],
            [
             0.7,
             "#b8e186"
            ],
            [
             0.8,
             "#7fbc41"
            ],
            [
             0.9,
             "#4d9221"
            ],
            [
             1,
             "#276419"
            ]
           ],
           "sequential": [
            [
             0,
             "#0d0887"
            ],
            [
             0.1111111111111111,
             "#46039f"
            ],
            [
             0.2222222222222222,
             "#7201a8"
            ],
            [
             0.3333333333333333,
             "#9c179e"
            ],
            [
             0.4444444444444444,
             "#bd3786"
            ],
            [
             0.5555555555555556,
             "#d8576b"
            ],
            [
             0.6666666666666666,
             "#ed7953"
            ],
            [
             0.7777777777777778,
             "#fb9f3a"
            ],
            [
             0.8888888888888888,
             "#fdca26"
            ],
            [
             1,
             "#f0f921"
            ]
           ],
           "sequentialminus": [
            [
             0,
             "#0d0887"
            ],
            [
             0.1111111111111111,
             "#46039f"
            ],
            [
             0.2222222222222222,
             "#7201a8"
            ],
            [
             0.3333333333333333,
             "#9c179e"
            ],
            [
             0.4444444444444444,
             "#bd3786"
            ],
            [
             0.5555555555555556,
             "#d8576b"
            ],
            [
             0.6666666666666666,
             "#ed7953"
            ],
            [
             0.7777777777777778,
             "#fb9f3a"
            ],
            [
             0.8888888888888888,
             "#fdca26"
            ],
            [
             1,
             "#f0f921"
            ]
           ]
          },
          "colorway": [
           "#636efa",
           "#EF553B",
           "#00cc96",
           "#ab63fa",
           "#FFA15A",
           "#19d3f3",
           "#FF6692",
           "#B6E880",
           "#FF97FF",
           "#FECB52"
          ],
          "font": {
           "color": "#2a3f5f"
          },
          "geo": {
           "bgcolor": "white",
           "lakecolor": "white",
           "landcolor": "#E5ECF6",
           "showlakes": true,
           "showland": true,
           "subunitcolor": "white"
          },
          "hoverlabel": {
           "align": "left"
          },
          "hovermode": "closest",
          "mapbox": {
           "style": "light"
          },
          "paper_bgcolor": "white",
          "plot_bgcolor": "#E5ECF6",
          "polar": {
           "angularaxis": {
            "gridcolor": "white",
            "linecolor": "white",
            "ticks": ""
           },
           "bgcolor": "#E5ECF6",
           "radialaxis": {
            "gridcolor": "white",
            "linecolor": "white",
            "ticks": ""
           }
          },
          "scene": {
           "xaxis": {
            "backgroundcolor": "#E5ECF6",
            "gridcolor": "white",
            "gridwidth": 2,
            "linecolor": "white",
            "showbackground": true,
            "ticks": "",
            "zerolinecolor": "white"
           },
           "yaxis": {
            "backgroundcolor": "#E5ECF6",
            "gridcolor": "white",
            "gridwidth": 2,
            "linecolor": "white",
            "showbackground": true,
            "ticks": "",
            "zerolinecolor": "white"
           },
           "zaxis": {
            "backgroundcolor": "#E5ECF6",
            "gridcolor": "white",
            "gridwidth": 2,
            "linecolor": "white",
            "showbackground": true,
            "ticks": "",
            "zerolinecolor": "white"
           }
          },
          "shapedefaults": {
           "line": {
            "color": "#2a3f5f"
           }
          },
          "ternary": {
           "aaxis": {
            "gridcolor": "white",
            "linecolor": "white",
            "ticks": ""
           },
           "baxis": {
            "gridcolor": "white",
            "linecolor": "white",
            "ticks": ""
           },
           "bgcolor": "#E5ECF6",
           "caxis": {
            "gridcolor": "white",
            "linecolor": "white",
            "ticks": ""
           }
          },
          "title": {
           "x": 0.05
          },
          "xaxis": {
           "automargin": true,
           "gridcolor": "white",
           "linecolor": "white",
           "ticks": "",
           "title": {
            "standoff": 15
           },
           "zerolinecolor": "white",
           "zerolinewidth": 2
          },
          "yaxis": {
           "automargin": true,
           "gridcolor": "white",
           "linecolor": "white",
           "ticks": "",
           "title": {
            "standoff": 15
           },
           "zerolinecolor": "white",
           "zerolinewidth": 2
          }
         }
        },
        "title": {
         "font": {
          "color": "#333",
          "family": "Helvetica Neue",
          "size": 20
         },
         "text": "Mean Daily Chinook Adult Count (Dams) vs. Chinook Kept (Buoy 10)"
        },
        "xaxis": {
         "gridcolor": "#E5ECF6",
         "tickfont": {
          "size": 14
         },
         "title": {
          "font": {
           "size": 16
          },
          "text": "Day of Year"
         },
         "zeroline": false
        },
        "yaxis": {
         "gridcolor": "#E5ECF6",
         "tickfont": {
          "size": 14
         },
         "title": {
          "font": {
           "size": 16
          },
          "text": "Mean Count (Dam)"
         },
         "zeroline": false
        },
        "yaxis2": {
         "overlaying": "y",
         "showgrid": false,
         "side": "right",
         "tickfont": {
          "size": 14
         },
         "title": {
          "font": {
           "size": 16
          },
          "text": "Chinook Kept (Buoy 10)"
         }
        }
       }
      }
     },
     "metadata": {},
     "output_type": "display_data"
    }
   ],
   "source": [
    "import plotly.graph_objects as go\n",
    "import calendar\n",
    "\n",
    "# Base figure\n",
    "fig = go.Figure()\n",
    "\n",
    "# Primary axis: Dam counts\n",
    "fig.add_trace(\n",
    "    go.Scatter(\n",
    "        x=bon_avg[\"DoY\"],\n",
    "        y=bon_avg[\"ChinookAdult\"],\n",
    "        name=\"Bonneville\",\n",
    "        mode=\"lines\",\n",
    "        line=dict(color=\"#08B2E3\", width=2),\n",
    "        yaxis=\"y\",\n",
    "    )\n",
    ")\n",
    "\n",
    "fig.add_trace(\n",
    "    go.Scatter(\n",
    "        x=dalles_avg[\"DoY\"],\n",
    "        y=dalles_avg[\"ChinookAdult\"],\n",
    "        name=\"Dalles\",\n",
    "        mode=\"lines\",\n",
    "        line=dict(color=\"#EE6352\", width=2),\n",
    "        yaxis=\"y\",\n",
    "    )\n",
    ")\n",
    "\n",
    "fig.add_trace(\n",
    "    go.Scatter(\n",
    "        x=johnday_avg[\"DoY\"],\n",
    "        y=johnday_avg[\"ChinookAdult\"],\n",
    "        name=\"John Day\",\n",
    "        mode=\"lines\",\n",
    "        line=dict(color=\"#B2FFA9\", width=2),\n",
    "        yaxis=\"y\",\n",
    "    )\n",
    ")\n",
    "\n",
    "fig.add_trace(\n",
    "    go.Scatter(\n",
    "        x=willamette_avg[\"DoY\"],\n",
    "        y=willamette_avg[\"ChinookAdult\"],\n",
    "        name=\"Willamette\",\n",
    "        mode=\"lines\",\n",
    "        line=dict(color=\"#4B244A\", width=2),\n",
    "        yaxis=\"y\",\n",
    "    )\n",
    ")\n",
    "\n",
    "# Secondary axis: Buoy 10 catch data\n",
    "fig.add_trace(\n",
    "    go.Scatter(\n",
    "        x=buoy10_avg[\"DoY\"],\n",
    "        y=buoy10_avg[\"Chinook Kept\"] * weekly_sightings[\"SIGHTING_COUNT\"].max(),\n",
    "        name=\"Buoy 10 Chinook Kept\",\n",
    "        mode=\"lines\",\n",
    "        line=dict(color=\"#C155D3\", width=2, dash=\"dot\"),\n",
    "        yaxis=\"y2\",\n",
    "    )\n",
    ")\n",
    "\n",
    "# Secondary axis: Buoy 10 catch data\n",
    "fig.add_trace(\n",
    "    go.Scatter(\n",
    "        x=weekly_sightings[\"DoY\"],\n",
    "        y=weekly_sightings[\"SIGHTING_COUNT\"],\n",
    "        name=\"Orca Sightings Near Buoy-10\",\n",
    "        mode=\"lines\",\n",
    "        line=dict(color=\"#C81D25\", width=1, dash=\"longdash\"),\n",
    "        yaxis=\"y2\",\n",
    "    )\n",
    ")\n",
    "\n",
    "# Layout\n",
    "fig.update_layout(\n",
    "    title=dict(\n",
    "        text=\"Mean Daily Chinook Adult Count (Dams) vs. Chinook Kept (Buoy 10)\",\n",
    "        font=dict(size=20, family=\"Helvetica Neue\", color=\"#333\"),\n",
    "    ),\n",
    "    plot_bgcolor=\"white\",\n",
    "    paper_bgcolor=\"white\",\n",
    "    xaxis=dict(\n",
    "        title=dict(text=\"Day of Year\", font=dict(size=16)),\n",
    "        tickfont=dict(size=14),\n",
    "        gridcolor=\"#E5ECF6\",\n",
    "        zeroline=False,\n",
    "    ),\n",
    "    yaxis=dict(\n",
    "        title=dict(text=\"Mean Count (Dam)\", font=dict(size=16)),\n",
    "        tickfont=dict(size=14),\n",
    "        gridcolor=\"#E5ECF6\",\n",
    "        zeroline=False,\n",
    "    ),\n",
    "    yaxis2=dict(\n",
    "        title=dict(text=\"Chinook Kept (Buoy 10)\", font=dict(size=16)),\n",
    "        tickfont=dict(size=14),\n",
    "        overlaying=\"y\",\n",
    "        side=\"right\",\n",
    "        showgrid=False,\n",
    "    ),\n",
    "    legend=dict(title=\"Location\", font=dict(size=14)),\n",
    "    font=dict(family=\"Helvetica Neue\", size=14, color=\"#333\"),\n",
    "    margin=dict(l=60, r=60, t=60, b=60),\n",
    ")\n",
    "\n",
    "# Month lines and labels\n",
    "month_start_days = [1]\n",
    "for month in range(2, 13):\n",
    "    month_start_days.append(\n",
    "        sum(calendar.monthrange(2024, m)[1] for m in range(1, month)) + 1\n",
    "    )\n",
    "\n",
    "for doy in month_start_days:\n",
    "    fig.add_vline(x=doy, line=dict(color=\"#999\", width=1, dash=\"dash\"), layer=\"below\")\n",
    "\n",
    "for i, doy in enumerate(month_start_days):\n",
    "    fig.add_annotation(\n",
    "        x=doy + 15,\n",
    "        y=0,\n",
    "        yanchor=\"bottom\",\n",
    "        text=calendar.month_abbr[i + 1],\n",
    "        showarrow=False,\n",
    "        font=dict(size=12, color=\"#666\"),\n",
    "        xanchor=\"center\",\n",
    "        xref=\"x\",\n",
    "        yref=\"paper\",\n",
    "    )\n",
    "\n",
    "fig.show()"
   ]
  },
  {
   "cell_type": "code",
   "execution_count": 22,
   "id": "977cae03",
   "metadata": {},
   "outputs": [],
   "source": [
    "rmpc_Data = \"/Users/tylerstevenson/Documents/CODE/SalmonSignal/data/raw/RMPC/WDFW/processed/MA12_RMPC_CATCH.parquet\"\n",
    "rmpc_Data = pd.read_parquet(rmpc_Data)\n",
    "rmpc_Data[\"DATE\"] = pd.to_datetime(rmpc_Data[\"stat_week_sunday\"])\n",
    "rmpc_Data[\"DoY\"] = rmpc_Data[\"DATE\"].dt.day_of_year\n",
    "\n",
    "rmpc_Data = rmpc_Data[rmpc_Data[\"species_name\"] == \"Chinook\"]\n",
    "rmpc_Data = rmpc_Data[rmpc_Data[\"MARINE_AREA_LARGE\"] == \"1\"]\n",
    "rmpc_Data = rmpc_Data.groupby([\"MARINE_AREA_LARGE\", \"DoY\"], as_index=False)[\n",
    "    \"number_caught\"\n",
    "].mean()"
   ]
  },
  {
   "cell_type": "code",
   "execution_count": 23,
   "id": "24c2e1d3",
   "metadata": {},
   "outputs": [],
   "source": [
    "# fig = px.line(rmpc_Data, x = 'DoY', y = 'number_caught', color = 'MARINE_AREA_LARGE')\n",
    "# fig.show()"
   ]
  },
  {
   "cell_type": "code",
   "execution_count": 24,
   "id": "9f9e3b2e",
   "metadata": {},
   "outputs": [
    {
     "data": {
      "text/html": [
       "<div>\n",
       "<style scoped>\n",
       "    .dataframe tbody tr th:only-of-type {\n",
       "        vertical-align: middle;\n",
       "    }\n",
       "\n",
       "    .dataframe tbody tr th {\n",
       "        vertical-align: top;\n",
       "    }\n",
       "\n",
       "    .dataframe thead th {\n",
       "        text-align: right;\n",
       "    }\n",
       "</style>\n",
       "<table border=\"1\" class=\"dataframe\">\n",
       "  <thead>\n",
       "    <tr style=\"text-align: right;\">\n",
       "      <th></th>\n",
       "      <th>MARINE_AREA_LARGE</th>\n",
       "      <th>DoY</th>\n",
       "      <th>number_caught</th>\n",
       "    </tr>\n",
       "  </thead>\n",
       "  <tbody>\n",
       "    <tr>\n",
       "      <th>0</th>\n",
       "      <td>1</td>\n",
       "      <td>1</td>\n",
       "      <td>2.875000</td>\n",
       "    </tr>\n",
       "    <tr>\n",
       "      <th>1</th>\n",
       "      <td>1</td>\n",
       "      <td>2</td>\n",
       "      <td>0.000000</td>\n",
       "    </tr>\n",
       "    <tr>\n",
       "      <th>2</th>\n",
       "      <td>1</td>\n",
       "      <td>3</td>\n",
       "      <td>1.428571</td>\n",
       "    </tr>\n",
       "    <tr>\n",
       "      <th>3</th>\n",
       "      <td>1</td>\n",
       "      <td>4</td>\n",
       "      <td>0.500000</td>\n",
       "    </tr>\n",
       "    <tr>\n",
       "      <th>4</th>\n",
       "      <td>1</td>\n",
       "      <td>5</td>\n",
       "      <td>0.000000</td>\n",
       "    </tr>\n",
       "    <tr>\n",
       "      <th>...</th>\n",
       "      <td>...</td>\n",
       "      <td>...</td>\n",
       "      <td>...</td>\n",
       "    </tr>\n",
       "    <tr>\n",
       "      <th>361</th>\n",
       "      <td>1</td>\n",
       "      <td>362</td>\n",
       "      <td>3.666667</td>\n",
       "    </tr>\n",
       "    <tr>\n",
       "      <th>362</th>\n",
       "      <td>1</td>\n",
       "      <td>363</td>\n",
       "      <td>0.000000</td>\n",
       "    </tr>\n",
       "    <tr>\n",
       "      <th>363</th>\n",
       "      <td>1</td>\n",
       "      <td>364</td>\n",
       "      <td>5.666667</td>\n",
       "    </tr>\n",
       "    <tr>\n",
       "      <th>364</th>\n",
       "      <td>1</td>\n",
       "      <td>365</td>\n",
       "      <td>1.375000</td>\n",
       "    </tr>\n",
       "    <tr>\n",
       "      <th>365</th>\n",
       "      <td>1</td>\n",
       "      <td>366</td>\n",
       "      <td>0.000000</td>\n",
       "    </tr>\n",
       "  </tbody>\n",
       "</table>\n",
       "<p>366 rows × 3 columns</p>\n",
       "</div>"
      ],
      "text/plain": [
       "    MARINE_AREA_LARGE  DoY  number_caught\n",
       "0                   1    1       2.875000\n",
       "1                   1    2       0.000000\n",
       "2                   1    3       1.428571\n",
       "3                   1    4       0.500000\n",
       "4                   1    5       0.000000\n",
       "..                ...  ...            ...\n",
       "361                 1  362       3.666667\n",
       "362                 1  363       0.000000\n",
       "363                 1  364       5.666667\n",
       "364                 1  365       1.375000\n",
       "365                 1  366       0.000000\n",
       "\n",
       "[366 rows x 3 columns]"
      ]
     },
     "execution_count": 24,
     "metadata": {},
     "output_type": "execute_result"
    }
   ],
   "source": [
    "rmpc_Data"
   ]
  },
  {
   "cell_type": "code",
   "execution_count": 25,
   "id": "e102367b",
   "metadata": {},
   "outputs": [
    {
     "data": {
      "application/vnd.plotly.v1+json": {
       "config": {
        "plotlyServerURL": "https://plot.ly"
       },
       "data": [
        {
         "line": {
          "color": "#08B2E3",
          "width": 2
         },
         "mode": "lines",
         "name": "Bonneville",
         "type": "scatter",
         "x": {
          "bdata": "AQAAAAIAAAADAAAABAAAAAUAAAAGAAAABwAAAAgAAAAJAAAACgAAAAsAAAAMAAAADQAAAA4AAAAPAAAAEAAAABEAAAASAAAAEwAAABQAAAAVAAAAFgAAABcAAAAYAAAAGQAAABoAAAAbAAAAHAAAAB0AAAAeAAAAHwAAACAAAAAhAAAAIgAAACMAAAAkAAAAJQAAACYAAAAnAAAAKAAAACkAAAAqAAAAKwAAACwAAAAtAAAALgAAAC8AAAAwAAAAMQAAADIAAAAzAAAANAAAADUAAAA2AAAANwAAADgAAAA5AAAAOgAAADsAAAA8AAAAPQAAAD4AAAA/AAAAQAAAAEEAAABCAAAAQwAAAEQAAABFAAAARgAAAEcAAABIAAAASQAAAEoAAABLAAAATAAAAE0AAABOAAAATwAAAFAAAABRAAAAUgAAAFMAAABUAAAAVQAAAFYAAABXAAAAWAAAAFkAAABaAAAAWwAAAFwAAABdAAAAXgAAAF8AAABgAAAAYQAAAGIAAABjAAAAZAAAAGUAAABmAAAAZwAAAGgAAABpAAAAagAAAGsAAABsAAAAbQAAAG4AAABvAAAAcAAAAHEAAAByAAAAcwAAAHQAAAB1AAAAdgAAAHcAAAB4AAAAeQAAAHoAAAB7AAAAfAAAAH0AAAB+AAAAfwAAAIAAAACBAAAAggAAAIMAAACEAAAAhQAAAIYAAACHAAAAiAAAAIkAAACKAAAAiwAAAIwAAACNAAAAjgAAAI8AAACQAAAAkQAAAJIAAACTAAAAlAAAAJUAAACWAAAAlwAAAJgAAACZAAAAmgAAAJsAAACcAAAAnQAAAJ4AAACfAAAAoAAAAKEAAACiAAAAowAAAKQAAAClAAAApgAAAKcAAACoAAAAqQAAAKoAAACrAAAArAAAAK0AAACuAAAArwAAALAAAACxAAAAsgAAALMAAAC0AAAAtQAAALYAAAC3AAAAuAAAALkAAAC6AAAAuwAAALwAAAC9AAAAvgAAAL8AAADAAAAAwQAAAMIAAADDAAAAxAAAAMUAAADGAAAAxwAAAMgAAADJAAAAygAAAMsAAADMAAAAzQAAAM4AAADPAAAA0AAAANEAAADSAAAA0wAAANQAAADVAAAA1gAAANcAAADYAAAA2QAAANoAAADbAAAA3AAAAN0AAADeAAAA3wAAAOAAAADhAAAA4gAAAOMAAADkAAAA5QAAAOYAAADnAAAA6AAAAOkAAADqAAAA6wAAAOwAAADtAAAA7gAAAO8AAADwAAAA8QAAAPIAAADzAAAA9AAAAPUAAAD2AAAA9wAAAPgAAAD5AAAA+gAAAPsAAAD8AAAA/QAAAP4AAAD/AAAAAAEAAAEBAAACAQAAAwEAAAQBAAAFAQAABgEAAAcBAAAIAQAACQEAAAoBAAALAQAADAEAAA0BAAAOAQAADwEAABABAAARAQAAEgEAABMBAAAUAQAAFQEAABYBAAAXAQAAGAEAABkBAAAaAQAAGwEAABwBAAAdAQAAHgEAAB8BAAAgAQAAIQEAACIBAAAjAQAAJAEAACUBAAAmAQAAJwEAACgBAAApAQAAKgEAACsBAAAsAQAALQEAAC4BAAAvAQAAMAEAADEBAAAyAQAAMwEAADQBAAA1AQAANgEAADcBAAA4AQAAOQEAADoBAAA7AQAAPAEAAD0BAAA+AQAAPwEAAEABAABBAQAAQgEAAEMBAABEAQAARQEAAEYBAABHAQAASAEAAEkBAABKAQAASwEAAEwBAABNAQAATgEAAE8BAABQAQAAUQEAAFIBAABTAQAAVAEAAFUBAABWAQAAVwEAAFgBAABZAQAAWgEAAFsBAABcAQAAXQEAAF4BAABfAQAAYAEAAGEBAABiAQAAYwEAAGQBAABlAQAAZgEAAGcBAABoAQAAaQEAAGoBAABrAQAAbAEAAG0BAABuAQAA",
          "dtype": "i4"
         },
         "y": {
          "bdata": "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",
          "dtype": "f8"
         },
         "yaxis": "y"
        },
        {
         "line": {
          "color": "#EE6352",
          "width": 2
         },
         "mode": "lines",
         "name": "Dalles",
         "type": "scatter",
         "x": {
          "bdata": "AQAAAAIAAAADAAAABAAAAAUAAAAGAAAABwAAAAgAAAAJAAAACgAAAAsAAAAMAAAADQAAAA4AAAAPAAAAEAAAABEAAAASAAAAEwAAABQAAAAVAAAAFgAAABcAAAAYAAAAGQAAABoAAAAbAAAAHAAAAB0AAAAeAAAAHwAAACAAAAAhAAAAIgAAACMAAAAkAAAAJQAAACYAAAAnAAAAKAAAACkAAAAqAAAAKwAAACwAAAAtAAAALgAAAC8AAAAwAAAAMQAAADIAAAAzAAAANAAAADUAAAA2AAAANwAAADgAAAA5AAAAOgAAADsAAAA8AAAAPQAAAD4AAAA/AAAAQAAAAEEAAABCAAAAQwAAAEQAAABFAAAARgAAAEcAAABIAAAASQAAAEoAAABLAAAATAAAAE0AAABOAAAATwAAAFAAAABRAAAAUgAAAFMAAABUAAAAVQAAAFYAAABXAAAAWAAAAFkAAABaAAAAWwAAAFwAAABdAAAAXgAAAF8AAABgAAAAYQAAAGIAAABjAAAAZAAAAGUAAABmAAAAZwAAAGgAAABpAAAAagAAAGsAAABsAAAAbQAAAG4AAABvAAAAcAAAAHEAAAByAAAAcwAAAHQAAAB1AAAAdgAAAHcAAAB4AAAAeQAAAHoAAAB7AAAAfAAAAH0AAAB+AAAAfwAAAIAAAACBAAAAggAAAIMAAACEAAAAhQAAAIYAAACHAAAAiAAAAIkAAACKAAAAiwAAAIwAAACNAAAAjgAAAI8AAACQAAAAkQAAAJIAAACTAAAAlAAAAJUAAACWAAAAlwAAAJgAAACZAAAAmgAAAJsAAACcAAAAnQAAAJ4AAACfAAAAoAAAAKEAAACiAAAAowAAAKQAAAClAAAApgAAAKcAAACoAAAAqQAAAKoAAACrAAAArAAAAK0AAACuAAAArwAAALAAAACxAAAAsgAAALMAAAC0AAAAtQAAALYAAAC3AAAAuAAAALkAAAC6AAAAuwAAALwAAAC9AAAAvgAAAL8AAADAAAAAwQAAAMIAAADDAAAAxAAAAMUAAADGAAAAxwAAAMgAAADJAAAAygAAAMsAAADMAAAAzQAAAM4AAADPAAAA0AAAANEAAADSAAAA0wAAANQAAADVAAAA1gAAANcAAADYAAAA2QAAANoAAADbAAAA3AAAAN0AAADeAAAA3wAAAOAAAADhAAAA4gAAAOMAAADkAAAA5QAAAOYAAADnAAAA6AAAAOkAAADqAAAA6wAAAOwAAADtAAAA7gAAAO8AAADwAAAA8QAAAPIAAADzAAAA9AAAAPUAAAD2AAAA9wAAAPgAAAD5AAAA+gAAAPsAAAD8AAAA/QAAAP4AAAD/AAAAAAEAAAEBAAACAQAAAwEAAAQBAAAFAQAABgEAAAcBAAAIAQAACQEAAAoBAAALAQAADAEAAA0BAAAOAQAADwEAABABAAARAQAAEgEAABMBAAAUAQAAFQEAABYBAAAXAQAAGAEAABkBAAAaAQAAGwEAABwBAAAdAQAAHgEAAB8BAAAgAQAAIQEAACIBAAAjAQAAJAEAACUBAAAmAQAAJwEAACgBAAApAQAAKgEAACsBAAAsAQAALQEAAC4BAAAvAQAAMAEAADEBAAAyAQAAMwEAADQBAAA1AQAANgEAADcBAAA4AQAAOQEAADoBAAA7AQAAPAEAAD0BAAA+AQAAPwEAAEABAABBAQAAQgEAAEMBAABEAQAARQEAAEYBAABHAQAASAEAAEkBAABKAQAASwEAAEwBAABNAQAATgEAAE8BAABQAQAAUQEAAFIBAABTAQAAVAEAAFUBAABWAQAAVwEAAFgBAABZAQAAWgEAAFsBAABcAQAAXQEAAF4BAABfAQAAYAEAAGEBAABiAQAAYwEAAGQBAABlAQAAZgEAAGcBAABoAQAAaQEAAGoBAABrAQAAbAEAAG0BAABuAQAA",
          "dtype": "i4"
         },
         "y": {
          "bdata": "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",
          "dtype": "f8"
         },
         "yaxis": "y"
        },
        {
         "line": {
          "color": "#B2FFA9",
          "width": 2
         },
         "mode": "lines",
         "name": "John Day",
         "type": "scatter",
         "x": {
          "bdata": "AQAAAAIAAAADAAAABAAAAAUAAAAGAAAABwAAAAgAAAAJAAAACgAAAAsAAAAMAAAADQAAAA4AAAAPAAAAEAAAABEAAAASAAAAEwAAABQAAAAVAAAAFgAAABcAAAAYAAAAGQAAABoAAAAbAAAAHAAAAB0AAAAeAAAAHwAAACAAAAAhAAAAIgAAACMAAAAkAAAAJQAAACYAAAAnAAAAKAAAACkAAAAqAAAAKwAAACwAAAAtAAAALgAAAC8AAAAwAAAAMQAAADIAAAAzAAAANAAAADUAAAA2AAAANwAAADgAAAA5AAAAOgAAADsAAAA8AAAAPQAAAD4AAAA/AAAAQAAAAEEAAABCAAAAQwAAAEQAAABFAAAARgAAAEcAAABIAAAASQAAAEoAAABLAAAATAAAAE0AAABOAAAATwAAAFAAAABRAAAAUgAAAFMAAABUAAAAVQAAAFYAAABXAAAAWAAAAFkAAABaAAAAWwAAAFwAAABdAAAAXgAAAF8AAABgAAAAYQAAAGIAAABjAAAAZAAAAGUAAABmAAAAZwAAAGgAAABpAAAAagAAAGsAAABsAAAAbQAAAG4AAABvAAAAcAAAAHEAAAByAAAAcwAAAHQAAAB1AAAAdgAAAHcAAAB4AAAAeQAAAHoAAAB7AAAAfAAAAH0AAAB+AAAAfwAAAIAAAACBAAAAggAAAIMAAACEAAAAhQAAAIYAAACHAAAAiAAAAIkAAACKAAAAiwAAAIwAAACNAAAAjgAAAI8AAACQAAAAkQAAAJIAAACTAAAAlAAAAJUAAACWAAAAlwAAAJgAAACZAAAAmgAAAJsAAACcAAAAnQAAAJ4AAACfAAAAoAAAAKEAAACiAAAAowAAAKQAAAClAAAApgAAAKcAAACoAAAAqQAAAKoAAACrAAAArAAAAK0AAACuAAAArwAAALAAAACxAAAAsgAAALMAAAC0AAAAtQAAALYAAAC3AAAAuAAAALkAAAC6AAAAuwAAALwAAAC9AAAAvgAAAL8AAADAAAAAwQAAAMIAAADDAAAAxAAAAMUAAADGAAAAxwAAAMgAAADJAAAAygAAAMsAAADMAAAAzQAAAM4AAADPAAAA0AAAANEAAADSAAAA0wAAANQAAADVAAAA1gAAANcAAADYAAAA2QAAANoAAADbAAAA3AAAAN0AAADeAAAA3wAAAOAAAADhAAAA4gAAAOMAAADkAAAA5QAAAOYAAADnAAAA6AAAAOkAAADqAAAA6wAAAOwAAADtAAAA7gAAAO8AAADwAAAA8QAAAPIAAADzAAAA9AAAAPUAAAD2AAAA9wAAAPgAAAD5AAAA+gAAAPsAAAD8AAAA/QAAAP4AAAD/AAAAAAEAAAEBAAACAQAAAwEAAAQBAAAFAQAABgEAAAcBAAAIAQAACQEAAAoBAAALAQAADAEAAA0BAAAOAQAADwEAABABAAARAQAAEgEAABMBAAAUAQAAFQEAABYBAAAXAQAAGAEAABkBAAAaAQAAGwEAABwBAAAdAQAAHgEAAB8BAAAgAQAAIQEAACIBAAAjAQAAJAEAACUBAAAmAQAAJwEAACgBAAApAQAAKgEAACsBAAAsAQAALQEAAC4BAAAvAQAAMAEAADEBAAAyAQAAMwEAADQBAAA1AQAANgEAADcBAAA4AQAAOQEAADoBAAA7AQAAPAEAAD0BAAA+AQAAPwEAAEABAABBAQAAQgEAAEMBAABEAQAARQEAAEYBAABHAQAASAEAAEkBAABKAQAASwEAAEwBAABNAQAATgEAAE8BAABQAQAAUQEAAFIBAABTAQAAVAEAAFUBAABWAQAAVwEAAFgBAABZAQAAWgEAAFsBAABcAQAAXQEAAF4BAABfAQAAYAEAAGEBAABiAQAAYwEAAGQBAABlAQAAZgEAAGcBAABoAQAAaQEAAGoBAABrAQAAbAEAAG0BAABuAQAA",
          "dtype": "i4"
         },
         "y": {
          "bdata": "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",
          "dtype": "f8"
         },
         "yaxis": "y"
        },
        {
         "line": {
          "color": "#FFEC51",
          "width": 2
         },
         "mode": "lines",
         "name": "RMPC Catch - WDFW Marine Area 1",
         "type": "scatter",
         "x": {
          "bdata": "AQAAAAIAAAADAAAABAAAAAUAAAAGAAAABwAAAAgAAAAJAAAACgAAAAsAAAAMAAAADQAAAA4AAAAPAAAAEAAAABEAAAASAAAAEwAAABQAAAAVAAAAFgAAABcAAAAYAAAAGQAAABoAAAAbAAAAHAAAAB0AAAAeAAAAHwAAACAAAAAhAAAAIgAAACMAAAAkAAAAJQAAACYAAAAnAAAAKAAAACkAAAAqAAAAKwAAACwAAAAtAAAALgAAAC8AAAAwAAAAMQAAADIAAAAzAAAANAAAADUAAAA2AAAANwAAADgAAAA5AAAAOgAAADsAAAA8AAAAPQAAAD4AAAA/AAAAQAAAAEEAAABCAAAAQwAAAEQAAABFAAAARgAAAEcAAABIAAAASQAAAEoAAABLAAAATAAAAE0AAABOAAAATwAAAFAAAABRAAAAUgAAAFMAAABUAAAAVQAAAFYAAABXAAAAWAAAAFkAAABaAAAAWwAAAFwAAABdAAAAXgAAAF8AAABgAAAAYQAAAGIAAABjAAAAZAAAAGUAAABmAAAAZwAAAGgAAABpAAAAagAAAGsAAABsAAAAbQAAAG4AAABvAAAAcAAAAHEAAAByAAAAcwAAAHQAAAB1AAAAdgAAAHcAAAB4AAAAeQAAAHoAAAB7AAAAfAAAAH0AAAB+AAAAfwAAAIAAAACBAAAAggAAAIMAAACEAAAAhQAAAIYAAACHAAAAiAAAAIkAAACKAAAAiwAAAIwAAACNAAAAjgAAAI8AAACQAAAAkQAAAJIAAACTAAAAlAAAAJUAAACWAAAAlwAAAJgAAACZAAAAmgAAAJsAAACcAAAAnQAAAJ4AAACfAAAAoAAAAKEAAACiAAAAowAAAKQAAAClAAAApgAAAKcAAACoAAAAqQAAAKoAAACrAAAArAAAAK0AAACuAAAArwAAALAAAACxAAAAsgAAALMAAAC0AAAAtQAAALYAAAC3AAAAuAAAALkAAAC6AAAAuwAAALwAAAC9AAAAvgAAAL8AAADAAAAAwQAAAMIAAADDAAAAxAAAAMUAAADGAAAAxwAAAMgAAADJAAAAygAAAMsAAADMAAAAzQAAAM4AAADPAAAA0AAAANEAAADSAAAA0wAAANQAAADVAAAA1gAAANcAAADYAAAA2QAAANoAAADbAAAA3AAAAN0AAADeAAAA3wAAAOAAAADhAAAA4gAAAOMAAADkAAAA5QAAAOYAAADnAAAA6AAAAOkAAADqAAAA6wAAAOwAAADtAAAA7gAAAO8AAADwAAAA8QAAAPIAAADzAAAA9AAAAPUAAAD2AAAA9wAAAPgAAAD5AAAA+gAAAPsAAAD8AAAA/QAAAP4AAAD/AAAAAAEAAAEBAAACAQAAAwEAAAQBAAAFAQAABgEAAAcBAAAIAQAACQEAAAoBAAALAQAADAEAAA0BAAAOAQAADwEAABABAAARAQAAEgEAABMBAAAUAQAAFQEAABYBAAAXAQAAGAEAABkBAAAaAQAAGwEAABwBAAAdAQAAHgEAAB8BAAAgAQAAIQEAACIBAAAjAQAAJAEAACUBAAAmAQAAJwEAACgBAAApAQAAKgEAACsBAAAsAQAALQEAAC4BAAAvAQAAMAEAADEBAAAyAQAAMwEAADQBAAA1AQAANgEAADcBAAA4AQAAOQEAADoBAAA7AQAAPAEAAD0BAAA+AQAAPwEAAEABAABBAQAAQgEAAEMBAABEAQAARQEAAEYBAABHAQAASAEAAEkBAABKAQAASwEAAEwBAABNAQAATgEAAE8BAABQAQAAUQEAAFIBAABTAQAAVAEAAFUBAABWAQAAVwEAAFgBAABZAQAAWgEAAFsBAABcAQAAXQEAAF4BAABfAQAAYAEAAGEBAABiAQAAYwEAAGQBAABlAQAAZgEAAGcBAABoAQAAaQEAAGoBAABrAQAAbAEAAG0BAABuAQAA",
          "dtype": "i4"
         },
         "y": {
          "bdata": "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",
          "dtype": "f8"
         },
         "yaxis": "y"
        },
        {
         "line": {
          "color": "#C155D3",
          "dash": "dot",
          "width": 2
         },
         "mode": "lines",
         "name": "Buoy 10 Chinook Kept",
         "type": "scatter",
         "x": {
          "bdata": "1AAAANUAAADWAAAA1wAAANgAAADZAAAA2gAAANsAAADcAAAA3QAAAN4AAADfAAAA4AAAAOEAAADiAAAA4wAAAOQAAADlAAAA5gAAAOcAAADoAAAA6QAAAOoAAADrAAAA7AAAAO0AAADuAAAA7wAAAPAAAADxAAAA8gAAAPMAAAD0AAAA9QAAAPYAAAD3AAAA+AAAAPkAAAD6AAAA+wAAAPwAAAD9AAAA/gAAAP8AAAAAAQAAAQEAAAIBAAADAQAABAEAAAUBAAAGAQAABwEAAAgBAAAJAQAACgEAAAsBAAAMAQAADQEAAA4BAAAPAQAAEAEAABEBAAASAQAAEwEAABQBAAAVAQAAFgEAABcBAAAYAQAAGQEAABoBAAA=",
          "dtype": "i4"
         },
         "y": {
          "bdata": "AAAAAAAA+H+DFuNzqIjJP1X5S1gewc0/TteP5zXy2z8QV7XEDuLPPzvD+h38iNM/813evhn54D/ERTleYvLYP0uJrL3a19w/9r8IrX4U2D+uzaJ3QlHePy1ylXs2p9U/iMwh8bD94D8j1bSTN6/gP4wTx8a1euU/GE5WiNFZ5T8TROL4Bt3lP6tyF0zIx+I/bFSiY56U6T8PsejZKOvnPy+ZitJbU+U/+t1sPPCo4j9cHOrrDhDjPyV5B77F0Os/OlqJuzt04D+Sbw5U1OzlP+aeNYmbvOM/Jggpf6xE6z9rXA94t7veP/T9ITYU1OI/RsdbeY4e4j+DuHnyHRnSP6sfCTu6acc/IUNlh6nL1T/4bDfZK6nHP1uGFI2+M8A/kst/SL99nT+amZmZmZmpP57neZ7nea4/ERERERERwT8DnTbQaQPNP2AaA6YxYMo/hLsrDM1Ooj97FK5H4XqUPwAAAAAAAAAAAAAAAAAAAABVVVVVVVWVPwAAAAAAAAAAGIZhGIZhiD8d1EEd1EGdPwAAAAAAAAAAVVVVVVVVlT8AAAAAAAAAAAAAAAAAAAAAAAAAAAAAAAAAAAAAAAAAAAAAAAAAAAAAAAAAAAAAAAAAAAAAAAAAAAAAAAAAAAAAAAAAAAAAAAAAAAAAAAAAAJqZmZmZmak/AAAAAAAAAAAAAAAAAAD4fwAAAAAAAPh/AAAAAAAAAAAAAAAAAAAAAAAAAAAAAAAAAAAAAAAAAAAAAAAAAAAAAA==",
          "dtype": "f8"
         },
         "yaxis": "y2"
        },
        {
         "line": {
          "color": "#C81D25",
          "dash": "longdash",
          "width": 1
         },
         "mode": "lines",
         "name": "Orca Sightings Near Buoy-10",
         "type": "scatter",
         "x": {
          "bdata": "AQACAAMABAAFAAYABwAIAAkACgALAAwADQAOAA8AEAARABIAEwAUABUAFgAXABgAGQAaABsAHAAdAB4AHwAgACEAIgAjACQAJQAmACcAKAApACoAKwAsAC0ALgAvADAAMQAyADMANAA1ADYANwA4ADkAOgA7ADwAPQA+AD8AQABBAEIAQwBEAEUARgBHAEgASQBKAEsATABNAE4ATwBQAFEAUgBTAFQAVQBWAFcAWABZAFoAWwBcAF0AXgBfAGAAYQBiAGMAZABlAGYAZwBoAGkAagBrAGwAbQBuAG8AcABxAHIAcwB0AHUAdgB3AHgAeQB6AHsAfAB9AH4AfwCAAIEAggCDAIQAhQCGAIcAiACJAIoAiwCMAI0AjgCPAJAAkQCSAJMAlACVAJYAlwCYAJkAmgCbAJwAnQCeAJ8AoAChAKIAowCkAKUApgCnAKgAqQCqAKsArACtAK4ArwCwALEAsgCzALQAtQC2ALcAuAC5ALoAuwC8AL0AvgC/AMAAwQDCAMMAxADFAMYAxwDIAMkAygDLAMwAzQDOAM8A0ADRANIA0wDUANUA1gDXANgA2QDaANsA3ADdAN4A3wDgAOEA4gDjAOQA5QDmAOcA6ADpAOoA6wDsAO0A7gDvAPAA8QDyAPMA9AD1APYA9wD4APkA+gD7APwA/QD+AP8AAAEBAQIBAwEEAQUBBgEHAQgBCQEKAQsBDAENAQ4BDwEQAREBEgETARQBFQEWARcBGAEZARoBGwEcAR0BHgEfASABIQEiASMBJAElASYBJwEoASkBKgErASwBLQEuAS8BMAExATIBMwE0ATUBNgE3ATgBOQE6ATsBPAE9AT4BPwFAAUEBQgFDAUQBRQFGAUcBSAFJAUoBSwFMAU0BTgFPAVABUQFSAVMBVAFVAVYBVwFYAVkBWgFbAVwBXQFeAV8BYAFhAWIBYwFkAWUBZgFnAWgBaQFqAWsBbAFtAW4B",
          "dtype": "i2"
         },
         "y": {
          "bdata": "AAAAAAAAAAAAAAAAAAAAAAAAAAAAAAAAAAAAAAAAAAAAAAAAAAAAAAAAAAAAAAAAAAAAAAAAAAAAAAAAAAAAAAAAAAAAAAAAAAAAAAAAAAAAAAAAAAEAAAAAAAAAAAAAAAAAAAAAAAAAAAAAAAAAAAAAAAAAAAAAAAAAAAAAAAAAAAAAAAAAAAAAAQAAAAAAAAAAAAAAAAAAAAAAAAAAAAAAAAAAAAAAAAAAAAAAAAAAAAAAAAAAAAAAAAAAAAAAAAAAAAAAAAAAAAAAAAAAAAAAAAAAAAAAAAAAAAAAAAAAAAAAAAAAAAAAAAAAAAAAAAAAAAAAAAAAAAAAAAAAAAAAAAAAAAAAAAAAAAAAAAAAAAAAAAAAAAAAAAAAAAAAAAAAAAAAAAAAAAAAAAAAAAAAAAAAAAAAAAAAAAAAAAAAAAAAAAAAAAAAAAAAAAAAAAAAAAAAAAAAAAAAAAAAAAAAAAAAAAAAAAAAAAAA",
          "dtype": "i1"
         },
         "yaxis": "y2"
        }
       ],
       "layout": {
        "annotations": [
         {
          "font": {
           "color": "#666",
           "size": 12
          },
          "showarrow": false,
          "text": "Jan",
          "x": 16,
          "xanchor": "center",
          "xref": "x",
          "y": 0,
          "yanchor": "bottom",
          "yref": "paper"
         },
         {
          "font": {
           "color": "#666",
           "size": 12
          },
          "showarrow": false,
          "text": "Feb",
          "x": 47,
          "xanchor": "center",
          "xref": "x",
          "y": 0,
          "yanchor": "bottom",
          "yref": "paper"
         },
         {
          "font": {
           "color": "#666",
           "size": 12
          },
          "showarrow": false,
          "text": "Mar",
          "x": 76,
          "xanchor": "center",
          "xref": "x",
          "y": 0,
          "yanchor": "bottom",
          "yref": "paper"
         },
         {
          "font": {
           "color": "#666",
           "size": 12
          },
          "showarrow": false,
          "text": "Apr",
          "x": 107,
          "xanchor": "center",
          "xref": "x",
          "y": 0,
          "yanchor": "bottom",
          "yref": "paper"
         },
         {
          "font": {
           "color": "#666",
           "size": 12
          },
          "showarrow": false,
          "text": "May",
          "x": 137,
          "xanchor": "center",
          "xref": "x",
          "y": 0,
          "yanchor": "bottom",
          "yref": "paper"
         },
         {
          "font": {
           "color": "#666",
           "size": 12
          },
          "showarrow": false,
          "text": "Jun",
          "x": 168,
          "xanchor": "center",
          "xref": "x",
          "y": 0,
          "yanchor": "bottom",
          "yref": "paper"
         },
         {
          "font": {
           "color": "#666",
           "size": 12
          },
          "showarrow": false,
          "text": "Jul",
          "x": 198,
          "xanchor": "center",
          "xref": "x",
          "y": 0,
          "yanchor": "bottom",
          "yref": "paper"
         },
         {
          "font": {
           "color": "#666",
           "size": 12
          },
          "showarrow": false,
          "text": "Aug",
          "x": 229,
          "xanchor": "center",
          "xref": "x",
          "y": 0,
          "yanchor": "bottom",
          "yref": "paper"
         },
         {
          "font": {
           "color": "#666",
           "size": 12
          },
          "showarrow": false,
          "text": "Sep",
          "x": 260,
          "xanchor": "center",
          "xref": "x",
          "y": 0,
          "yanchor": "bottom",
          "yref": "paper"
         },
         {
          "font": {
           "color": "#666",
           "size": 12
          },
          "showarrow": false,
          "text": "Oct",
          "x": 290,
          "xanchor": "center",
          "xref": "x",
          "y": 0,
          "yanchor": "bottom",
          "yref": "paper"
         },
         {
          "font": {
           "color": "#666",
           "size": 12
          },
          "showarrow": false,
          "text": "Nov",
          "x": 321,
          "xanchor": "center",
          "xref": "x",
          "y": 0,
          "yanchor": "bottom",
          "yref": "paper"
         },
         {
          "font": {
           "color": "#666",
           "size": 12
          },
          "showarrow": false,
          "text": "Dec",
          "x": 351,
          "xanchor": "center",
          "xref": "x",
          "y": 0,
          "yanchor": "bottom",
          "yref": "paper"
         }
        ],
        "font": {
         "color": "#333",
         "family": "Helvetica Neue",
         "size": 14
        },
        "legend": {
         "font": {
          "size": 14
         },
         "title": {
          "text": "Location"
         }
        },
        "margin": {
         "b": 60,
         "l": 60,
         "r": 60,
         "t": 60
        },
        "paper_bgcolor": "white",
        "plot_bgcolor": "white",
        "shapes": [
         {
          "layer": "below",
          "line": {
           "color": "#999",
           "dash": "dash",
           "width": 1
          },
          "type": "line",
          "x0": 1,
          "x1": 1,
          "xref": "x",
          "y0": 0,
          "y1": 1,
          "yref": "y domain"
         },
         {
          "layer": "below",
          "line": {
           "color": "#999",
           "dash": "dash",
           "width": 1
          },
          "type": "line",
          "x0": 32,
          "x1": 32,
          "xref": "x",
          "y0": 0,
          "y1": 1,
          "yref": "y domain"
         },
         {
          "layer": "below",
          "line": {
           "color": "#999",
           "dash": "dash",
           "width": 1
          },
          "type": "line",
          "x0": 61,
          "x1": 61,
          "xref": "x",
          "y0": 0,
          "y1": 1,
          "yref": "y domain"
         },
         {
          "layer": "below",
          "line": {
           "color": "#999",
           "dash": "dash",
           "width": 1
          },
          "type": "line",
          "x0": 92,
          "x1": 92,
          "xref": "x",
          "y0": 0,
          "y1": 1,
          "yref": "y domain"
         },
         {
          "layer": "below",
          "line": {
           "color": "#999",
           "dash": "dash",
           "width": 1
          },
          "type": "line",
          "x0": 122,
          "x1": 122,
          "xref": "x",
          "y0": 0,
          "y1": 1,
          "yref": "y domain"
         },
         {
          "layer": "below",
          "line": {
           "color": "#999",
           "dash": "dash",
           "width": 1
          },
          "type": "line",
          "x0": 153,
          "x1": 153,
          "xref": "x",
          "y0": 0,
          "y1": 1,
          "yref": "y domain"
         },
         {
          "layer": "below",
          "line": {
           "color": "#999",
           "dash": "dash",
           "width": 1
          },
          "type": "line",
          "x0": 183,
          "x1": 183,
          "xref": "x",
          "y0": 0,
          "y1": 1,
          "yref": "y domain"
         },
         {
          "layer": "below",
          "line": {
           "color": "#999",
           "dash": "dash",
           "width": 1
          },
          "type": "line",
          "x0": 214,
          "x1": 214,
          "xref": "x",
          "y0": 0,
          "y1": 1,
          "yref": "y domain"
         },
         {
          "layer": "below",
          "line": {
           "color": "#999",
           "dash": "dash",
           "width": 1
          },
          "type": "line",
          "x0": 245,
          "x1": 245,
          "xref": "x",
          "y0": 0,
          "y1": 1,
          "yref": "y domain"
         },
         {
          "layer": "below",
          "line": {
           "color": "#999",
           "dash": "dash",
           "width": 1
          },
          "type": "line",
          "x0": 275,
          "x1": 275,
          "xref": "x",
          "y0": 0,
          "y1": 1,
          "yref": "y domain"
         },
         {
          "layer": "below",
          "line": {
           "color": "#999",
           "dash": "dash",
           "width": 1
          },
          "type": "line",
          "x0": 306,
          "x1": 306,
          "xref": "x",
          "y0": 0,
          "y1": 1,
          "yref": "y domain"
         },
         {
          "layer": "below",
          "line": {
           "color": "#999",
           "dash": "dash",
           "width": 1
          },
          "type": "line",
          "x0": 336,
          "x1": 336,
          "xref": "x",
          "y0": 0,
          "y1": 1,
          "yref": "y domain"
         }
        ],
        "template": {
         "data": {
          "bar": [
           {
            "error_x": {
             "color": "#2a3f5f"
            },
            "error_y": {
             "color": "#2a3f5f"
            },
            "marker": {
             "line": {
              "color": "#E5ECF6",
              "width": 0.5
             },
             "pattern": {
              "fillmode": "overlay",
              "size": 10,
              "solidity": 0.2
             }
            },
            "type": "bar"
           }
          ],
          "barpolar": [
           {
            "marker": {
             "line": {
              "color": "#E5ECF6",
              "width": 0.5
             },
             "pattern": {
              "fillmode": "overlay",
              "size": 10,
              "solidity": 0.2
             }
            },
            "type": "barpolar"
           }
          ],
          "carpet": [
           {
            "aaxis": {
             "endlinecolor": "#2a3f5f",
             "gridcolor": "white",
             "linecolor": "white",
             "minorgridcolor": "white",
             "startlinecolor": "#2a3f5f"
            },
            "baxis": {
             "endlinecolor": "#2a3f5f",
             "gridcolor": "white",
             "linecolor": "white",
             "minorgridcolor": "white",
             "startlinecolor": "#2a3f5f"
            },
            "type": "carpet"
           }
          ],
          "choropleth": [
           {
            "colorbar": {
             "outlinewidth": 0,
             "ticks": ""
            },
            "type": "choropleth"
           }
          ],
          "contour": [
           {
            "colorbar": {
             "outlinewidth": 0,
             "ticks": ""
            },
            "colorscale": [
             [
              0,
              "#0d0887"
             ],
             [
              0.1111111111111111,
              "#46039f"
             ],
             [
              0.2222222222222222,
              "#7201a8"
             ],
             [
              0.3333333333333333,
              "#9c179e"
             ],
             [
              0.4444444444444444,
              "#bd3786"
             ],
             [
              0.5555555555555556,
              "#d8576b"
             ],
             [
              0.6666666666666666,
              "#ed7953"
             ],
             [
              0.7777777777777778,
              "#fb9f3a"
             ],
             [
              0.8888888888888888,
              "#fdca26"
             ],
             [
              1,
              "#f0f921"
             ]
            ],
            "type": "contour"
           }
          ],
          "contourcarpet": [
           {
            "colorbar": {
             "outlinewidth": 0,
             "ticks": ""
            },
            "type": "contourcarpet"
           }
          ],
          "heatmap": [
           {
            "colorbar": {
             "outlinewidth": 0,
             "ticks": ""
            },
            "colorscale": [
             [
              0,
              "#0d0887"
             ],
             [
              0.1111111111111111,
              "#46039f"
             ],
             [
              0.2222222222222222,
              "#7201a8"
             ],
             [
              0.3333333333333333,
              "#9c179e"
             ],
             [
              0.4444444444444444,
              "#bd3786"
             ],
             [
              0.5555555555555556,
              "#d8576b"
             ],
             [
              0.6666666666666666,
              "#ed7953"
             ],
             [
              0.7777777777777778,
              "#fb9f3a"
             ],
             [
              0.8888888888888888,
              "#fdca26"
             ],
             [
              1,
              "#f0f921"
             ]
            ],
            "type": "heatmap"
           }
          ],
          "histogram": [
           {
            "marker": {
             "pattern": {
              "fillmode": "overlay",
              "size": 10,
              "solidity": 0.2
             }
            },
            "type": "histogram"
           }
          ],
          "histogram2d": [
           {
            "colorbar": {
             "outlinewidth": 0,
             "ticks": ""
            },
            "colorscale": [
             [
              0,
              "#0d0887"
             ],
             [
              0.1111111111111111,
              "#46039f"
             ],
             [
              0.2222222222222222,
              "#7201a8"
             ],
             [
              0.3333333333333333,
              "#9c179e"
             ],
             [
              0.4444444444444444,
              "#bd3786"
             ],
             [
              0.5555555555555556,
              "#d8576b"
             ],
             [
              0.6666666666666666,
              "#ed7953"
             ],
             [
              0.7777777777777778,
              "#fb9f3a"
             ],
             [
              0.8888888888888888,
              "#fdca26"
             ],
             [
              1,
              "#f0f921"
             ]
            ],
            "type": "histogram2d"
           }
          ],
          "histogram2dcontour": [
           {
            "colorbar": {
             "outlinewidth": 0,
             "ticks": ""
            },
            "colorscale": [
             [
              0,
              "#0d0887"
             ],
             [
              0.1111111111111111,
              "#46039f"
             ],
             [
              0.2222222222222222,
              "#7201a8"
             ],
             [
              0.3333333333333333,
              "#9c179e"
             ],
             [
              0.4444444444444444,
              "#bd3786"
             ],
             [
              0.5555555555555556,
              "#d8576b"
             ],
             [
              0.6666666666666666,
              "#ed7953"
             ],
             [
              0.7777777777777778,
              "#fb9f3a"
             ],
             [
              0.8888888888888888,
              "#fdca26"
             ],
             [
              1,
              "#f0f921"
             ]
            ],
            "type": "histogram2dcontour"
           }
          ],
          "mesh3d": [
           {
            "colorbar": {
             "outlinewidth": 0,
             "ticks": ""
            },
            "type": "mesh3d"
           }
          ],
          "parcoords": [
           {
            "line": {
             "colorbar": {
              "outlinewidth": 0,
              "ticks": ""
             }
            },
            "type": "parcoords"
           }
          ],
          "pie": [
           {
            "automargin": true,
            "type": "pie"
           }
          ],
          "scatter": [
           {
            "fillpattern": {
             "fillmode": "overlay",
             "size": 10,
             "solidity": 0.2
            },
            "type": "scatter"
           }
          ],
          "scatter3d": [
           {
            "line": {
             "colorbar": {
              "outlinewidth": 0,
              "ticks": ""
             }
            },
            "marker": {
             "colorbar": {
              "outlinewidth": 0,
              "ticks": ""
             }
            },
            "type": "scatter3d"
           }
          ],
          "scattercarpet": [
           {
            "marker": {
             "colorbar": {
              "outlinewidth": 0,
              "ticks": ""
             }
            },
            "type": "scattercarpet"
           }
          ],
          "scattergeo": [
           {
            "marker": {
             "colorbar": {
              "outlinewidth": 0,
              "ticks": ""
             }
            },
            "type": "scattergeo"
           }
          ],
          "scattergl": [
           {
            "marker": {
             "colorbar": {
              "outlinewidth": 0,
              "ticks": ""
             }
            },
            "type": "scattergl"
           }
          ],
          "scattermap": [
           {
            "marker": {
             "colorbar": {
              "outlinewidth": 0,
              "ticks": ""
             }
            },
            "type": "scattermap"
           }
          ],
          "scattermapbox": [
           {
            "marker": {
             "colorbar": {
              "outlinewidth": 0,
              "ticks": ""
             }
            },
            "type": "scattermapbox"
           }
          ],
          "scatterpolar": [
           {
            "marker": {
             "colorbar": {
              "outlinewidth": 0,
              "ticks": ""
             }
            },
            "type": "scatterpolar"
           }
          ],
          "scatterpolargl": [
           {
            "marker": {
             "colorbar": {
              "outlinewidth": 0,
              "ticks": ""
             }
            },
            "type": "scatterpolargl"
           }
          ],
          "scatterternary": [
           {
            "marker": {
             "colorbar": {
              "outlinewidth": 0,
              "ticks": ""
             }
            },
            "type": "scatterternary"
           }
          ],
          "surface": [
           {
            "colorbar": {
             "outlinewidth": 0,
             "ticks": ""
            },
            "colorscale": [
             [
              0,
              "#0d0887"
             ],
             [
              0.1111111111111111,
              "#46039f"
             ],
             [
              0.2222222222222222,
              "#7201a8"
             ],
             [
              0.3333333333333333,
              "#9c179e"
             ],
             [
              0.4444444444444444,
              "#bd3786"
             ],
             [
              0.5555555555555556,
              "#d8576b"
             ],
             [
              0.6666666666666666,
              "#ed7953"
             ],
             [
              0.7777777777777778,
              "#fb9f3a"
             ],
             [
              0.8888888888888888,
              "#fdca26"
             ],
             [
              1,
              "#f0f921"
             ]
            ],
            "type": "surface"
           }
          ],
          "table": [
           {
            "cells": {
             "fill": {
              "color": "#EBF0F8"
             },
             "line": {
              "color": "white"
             }
            },
            "header": {
             "fill": {
              "color": "#C8D4E3"
             },
             "line": {
              "color": "white"
             }
            },
            "type": "table"
           }
          ]
         },
         "layout": {
          "annotationdefaults": {
           "arrowcolor": "#2a3f5f",
           "arrowhead": 0,
           "arrowwidth": 1
          },
          "autotypenumbers": "strict",
          "coloraxis": {
           "colorbar": {
            "outlinewidth": 0,
            "ticks": ""
           }
          },
          "colorscale": {
           "diverging": [
            [
             0,
             "#8e0152"
            ],
            [
             0.1,
             "#c51b7d"
            ],
            [
             0.2,
             "#de77ae"
            ],
            [
             0.3,
             "#f1b6da"
            ],
            [
             0.4,
             "#fde0ef"
            ],
            [
             0.5,
             "#f7f7f7"
            ],
            [
             0.6,
             "#e6f5d0"
            ],
            [
             0.7,
             "#b8e186"
            ],
            [
             0.8,
             "#7fbc41"
            ],
            [
             0.9,
             "#4d9221"
            ],
            [
             1,
             "#276419"
            ]
           ],
           "sequential": [
            [
             0,
             "#0d0887"
            ],
            [
             0.1111111111111111,
             "#46039f"
            ],
            [
             0.2222222222222222,
             "#7201a8"
            ],
            [
             0.3333333333333333,
             "#9c179e"
            ],
            [
             0.4444444444444444,
             "#bd3786"
            ],
            [
             0.5555555555555556,
             "#d8576b"
            ],
            [
             0.6666666666666666,
             "#ed7953"
            ],
            [
             0.7777777777777778,
             "#fb9f3a"
            ],
            [
             0.8888888888888888,
             "#fdca26"
            ],
            [
             1,
             "#f0f921"
            ]
           ],
           "sequentialminus": [
            [
             0,
             "#0d0887"
            ],
            [
             0.1111111111111111,
             "#46039f"
            ],
            [
             0.2222222222222222,
             "#7201a8"
            ],
            [
             0.3333333333333333,
             "#9c179e"
            ],
            [
             0.4444444444444444,
             "#bd3786"
            ],
            [
             0.5555555555555556,
             "#d8576b"
            ],
            [
             0.6666666666666666,
             "#ed7953"
            ],
            [
             0.7777777777777778,
             "#fb9f3a"
            ],
            [
             0.8888888888888888,
             "#fdca26"
            ],
            [
             1,
             "#f0f921"
            ]
           ]
          },
          "colorway": [
           "#636efa",
           "#EF553B",
           "#00cc96",
           "#ab63fa",
           "#FFA15A",
           "#19d3f3",
           "#FF6692",
           "#B6E880",
           "#FF97FF",
           "#FECB52"
          ],
          "font": {
           "color": "#2a3f5f"
          },
          "geo": {
           "bgcolor": "white",
           "lakecolor": "white",
           "landcolor": "#E5ECF6",
           "showlakes": true,
           "showland": true,
           "subunitcolor": "white"
          },
          "hoverlabel": {
           "align": "left"
          },
          "hovermode": "closest",
          "mapbox": {
           "style": "light"
          },
          "paper_bgcolor": "white",
          "plot_bgcolor": "#E5ECF6",
          "polar": {
           "angularaxis": {
            "gridcolor": "white",
            "linecolor": "white",
            "ticks": ""
           },
           "bgcolor": "#E5ECF6",
           "radialaxis": {
            "gridcolor": "white",
            "linecolor": "white",
            "ticks": ""
           }
          },
          "scene": {
           "xaxis": {
            "backgroundcolor": "#E5ECF6",
            "gridcolor": "white",
            "gridwidth": 2,
            "linecolor": "white",
            "showbackground": true,
            "ticks": "",
            "zerolinecolor": "white"
           },
           "yaxis": {
            "backgroundcolor": "#E5ECF6",
            "gridcolor": "white",
            "gridwidth": 2,
            "linecolor": "white",
            "showbackground": true,
            "ticks": "",
            "zerolinecolor": "white"
           },
           "zaxis": {
            "backgroundcolor": "#E5ECF6",
            "gridcolor": "white",
            "gridwidth": 2,
            "linecolor": "white",
            "showbackground": true,
            "ticks": "",
            "zerolinecolor": "white"
           }
          },
          "shapedefaults": {
           "line": {
            "color": "#2a3f5f"
           }
          },
          "ternary": {
           "aaxis": {
            "gridcolor": "white",
            "linecolor": "white",
            "ticks": ""
           },
           "baxis": {
            "gridcolor": "white",
            "linecolor": "white",
            "ticks": ""
           },
           "bgcolor": "#E5ECF6",
           "caxis": {
            "gridcolor": "white",
            "linecolor": "white",
            "ticks": ""
           }
          },
          "title": {
           "x": 0.05
          },
          "xaxis": {
           "automargin": true,
           "gridcolor": "white",
           "linecolor": "white",
           "ticks": "",
           "title": {
            "standoff": 15
           },
           "zerolinecolor": "white",
           "zerolinewidth": 2
          },
          "yaxis": {
           "automargin": true,
           "gridcolor": "white",
           "linecolor": "white",
           "ticks": "",
           "title": {
            "standoff": 15
           },
           "zerolinecolor": "white",
           "zerolinewidth": 2
          }
         }
        },
        "title": {
         "font": {
          "color": "#333",
          "family": "Helvetica Neue",
          "size": 20
         },
         "text": "Mean Daily Chinook Adult Count (Dams) vs. Chinook Kept (Buoy 10)"
        },
        "xaxis": {
         "gridcolor": "#E5ECF6",
         "tickfont": {
          "size": 14
         },
         "title": {
          "font": {
           "size": 16
          },
          "text": "Day of Year"
         },
         "zeroline": false
        },
        "yaxis": {
         "gridcolor": "#E5ECF6",
         "tickfont": {
          "size": 14
         },
         "title": {
          "font": {
           "size": 16
          },
          "text": "Mean Count (Dam)"
         },
         "zeroline": false
        },
        "yaxis2": {
         "overlaying": "y",
         "showgrid": false,
         "side": "right",
         "tickfont": {
          "size": 14
         },
         "title": {
          "font": {
           "size": 16
          },
          "text": "Chinook Kept (Buoy 10)"
         }
        }
       }
      }
     },
     "metadata": {},
     "output_type": "display_data"
    }
   ],
   "source": [
    "import plotly.graph_objects as go\n",
    "import calendar\n",
    "\n",
    "# Base figure\n",
    "fig = go.Figure()\n",
    "\n",
    "# Primary axis: Dam counts\n",
    "fig.add_trace(\n",
    "    go.Scatter(\n",
    "        x=bon_avg[\"DoY\"],\n",
    "        y=bon_avg[\"ChinookAdult\"],\n",
    "        name=\"Bonneville\",\n",
    "        mode=\"lines\",\n",
    "        line=dict(color=\"#08B2E3\", width=2),\n",
    "        yaxis=\"y\",\n",
    "    )\n",
    ")\n",
    "\n",
    "fig.add_trace(\n",
    "    go.Scatter(\n",
    "        x=dalles_avg[\"DoY\"],\n",
    "        y=dalles_avg[\"ChinookAdult\"],\n",
    "        name=\"Dalles\",\n",
    "        mode=\"lines\",\n",
    "        line=dict(color=\"#EE6352\", width=2),\n",
    "        yaxis=\"y\",\n",
    "    )\n",
    ")\n",
    "\n",
    "fig.add_trace(\n",
    "    go.Scatter(\n",
    "        x=johnday_avg[\"DoY\"],\n",
    "        y=johnday_avg[\"ChinookAdult\"],\n",
    "        name=\"John Day\",\n",
    "        mode=\"lines\",\n",
    "        line=dict(color=\"#B2FFA9\", width=2),\n",
    "        yaxis=\"y\",\n",
    "    )\n",
    ")\n",
    "\n",
    "fig.add_trace(\n",
    "    go.Scatter(\n",
    "        x=rmpc_Data[\"DoY\"],\n",
    "        y=rmpc_Data[\"number_caught\"],\n",
    "        name=\"RMPC Catch - WDFW Marine Area 1\",\n",
    "        mode=\"lines\",\n",
    "        line=dict(color=\"#FFEC51\", width=2),\n",
    "        yaxis=\"y\",\n",
    "    )\n",
    ")\n",
    "\n",
    "# Secondary axis: Buoy 10 catch data\n",
    "fig.add_trace(\n",
    "    go.Scatter(\n",
    "        x=buoy10_avg[\"DoY\"],\n",
    "        y=buoy10_avg[\"Chinook Kept\"] * weekly_sightings[\"SIGHTING_COUNT\"].max(),\n",
    "        name=\"Buoy 10 Chinook Kept\",\n",
    "        mode=\"lines\",\n",
    "        line=dict(color=\"#C155D3\", width=2, dash=\"dot\"),\n",
    "        yaxis=\"y2\",\n",
    "    )\n",
    ")\n",
    "\n",
    "# Secondary axis: Buoy 10 catch data\n",
    "fig.add_trace(\n",
    "    go.Scatter(\n",
    "        x=weekly_sightings[\"DoY\"],\n",
    "        y=weekly_sightings[\"SIGHTING_COUNT\"],\n",
    "        name=\"Orca Sightings Near Buoy-10\",\n",
    "        mode=\"lines\",\n",
    "        line=dict(color=\"#C81D25\", width=1, dash=\"longdash\"),\n",
    "        yaxis=\"y2\",\n",
    "    )\n",
    ")\n",
    "\n",
    "# Layout\n",
    "fig.update_layout(\n",
    "    title=dict(\n",
    "        text=\"Mean Daily Chinook Adult Count (Dams) vs. Chinook Kept (Buoy 10)\",\n",
    "        font=dict(size=20, family=\"Helvetica Neue\", color=\"#333\"),\n",
    "    ),\n",
    "    plot_bgcolor=\"white\",\n",
    "    paper_bgcolor=\"white\",\n",
    "    xaxis=dict(\n",
    "        title=dict(text=\"Day of Year\", font=dict(size=16)),\n",
    "        tickfont=dict(size=14),\n",
    "        gridcolor=\"#E5ECF6\",\n",
    "        zeroline=False,\n",
    "    ),\n",
    "    yaxis=dict(\n",
    "        title=dict(text=\"Mean Count (Dam)\", font=dict(size=16)),\n",
    "        tickfont=dict(size=14),\n",
    "        gridcolor=\"#E5ECF6\",\n",
    "        zeroline=False,\n",
    "    ),\n",
    "    yaxis2=dict(\n",
    "        title=dict(text=\"Chinook Kept (Buoy 10)\", font=dict(size=16)),\n",
    "        tickfont=dict(size=14),\n",
    "        overlaying=\"y\",\n",
    "        side=\"right\",\n",
    "        showgrid=False,\n",
    "    ),\n",
    "    legend=dict(title=\"Location\", font=dict(size=14)),\n",
    "    font=dict(family=\"Helvetica Neue\", size=14, color=\"#333\"),\n",
    "    margin=dict(l=60, r=60, t=60, b=60),\n",
    ")\n",
    "\n",
    "# Month lines and labels\n",
    "month_start_days = [1]\n",
    "for month in range(2, 13):\n",
    "    month_start_days.append(\n",
    "        sum(calendar.monthrange(2024, m)[1] for m in range(1, month)) + 1\n",
    "    )\n",
    "\n",
    "for doy in month_start_days:\n",
    "    fig.add_vline(x=doy, line=dict(color=\"#999\", width=1, dash=\"dash\"), layer=\"below\")\n",
    "\n",
    "for i, doy in enumerate(month_start_days):\n",
    "    fig.add_annotation(\n",
    "        x=doy + 15,\n",
    "        y=0,\n",
    "        yanchor=\"bottom\",\n",
    "        text=calendar.month_abbr[i + 1],\n",
    "        showarrow=False,\n",
    "        font=dict(size=12, color=\"#666\"),\n",
    "        xanchor=\"center\",\n",
    "        xref=\"x\",\n",
    "        yref=\"paper\",\n",
    "    )\n",
    "\n",
    "fig.show()"
   ]
  },
  {
   "cell_type": "code",
   "execution_count": null,
   "id": "f7aa07f0",
   "metadata": {},
   "outputs": [],
   "source": []
  },
  {
   "cell_type": "code",
   "execution_count": 26,
   "metadata": {},
   "outputs": [],
   "source": [
    "# https://www.fisheries.noaa.gov/inport/item/18090"
   ]
  },
  {
   "cell_type": "code",
   "execution_count": 27,
   "id": "ee486d3e",
   "metadata": {},
   "outputs": [
    {
     "name": "stdout",
     "output_type": "stream",
     "text": [
      "No more records — halting.\n"
     ]
    }
   ],
   "source": [
    "def fetch_srkw_coastal_page(offset=0, rows=100):\n",
    "    \"\"\"Fetch a single page of SRKW coastal occurrence data.\"\"\"\n",
    "    url = \"https://www.webapps.nwfsc.noaa.gov/apex/parr/srkw_occurrence_coastal/data/page/\"\n",
    "    params = {\"offset\": offset, \"rows\": rows}\n",
    "    headers = {\"User-Agent\": \"orca-fetcher-9000\"}\n",
    "\n",
    "    response = requests.get(url, params=params, headers=headers)\n",
    "    response.raise_for_status()\n",
    "    return response.json().get(\"items\", [])\n",
    "\n",
    "\n",
    "def fetch_all_srkw_coastal(max_pages=500, rows_per_page=100, sleep_sec=0.5):\n",
    "    \"\"\"Fetch all available pages of SRKW data, auto-stop when empty.\"\"\"\n",
    "    all_records = []\n",
    "    for i in range(max_pages):\n",
    "        offset = i * rows_per_page\n",
    "        # print(f\"Fetching page {i} (offset={offset})...\")\n",
    "        try:\n",
    "            page = fetch_srkw_coastal_page(offset=offset, rows=rows_per_page)\n",
    "            if not page:\n",
    "                print(\"No more records — halting.\")\n",
    "                break\n",
    "            all_records.extend(page)\n",
    "            time.sleep(sleep_sec)  # be kind to their server\n",
    "        except Exception as e:\n",
    "            print(f\"Page {i} errored: {e}\")\n",
    "            continue\n",
    "\n",
    "    return pd.DataFrame(all_records)\n",
    "\n",
    "\n",
    "def to_geodataframe(df, lon_field=\"lon_p\", lat_field=\"lat_p\"):\n",
    "    \"\"\"Convert a DataFrame with lon/lat to a GeoDataFrame.\"\"\"\n",
    "    df = df.copy()\n",
    "    df[\"geometry\"] = df.apply(lambda row: Point(row[lon_field], row[lat_field]), axis=1)\n",
    "    return gpd.GeoDataFrame(df, geometry=\"geometry\", crs=\"EPSG:4326\")\n",
    "\n",
    "\n",
    "# 🐋 Run the full download\n",
    "tagging_df = fetch_all_srkw_coastal()\n",
    "tagging_gdf = to_geodataframe(tagging_df)"
   ]
  },
  {
   "cell_type": "code",
   "execution_count": 30,
   "id": "0b76d2ed",
   "metadata": {},
   "outputs": [
    {
     "name": "stderr",
     "output_type": "stream",
     "text": [
      "/var/folders/p8/19qwfgfd1b1cn30h8qtz26k00000gn/T/ipykernel_1342/3206955999.py:4: UserWarning:\n",
      "\n",
      "Geometry is in a geographic CRS. Results from 'buffer' are likely incorrect. Use 'GeoSeries.to_crs()' to re-project geometries to a projected CRS before this operation.\n",
      "\n",
      "\n"
     ]
    }
   ],
   "source": [
    "degree_buffer_for_buoy10 = 0.2  # 1 degree ~ 70 miles, 0.5 degree ~ 35 miles\n",
    "\n",
    "locations_lookup_buffered = locations_lookup.copy()\n",
    "locations_lookup_buffered[\"geometry\"] = locations_lookup_buffered.buffer(\n",
    "    degree_buffer_for_buoy10\n",
    ")\n",
    "locations_lookup_buffered = locations_lookup_buffered.reset_index()\n",
    "\n",
    "tagging_gdf[\"Date\"] = pd.to_datetime(tagging_gdf[\"gmt_date\"])\n",
    "tagging_gdf[\"Year\"] = tagging_gdf[\"Date\"].dt.year\n",
    "tagging_gdf[\"DoY\"] = tagging_gdf[\"Date\"].dt.day_of_year\n",
    "\n",
    "\n",
    "tagged_near_buoy10 = tagging_gdf.sjoin(\n",
    "    locations_lookup_buffered[locations_lookup_buffered[\"name\"] == \"Buoy 10\"]\n",
    ")\n",
    "\n",
    "tagged_near_buoy10_sums = tagged_near_buoy10[[\"DoY\", \"Year\"]].drop_duplicates()\n",
    "tagged_near_buoy10_sums = tagged_near_buoy10_sums.groupby(\"DoY\", as_index=False).agg(\n",
    "    COUNT=(\"Year\", \"count\")\n",
    ")\n",
    "tagged_near_buoy10_sums[\"TYPE\"] = \"2012-2015 Coastal Tagging Near Buoy 10\"\n",
    "\n",
    "tagged_not_near_buoy10_sums = tagging_gdf[[\"DoY\", \"Year\"]].drop_duplicates()\n",
    "tagged_not_near_buoy10_sums = tagged_not_near_buoy10_sums.groupby(\n",
    "    \"DoY\", as_index=False\n",
    ").agg(COUNT=(\"Year\", \"count\"))\n",
    "tagged_not_near_buoy10_sums[\"TYPE\"] = \"2012-2015 Coastal Tagging Not Near Buoy 10\"\n",
    "tagged_not_near_buoy10_sums = tagged_not_near_buoy10_sums[\n",
    "    ~tagged_not_near_buoy10_sums.DoY.isin(tagged_near_buoy10_sums.DoY)\n",
    "]"
   ]
  },
  {
   "cell_type": "code",
   "execution_count": 31,
   "id": "55fe49dd",
   "metadata": {},
   "outputs": [],
   "source": [
    "tags = pd.concat([tagged_not_near_buoy10_sums, tagged_near_buoy10_sums])"
   ]
  },
  {
   "cell_type": "code",
   "execution_count": 32,
   "id": "d7e6ecc9",
   "metadata": {},
   "outputs": [],
   "source": [
    "# fig = px.scatter(tags, x=\"DoY\", y=\"COUNT\", color=\"TYPE\")\n",
    "# fig.show()"
   ]
  },
  {
   "cell_type": "code",
   "execution_count": 33,
   "id": "32d9d944",
   "metadata": {},
   "outputs": [
    {
     "data": {
      "application/vnd.plotly.v1+json": {
       "config": {
        "plotlyServerURL": "https://plot.ly"
       },
       "data": [
        {
         "line": {
          "color": "#08B2E3",
          "width": 2
         },
         "mode": "lines",
         "name": "Adult Chinook Count (Bonneville)",
         "type": "scatter",
         "x": {
          "bdata": "AQAAAAIAAAADAAAABAAAAAUAAAAGAAAABwAAAAgAAAAJAAAACgAAAAsAAAAMAAAADQAAAA4AAAAPAAAAEAAAABEAAAASAAAAEwAAABQAAAAVAAAAFgAAABcAAAAYAAAAGQAAABoAAAAbAAAAHAAAAB0AAAAeAAAAHwAAACAAAAAhAAAAIgAAACMAAAAkAAAAJQAAACYAAAAnAAAAKAAAACkAAAAqAAAAKwAAACwAAAAtAAAALgAAAC8AAAAwAAAAMQAAADIAAAAzAAAANAAAADUAAAA2AAAANwAAADgAAAA5AAAAOgAAADsAAAA8AAAAPQAAAD4AAAA/AAAAQAAAAEEAAABCAAAAQwAAAEQAAABFAAAARgAAAEcAAABIAAAASQAAAEoAAABLAAAATAAAAE0AAABOAAAATwAAAFAAAABRAAAAUgAAAFMAAABUAAAAVQAAAFYAAABXAAAAWAAAAFkAAABaAAAAWwAAAFwAAABdAAAAXgAAAF8AAABgAAAAYQAAAGIAAABjAAAAZAAAAGUAAABmAAAAZwAAAGgAAABpAAAAagAAAGsAAABsAAAAbQAAAG4AAABvAAAAcAAAAHEAAAByAAAAcwAAAHQAAAB1AAAAdgAAAHcAAAB4AAAAeQAAAHoAAAB7AAAAfAAAAH0AAAB+AAAAfwAAAIAAAACBAAAAggAAAIMAAACEAAAAhQAAAIYAAACHAAAAiAAAAIkAAACKAAAAiwAAAIwAAACNAAAAjgAAAI8AAACQAAAAkQAAAJIAAACTAAAAlAAAAJUAAACWAAAAlwAAAJgAAACZAAAAmgAAAJsAAACcAAAAnQAAAJ4AAACfAAAAoAAAAKEAAACiAAAAowAAAKQAAAClAAAApgAAAKcAAACoAAAAqQAAAKoAAACrAAAArAAAAK0AAACuAAAArwAAALAAAACxAAAAsgAAALMAAAC0AAAAtQAAALYAAAC3AAAAuAAAALkAAAC6AAAAuwAAALwAAAC9AAAAvgAAAL8AAADAAAAAwQAAAMIAAADDAAAAxAAAAMUAAADGAAAAxwAAAMgAAADJAAAAygAAAMsAAADMAAAAzQAAAM4AAADPAAAA0AAAANEAAADSAAAA0wAAANQAAADVAAAA1gAAANcAAADYAAAA2QAAANoAAADbAAAA3AAAAN0AAADeAAAA3wAAAOAAAADhAAAA4gAAAOMAAADkAAAA5QAAAOYAAADnAAAA6AAAAOkAAADqAAAA6wAAAOwAAADtAAAA7gAAAO8AAADwAAAA8QAAAPIAAADzAAAA9AAAAPUAAAD2AAAA9wAAAPgAAAD5AAAA+gAAAPsAAAD8AAAA/QAAAP4AAAD/AAAAAAEAAAEBAAACAQAAAwEAAAQBAAAFAQAABgEAAAcBAAAIAQAACQEAAAoBAAALAQAADAEAAA0BAAAOAQAADwEAABABAAARAQAAEgEAABMBAAAUAQAAFQEAABYBAAAXAQAAGAEAABkBAAAaAQAAGwEAABwBAAAdAQAAHgEAAB8BAAAgAQAAIQEAACIBAAAjAQAAJAEAACUBAAAmAQAAJwEAACgBAAApAQAAKgEAACsBAAAsAQAALQEAAC4BAAAvAQAAMAEAADEBAAAyAQAAMwEAADQBAAA1AQAANgEAADcBAAA4AQAAOQEAADoBAAA7AQAAPAEAAD0BAAA+AQAAPwEAAEABAABBAQAAQgEAAEMBAABEAQAARQEAAEYBAABHAQAASAEAAEkBAABKAQAASwEAAEwBAABNAQAATgEAAE8BAABQAQAAUQEAAFIBAABTAQAAVAEAAFUBAABWAQAAVwEAAFgBAABZAQAAWgEAAFsBAABcAQAAXQEAAF4BAABfAQAAYAEAAGEBAABiAQAAYwEAAGQBAABlAQAAZgEAAGcBAABoAQAAaQEAAGoBAABrAQAAbAEAAG0BAABuAQAA",
          "dtype": "i4"
         },
         "y": {
          "bdata": "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",
          "dtype": "f8"
         },
         "yaxis": "y"
        },
        {
         "line": {
          "color": "#EE6352",
          "width": 2
         },
         "mode": "lines",
         "name": "Adult Chinook Count (Dalles)",
         "type": "scatter",
         "x": {
          "bdata": "AQAAAAIAAAADAAAABAAAAAUAAAAGAAAABwAAAAgAAAAJAAAACgAAAAsAAAAMAAAADQAAAA4AAAAPAAAAEAAAABEAAAASAAAAEwAAABQAAAAVAAAAFgAAABcAAAAYAAAAGQAAABoAAAAbAAAAHAAAAB0AAAAeAAAAHwAAACAAAAAhAAAAIgAAACMAAAAkAAAAJQAAACYAAAAnAAAAKAAAACkAAAAqAAAAKwAAACwAAAAtAAAALgAAAC8AAAAwAAAAMQAAADIAAAAzAAAANAAAADUAAAA2AAAANwAAADgAAAA5AAAAOgAAADsAAAA8AAAAPQAAAD4AAAA/AAAAQAAAAEEAAABCAAAAQwAAAEQAAABFAAAARgAAAEcAAABIAAAASQAAAEoAAABLAAAATAAAAE0AAABOAAAATwAAAFAAAABRAAAAUgAAAFMAAABUAAAAVQAAAFYAAABXAAAAWAAAAFkAAABaAAAAWwAAAFwAAABdAAAAXgAAAF8AAABgAAAAYQAAAGIAAABjAAAAZAAAAGUAAABmAAAAZwAAAGgAAABpAAAAagAAAGsAAABsAAAAbQAAAG4AAABvAAAAcAAAAHEAAAByAAAAcwAAAHQAAAB1AAAAdgAAAHcAAAB4AAAAeQAAAHoAAAB7AAAAfAAAAH0AAAB+AAAAfwAAAIAAAACBAAAAggAAAIMAAACEAAAAhQAAAIYAAACHAAAAiAAAAIkAAACKAAAAiwAAAIwAAACNAAAAjgAAAI8AAACQAAAAkQAAAJIAAACTAAAAlAAAAJUAAACWAAAAlwAAAJgAAACZAAAAmgAAAJsAAACcAAAAnQAAAJ4AAACfAAAAoAAAAKEAAACiAAAAowAAAKQAAAClAAAApgAAAKcAAACoAAAAqQAAAKoAAACrAAAArAAAAK0AAACuAAAArwAAALAAAACxAAAAsgAAALMAAAC0AAAAtQAAALYAAAC3AAAAuAAAALkAAAC6AAAAuwAAALwAAAC9AAAAvgAAAL8AAADAAAAAwQAAAMIAAADDAAAAxAAAAMUAAADGAAAAxwAAAMgAAADJAAAAygAAAMsAAADMAAAAzQAAAM4AAADPAAAA0AAAANEAAADSAAAA0wAAANQAAADVAAAA1gAAANcAAADYAAAA2QAAANoAAADbAAAA3AAAAN0AAADeAAAA3wAAAOAAAADhAAAA4gAAAOMAAADkAAAA5QAAAOYAAADnAAAA6AAAAOkAAADqAAAA6wAAAOwAAADtAAAA7gAAAO8AAADwAAAA8QAAAPIAAADzAAAA9AAAAPUAAAD2AAAA9wAAAPgAAAD5AAAA+gAAAPsAAAD8AAAA/QAAAP4AAAD/AAAAAAEAAAEBAAACAQAAAwEAAAQBAAAFAQAABgEAAAcBAAAIAQAACQEAAAoBAAALAQAADAEAAA0BAAAOAQAADwEAABABAAARAQAAEgEAABMBAAAUAQAAFQEAABYBAAAXAQAAGAEAABkBAAAaAQAAGwEAABwBAAAdAQAAHgEAAB8BAAAgAQAAIQEAACIBAAAjAQAAJAEAACUBAAAmAQAAJwEAACgBAAApAQAAKgEAACsBAAAsAQAALQEAAC4BAAAvAQAAMAEAADEBAAAyAQAAMwEAADQBAAA1AQAANgEAADcBAAA4AQAAOQEAADoBAAA7AQAAPAEAAD0BAAA+AQAAPwEAAEABAABBAQAAQgEAAEMBAABEAQAARQEAAEYBAABHAQAASAEAAEkBAABKAQAASwEAAEwBAABNAQAATgEAAE8BAABQAQAAUQEAAFIBAABTAQAAVAEAAFUBAABWAQAAVwEAAFgBAABZAQAAWgEAAFsBAABcAQAAXQEAAF4BAABfAQAAYAEAAGEBAABiAQAAYwEAAGQBAABlAQAAZgEAAGcBAABoAQAAaQEAAGoBAABrAQAAbAEAAG0BAABuAQAA",
          "dtype": "i4"
         },
         "y": {
          "bdata": "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",
          "dtype": "f8"
         },
         "yaxis": "y"
        },
        {
         "line": {
          "color": "#B2FFA9",
          "width": 2
         },
         "mode": "lines",
         "name": "Adult Chinook Count (John Day)",
         "type": "scatter",
         "x": {
          "bdata": "AQAAAAIAAAADAAAABAAAAAUAAAAGAAAABwAAAAgAAAAJAAAACgAAAAsAAAAMAAAADQAAAA4AAAAPAAAAEAAAABEAAAASAAAAEwAAABQAAAAVAAAAFgAAABcAAAAYAAAAGQAAABoAAAAbAAAAHAAAAB0AAAAeAAAAHwAAACAAAAAhAAAAIgAAACMAAAAkAAAAJQAAACYAAAAnAAAAKAAAACkAAAAqAAAAKwAAACwAAAAtAAAALgAAAC8AAAAwAAAAMQAAADIAAAAzAAAANAAAADUAAAA2AAAANwAAADgAAAA5AAAAOgAAADsAAAA8AAAAPQAAAD4AAAA/AAAAQAAAAEEAAABCAAAAQwAAAEQAAABFAAAARgAAAEcAAABIAAAASQAAAEoAAABLAAAATAAAAE0AAABOAAAATwAAAFAAAABRAAAAUgAAAFMAAABUAAAAVQAAAFYAAABXAAAAWAAAAFkAAABaAAAAWwAAAFwAAABdAAAAXgAAAF8AAABgAAAAYQAAAGIAAABjAAAAZAAAAGUAAABmAAAAZwAAAGgAAABpAAAAagAAAGsAAABsAAAAbQAAAG4AAABvAAAAcAAAAHEAAAByAAAAcwAAAHQAAAB1AAAAdgAAAHcAAAB4AAAAeQAAAHoAAAB7AAAAfAAAAH0AAAB+AAAAfwAAAIAAAACBAAAAggAAAIMAAACEAAAAhQAAAIYAAACHAAAAiAAAAIkAAACKAAAAiwAAAIwAAACNAAAAjgAAAI8AAACQAAAAkQAAAJIAAACTAAAAlAAAAJUAAACWAAAAlwAAAJgAAACZAAAAmgAAAJsAAACcAAAAnQAAAJ4AAACfAAAAoAAAAKEAAACiAAAAowAAAKQAAAClAAAApgAAAKcAAACoAAAAqQAAAKoAAACrAAAArAAAAK0AAACuAAAArwAAALAAAACxAAAAsgAAALMAAAC0AAAAtQAAALYAAAC3AAAAuAAAALkAAAC6AAAAuwAAALwAAAC9AAAAvgAAAL8AAADAAAAAwQAAAMIAAADDAAAAxAAAAMUAAADGAAAAxwAAAMgAAADJAAAAygAAAMsAAADMAAAAzQAAAM4AAADPAAAA0AAAANEAAADSAAAA0wAAANQAAADVAAAA1gAAANcAAADYAAAA2QAAANoAAADbAAAA3AAAAN0AAADeAAAA3wAAAOAAAADhAAAA4gAAAOMAAADkAAAA5QAAAOYAAADnAAAA6AAAAOkAAADqAAAA6wAAAOwAAADtAAAA7gAAAO8AAADwAAAA8QAAAPIAAADzAAAA9AAAAPUAAAD2AAAA9wAAAPgAAAD5AAAA+gAAAPsAAAD8AAAA/QAAAP4AAAD/AAAAAAEAAAEBAAACAQAAAwEAAAQBAAAFAQAABgEAAAcBAAAIAQAACQEAAAoBAAALAQAADAEAAA0BAAAOAQAADwEAABABAAARAQAAEgEAABMBAAAUAQAAFQEAABYBAAAXAQAAGAEAABkBAAAaAQAAGwEAABwBAAAdAQAAHgEAAB8BAAAgAQAAIQEAACIBAAAjAQAAJAEAACUBAAAmAQAAJwEAACgBAAApAQAAKgEAACsBAAAsAQAALQEAAC4BAAAvAQAAMAEAADEBAAAyAQAAMwEAADQBAAA1AQAANgEAADcBAAA4AQAAOQEAADoBAAA7AQAAPAEAAD0BAAA+AQAAPwEAAEABAABBAQAAQgEAAEMBAABEAQAARQEAAEYBAABHAQAASAEAAEkBAABKAQAASwEAAEwBAABNAQAATgEAAE8BAABQAQAAUQEAAFIBAABTAQAAVAEAAFUBAABWAQAAVwEAAFgBAABZAQAAWgEAAFsBAABcAQAAXQEAAF4BAABfAQAAYAEAAGEBAABiAQAAYwEAAGQBAABlAQAAZgEAAGcBAABoAQAAaQEAAGoBAABrAQAAbAEAAG0BAABuAQAA",
          "dtype": "i4"
         },
         "y": {
          "bdata": "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",
          "dtype": "f8"
         },
         "yaxis": "y"
        },
        {
         "line": {
          "color": "#FFEC51",
          "width": 2
         },
         "mode": "lines",
         "name": "WDFW Catch (Marine Area 1)",
         "type": "scatter",
         "x": {
          "bdata": "AQAAAAIAAAADAAAABAAAAAUAAAAGAAAABwAAAAgAAAAJAAAACgAAAAsAAAAMAAAADQAAAA4AAAAPAAAAEAAAABEAAAASAAAAEwAAABQAAAAVAAAAFgAAABcAAAAYAAAAGQAAABoAAAAbAAAAHAAAAB0AAAAeAAAAHwAAACAAAAAhAAAAIgAAACMAAAAkAAAAJQAAACYAAAAnAAAAKAAAACkAAAAqAAAAKwAAACwAAAAtAAAALgAAAC8AAAAwAAAAMQAAADIAAAAzAAAANAAAADUAAAA2AAAANwAAADgAAAA5AAAAOgAAADsAAAA8AAAAPQAAAD4AAAA/AAAAQAAAAEEAAABCAAAAQwAAAEQAAABFAAAARgAAAEcAAABIAAAASQAAAEoAAABLAAAATAAAAE0AAABOAAAATwAAAFAAAABRAAAAUgAAAFMAAABUAAAAVQAAAFYAAABXAAAAWAAAAFkAAABaAAAAWwAAAFwAAABdAAAAXgAAAF8AAABgAAAAYQAAAGIAAABjAAAAZAAAAGUAAABmAAAAZwAAAGgAAABpAAAAagAAAGsAAABsAAAAbQAAAG4AAABvAAAAcAAAAHEAAAByAAAAcwAAAHQAAAB1AAAAdgAAAHcAAAB4AAAAeQAAAHoAAAB7AAAAfAAAAH0AAAB+AAAAfwAAAIAAAACBAAAAggAAAIMAAACEAAAAhQAAAIYAAACHAAAAiAAAAIkAAACKAAAAiwAAAIwAAACNAAAAjgAAAI8AAACQAAAAkQAAAJIAAACTAAAAlAAAAJUAAACWAAAAlwAAAJgAAACZAAAAmgAAAJsAAACcAAAAnQAAAJ4AAACfAAAAoAAAAKEAAACiAAAAowAAAKQAAAClAAAApgAAAKcAAACoAAAAqQAAAKoAAACrAAAArAAAAK0AAACuAAAArwAAALAAAACxAAAAsgAAALMAAAC0AAAAtQAAALYAAAC3AAAAuAAAALkAAAC6AAAAuwAAALwAAAC9AAAAvgAAAL8AAADAAAAAwQAAAMIAAADDAAAAxAAAAMUAAADGAAAAxwAAAMgAAADJAAAAygAAAMsAAADMAAAAzQAAAM4AAADPAAAA0AAAANEAAADSAAAA0wAAANQAAADVAAAA1gAAANcAAADYAAAA2QAAANoAAADbAAAA3AAAAN0AAADeAAAA3wAAAOAAAADhAAAA4gAAAOMAAADkAAAA5QAAAOYAAADnAAAA6AAAAOkAAADqAAAA6wAAAOwAAADtAAAA7gAAAO8AAADwAAAA8QAAAPIAAADzAAAA9AAAAPUAAAD2AAAA9wAAAPgAAAD5AAAA+gAAAPsAAAD8AAAA/QAAAP4AAAD/AAAAAAEAAAEBAAACAQAAAwEAAAQBAAAFAQAABgEAAAcBAAAIAQAACQEAAAoBAAALAQAADAEAAA0BAAAOAQAADwEAABABAAARAQAAEgEAABMBAAAUAQAAFQEAABYBAAAXAQAAGAEAABkBAAAaAQAAGwEAABwBAAAdAQAAHgEAAB8BAAAgAQAAIQEAACIBAAAjAQAAJAEAACUBAAAmAQAAJwEAACgBAAApAQAAKgEAACsBAAAsAQAALQEAAC4BAAAvAQAAMAEAADEBAAAyAQAAMwEAADQBAAA1AQAANgEAADcBAAA4AQAAOQEAADoBAAA7AQAAPAEAAD0BAAA+AQAAPwEAAEABAABBAQAAQgEAAEMBAABEAQAARQEAAEYBAABHAQAASAEAAEkBAABKAQAASwEAAEwBAABNAQAATgEAAE8BAABQAQAAUQEAAFIBAABTAQAAVAEAAFUBAABWAQAAVwEAAFgBAABZAQAAWgEAAFsBAABcAQAAXQEAAF4BAABfAQAAYAEAAGEBAABiAQAAYwEAAGQBAABlAQAAZgEAAGcBAABoAQAAaQEAAGoBAABrAQAAbAEAAG0BAABuAQAA",
          "dtype": "i4"
         },
         "y": {
          "bdata": "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",
          "dtype": "f8"
         },
         "yaxis": "y"
        },
        {
         "line": {
          "color": "#4B244A",
          "width": 2
         },
         "mode": "lines",
         "name": "Adult Chinook Count (Willamette)",
         "type": "scatter",
         "x": {
          "bdata": "AQAAAAIAAAADAAAABAAAAAUAAAAGAAAABwAAAAgAAAAJAAAACgAAAAsAAAAMAAAADQAAAA4AAAAPAAAAEAAAABEAAAASAAAAEwAAABQAAAAVAAAAFgAAABcAAAAYAAAAGQAAABoAAAAbAAAAHAAAAB0AAAAeAAAAHwAAACAAAAAhAAAAIgAAACMAAAAkAAAAJQAAACYAAAAnAAAAKAAAACkAAAAqAAAAKwAAACwAAAAtAAAALgAAAC8AAAAwAAAAMQAAADIAAAAzAAAANAAAADUAAAA2AAAANwAAADgAAAA5AAAAOgAAADsAAAA8AAAAPQAAAD4AAAA/AAAAQAAAAEEAAABCAAAAQwAAAEQAAABFAAAARgAAAEcAAABIAAAASQAAAEoAAABLAAAATAAAAE0AAABOAAAATwAAAFAAAABRAAAAUgAAAFMAAABUAAAAVQAAAFYAAABXAAAAWAAAAFkAAABaAAAAWwAAAFwAAABdAAAAXgAAAF8AAABgAAAAYQAAAGIAAABjAAAAZAAAAGUAAABmAAAAZwAAAGgAAABpAAAAagAAAGsAAABsAAAAbQAAAG4AAABvAAAAcAAAAHEAAAByAAAAcwAAAHQAAAB1AAAAdgAAAHcAAAB4AAAAeQAAAHoAAAB7AAAAfAAAAH0AAAB+AAAAfwAAAIAAAACBAAAAggAAAIMAAACEAAAAhQAAAIYAAACHAAAAiAAAAIkAAACKAAAAiwAAAIwAAACNAAAAjgAAAI8AAACQAAAAkQAAAJIAAACTAAAAlAAAAJUAAACWAAAAlwAAAJgAAACZAAAAmgAAAJsAAACcAAAAnQAAAJ4AAACfAAAAoAAAAKEAAACiAAAAowAAAKQAAAClAAAApgAAAKcAAACoAAAAqQAAAKoAAACrAAAArAAAAK0AAACuAAAArwAAALAAAACxAAAAsgAAALMAAAC0AAAAtQAAALYAAAC3AAAAuAAAALkAAAC6AAAAuwAAALwAAAC9AAAAvgAAAL8AAADAAAAAwQAAAMIAAADDAAAAxAAAAMUAAADGAAAAxwAAAMgAAADJAAAAygAAAMsAAADMAAAAzQAAAM4AAADPAAAA0AAAANEAAADSAAAA0wAAANQAAADVAAAA1gAAANcAAADYAAAA2QAAANoAAADbAAAA3AAAAN0AAADeAAAA3wAAAOAAAADhAAAA4gAAAOMAAADkAAAA5QAAAOYAAADnAAAA6AAAAOkAAADqAAAA6wAAAOwAAADtAAAA7gAAAO8AAADwAAAA8QAAAPIAAADzAAAA9AAAAPUAAAD2AAAA9wAAAPgAAAD5AAAA+gAAAPsAAAD8AAAA/QAAAP4AAAD/AAAAAAEAAAEBAAACAQAAAwEAAAQBAAAFAQAABgEAAAcBAAAIAQAACQEAAAoBAAALAQAADAEAAA0BAAAOAQAADwEAABABAAARAQAAEgEAABMBAAAUAQAAFQEAABYBAAAXAQAAGAEAABkBAAAaAQAAGwEAABwBAAAdAQAAHgEAAB8BAAAgAQAAIQEAACIBAAAjAQAAJAEAACUBAAAmAQAAJwEAACgBAAApAQAAKgEAACsBAAAsAQAALQEAAC4BAAAvAQAAMAEAADEBAAAyAQAAMwEAADQBAAA1AQAANgEAADcBAAA4AQAAOQEAADoBAAA7AQAAPAEAAD0BAAA+AQAAPwEAAEABAABBAQAAQgEAAEMBAABEAQAARQEAAEYBAABHAQAASAEAAEkBAABKAQAASwEAAEwBAABNAQAATgEAAE8BAABQAQAAUQEAAFIBAABTAQAAVAEAAFUBAABWAQAAVwEAAFgBAABZAQAAWgEAAFsBAABcAQAAXQEAAF4BAABfAQAAYAEAAGEBAABiAQAAYwEAAGQBAABlAQAAZgEAAGcBAABoAQAAaQEAAGoBAABrAQAAbAEAAG0BAABuAQAA",
          "dtype": "i4"
         },
         "y": {
          "bdata": "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",
          "dtype": "f8"
         },
         "yaxis": "y"
        },
        {
         "line": {
          "color": "#C155D3",
          "dash": "dot",
          "width": 2
         },
         "mode": "lines",
         "name": "WDFW Catch - (Buoy 10)",
         "type": "scatter",
         "x": {
          "bdata": "1AAAANUAAADWAAAA1wAAANgAAADZAAAA2gAAANsAAADcAAAA3QAAAN4AAADfAAAA4AAAAOEAAADiAAAA4wAAAOQAAADlAAAA5gAAAOcAAADoAAAA6QAAAOoAAADrAAAA7AAAAO0AAADuAAAA7wAAAPAAAADxAAAA8gAAAPMAAAD0AAAA9QAAAPYAAAD3AAAA+AAAAPkAAAD6AAAA+wAAAPwAAAD9AAAA/gAAAP8AAAAAAQAAAQEAAAIBAAADAQAABAEAAAUBAAAGAQAABwEAAAgBAAAJAQAACgEAAAsBAAAMAQAADQEAAA4BAAAPAQAAEAEAABEBAAASAQAAEwEAABQBAAAVAQAAFgEAABcBAAAYAQAAGQEAABoBAAA=",
          "dtype": "i4"
         },
         "y": {
          "bdata": "AAAAAAAA+H+DFuNzqIjJP1X5S1gewc0/TteP5zXy2z8QV7XEDuLPPzvD+h38iNM/813evhn54D/ERTleYvLYP0uJrL3a19w/9r8IrX4U2D+uzaJ3QlHePy1ylXs2p9U/iMwh8bD94D8j1bSTN6/gP4wTx8a1euU/GE5WiNFZ5T8TROL4Bt3lP6tyF0zIx+I/bFSiY56U6T8PsejZKOvnPy+ZitJbU+U/+t1sPPCo4j9cHOrrDhDjPyV5B77F0Os/OlqJuzt04D+Sbw5U1OzlP+aeNYmbvOM/Jggpf6xE6z9rXA94t7veP/T9ITYU1OI/RsdbeY4e4j+DuHnyHRnSP6sfCTu6acc/IUNlh6nL1T/4bDfZK6nHP1uGFI2+M8A/kst/SL99nT+amZmZmZmpP57neZ7nea4/ERERERERwT8DnTbQaQPNP2AaA6YxYMo/hLsrDM1Ooj97FK5H4XqUPwAAAAAAAAAAAAAAAAAAAABVVVVVVVWVPwAAAAAAAAAAGIZhGIZhiD8d1EEd1EGdPwAAAAAAAAAAVVVVVVVVlT8AAAAAAAAAAAAAAAAAAAAAAAAAAAAAAAAAAAAAAAAAAAAAAAAAAAAAAAAAAAAAAAAAAAAAAAAAAAAAAAAAAAAAAAAAAAAAAAAAAAAAAAAAAJqZmZmZmak/AAAAAAAAAAAAAAAAAAD4fwAAAAAAAPh/AAAAAAAAAAAAAAAAAAAAAAAAAAAAAAAAAAAAAAAAAAAAAAAAAAAAAA==",
          "dtype": "f8"
         },
         "yaxis": "y2"
        },
        {
         "line": {
          "color": "#C81D25",
          "dash": "longdash",
          "width": 1
         },
         "mode": "lines",
         "name": "Orca Sightings Near Buoy-10",
         "type": "scatter",
         "x": {
          "bdata": "AQACAAMABAAFAAYABwAIAAkACgALAAwADQAOAA8AEAARABIAEwAUABUAFgAXABgAGQAaABsAHAAdAB4AHwAgACEAIgAjACQAJQAmACcAKAApACoAKwAsAC0ALgAvADAAMQAyADMANAA1ADYANwA4ADkAOgA7ADwAPQA+AD8AQABBAEIAQwBEAEUARgBHAEgASQBKAEsATABNAE4ATwBQAFEAUgBTAFQAVQBWAFcAWABZAFoAWwBcAF0AXgBfAGAAYQBiAGMAZABlAGYAZwBoAGkAagBrAGwAbQBuAG8AcABxAHIAcwB0AHUAdgB3AHgAeQB6AHsAfAB9AH4AfwCAAIEAggCDAIQAhQCGAIcAiACJAIoAiwCMAI0AjgCPAJAAkQCSAJMAlACVAJYAlwCYAJkAmgCbAJwAnQCeAJ8AoAChAKIAowCkAKUApgCnAKgAqQCqAKsArACtAK4ArwCwALEAsgCzALQAtQC2ALcAuAC5ALoAuwC8AL0AvgC/AMAAwQDCAMMAxADFAMYAxwDIAMkAygDLAMwAzQDOAM8A0ADRANIA0wDUANUA1gDXANgA2QDaANsA3ADdAN4A3wDgAOEA4gDjAOQA5QDmAOcA6ADpAOoA6wDsAO0A7gDvAPAA8QDyAPMA9AD1APYA9wD4APkA+gD7APwA/QD+AP8AAAEBAQIBAwEEAQUBBgEHAQgBCQEKAQsBDAENAQ4BDwEQAREBEgETARQBFQEWARcBGAEZARoBGwEcAR0BHgEfASABIQEiASMBJAElASYBJwEoASkBKgErASwBLQEuAS8BMAExATIBMwE0ATUBNgE3ATgBOQE6ATsBPAE9AT4BPwFAAUEBQgFDAUQBRQFGAUcBSAFJAUoBSwFMAU0BTgFPAVABUQFSAVMBVAFVAVYBVwFYAVkBWgFbAVwBXQFeAV8BYAFhAWIBYwFkAWUBZgFnAWgBaQFqAWsBbAFtAW4B",
          "dtype": "i2"
         },
         "y": {
          "bdata": "AAAAAAAAAAAAAAAAAAAAAAAAAAAAAAAAAAAAAAAAAAAAAAAAAAAAAAAAAAAAAAAAAAAAAAAAAAAAAAAAAAAAAAAAAAAAAAAAAAAAAAAAAAAAAAAAAAEAAAAAAAAAAAAAAAAAAAAAAAAAAAAAAAAAAAAAAAAAAAAAAAAAAAAAAAAAAAAAAAAAAAAAAQAAAAAAAAAAAAAAAAAAAAAAAAAAAAAAAAAAAAAAAAAAAAAAAAAAAAAAAAAAAAAAAAAAAAAAAAAAAAAAAAAAAAAAAAAAAAAAAAAAAAAAAAAAAAAAAAAAAAAAAAAAAAAAAAAAAAAAAAAAAAAAAAAAAAAAAAAAAAAAAAAAAAAAAAAAAAAAAAAAAAAAAAAAAAAAAAAAAAAAAAAAAAAAAAAAAAAAAAAAAAAAAAAAAAAAAAAAAAAAAAAAAAAAAAAAAAAAAAAAAAAAAAAAAAAAAAAAAAAAAAAAAAAAAAAAAAAAAAAAAAAA",
          "dtype": "i1"
         },
         "yaxis": "y2"
        },
        {
         "marker": {
          "color": "#DE6E4B",
          "size": 10
         },
         "mode": "markers",
         "name": "2012-2015 Coastal Tagging Near Buoy 10",
         "showlegend": true,
         "type": "scatter",
         "x": [
          null
         ],
         "y": [
          null
         ]
        },
        {
         "marker": {
          "color": "#7FD1B9",
          "size": 10
         },
         "mode": "markers",
         "name": "2012-2015 Coastal Tagging Not Near Buoy 10",
         "showlegend": true,
         "type": "scatter",
         "x": [
          null
         ],
         "y": [
          null
         ]
        }
       ],
       "layout": {
        "annotations": [
         {
          "font": {
           "color": "#7FD1B9",
           "size": 10
          },
          "showarrow": false,
          "text": "●",
          "x": 1,
          "xanchor": "center",
          "xref": "x",
          "y": 1.02,
          "yref": "paper"
         },
         {
          "font": {
           "color": "#7FD1B9",
           "size": 10
          },
          "showarrow": false,
          "text": "●",
          "x": 2,
          "xanchor": "center",
          "xref": "x",
          "y": 1.02,
          "yref": "paper"
         },
         {
          "font": {
           "color": "#7FD1B9",
           "size": 10
          },
          "showarrow": false,
          "text": "●",
          "x": 3,
          "xanchor": "center",
          "xref": "x",
          "y": 1.02,
          "yref": "paper"
         },
         {
          "font": {
           "color": "#7FD1B9",
           "size": 10
          },
          "showarrow": false,
          "text": "●",
          "x": 4,
          "xanchor": "center",
          "xref": "x",
          "y": 1.02,
          "yref": "paper"
         },
         {
          "font": {
           "color": "#7FD1B9",
           "size": 10
          },
          "showarrow": false,
          "text": "●",
          "x": 5,
          "xanchor": "center",
          "xref": "x",
          "y": 1.02,
          "yref": "paper"
         },
         {
          "font": {
           "color": "#7FD1B9",
           "size": 10
          },
          "showarrow": false,
          "text": "●",
          "x": 6,
          "xanchor": "center",
          "xref": "x",
          "y": 1.02,
          "yref": "paper"
         },
         {
          "font": {
           "color": "#7FD1B9",
           "size": 10
          },
          "showarrow": false,
          "text": "●",
          "x": 7,
          "xanchor": "center",
          "xref": "x",
          "y": 1.02,
          "yref": "paper"
         },
         {
          "font": {
           "color": "#7FD1B9",
           "size": 10
          },
          "showarrow": false,
          "text": "●",
          "x": 8,
          "xanchor": "center",
          "xref": "x",
          "y": 1.02,
          "yref": "paper"
         },
         {
          "font": {
           "color": "#7FD1B9",
           "size": 10
          },
          "showarrow": false,
          "text": "●",
          "x": 9,
          "xanchor": "center",
          "xref": "x",
          "y": 1.02,
          "yref": "paper"
         },
         {
          "font": {
           "color": "#7FD1B9",
           "size": 10
          },
          "showarrow": false,
          "text": "●",
          "x": 10,
          "xanchor": "center",
          "xref": "x",
          "y": 1.02,
          "yref": "paper"
         },
         {
          "font": {
           "color": "#7FD1B9",
           "size": 10
          },
          "showarrow": false,
          "text": "●",
          "x": 11,
          "xanchor": "center",
          "xref": "x",
          "y": 1.02,
          "yref": "paper"
         },
         {
          "font": {
           "color": "#7FD1B9",
           "size": 10
          },
          "showarrow": false,
          "text": "●",
          "x": 12,
          "xanchor": "center",
          "xref": "x",
          "y": 1.02,
          "yref": "paper"
         },
         {
          "font": {
           "color": "#7FD1B9",
           "size": 10
          },
          "showarrow": false,
          "text": "●",
          "x": 13,
          "xanchor": "center",
          "xref": "x",
          "y": 1.02,
          "yref": "paper"
         },
         {
          "font": {
           "color": "#7FD1B9",
           "size": 10
          },
          "showarrow": false,
          "text": "●",
          "x": 14,
          "xanchor": "center",
          "xref": "x",
          "y": 1.02,
          "yref": "paper"
         },
         {
          "font": {
           "color": "#7FD1B9",
           "size": 10
          },
          "showarrow": false,
          "text": "●",
          "x": 15,
          "xanchor": "center",
          "xref": "x",
          "y": 1.02,
          "yref": "paper"
         },
         {
          "font": {
           "color": "#7FD1B9",
           "size": 10
          },
          "showarrow": false,
          "text": "●",
          "x": 16,
          "xanchor": "center",
          "xref": "x",
          "y": 1.02,
          "yref": "paper"
         },
         {
          "font": {
           "color": "#7FD1B9",
           "size": 10
          },
          "showarrow": false,
          "text": "●",
          "x": 17,
          "xanchor": "center",
          "xref": "x",
          "y": 1.02,
          "yref": "paper"
         },
         {
          "font": {
           "color": "#7FD1B9",
           "size": 10
          },
          "showarrow": false,
          "text": "●",
          "x": 18,
          "xanchor": "center",
          "xref": "x",
          "y": 1.02,
          "yref": "paper"
         },
         {
          "font": {
           "color": "#7FD1B9",
           "size": 10
          },
          "showarrow": false,
          "text": "●",
          "x": 19,
          "xanchor": "center",
          "xref": "x",
          "y": 1.02,
          "yref": "paper"
         },
         {
          "font": {
           "color": "#7FD1B9",
           "size": 10
          },
          "showarrow": false,
          "text": "●",
          "x": 20,
          "xanchor": "center",
          "xref": "x",
          "y": 1.02,
          "yref": "paper"
         },
         {
          "font": {
           "color": "#7FD1B9",
           "size": 10
          },
          "showarrow": false,
          "text": "●",
          "x": 21,
          "xanchor": "center",
          "xref": "x",
          "y": 1.02,
          "yref": "paper"
         },
         {
          "font": {
           "color": "#7FD1B9",
           "size": 10
          },
          "showarrow": false,
          "text": "●",
          "x": 22,
          "xanchor": "center",
          "xref": "x",
          "y": 1.02,
          "yref": "paper"
         },
         {
          "font": {
           "color": "#7FD1B9",
           "size": 10
          },
          "showarrow": false,
          "text": "●",
          "x": 23,
          "xanchor": "center",
          "xref": "x",
          "y": 1.02,
          "yref": "paper"
         },
         {
          "font": {
           "color": "#7FD1B9",
           "size": 10
          },
          "showarrow": false,
          "text": "●",
          "x": 24,
          "xanchor": "center",
          "xref": "x",
          "y": 1.02,
          "yref": "paper"
         },
         {
          "font": {
           "color": "#7FD1B9",
           "size": 10
          },
          "showarrow": false,
          "text": "●",
          "x": 25,
          "xanchor": "center",
          "xref": "x",
          "y": 1.02,
          "yref": "paper"
         },
         {
          "font": {
           "color": "#7FD1B9",
           "size": 10
          },
          "showarrow": false,
          "text": "●",
          "x": 26,
          "xanchor": "center",
          "xref": "x",
          "y": 1.02,
          "yref": "paper"
         },
         {
          "font": {
           "color": "#7FD1B9",
           "size": 10
          },
          "showarrow": false,
          "text": "●",
          "x": 27,
          "xanchor": "center",
          "xref": "x",
          "y": 1.02,
          "yref": "paper"
         },
         {
          "font": {
           "color": "#7FD1B9",
           "size": 10
          },
          "showarrow": false,
          "text": "●",
          "x": 28,
          "xanchor": "center",
          "xref": "x",
          "y": 1.02,
          "yref": "paper"
         },
         {
          "font": {
           "color": "#7FD1B9",
           "size": 10
          },
          "showarrow": false,
          "text": "●",
          "x": 29,
          "xanchor": "center",
          "xref": "x",
          "y": 1.02,
          "yref": "paper"
         },
         {
          "font": {
           "color": "#7FD1B9",
           "size": 10
          },
          "showarrow": false,
          "text": "●",
          "x": 30,
          "xanchor": "center",
          "xref": "x",
          "y": 1.02,
          "yref": "paper"
         },
         {
          "font": {
           "color": "#7FD1B9",
           "size": 10
          },
          "showarrow": false,
          "text": "●",
          "x": 32,
          "xanchor": "center",
          "xref": "x",
          "y": 1.02,
          "yref": "paper"
         },
         {
          "font": {
           "color": "#7FD1B9",
           "size": 10
          },
          "showarrow": false,
          "text": "●",
          "x": 33,
          "xanchor": "center",
          "xref": "x",
          "y": 1.02,
          "yref": "paper"
         },
         {
          "font": {
           "color": "#7FD1B9",
           "size": 10
          },
          "showarrow": false,
          "text": "●",
          "x": 34,
          "xanchor": "center",
          "xref": "x",
          "y": 1.02,
          "yref": "paper"
         },
         {
          "font": {
           "color": "#7FD1B9",
           "size": 10
          },
          "showarrow": false,
          "text": "●",
          "x": 35,
          "xanchor": "center",
          "xref": "x",
          "y": 1.02,
          "yref": "paper"
         },
         {
          "font": {
           "color": "#7FD1B9",
           "size": 10
          },
          "showarrow": false,
          "text": "●",
          "x": 36,
          "xanchor": "center",
          "xref": "x",
          "y": 1.02,
          "yref": "paper"
         },
         {
          "font": {
           "color": "#7FD1B9",
           "size": 10
          },
          "showarrow": false,
          "text": "●",
          "x": 37,
          "xanchor": "center",
          "xref": "x",
          "y": 1.02,
          "yref": "paper"
         },
         {
          "font": {
           "color": "#7FD1B9",
           "size": 10
          },
          "showarrow": false,
          "text": "●",
          "x": 38,
          "xanchor": "center",
          "xref": "x",
          "y": 1.02,
          "yref": "paper"
         },
         {
          "font": {
           "color": "#7FD1B9",
           "size": 10
          },
          "showarrow": false,
          "text": "●",
          "x": 39,
          "xanchor": "center",
          "xref": "x",
          "y": 1.02,
          "yref": "paper"
         },
         {
          "font": {
           "color": "#7FD1B9",
           "size": 10
          },
          "showarrow": false,
          "text": "●",
          "x": 40,
          "xanchor": "center",
          "xref": "x",
          "y": 1.02,
          "yref": "paper"
         },
         {
          "font": {
           "color": "#7FD1B9",
           "size": 10
          },
          "showarrow": false,
          "text": "●",
          "x": 41,
          "xanchor": "center",
          "xref": "x",
          "y": 1.02,
          "yref": "paper"
         },
         {
          "font": {
           "color": "#7FD1B9",
           "size": 10
          },
          "showarrow": false,
          "text": "●",
          "x": 42,
          "xanchor": "center",
          "xref": "x",
          "y": 1.02,
          "yref": "paper"
         },
         {
          "font": {
           "color": "#7FD1B9",
           "size": 10
          },
          "showarrow": false,
          "text": "●",
          "x": 43,
          "xanchor": "center",
          "xref": "x",
          "y": 1.02,
          "yref": "paper"
         },
         {
          "font": {
           "color": "#7FD1B9",
           "size": 10
          },
          "showarrow": false,
          "text": "●",
          "x": 44,
          "xanchor": "center",
          "xref": "x",
          "y": 1.02,
          "yref": "paper"
         },
         {
          "font": {
           "color": "#7FD1B9",
           "size": 10
          },
          "showarrow": false,
          "text": "●",
          "x": 45,
          "xanchor": "center",
          "xref": "x",
          "y": 1.02,
          "yref": "paper"
         },
         {
          "font": {
           "color": "#7FD1B9",
           "size": 10
          },
          "showarrow": false,
          "text": "●",
          "x": 46,
          "xanchor": "center",
          "xref": "x",
          "y": 1.02,
          "yref": "paper"
         },
         {
          "font": {
           "color": "#7FD1B9",
           "size": 10
          },
          "showarrow": false,
          "text": "●",
          "x": 47,
          "xanchor": "center",
          "xref": "x",
          "y": 1.02,
          "yref": "paper"
         },
         {
          "font": {
           "color": "#7FD1B9",
           "size": 10
          },
          "showarrow": false,
          "text": "●",
          "x": 49,
          "xanchor": "center",
          "xref": "x",
          "y": 1.02,
          "yref": "paper"
         },
         {
          "font": {
           "color": "#7FD1B9",
           "size": 10
          },
          "showarrow": false,
          "text": "●",
          "x": 51,
          "xanchor": "center",
          "xref": "x",
          "y": 1.02,
          "yref": "paper"
         },
         {
          "font": {
           "color": "#7FD1B9",
           "size": 10
          },
          "showarrow": false,
          "text": "●",
          "x": 52,
          "xanchor": "center",
          "xref": "x",
          "y": 1.02,
          "yref": "paper"
         },
         {
          "font": {
           "color": "#7FD1B9",
           "size": 10
          },
          "showarrow": false,
          "text": "●",
          "x": 53,
          "xanchor": "center",
          "xref": "x",
          "y": 1.02,
          "yref": "paper"
         },
         {
          "font": {
           "color": "#7FD1B9",
           "size": 10
          },
          "showarrow": false,
          "text": "●",
          "x": 54,
          "xanchor": "center",
          "xref": "x",
          "y": 1.02,
          "yref": "paper"
         },
         {
          "font": {
           "color": "#7FD1B9",
           "size": 10
          },
          "showarrow": false,
          "text": "●",
          "x": 57,
          "xanchor": "center",
          "xref": "x",
          "y": 1.02,
          "yref": "paper"
         },
         {
          "font": {
           "color": "#7FD1B9",
           "size": 10
          },
          "showarrow": false,
          "text": "●",
          "x": 58,
          "xanchor": "center",
          "xref": "x",
          "y": 1.02,
          "yref": "paper"
         },
         {
          "font": {
           "color": "#7FD1B9",
           "size": 10
          },
          "showarrow": false,
          "text": "●",
          "x": 59,
          "xanchor": "center",
          "xref": "x",
          "y": 1.02,
          "yref": "paper"
         },
         {
          "font": {
           "color": "#7FD1B9",
           "size": 10
          },
          "showarrow": false,
          "text": "●",
          "x": 60,
          "xanchor": "center",
          "xref": "x",
          "y": 1.02,
          "yref": "paper"
         },
         {
          "font": {
           "color": "#7FD1B9",
           "size": 10
          },
          "showarrow": false,
          "text": "●",
          "x": 61,
          "xanchor": "center",
          "xref": "x",
          "y": 1.02,
          "yref": "paper"
         },
         {
          "font": {
           "color": "#7FD1B9",
           "size": 10
          },
          "showarrow": false,
          "text": "●",
          "x": 62,
          "xanchor": "center",
          "xref": "x",
          "y": 1.02,
          "yref": "paper"
         },
         {
          "font": {
           "color": "#7FD1B9",
           "size": 10
          },
          "showarrow": false,
          "text": "●",
          "x": 63,
          "xanchor": "center",
          "xref": "x",
          "y": 1.02,
          "yref": "paper"
         },
         {
          "font": {
           "color": "#7FD1B9",
           "size": 10
          },
          "showarrow": false,
          "text": "●",
          "x": 64,
          "xanchor": "center",
          "xref": "x",
          "y": 1.02,
          "yref": "paper"
         },
         {
          "font": {
           "color": "#7FD1B9",
           "size": 10
          },
          "showarrow": false,
          "text": "●",
          "x": 65,
          "xanchor": "center",
          "xref": "x",
          "y": 1.02,
          "yref": "paper"
         },
         {
          "font": {
           "color": "#7FD1B9",
           "size": 10
          },
          "showarrow": false,
          "text": "●",
          "x": 66,
          "xanchor": "center",
          "xref": "x",
          "y": 1.02,
          "yref": "paper"
         },
         {
          "font": {
           "color": "#7FD1B9",
           "size": 10
          },
          "showarrow": false,
          "text": "●",
          "x": 67,
          "xanchor": "center",
          "xref": "x",
          "y": 1.02,
          "yref": "paper"
         },
         {
          "font": {
           "color": "#7FD1B9",
           "size": 10
          },
          "showarrow": false,
          "text": "●",
          "x": 68,
          "xanchor": "center",
          "xref": "x",
          "y": 1.02,
          "yref": "paper"
         },
         {
          "font": {
           "color": "#7FD1B9",
           "size": 10
          },
          "showarrow": false,
          "text": "●",
          "x": 69,
          "xanchor": "center",
          "xref": "x",
          "y": 1.02,
          "yref": "paper"
         },
         {
          "font": {
           "color": "#7FD1B9",
           "size": 10
          },
          "showarrow": false,
          "text": "●",
          "x": 70,
          "xanchor": "center",
          "xref": "x",
          "y": 1.02,
          "yref": "paper"
         },
         {
          "font": {
           "color": "#7FD1B9",
           "size": 10
          },
          "showarrow": false,
          "text": "●",
          "x": 71,
          "xanchor": "center",
          "xref": "x",
          "y": 1.02,
          "yref": "paper"
         },
         {
          "font": {
           "color": "#7FD1B9",
           "size": 10
          },
          "showarrow": false,
          "text": "●",
          "x": 72,
          "xanchor": "center",
          "xref": "x",
          "y": 1.02,
          "yref": "paper"
         },
         {
          "font": {
           "color": "#7FD1B9",
           "size": 10
          },
          "showarrow": false,
          "text": "●",
          "x": 75,
          "xanchor": "center",
          "xref": "x",
          "y": 1.02,
          "yref": "paper"
         },
         {
          "font": {
           "color": "#7FD1B9",
           "size": 10
          },
          "showarrow": false,
          "text": "●",
          "x": 76,
          "xanchor": "center",
          "xref": "x",
          "y": 1.02,
          "yref": "paper"
         },
         {
          "font": {
           "color": "#7FD1B9",
           "size": 10
          },
          "showarrow": false,
          "text": "●",
          "x": 77,
          "xanchor": "center",
          "xref": "x",
          "y": 1.02,
          "yref": "paper"
         },
         {
          "font": {
           "color": "#7FD1B9",
           "size": 10
          },
          "showarrow": false,
          "text": "●",
          "x": 78,
          "xanchor": "center",
          "xref": "x",
          "y": 1.02,
          "yref": "paper"
         },
         {
          "font": {
           "color": "#7FD1B9",
           "size": 10
          },
          "showarrow": false,
          "text": "●",
          "x": 79,
          "xanchor": "center",
          "xref": "x",
          "y": 1.02,
          "yref": "paper"
         },
         {
          "font": {
           "color": "#7FD1B9",
           "size": 10
          },
          "showarrow": false,
          "text": "●",
          "x": 81,
          "xanchor": "center",
          "xref": "x",
          "y": 1.02,
          "yref": "paper"
         },
         {
          "font": {
           "color": "#7FD1B9",
           "size": 10
          },
          "showarrow": false,
          "text": "●",
          "x": 82,
          "xanchor": "center",
          "xref": "x",
          "y": 1.02,
          "yref": "paper"
         },
         {
          "font": {
           "color": "#7FD1B9",
           "size": 10
          },
          "showarrow": false,
          "text": "●",
          "x": 84,
          "xanchor": "center",
          "xref": "x",
          "y": 1.02,
          "yref": "paper"
         },
         {
          "font": {
           "color": "#7FD1B9",
           "size": 10
          },
          "showarrow": false,
          "text": "●",
          "x": 85,
          "xanchor": "center",
          "xref": "x",
          "y": 1.02,
          "yref": "paper"
         },
         {
          "font": {
           "color": "#7FD1B9",
           "size": 10
          },
          "showarrow": false,
          "text": "●",
          "x": 86,
          "xanchor": "center",
          "xref": "x",
          "y": 1.02,
          "yref": "paper"
         },
         {
          "font": {
           "color": "#7FD1B9",
           "size": 10
          },
          "showarrow": false,
          "text": "●",
          "x": 87,
          "xanchor": "center",
          "xref": "x",
          "y": 1.02,
          "yref": "paper"
         },
         {
          "font": {
           "color": "#7FD1B9",
           "size": 10
          },
          "showarrow": false,
          "text": "●",
          "x": 88,
          "xanchor": "center",
          "xref": "x",
          "y": 1.02,
          "yref": "paper"
         },
         {
          "font": {
           "color": "#7FD1B9",
           "size": 10
          },
          "showarrow": false,
          "text": "●",
          "x": 91,
          "xanchor": "center",
          "xref": "x",
          "y": 1.02,
          "yref": "paper"
         },
         {
          "font": {
           "color": "#7FD1B9",
           "size": 10
          },
          "showarrow": false,
          "text": "●",
          "x": 95,
          "xanchor": "center",
          "xref": "x",
          "y": 1.02,
          "yref": "paper"
         },
         {
          "font": {
           "color": "#7FD1B9",
           "size": 10
          },
          "showarrow": false,
          "text": "●",
          "x": 96,
          "xanchor": "center",
          "xref": "x",
          "y": 1.02,
          "yref": "paper"
         },
         {
          "font": {
           "color": "#7FD1B9",
           "size": 10
          },
          "showarrow": false,
          "text": "●",
          "x": 97,
          "xanchor": "center",
          "xref": "x",
          "y": 1.02,
          "yref": "paper"
         },
         {
          "font": {
           "color": "#7FD1B9",
           "size": 10
          },
          "showarrow": false,
          "text": "●",
          "x": 98,
          "xanchor": "center",
          "xref": "x",
          "y": 1.02,
          "yref": "paper"
         },
         {
          "font": {
           "color": "#7FD1B9",
           "size": 10
          },
          "showarrow": false,
          "text": "●",
          "x": 99,
          "xanchor": "center",
          "xref": "x",
          "y": 1.02,
          "yref": "paper"
         },
         {
          "font": {
           "color": "#7FD1B9",
           "size": 10
          },
          "showarrow": false,
          "text": "●",
          "x": 100,
          "xanchor": "center",
          "xref": "x",
          "y": 1.02,
          "yref": "paper"
         },
         {
          "font": {
           "color": "#7FD1B9",
           "size": 10
          },
          "showarrow": false,
          "text": "●",
          "x": 103,
          "xanchor": "center",
          "xref": "x",
          "y": 1.02,
          "yref": "paper"
         },
         {
          "font": {
           "color": "#7FD1B9",
           "size": 10
          },
          "showarrow": false,
          "text": "●",
          "x": 104,
          "xanchor": "center",
          "xref": "x",
          "y": 1.02,
          "yref": "paper"
         },
         {
          "font": {
           "color": "#7FD1B9",
           "size": 10
          },
          "showarrow": false,
          "text": "●",
          "x": 105,
          "xanchor": "center",
          "xref": "x",
          "y": 1.02,
          "yref": "paper"
         },
         {
          "font": {
           "color": "#7FD1B9",
           "size": 10
          },
          "showarrow": false,
          "text": "●",
          "x": 107,
          "xanchor": "center",
          "xref": "x",
          "y": 1.02,
          "yref": "paper"
         },
         {
          "font": {
           "color": "#7FD1B9",
           "size": 10
          },
          "showarrow": false,
          "text": "●",
          "x": 108,
          "xanchor": "center",
          "xref": "x",
          "y": 1.02,
          "yref": "paper"
         },
         {
          "font": {
           "color": "#7FD1B9",
           "size": 10
          },
          "showarrow": false,
          "text": "●",
          "x": 109,
          "xanchor": "center",
          "xref": "x",
          "y": 1.02,
          "yref": "paper"
         },
         {
          "font": {
           "color": "#7FD1B9",
           "size": 10
          },
          "showarrow": false,
          "text": "●",
          "x": 110,
          "xanchor": "center",
          "xref": "x",
          "y": 1.02,
          "yref": "paper"
         },
         {
          "font": {
           "color": "#7FD1B9",
           "size": 10
          },
          "showarrow": false,
          "text": "●",
          "x": 111,
          "xanchor": "center",
          "xref": "x",
          "y": 1.02,
          "yref": "paper"
         },
         {
          "font": {
           "color": "#7FD1B9",
           "size": 10
          },
          "showarrow": false,
          "text": "●",
          "x": 112,
          "xanchor": "center",
          "xref": "x",
          "y": 1.02,
          "yref": "paper"
         },
         {
          "font": {
           "color": "#7FD1B9",
           "size": 10
          },
          "showarrow": false,
          "text": "●",
          "x": 114,
          "xanchor": "center",
          "xref": "x",
          "y": 1.02,
          "yref": "paper"
         },
         {
          "font": {
           "color": "#7FD1B9",
           "size": 10
          },
          "showarrow": false,
          "text": "●",
          "x": 115,
          "xanchor": "center",
          "xref": "x",
          "y": 1.02,
          "yref": "paper"
         },
         {
          "font": {
           "color": "#7FD1B9",
           "size": 10
          },
          "showarrow": false,
          "text": "●",
          "x": 116,
          "xanchor": "center",
          "xref": "x",
          "y": 1.02,
          "yref": "paper"
         },
         {
          "font": {
           "color": "#7FD1B9",
           "size": 10
          },
          "showarrow": false,
          "text": "●",
          "x": 119,
          "xanchor": "center",
          "xref": "x",
          "y": 1.02,
          "yref": "paper"
         },
         {
          "font": {
           "color": "#7FD1B9",
           "size": 10
          },
          "showarrow": false,
          "text": "●",
          "x": 121,
          "xanchor": "center",
          "xref": "x",
          "y": 1.02,
          "yref": "paper"
         },
         {
          "font": {
           "color": "#7FD1B9",
           "size": 10
          },
          "showarrow": false,
          "text": "●",
          "x": 122,
          "xanchor": "center",
          "xref": "x",
          "y": 1.02,
          "yref": "paper"
         },
         {
          "font": {
           "color": "#7FD1B9",
           "size": 10
          },
          "showarrow": false,
          "text": "●",
          "x": 123,
          "xanchor": "center",
          "xref": "x",
          "y": 1.02,
          "yref": "paper"
         },
         {
          "font": {
           "color": "#7FD1B9",
           "size": 10
          },
          "showarrow": false,
          "text": "●",
          "x": 124,
          "xanchor": "center",
          "xref": "x",
          "y": 1.02,
          "yref": "paper"
         },
         {
          "font": {
           "color": "#7FD1B9",
           "size": 10
          },
          "showarrow": false,
          "text": "●",
          "x": 126,
          "xanchor": "center",
          "xref": "x",
          "y": 1.02,
          "yref": "paper"
         },
         {
          "font": {
           "color": "#7FD1B9",
           "size": 10
          },
          "showarrow": false,
          "text": "●",
          "x": 128,
          "xanchor": "center",
          "xref": "x",
          "y": 1.02,
          "yref": "paper"
         },
         {
          "font": {
           "color": "#7FD1B9",
           "size": 10
          },
          "showarrow": false,
          "text": "●",
          "x": 129,
          "xanchor": "center",
          "xref": "x",
          "y": 1.02,
          "yref": "paper"
         },
         {
          "font": {
           "color": "#7FD1B9",
           "size": 10
          },
          "showarrow": false,
          "text": "●",
          "x": 131,
          "xanchor": "center",
          "xref": "x",
          "y": 1.02,
          "yref": "paper"
         },
         {
          "font": {
           "color": "#7FD1B9",
           "size": 10
          },
          "showarrow": false,
          "text": "●",
          "x": 133,
          "xanchor": "center",
          "xref": "x",
          "y": 1.02,
          "yref": "paper"
         },
         {
          "font": {
           "color": "#7FD1B9",
           "size": 10
          },
          "showarrow": false,
          "text": "●",
          "x": 135,
          "xanchor": "center",
          "xref": "x",
          "y": 1.02,
          "yref": "paper"
         },
         {
          "font": {
           "color": "#7FD1B9",
           "size": 10
          },
          "showarrow": false,
          "text": "●",
          "x": 139,
          "xanchor": "center",
          "xref": "x",
          "y": 1.02,
          "yref": "paper"
         },
         {
          "font": {
           "color": "#7FD1B9",
           "size": 10
          },
          "showarrow": false,
          "text": "●",
          "x": 360,
          "xanchor": "center",
          "xref": "x",
          "y": 1.02,
          "yref": "paper"
         },
         {
          "font": {
           "color": "#7FD1B9",
           "size": 10
          },
          "showarrow": false,
          "text": "●",
          "x": 361,
          "xanchor": "center",
          "xref": "x",
          "y": 1.02,
          "yref": "paper"
         },
         {
          "font": {
           "color": "#7FD1B9",
           "size": 10
          },
          "showarrow": false,
          "text": "●",
          "x": 362,
          "xanchor": "center",
          "xref": "x",
          "y": 1.02,
          "yref": "paper"
         },
         {
          "font": {
           "color": "#7FD1B9",
           "size": 10
          },
          "showarrow": false,
          "text": "●",
          "x": 363,
          "xanchor": "center",
          "xref": "x",
          "y": 1.02,
          "yref": "paper"
         },
         {
          "font": {
           "color": "#7FD1B9",
           "size": 10
          },
          "showarrow": false,
          "text": "●",
          "x": 364,
          "xanchor": "center",
          "xref": "x",
          "y": 1.02,
          "yref": "paper"
         },
         {
          "font": {
           "color": "#7FD1B9",
           "size": 10
          },
          "showarrow": false,
          "text": "●",
          "x": 365,
          "xanchor": "center",
          "xref": "x",
          "y": 1.02,
          "yref": "paper"
         },
         {
          "font": {
           "color": "#7FD1B9",
           "size": 10
          },
          "showarrow": false,
          "text": "●",
          "x": 366,
          "xanchor": "center",
          "xref": "x",
          "y": 1.02,
          "yref": "paper"
         },
         {
          "font": {
           "color": "#DE6E4B",
           "size": 10
          },
          "showarrow": false,
          "text": "●",
          "x": 31,
          "xanchor": "center",
          "xref": "x",
          "y": 1.02,
          "yref": "paper"
         },
         {
          "font": {
           "color": "#DE6E4B",
           "size": 10
          },
          "showarrow": false,
          "text": "●",
          "x": 48,
          "xanchor": "center",
          "xref": "x",
          "y": 1.02,
          "yref": "paper"
         },
         {
          "font": {
           "color": "#DE6E4B",
           "size": 10
          },
          "showarrow": false,
          "text": "●",
          "x": 50,
          "xanchor": "center",
          "xref": "x",
          "y": 1.02,
          "yref": "paper"
         },
         {
          "font": {
           "color": "#DE6E4B",
           "size": 10
          },
          "showarrow": false,
          "text": "●",
          "x": 55,
          "xanchor": "center",
          "xref": "x",
          "y": 1.02,
          "yref": "paper"
         },
         {
          "font": {
           "color": "#DE6E4B",
           "size": 10
          },
          "showarrow": false,
          "text": "●",
          "x": 56,
          "xanchor": "center",
          "xref": "x",
          "y": 1.02,
          "yref": "paper"
         },
         {
          "font": {
           "color": "#DE6E4B",
           "size": 10
          },
          "showarrow": false,
          "text": "●",
          "x": 73,
          "xanchor": "center",
          "xref": "x",
          "y": 1.02,
          "yref": "paper"
         },
         {
          "font": {
           "color": "#DE6E4B",
           "size": 10
          },
          "showarrow": false,
          "text": "●",
          "x": 74,
          "xanchor": "center",
          "xref": "x",
          "y": 1.02,
          "yref": "paper"
         },
         {
          "font": {
           "color": "#DE6E4B",
           "size": 10
          },
          "showarrow": false,
          "text": "●",
          "x": 80,
          "xanchor": "center",
          "xref": "x",
          "y": 1.02,
          "yref": "paper"
         },
         {
          "font": {
           "color": "#DE6E4B",
           "size": 10
          },
          "showarrow": false,
          "text": "●",
          "x": 83,
          "xanchor": "center",
          "xref": "x",
          "y": 1.02,
          "yref": "paper"
         },
         {
          "font": {
           "color": "#DE6E4B",
           "size": 10
          },
          "showarrow": false,
          "text": "●",
          "x": 89,
          "xanchor": "center",
          "xref": "x",
          "y": 1.02,
          "yref": "paper"
         },
         {
          "font": {
           "color": "#DE6E4B",
           "size": 10
          },
          "showarrow": false,
          "text": "●",
          "x": 90,
          "xanchor": "center",
          "xref": "x",
          "y": 1.02,
          "yref": "paper"
         },
         {
          "font": {
           "color": "#DE6E4B",
           "size": 10
          },
          "showarrow": false,
          "text": "●",
          "x": 92,
          "xanchor": "center",
          "xref": "x",
          "y": 1.02,
          "yref": "paper"
         },
         {
          "font": {
           "color": "#DE6E4B",
           "size": 10
          },
          "showarrow": false,
          "text": "●",
          "x": 93,
          "xanchor": "center",
          "xref": "x",
          "y": 1.02,
          "yref": "paper"
         },
         {
          "font": {
           "color": "#DE6E4B",
           "size": 10
          },
          "showarrow": false,
          "text": "●",
          "x": 94,
          "xanchor": "center",
          "xref": "x",
          "y": 1.02,
          "yref": "paper"
         },
         {
          "font": {
           "color": "#DE6E4B",
           "size": 10
          },
          "showarrow": false,
          "text": "●",
          "x": 101,
          "xanchor": "center",
          "xref": "x",
          "y": 1.02,
          "yref": "paper"
         },
         {
          "font": {
           "color": "#DE6E4B",
           "size": 10
          },
          "showarrow": false,
          "text": "●",
          "x": 102,
          "xanchor": "center",
          "xref": "x",
          "y": 1.02,
          "yref": "paper"
         },
         {
          "font": {
           "color": "#DE6E4B",
           "size": 10
          },
          "showarrow": false,
          "text": "●",
          "x": 106,
          "xanchor": "center",
          "xref": "x",
          "y": 1.02,
          "yref": "paper"
         },
         {
          "font": {
           "color": "#DE6E4B",
           "size": 10
          },
          "showarrow": false,
          "text": "●",
          "x": 113,
          "xanchor": "center",
          "xref": "x",
          "y": 1.02,
          "yref": "paper"
         },
         {
          "font": {
           "color": "#DE6E4B",
           "size": 10
          },
          "showarrow": false,
          "text": "●",
          "x": 117,
          "xanchor": "center",
          "xref": "x",
          "y": 1.02,
          "yref": "paper"
         },
         {
          "font": {
           "color": "#DE6E4B",
           "size": 10
          },
          "showarrow": false,
          "text": "●",
          "x": 118,
          "xanchor": "center",
          "xref": "x",
          "y": 1.02,
          "yref": "paper"
         },
         {
          "font": {
           "color": "#DE6E4B",
           "size": 10
          },
          "showarrow": false,
          "text": "●",
          "x": 120,
          "xanchor": "center",
          "xref": "x",
          "y": 1.02,
          "yref": "paper"
         },
         {
          "font": {
           "color": "#DE6E4B",
           "size": 10
          },
          "showarrow": false,
          "text": "●",
          "x": 137,
          "xanchor": "center",
          "xref": "x",
          "y": 1.02,
          "yref": "paper"
         },
         {
          "font": {
           "color": "#DE6E4B",
           "size": 10
          },
          "showarrow": false,
          "text": "●",
          "x": 141,
          "xanchor": "center",
          "xref": "x",
          "y": 1.02,
          "yref": "paper"
         },
         {
          "font": {
           "color": "#666",
           "size": 12
          },
          "showarrow": false,
          "text": "Jan",
          "x": 16,
          "xanchor": "center",
          "xref": "x",
          "y": 0,
          "yanchor": "bottom",
          "yref": "paper"
         },
         {
          "font": {
           "color": "#666",
           "size": 12
          },
          "showarrow": false,
          "text": "Feb",
          "x": 47,
          "xanchor": "center",
          "xref": "x",
          "y": 0,
          "yanchor": "bottom",
          "yref": "paper"
         },
         {
          "font": {
           "color": "#666",
           "size": 12
          },
          "showarrow": false,
          "text": "Mar",
          "x": 76,
          "xanchor": "center",
          "xref": "x",
          "y": 0,
          "yanchor": "bottom",
          "yref": "paper"
         },
         {
          "font": {
           "color": "#666",
           "size": 12
          },
          "showarrow": false,
          "text": "Apr",
          "x": 107,
          "xanchor": "center",
          "xref": "x",
          "y": 0,
          "yanchor": "bottom",
          "yref": "paper"
         },
         {
          "font": {
           "color": "#666",
           "size": 12
          },
          "showarrow": false,
          "text": "May",
          "x": 137,
          "xanchor": "center",
          "xref": "x",
          "y": 0,
          "yanchor": "bottom",
          "yref": "paper"
         },
         {
          "font": {
           "color": "#666",
           "size": 12
          },
          "showarrow": false,
          "text": "Jun",
          "x": 168,
          "xanchor": "center",
          "xref": "x",
          "y": 0,
          "yanchor": "bottom",
          "yref": "paper"
         },
         {
          "font": {
           "color": "#666",
           "size": 12
          },
          "showarrow": false,
          "text": "Jul",
          "x": 198,
          "xanchor": "center",
          "xref": "x",
          "y": 0,
          "yanchor": "bottom",
          "yref": "paper"
         },
         {
          "font": {
           "color": "#666",
           "size": 12
          },
          "showarrow": false,
          "text": "Aug",
          "x": 229,
          "xanchor": "center",
          "xref": "x",
          "y": 0,
          "yanchor": "bottom",
          "yref": "paper"
         },
         {
          "font": {
           "color": "#666",
           "size": 12
          },
          "showarrow": false,
          "text": "Sep",
          "x": 260,
          "xanchor": "center",
          "xref": "x",
          "y": 0,
          "yanchor": "bottom",
          "yref": "paper"
         },
         {
          "font": {
           "color": "#666",
           "size": 12
          },
          "showarrow": false,
          "text": "Oct",
          "x": 290,
          "xanchor": "center",
          "xref": "x",
          "y": 0,
          "yanchor": "bottom",
          "yref": "paper"
         },
         {
          "font": {
           "color": "#666",
           "size": 12
          },
          "showarrow": false,
          "text": "Nov",
          "x": 321,
          "xanchor": "center",
          "xref": "x",
          "y": 0,
          "yanchor": "bottom",
          "yref": "paper"
         },
         {
          "font": {
           "color": "#666",
           "size": 12
          },
          "showarrow": false,
          "text": "Dec",
          "x": 351,
          "xanchor": "center",
          "xref": "x",
          "y": 0,
          "yanchor": "bottom",
          "yref": "paper"
         }
        ],
        "font": {
         "color": "#333",
         "family": "Helvetica Neue",
         "size": 14
        },
        "legend": {
         "bgcolor": "rgba(255,255,255,0.8)",
         "bordercolor": "#ccc",
         "borderwidth": 1,
         "font": {
          "size": 14
         },
         "title": {
          "text": "Location"
         },
         "x": 1.1,
         "xanchor": "left",
         "y": 0.99,
         "yanchor": "top"
        },
        "margin": {
         "b": 60,
         "l": 60,
         "r": 60,
         "t": 60
        },
        "paper_bgcolor": "white",
        "plot_bgcolor": "white",
        "shapes": [
         {
          "layer": "below",
          "line": {
           "color": "#999",
           "dash": "dash",
           "width": 1
          },
          "type": "line",
          "x0": 1,
          "x1": 1,
          "xref": "x",
          "y0": 0,
          "y1": 1,
          "yref": "y domain"
         },
         {
          "layer": "below",
          "line": {
           "color": "#999",
           "dash": "dash",
           "width": 1
          },
          "type": "line",
          "x0": 32,
          "x1": 32,
          "xref": "x",
          "y0": 0,
          "y1": 1,
          "yref": "y domain"
         },
         {
          "layer": "below",
          "line": {
           "color": "#999",
           "dash": "dash",
           "width": 1
          },
          "type": "line",
          "x0": 61,
          "x1": 61,
          "xref": "x",
          "y0": 0,
          "y1": 1,
          "yref": "y domain"
         },
         {
          "layer": "below",
          "line": {
           "color": "#999",
           "dash": "dash",
           "width": 1
          },
          "type": "line",
          "x0": 92,
          "x1": 92,
          "xref": "x",
          "y0": 0,
          "y1": 1,
          "yref": "y domain"
         },
         {
          "layer": "below",
          "line": {
           "color": "#999",
           "dash": "dash",
           "width": 1
          },
          "type": "line",
          "x0": 122,
          "x1": 122,
          "xref": "x",
          "y0": 0,
          "y1": 1,
          "yref": "y domain"
         },
         {
          "layer": "below",
          "line": {
           "color": "#999",
           "dash": "dash",
           "width": 1
          },
          "type": "line",
          "x0": 153,
          "x1": 153,
          "xref": "x",
          "y0": 0,
          "y1": 1,
          "yref": "y domain"
         },
         {
          "layer": "below",
          "line": {
           "color": "#999",
           "dash": "dash",
           "width": 1
          },
          "type": "line",
          "x0": 183,
          "x1": 183,
          "xref": "x",
          "y0": 0,
          "y1": 1,
          "yref": "y domain"
         },
         {
          "layer": "below",
          "line": {
           "color": "#999",
           "dash": "dash",
           "width": 1
          },
          "type": "line",
          "x0": 214,
          "x1": 214,
          "xref": "x",
          "y0": 0,
          "y1": 1,
          "yref": "y domain"
         },
         {
          "layer": "below",
          "line": {
           "color": "#999",
           "dash": "dash",
           "width": 1
          },
          "type": "line",
          "x0": 245,
          "x1": 245,
          "xref": "x",
          "y0": 0,
          "y1": 1,
          "yref": "y domain"
         },
         {
          "layer": "below",
          "line": {
           "color": "#999",
           "dash": "dash",
           "width": 1
          },
          "type": "line",
          "x0": 275,
          "x1": 275,
          "xref": "x",
          "y0": 0,
          "y1": 1,
          "yref": "y domain"
         },
         {
          "layer": "below",
          "line": {
           "color": "#999",
           "dash": "dash",
           "width": 1
          },
          "type": "line",
          "x0": 306,
          "x1": 306,
          "xref": "x",
          "y0": 0,
          "y1": 1,
          "yref": "y domain"
         },
         {
          "layer": "below",
          "line": {
           "color": "#999",
           "dash": "dash",
           "width": 1
          },
          "type": "line",
          "x0": 336,
          "x1": 336,
          "xref": "x",
          "y0": 0,
          "y1": 1,
          "yref": "y domain"
         }
        ],
        "template": {
         "data": {
          "bar": [
           {
            "error_x": {
             "color": "#2a3f5f"
            },
            "error_y": {
             "color": "#2a3f5f"
            },
            "marker": {
             "line": {
              "color": "#E5ECF6",
              "width": 0.5
             },
             "pattern": {
              "fillmode": "overlay",
              "size": 10,
              "solidity": 0.2
             }
            },
            "type": "bar"
           }
          ],
          "barpolar": [
           {
            "marker": {
             "line": {
              "color": "#E5ECF6",
              "width": 0.5
             },
             "pattern": {
              "fillmode": "overlay",
              "size": 10,
              "solidity": 0.2
             }
            },
            "type": "barpolar"
           }
          ],
          "carpet": [
           {
            "aaxis": {
             "endlinecolor": "#2a3f5f",
             "gridcolor": "white",
             "linecolor": "white",
             "minorgridcolor": "white",
             "startlinecolor": "#2a3f5f"
            },
            "baxis": {
             "endlinecolor": "#2a3f5f",
             "gridcolor": "white",
             "linecolor": "white",
             "minorgridcolor": "white",
             "startlinecolor": "#2a3f5f"
            },
            "type": "carpet"
           }
          ],
          "choropleth": [
           {
            "colorbar": {
             "outlinewidth": 0,
             "ticks": ""
            },
            "type": "choropleth"
           }
          ],
          "contour": [
           {
            "colorbar": {
             "outlinewidth": 0,
             "ticks": ""
            },
            "colorscale": [
             [
              0,
              "#0d0887"
             ],
             [
              0.1111111111111111,
              "#46039f"
             ],
             [
              0.2222222222222222,
              "#7201a8"
             ],
             [
              0.3333333333333333,
              "#9c179e"
             ],
             [
              0.4444444444444444,
              "#bd3786"
             ],
             [
              0.5555555555555556,
              "#d8576b"
             ],
             [
              0.6666666666666666,
              "#ed7953"
             ],
             [
              0.7777777777777778,
              "#fb9f3a"
             ],
             [
              0.8888888888888888,
              "#fdca26"
             ],
             [
              1,
              "#f0f921"
             ]
            ],
            "type": "contour"
           }
          ],
          "contourcarpet": [
           {
            "colorbar": {
             "outlinewidth": 0,
             "ticks": ""
            },
            "type": "contourcarpet"
           }
          ],
          "heatmap": [
           {
            "colorbar": {
             "outlinewidth": 0,
             "ticks": ""
            },
            "colorscale": [
             [
              0,
              "#0d0887"
             ],
             [
              0.1111111111111111,
              "#46039f"
             ],
             [
              0.2222222222222222,
              "#7201a8"
             ],
             [
              0.3333333333333333,
              "#9c179e"
             ],
             [
              0.4444444444444444,
              "#bd3786"
             ],
             [
              0.5555555555555556,
              "#d8576b"
             ],
             [
              0.6666666666666666,
              "#ed7953"
             ],
             [
              0.7777777777777778,
              "#fb9f3a"
             ],
             [
              0.8888888888888888,
              "#fdca26"
             ],
             [
              1,
              "#f0f921"
             ]
            ],
            "type": "heatmap"
           }
          ],
          "histogram": [
           {
            "marker": {
             "pattern": {
              "fillmode": "overlay",
              "size": 10,
              "solidity": 0.2
             }
            },
            "type": "histogram"
           }
          ],
          "histogram2d": [
           {
            "colorbar": {
             "outlinewidth": 0,
             "ticks": ""
            },
            "colorscale": [
             [
              0,
              "#0d0887"
             ],
             [
              0.1111111111111111,
              "#46039f"
             ],
             [
              0.2222222222222222,
              "#7201a8"
             ],
             [
              0.3333333333333333,
              "#9c179e"
             ],
             [
              0.4444444444444444,
              "#bd3786"
             ],
             [
              0.5555555555555556,
              "#d8576b"
             ],
             [
              0.6666666666666666,
              "#ed7953"
             ],
             [
              0.7777777777777778,
              "#fb9f3a"
             ],
             [
              0.8888888888888888,
              "#fdca26"
             ],
             [
              1,
              "#f0f921"
             ]
            ],
            "type": "histogram2d"
           }
          ],
          "histogram2dcontour": [
           {
            "colorbar": {
             "outlinewidth": 0,
             "ticks": ""
            },
            "colorscale": [
             [
              0,
              "#0d0887"
             ],
             [
              0.1111111111111111,
              "#46039f"
             ],
             [
              0.2222222222222222,
              "#7201a8"
             ],
             [
              0.3333333333333333,
              "#9c179e"
             ],
             [
              0.4444444444444444,
              "#bd3786"
             ],
             [
              0.5555555555555556,
              "#d8576b"
             ],
             [
              0.6666666666666666,
              "#ed7953"
             ],
             [
              0.7777777777777778,
              "#fb9f3a"
             ],
             [
              0.8888888888888888,
              "#fdca26"
             ],
             [
              1,
              "#f0f921"
             ]
            ],
            "type": "histogram2dcontour"
           }
          ],
          "mesh3d": [
           {
            "colorbar": {
             "outlinewidth": 0,
             "ticks": ""
            },
            "type": "mesh3d"
           }
          ],
          "parcoords": [
           {
            "line": {
             "colorbar": {
              "outlinewidth": 0,
              "ticks": ""
             }
            },
            "type": "parcoords"
           }
          ],
          "pie": [
           {
            "automargin": true,
            "type": "pie"
           }
          ],
          "scatter": [
           {
            "fillpattern": {
             "fillmode": "overlay",
             "size": 10,
             "solidity": 0.2
            },
            "type": "scatter"
           }
          ],
          "scatter3d": [
           {
            "line": {
             "colorbar": {
              "outlinewidth": 0,
              "ticks": ""
             }
            },
            "marker": {
             "colorbar": {
              "outlinewidth": 0,
              "ticks": ""
             }
            },
            "type": "scatter3d"
           }
          ],
          "scattercarpet": [
           {
            "marker": {
             "colorbar": {
              "outlinewidth": 0,
              "ticks": ""
             }
            },
            "type": "scattercarpet"
           }
          ],
          "scattergeo": [
           {
            "marker": {
             "colorbar": {
              "outlinewidth": 0,
              "ticks": ""
             }
            },
            "type": "scattergeo"
           }
          ],
          "scattergl": [
           {
            "marker": {
             "colorbar": {
              "outlinewidth": 0,
              "ticks": ""
             }
            },
            "type": "scattergl"
           }
          ],
          "scattermap": [
           {
            "marker": {
             "colorbar": {
              "outlinewidth": 0,
              "ticks": ""
             }
            },
            "type": "scattermap"
           }
          ],
          "scattermapbox": [
           {
            "marker": {
             "colorbar": {
              "outlinewidth": 0,
              "ticks": ""
             }
            },
            "type": "scattermapbox"
           }
          ],
          "scatterpolar": [
           {
            "marker": {
             "colorbar": {
              "outlinewidth": 0,
              "ticks": ""
             }
            },
            "type": "scatterpolar"
           }
          ],
          "scatterpolargl": [
           {
            "marker": {
             "colorbar": {
              "outlinewidth": 0,
              "ticks": ""
             }
            },
            "type": "scatterpolargl"
           }
          ],
          "scatterternary": [
           {
            "marker": {
             "colorbar": {
              "outlinewidth": 0,
              "ticks": ""
             }
            },
            "type": "scatterternary"
           }
          ],
          "surface": [
           {
            "colorbar": {
             "outlinewidth": 0,
             "ticks": ""
            },
            "colorscale": [
             [
              0,
              "#0d0887"
             ],
             [
              0.1111111111111111,
              "#46039f"
             ],
             [
              0.2222222222222222,
              "#7201a8"
             ],
             [
              0.3333333333333333,
              "#9c179e"
             ],
             [
              0.4444444444444444,
              "#bd3786"
             ],
             [
              0.5555555555555556,
              "#d8576b"
             ],
             [
              0.6666666666666666,
              "#ed7953"
             ],
             [
              0.7777777777777778,
              "#fb9f3a"
             ],
             [
              0.8888888888888888,
              "#fdca26"
             ],
             [
              1,
              "#f0f921"
             ]
            ],
            "type": "surface"
           }
          ],
          "table": [
           {
            "cells": {
             "fill": {
              "color": "#EBF0F8"
             },
             "line": {
              "color": "white"
             }
            },
            "header": {
             "fill": {
              "color": "#C8D4E3"
             },
             "line": {
              "color": "white"
             }
            },
            "type": "table"
           }
          ]
         },
         "layout": {
          "annotationdefaults": {
           "arrowcolor": "#2a3f5f",
           "arrowhead": 0,
           "arrowwidth": 1
          },
          "autotypenumbers": "strict",
          "coloraxis": {
           "colorbar": {
            "outlinewidth": 0,
            "ticks": ""
           }
          },
          "colorscale": {
           "diverging": [
            [
             0,
             "#8e0152"
            ],
            [
             0.1,
             "#c51b7d"
            ],
            [
             0.2,
             "#de77ae"
            ],
            [
             0.3,
             "#f1b6da"
            ],
            [
             0.4,
             "#fde0ef"
            ],
            [
             0.5,
             "#f7f7f7"
            ],
            [
             0.6,
             "#e6f5d0"
            ],
            [
             0.7,
             "#b8e186"
            ],
            [
             0.8,
             "#7fbc41"
            ],
            [
             0.9,
             "#4d9221"
            ],
            [
             1,
             "#276419"
            ]
           ],
           "sequential": [
            [
             0,
             "#0d0887"
            ],
            [
             0.1111111111111111,
             "#46039f"
            ],
            [
             0.2222222222222222,
             "#7201a8"
            ],
            [
             0.3333333333333333,
             "#9c179e"
            ],
            [
             0.4444444444444444,
             "#bd3786"
            ],
            [
             0.5555555555555556,
             "#d8576b"
            ],
            [
             0.6666666666666666,
             "#ed7953"
            ],
            [
             0.7777777777777778,
             "#fb9f3a"
            ],
            [
             0.8888888888888888,
             "#fdca26"
            ],
            [
             1,
             "#f0f921"
            ]
           ],
           "sequentialminus": [
            [
             0,
             "#0d0887"
            ],
            [
             0.1111111111111111,
             "#46039f"
            ],
            [
             0.2222222222222222,
             "#7201a8"
            ],
            [
             0.3333333333333333,
             "#9c179e"
            ],
            [
             0.4444444444444444,
             "#bd3786"
            ],
            [
             0.5555555555555556,
             "#d8576b"
            ],
            [
             0.6666666666666666,
             "#ed7953"
            ],
            [
             0.7777777777777778,
             "#fb9f3a"
            ],
            [
             0.8888888888888888,
             "#fdca26"
            ],
            [
             1,
             "#f0f921"
            ]
           ]
          },
          "colorway": [
           "#636efa",
           "#EF553B",
           "#00cc96",
           "#ab63fa",
           "#FFA15A",
           "#19d3f3",
           "#FF6692",
           "#B6E880",
           "#FF97FF",
           "#FECB52"
          ],
          "font": {
           "color": "#2a3f5f"
          },
          "geo": {
           "bgcolor": "white",
           "lakecolor": "white",
           "landcolor": "#E5ECF6",
           "showlakes": true,
           "showland": true,
           "subunitcolor": "white"
          },
          "hoverlabel": {
           "align": "left"
          },
          "hovermode": "closest",
          "mapbox": {
           "style": "light"
          },
          "paper_bgcolor": "white",
          "plot_bgcolor": "#E5ECF6",
          "polar": {
           "angularaxis": {
            "gridcolor": "white",
            "linecolor": "white",
            "ticks": ""
           },
           "bgcolor": "#E5ECF6",
           "radialaxis": {
            "gridcolor": "white",
            "linecolor": "white",
            "ticks": ""
           }
          },
          "scene": {
           "xaxis": {
            "backgroundcolor": "#E5ECF6",
            "gridcolor": "white",
            "gridwidth": 2,
            "linecolor": "white",
            "showbackground": true,
            "ticks": "",
            "zerolinecolor": "white"
           },
           "yaxis": {
            "backgroundcolor": "#E5ECF6",
            "gridcolor": "white",
            "gridwidth": 2,
            "linecolor": "white",
            "showbackground": true,
            "ticks": "",
            "zerolinecolor": "white"
           },
           "zaxis": {
            "backgroundcolor": "#E5ECF6",
            "gridcolor": "white",
            "gridwidth": 2,
            "linecolor": "white",
            "showbackground": true,
            "ticks": "",
            "zerolinecolor": "white"
           }
          },
          "shapedefaults": {
           "line": {
            "color": "#2a3f5f"
           }
          },
          "ternary": {
           "aaxis": {
            "gridcolor": "white",
            "linecolor": "white",
            "ticks": ""
           },
           "baxis": {
            "gridcolor": "white",
            "linecolor": "white",
            "ticks": ""
           },
           "bgcolor": "#E5ECF6",
           "caxis": {
            "gridcolor": "white",
            "linecolor": "white",
            "ticks": ""
           }
          },
          "title": {
           "x": 0.05
          },
          "xaxis": {
           "automargin": true,
           "gridcolor": "white",
           "linecolor": "white",
           "ticks": "",
           "title": {
            "standoff": 15
           },
           "zerolinecolor": "white",
           "zerolinewidth": 2
          },
          "yaxis": {
           "automargin": true,
           "gridcolor": "white",
           "linecolor": "white",
           "ticks": "",
           "title": {
            "standoff": 15
           },
           "zerolinecolor": "white",
           "zerolinewidth": 2
          }
         }
        },
        "title": {
         "font": {
          "color": "#333",
          "family": "Helvetica Neue",
          "size": 20
         },
         "text": "Mean Daily Chinook Adult Count (Dams) vs. Chinook Catch (Buoy 10 + Marine Area 1) vs. Orca Presence"
        },
        "xaxis": {
         "gridcolor": "#E5ECF6",
         "tickfont": {
          "size": 14
         },
         "title": {
          "font": {
           "size": 16
          },
          "text": "Day of Year"
         },
         "zeroline": false
        },
        "yaxis": {
         "gridcolor": "#E5ECF6",
         "tickfont": {
          "size": 14
         },
         "title": {
          "font": {
           "size": 16
          },
          "text": "Mean Count (Dam)"
         },
         "zeroline": false
        },
        "yaxis2": {
         "overlaying": "y",
         "showgrid": false,
         "side": "right",
         "tickfont": {
          "size": 14
         },
         "title": {
          "font": {
           "size": 16
          },
          "text": "Chinook Kept (Buoy 10)"
         }
        }
       }
      }
     },
     "metadata": {},
     "output_type": "display_data"
    }
   ],
   "source": [
    "import plotly.graph_objects as go\n",
    "import calendar\n",
    "\n",
    "# Base figure\n",
    "fig = go.Figure()\n",
    "\n",
    "# Primary axis: Dam counts\n",
    "fig.add_trace(\n",
    "    go.Scatter(\n",
    "        x=bon_avg[\"DoY\"],\n",
    "        y=bon_avg[\"ChinookAdult\"],\n",
    "        name=\"Adult Chinook Count (Bonneville)\",\n",
    "        mode=\"lines\",\n",
    "        line=dict(color=\"#08B2E3\", width=2),\n",
    "        yaxis=\"y\",\n",
    "    )\n",
    ")\n",
    "\n",
    "fig.add_trace(\n",
    "    go.Scatter(\n",
    "        x=dalles_avg[\"DoY\"],\n",
    "        y=dalles_avg[\"ChinookAdult\"],\n",
    "        name=\"Adult Chinook Count (Dalles)\",\n",
    "        mode=\"lines\",\n",
    "        line=dict(color=\"#EE6352\", width=2),\n",
    "        yaxis=\"y\",\n",
    "    )\n",
    ")\n",
    "\n",
    "fig.add_trace(\n",
    "    go.Scatter(\n",
    "        x=johnday_avg[\"DoY\"],\n",
    "        y=johnday_avg[\"ChinookAdult\"],\n",
    "        name=\"Adult Chinook Count (John Day)\",\n",
    "        mode=\"lines\",\n",
    "        line=dict(color=\"#B2FFA9\", width=2),\n",
    "        yaxis=\"y\",\n",
    "    )\n",
    ")\n",
    "\n",
    "fig.add_trace(\n",
    "    go.Scatter(\n",
    "        x=rmpc_Data[\"DoY\"],\n",
    "        y=rmpc_Data[\"number_caught\"],\n",
    "        name=\"WDFW Catch (Marine Area 1)\",\n",
    "        mode=\"lines\",\n",
    "        line=dict(color=\"#FFEC51\", width=2),\n",
    "        yaxis=\"y\",\n",
    "    )\n",
    ")\n",
    "\n",
    "fig.add_trace(\n",
    "    go.Scatter(\n",
    "        x=willamette_avg[\"DoY\"],\n",
    "        y=willamette_avg[\"ChinookAdult\"],\n",
    "        name=\"Adult Chinook Count (Willamette)\",\n",
    "        mode=\"lines\",\n",
    "        line=dict(color=\"#4B244A\", width=2),\n",
    "        yaxis=\"y\",\n",
    "    )\n",
    ")\n",
    "\n",
    "# Secondary axis: Buoy 10 catch data\n",
    "fig.add_trace(\n",
    "    go.Scatter(\n",
    "        x=buoy10_avg[\"DoY\"],\n",
    "        y=buoy10_avg[\"Chinook Kept\"] * weekly_sightings[\"SIGHTING_COUNT\"].max(),\n",
    "        name=\"WDFW Catch - (Buoy 10)\",\n",
    "        mode=\"lines\",\n",
    "        line=dict(color=\"#C155D3\", width=2, dash=\"dot\"),\n",
    "        yaxis=\"y2\",\n",
    "    )\n",
    ")\n",
    "\n",
    "# Secondary axis: Buoy 10 catch data\n",
    "fig.add_trace(\n",
    "    go.Scatter(\n",
    "        x=weekly_sightings[\"DoY\"],\n",
    "        y=weekly_sightings[\"SIGHTING_COUNT\"],\n",
    "        name=\"Orca Sightings Near Buoy-10\",\n",
    "        mode=\"lines\",\n",
    "        line=dict(color=\"#C81D25\", width=1, dash=\"longdash\"),\n",
    "        yaxis=\"y2\",\n",
    "    )\n",
    ")\n",
    "\n",
    "# Define colors by TYPE\n",
    "type_colors = {\n",
    "    \"2012-2015 Coastal Tagging Near Buoy 10\": \"#DE6E4B\",\n",
    "    \"2012-2015 Coastal Tagging Not Near Buoy 10\": \"#7FD1B9\",\n",
    "}\n",
    "\n",
    "# Add color-coded circles across top of plot\n",
    "for _, row in tags.iterrows():\n",
    "    fig.add_annotation(\n",
    "        x=row[\"DoY\"],\n",
    "        y=1.02,  # Float above the plot\n",
    "        yref=\"paper\",\n",
    "        xref=\"x\",\n",
    "        text=\"●\",  # Circle glyph\n",
    "        font=dict(\n",
    "            size=10, color=type_colors.get(row[\"TYPE\"], \"#000000\")  # Fallback to black\n",
    "        ),\n",
    "        showarrow=False,\n",
    "        xanchor=\"center\",\n",
    "    )\n",
    "for tag_type, color in type_colors.items():\n",
    "    fig.add_trace(\n",
    "        go.Scatter(\n",
    "            x=[None],  # No visible points\n",
    "            y=[None],\n",
    "            mode=\"markers\",\n",
    "            marker=dict(size=10, color=color),\n",
    "            name=tag_type,\n",
    "            showlegend=True,\n",
    "        )\n",
    "    )\n",
    "\n",
    "# Layout\n",
    "fig.update_layout(\n",
    "    title=dict(\n",
    "        text=\"Mean Daily Chinook Adult Count (Dams) vs. Chinook Catch (Buoy 10 + Marine Area 1) vs. Orca Presence\",\n",
    "        font=dict(size=20, family=\"Helvetica Neue\", color=\"#333\"),\n",
    "    ),\n",
    "    plot_bgcolor=\"white\",\n",
    "    paper_bgcolor=\"white\",\n",
    "    xaxis=dict(\n",
    "        title=dict(text=\"Day of Year\", font=dict(size=16)),\n",
    "        tickfont=dict(size=14),\n",
    "        gridcolor=\"#E5ECF6\",\n",
    "        zeroline=False,\n",
    "    ),\n",
    "    yaxis=dict(\n",
    "        title=dict(text=\"Mean Count (Dam)\", font=dict(size=16)),\n",
    "        tickfont=dict(size=14),\n",
    "        gridcolor=\"#E5ECF6\",\n",
    "        zeroline=False,\n",
    "    ),\n",
    "    yaxis2=dict(\n",
    "        title=dict(text=\"Chinook Kept (Buoy 10)\", font=dict(size=16)),\n",
    "        tickfont=dict(size=14),\n",
    "        overlaying=\"y\",\n",
    "        side=\"right\",\n",
    "        showgrid=False,\n",
    "    ),\n",
    "    # legend=dict(title=\"Location\", font=dict(size=14)),\n",
    "    font=dict(family=\"Helvetica Neue\", size=14, color=\"#333\"),\n",
    "    margin=dict(l=60, r=60, t=60, b=60),\n",
    ")\n",
    "\n",
    "fig.update_layout(\n",
    "    legend=dict(\n",
    "        title=\"Location\",\n",
    "        font=dict(size=14),\n",
    "        x=1.1,  # 👈 Horizontal position (0 = far left, 1 = far right)\n",
    "        y=0.99,  # 👈 Vertical position (1 = top, 0 = bottom)\n",
    "        xanchor=\"left\",  # Align legend box from left side\n",
    "        yanchor=\"top\",  # Align legend box from top\n",
    "        bgcolor=\"rgba(255,255,255,0.8)\",  # Optional: semi-transparent background\n",
    "        bordercolor=\"#ccc\",\n",
    "        borderwidth=1,\n",
    "    )\n",
    ")\n",
    "\n",
    "# Month lines and labels\n",
    "month_start_days = [1]\n",
    "for month in range(2, 13):\n",
    "    month_start_days.append(\n",
    "        sum(calendar.monthrange(2024, m)[1] for m in range(1, month)) + 1\n",
    "    )\n",
    "\n",
    "for doy in month_start_days:\n",
    "    fig.add_vline(x=doy, line=dict(color=\"#999\", width=1, dash=\"dash\"), layer=\"below\")\n",
    "\n",
    "for i, doy in enumerate(month_start_days):\n",
    "    fig.add_annotation(\n",
    "        x=doy + 15,\n",
    "        y=0,\n",
    "        yanchor=\"bottom\",\n",
    "        text=calendar.month_abbr[i + 1],\n",
    "        showarrow=False,\n",
    "        font=dict(size=12, color=\"#666\"),\n",
    "        xanchor=\"center\",\n",
    "        xref=\"x\",\n",
    "        yref=\"paper\",\n",
    "    )\n",
    "\n",
    "fig.show()"
   ]
  },
  {
   "cell_type": "code",
   "execution_count": 34,
   "id": "d0a0fff1",
   "metadata": {},
   "outputs": [],
   "source": [
    "# tag_map = locations_lookup.explore()\n",
    "# tagged_near_buoy10.explore(m=tag_map)\n",
    "# sightings_gdf_near_buoy.explore(m=tag_map)"
   ]
  },
  {
   "cell_type": "code",
   "execution_count": null,
   "id": "795e9754",
   "metadata": {},
   "outputs": [],
   "source": []
  },
  {
   "cell_type": "code",
   "execution_count": null,
   "id": "869830f4",
   "metadata": {},
   "outputs": [],
   "source": []
  }
 ],
 "metadata": {
  "kernelspec": {
   "display_name": "salmonsignal",
   "language": "python",
   "name": "python3"
  },
  "language_info": {
   "codemirror_mode": {
    "name": "ipython",
    "version": 3
   },
   "file_extension": ".py",
   "mimetype": "text/x-python",
   "name": "python",
   "nbconvert_exporter": "python",
   "pygments_lexer": "ipython3",
   "version": "3.10.18"
  }
 },
 "nbformat": 4,
 "nbformat_minor": 5
}
