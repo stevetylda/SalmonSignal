{
 "cells": [
  {
   "cell_type": "code",
   "execution_count": 1,
   "id": "58ab5e70",
   "metadata": {},
   "outputs": [],
   "source": [
    "# ----------------------------------- #\n",
    "#               MODULES               #\n",
    "\n",
    "# Standard Packages\n",
    "import os\n",
    "import glob\n",
    "\n",
    "# Third-Party Packages\n",
    "import pandas as pd\n",
    "import numpy as np\n",
    "\n",
    "#                                     #\n",
    "# ----------------------------------- #"
   ]
  },
  {
   "cell_type": "code",
   "execution_count": null,
   "id": "8ad7ce35",
   "metadata": {},
   "outputs": [],
   "source": []
  },
  {
   "cell_type": "code",
   "execution_count": 2,
   "id": "2b0a370e",
   "metadata": {},
   "outputs": [],
   "source": [
    "# Open Creel Report Data\n",
    "## from file\n",
    "file_directory = '/Users/tylerstevenson/Documents/CODE/SalmonSignal/data/raw/creel_reports/WDFW'\n",
    "\n",
    "wdfw_creel = []\n",
    "for path in glob.glob(file_directory + \"/*.csv\"):\n",
    "    wdfw_creel.append(pd.read_csv(path))\n",
    "wdfw_creel = pd.concat(wdfw_creel)"
   ]
  },
  {
   "cell_type": "code",
   "execution_count": 3,
   "id": "f19a99e5",
   "metadata": {},
   "outputs": [
    {
     "data": {
      "text/plain": [
       "222"
      ]
     },
     "execution_count": 3,
     "metadata": {},
     "output_type": "execute_result"
    }
   ],
   "source": [
    "wdfw_creel['Ramp/site'].nunique()"
   ]
  },
  {
   "cell_type": "code",
   "execution_count": 5,
   "id": "76bbfa21",
   "metadata": {},
   "outputs": [
    {
     "data": {
      "text/plain": [
       "array([nan, 'Area 11, Tacoma-Vashon Island', 'Area 12, Hood Canal',\n",
       "       'Area 9, Admiralty Inlet', 'Area 10, Seattle-Bremerton area',\n",
       "       'Area 13, South Puget Sound', 'Hoodsport Hatchery',\n",
       "       'Area 8-1, Deception Pass, Hope Island, and Skagit Bay',\n",
       "       'Area 8-2, Ports Susan and Gardner', 'Area 7, San Juan Islands',\n",
       "       'Nisqually River', 'Dungeness Bay', 'Bellingham Bay',\n",
       "       'Area 5, Sekiu and Pillar Point', 'Quilcene, Dabob Bay',\n",
       "       'Tulalip Terminal Area', 'Area 4, Eastern portion',\n",
       "       'Sinclair Inlet', 'Inner Elliot Bay Fishery Area',\n",
       "       'Area 6-1, Western portion of Area 6', 'Commencement Bay',\n",
       "       'Area 6-2, Eastern portion of Area 6',\n",
       "       'Area 6, East Juan de Fuca Strait', 'Area 3, La Push',\n",
       "       'Snohomish River Mouth'], dtype=object)"
      ]
     },
     "execution_count": 5,
     "metadata": {},
     "output_type": "execute_result"
    }
   ],
   "source": [
    "wdfw_creel['Catch area'].unique()"
   ]
  },
  {
   "cell_type": "code",
   "execution_count": 15,
   "id": "b9468b35",
   "metadata": {},
   "outputs": [],
   "source": [
    "area_select = wdfw_creel[wdfw_creel['Catch area'].astype(str).str.contains('8-1')]"
   ]
  },
  {
   "cell_type": "code",
   "execution_count": 16,
   "id": "ded32cdf",
   "metadata": {},
   "outputs": [
    {
     "name": "stderr",
     "output_type": "stream",
     "text": [
      "/var/folders/p8/19qwfgfd1b1cn30h8qtz26k00000gn/T/ipykernel_81236/603850064.py:1: SettingWithCopyWarning:\n",
      "\n",
      "\n",
      "A value is trying to be set on a copy of a slice from a DataFrame.\n",
      "Try using .loc[row_indexer,col_indexer] = value instead\n",
      "\n",
      "See the caveats in the documentation: https://pandas.pydata.org/pandas-docs/stable/user_guide/indexing.html#returning-a-view-versus-a-copy\n",
      "\n",
      "/var/folders/p8/19qwfgfd1b1cn30h8qtz26k00000gn/T/ipykernel_81236/603850064.py:3: SettingWithCopyWarning:\n",
      "\n",
      "\n",
      "A value is trying to be set on a copy of a slice from a DataFrame.\n",
      "Try using .loc[row_indexer,col_indexer] = value instead\n",
      "\n",
      "See the caveats in the documentation: https://pandas.pydata.org/pandas-docs/stable/user_guide/indexing.html#returning-a-view-versus-a-copy\n",
      "\n"
     ]
    }
   ],
   "source": [
    "area_select['DATE'] = pd.to_datetime(area_select['Sample date'])\n",
    "\n",
    "area_select[\"stat_week_sunday\"] = (\n",
    "    area_select[\"DATE\"]\n",
    "    - pd.to_timedelta(area_select[\"DATE\"].dt.weekday, unit=\"d\")\n",
    "    - pd.Timedelta(days=1)\n",
    ")"
   ]
  },
  {
   "cell_type": "code",
   "execution_count": 17,
   "id": "b083de4d",
   "metadata": {},
   "outputs": [],
   "source": [
    "chinook_counts = area_select.groupby(['stat_week_sunday'], as_index = False)['Chinook'].sum()"
   ]
  },
  {
   "cell_type": "code",
   "execution_count": 18,
   "id": "1274cfb3",
   "metadata": {},
   "outputs": [
    {
     "data": {
      "application/vnd.plotly.v1+json": {
       "config": {
        "plotlyServerURL": "https://plot.ly"
       },
       "data": [
        {
         "hovertemplate": "stat_week_sunday=%{x}<br>Chinook=%{y}<extra></extra>",
         "legendgroup": "",
         "line": {
          "color": "#636efa",
          "dash": "solid"
         },
         "marker": {
          "symbol": "circle"
         },
         "mode": "lines",
         "name": "",
         "orientation": "v",
         "showlegend": false,
         "type": "scatter",
         "x": [
          "2017-04-30T00:00:00.000000000",
          "2017-05-07T00:00:00.000000000",
          "2017-05-14T00:00:00.000000000",
          "2017-05-21T00:00:00.000000000",
          "2017-05-28T00:00:00.000000000",
          "2017-06-04T00:00:00.000000000",
          "2017-06-11T00:00:00.000000000",
          "2017-06-18T00:00:00.000000000",
          "2017-06-25T00:00:00.000000000",
          "2017-07-02T00:00:00.000000000",
          "2017-07-09T00:00:00.000000000",
          "2017-07-16T00:00:00.000000000",
          "2017-07-23T00:00:00.000000000",
          "2017-07-30T00:00:00.000000000",
          "2017-08-06T00:00:00.000000000",
          "2017-08-13T00:00:00.000000000",
          "2017-08-20T00:00:00.000000000",
          "2017-08-27T00:00:00.000000000",
          "2017-09-03T00:00:00.000000000",
          "2017-10-01T00:00:00.000000000",
          "2017-10-22T00:00:00.000000000",
          "2017-10-29T00:00:00.000000000",
          "2017-11-05T00:00:00.000000000",
          "2018-01-07T00:00:00.000000000",
          "2018-02-04T00:00:00.000000000",
          "2018-02-11T00:00:00.000000000",
          "2018-02-18T00:00:00.000000000",
          "2018-02-25T00:00:00.000000000",
          "2018-03-04T00:00:00.000000000",
          "2018-03-11T00:00:00.000000000",
          "2018-03-18T00:00:00.000000000",
          "2018-03-25T00:00:00.000000000",
          "2018-04-01T00:00:00.000000000",
          "2018-04-08T00:00:00.000000000",
          "2018-04-15T00:00:00.000000000",
          "2018-04-22T00:00:00.000000000",
          "2018-04-29T00:00:00.000000000",
          "2018-05-06T00:00:00.000000000",
          "2018-05-13T00:00:00.000000000",
          "2018-05-20T00:00:00.000000000",
          "2018-05-27T00:00:00.000000000",
          "2018-06-03T00:00:00.000000000",
          "2018-06-10T00:00:00.000000000",
          "2018-06-17T00:00:00.000000000",
          "2018-06-24T00:00:00.000000000",
          "2018-07-01T00:00:00.000000000",
          "2018-07-08T00:00:00.000000000",
          "2018-07-15T00:00:00.000000000",
          "2018-07-22T00:00:00.000000000",
          "2018-07-29T00:00:00.000000000",
          "2018-08-05T00:00:00.000000000",
          "2018-08-12T00:00:00.000000000",
          "2018-08-19T00:00:00.000000000",
          "2018-08-26T00:00:00.000000000",
          "2018-09-02T00:00:00.000000000",
          "2018-09-09T00:00:00.000000000",
          "2018-09-16T00:00:00.000000000",
          "2018-09-23T00:00:00.000000000",
          "2018-10-07T00:00:00.000000000",
          "2018-10-21T00:00:00.000000000",
          "2018-11-04T00:00:00.000000000",
          "2018-11-25T00:00:00.000000000",
          "2018-12-02T00:00:00.000000000",
          "2018-12-09T00:00:00.000000000",
          "2018-12-16T00:00:00.000000000",
          "2018-12-23T00:00:00.000000000",
          "2018-12-30T00:00:00.000000000",
          "2019-01-06T00:00:00.000000000",
          "2019-01-13T00:00:00.000000000",
          "2019-01-20T00:00:00.000000000",
          "2019-01-27T00:00:00.000000000",
          "2019-02-03T00:00:00.000000000",
          "2019-02-10T00:00:00.000000000",
          "2019-02-17T00:00:00.000000000",
          "2019-02-24T00:00:00.000000000",
          "2019-03-03T00:00:00.000000000",
          "2019-03-10T00:00:00.000000000",
          "2019-03-17T00:00:00.000000000",
          "2019-03-24T00:00:00.000000000",
          "2019-03-31T00:00:00.000000000",
          "2019-04-07T00:00:00.000000000",
          "2019-04-14T00:00:00.000000000",
          "2019-04-21T00:00:00.000000000",
          "2019-04-28T00:00:00.000000000",
          "2019-05-05T00:00:00.000000000",
          "2019-05-12T00:00:00.000000000",
          "2019-05-19T00:00:00.000000000",
          "2019-05-26T00:00:00.000000000",
          "2019-06-02T00:00:00.000000000",
          "2019-06-09T00:00:00.000000000",
          "2019-06-16T00:00:00.000000000",
          "2019-06-30T00:00:00.000000000",
          "2019-07-07T00:00:00.000000000",
          "2019-07-14T00:00:00.000000000",
          "2019-07-21T00:00:00.000000000",
          "2019-07-28T00:00:00.000000000",
          "2019-08-04T00:00:00.000000000",
          "2019-08-11T00:00:00.000000000",
          "2019-08-18T00:00:00.000000000",
          "2019-08-25T00:00:00.000000000",
          "2019-09-01T00:00:00.000000000",
          "2019-09-08T00:00:00.000000000",
          "2019-09-15T00:00:00.000000000",
          "2019-09-22T00:00:00.000000000",
          "2019-09-29T00:00:00.000000000",
          "2019-10-06T00:00:00.000000000",
          "2019-10-13T00:00:00.000000000",
          "2019-10-20T00:00:00.000000000",
          "2019-10-27T00:00:00.000000000",
          "2020-01-26T00:00:00.000000000",
          "2020-02-02T00:00:00.000000000",
          "2020-02-09T00:00:00.000000000",
          "2020-02-16T00:00:00.000000000",
          "2020-02-23T00:00:00.000000000",
          "2020-03-01T00:00:00.000000000",
          "2020-03-08T00:00:00.000000000",
          "2020-03-15T00:00:00.000000000",
          "2020-05-10T00:00:00.000000000",
          "2020-05-17T00:00:00.000000000",
          "2020-05-24T00:00:00.000000000",
          "2020-05-31T00:00:00.000000000",
          "2020-06-07T00:00:00.000000000",
          "2020-06-14T00:00:00.000000000",
          "2020-06-21T00:00:00.000000000",
          "2020-06-28T00:00:00.000000000",
          "2020-07-05T00:00:00.000000000",
          "2020-07-12T00:00:00.000000000",
          "2020-07-19T00:00:00.000000000",
          "2020-07-26T00:00:00.000000000",
          "2020-08-02T00:00:00.000000000",
          "2020-08-09T00:00:00.000000000",
          "2020-08-16T00:00:00.000000000",
          "2020-08-23T00:00:00.000000000",
          "2020-08-30T00:00:00.000000000",
          "2020-09-06T00:00:00.000000000",
          "2020-09-13T00:00:00.000000000",
          "2020-09-27T00:00:00.000000000",
          "2020-11-01T00:00:00.000000000",
          "2020-11-29T00:00:00.000000000",
          "2020-12-06T00:00:00.000000000",
          "2021-02-14T00:00:00.000000000",
          "2021-04-11T00:00:00.000000000",
          "2021-04-18T00:00:00.000000000",
          "2021-04-25T00:00:00.000000000",
          "2021-05-02T00:00:00.000000000",
          "2021-05-09T00:00:00.000000000",
          "2021-05-16T00:00:00.000000000",
          "2021-05-23T00:00:00.000000000",
          "2021-05-30T00:00:00.000000000",
          "2021-06-06T00:00:00.000000000",
          "2021-06-13T00:00:00.000000000",
          "2021-06-20T00:00:00.000000000",
          "2021-06-27T00:00:00.000000000",
          "2021-07-04T00:00:00.000000000",
          "2021-07-11T00:00:00.000000000",
          "2021-07-18T00:00:00.000000000",
          "2021-07-25T00:00:00.000000000",
          "2021-08-01T00:00:00.000000000",
          "2021-08-08T00:00:00.000000000",
          "2021-08-15T00:00:00.000000000",
          "2021-08-22T00:00:00.000000000",
          "2021-08-29T00:00:00.000000000",
          "2021-09-05T00:00:00.000000000",
          "2021-09-12T00:00:00.000000000",
          "2021-09-26T00:00:00.000000000",
          "2022-04-03T00:00:00.000000000",
          "2022-04-10T00:00:00.000000000",
          "2022-04-17T00:00:00.000000000",
          "2022-04-24T00:00:00.000000000",
          "2022-05-01T00:00:00.000000000",
          "2022-05-08T00:00:00.000000000",
          "2022-05-15T00:00:00.000000000",
          "2022-05-22T00:00:00.000000000",
          "2022-05-29T00:00:00.000000000",
          "2022-06-05T00:00:00.000000000",
          "2022-06-12T00:00:00.000000000",
          "2022-06-19T00:00:00.000000000",
          "2022-06-26T00:00:00.000000000",
          "2022-07-03T00:00:00.000000000",
          "2022-07-10T00:00:00.000000000",
          "2022-07-17T00:00:00.000000000",
          "2022-07-24T00:00:00.000000000",
          "2022-07-31T00:00:00.000000000",
          "2022-08-07T00:00:00.000000000",
          "2022-08-14T00:00:00.000000000",
          "2022-08-21T00:00:00.000000000",
          "2022-08-28T00:00:00.000000000",
          "2022-09-04T00:00:00.000000000",
          "2022-09-11T00:00:00.000000000",
          "2022-09-18T00:00:00.000000000",
          "2022-09-25T00:00:00.000000000",
          "2022-10-02T00:00:00.000000000",
          "2022-10-09T00:00:00.000000000",
          "2022-12-11T00:00:00.000000000",
          "2023-04-02T00:00:00.000000000",
          "2023-04-09T00:00:00.000000000",
          "2023-04-16T00:00:00.000000000",
          "2023-04-23T00:00:00.000000000",
          "2023-04-30T00:00:00.000000000",
          "2023-05-07T00:00:00.000000000",
          "2023-05-14T00:00:00.000000000",
          "2023-05-21T00:00:00.000000000",
          "2023-05-28T00:00:00.000000000",
          "2023-06-04T00:00:00.000000000",
          "2023-06-11T00:00:00.000000000",
          "2023-06-18T00:00:00.000000000",
          "2023-06-25T00:00:00.000000000",
          "2023-07-02T00:00:00.000000000",
          "2023-07-09T00:00:00.000000000",
          "2023-07-16T00:00:00.000000000",
          "2023-07-23T00:00:00.000000000",
          "2023-07-30T00:00:00.000000000",
          "2023-08-06T00:00:00.000000000",
          "2023-08-13T00:00:00.000000000",
          "2023-08-20T00:00:00.000000000",
          "2023-08-27T00:00:00.000000000",
          "2023-09-03T00:00:00.000000000",
          "2023-09-10T00:00:00.000000000",
          "2023-09-17T00:00:00.000000000",
          "2023-09-24T00:00:00.000000000",
          "2023-10-29T00:00:00.000000000",
          "2024-03-24T00:00:00.000000000",
          "2024-03-31T00:00:00.000000000",
          "2024-04-07T00:00:00.000000000",
          "2024-04-14T00:00:00.000000000",
          "2024-04-21T00:00:00.000000000",
          "2024-04-28T00:00:00.000000000",
          "2024-05-05T00:00:00.000000000",
          "2024-05-12T00:00:00.000000000",
          "2024-05-19T00:00:00.000000000",
          "2024-05-26T00:00:00.000000000",
          "2024-06-02T00:00:00.000000000",
          "2024-06-09T00:00:00.000000000",
          "2024-06-16T00:00:00.000000000",
          "2024-06-23T00:00:00.000000000",
          "2024-06-30T00:00:00.000000000",
          "2024-07-07T00:00:00.000000000",
          "2024-07-14T00:00:00.000000000",
          "2024-07-21T00:00:00.000000000",
          "2024-07-28T00:00:00.000000000",
          "2024-08-04T00:00:00.000000000",
          "2024-08-11T00:00:00.000000000",
          "2024-08-18T00:00:00.000000000",
          "2024-08-25T00:00:00.000000000",
          "2024-09-01T00:00:00.000000000",
          "2024-09-08T00:00:00.000000000",
          "2024-09-15T00:00:00.000000000",
          "2024-09-22T00:00:00.000000000",
          "2024-09-29T00:00:00.000000000",
          "2024-10-06T00:00:00.000000000",
          "2025-01-05T00:00:00.000000000",
          "2025-03-30T00:00:00.000000000",
          "2025-04-06T00:00:00.000000000",
          "2025-04-13T00:00:00.000000000",
          "2025-04-20T00:00:00.000000000",
          "2025-04-27T00:00:00.000000000",
          "2025-05-04T00:00:00.000000000",
          "2025-05-11T00:00:00.000000000",
          "2025-05-18T00:00:00.000000000",
          "2025-05-25T00:00:00.000000000",
          "2025-06-01T00:00:00.000000000",
          "2025-06-08T00:00:00.000000000",
          "2025-06-15T00:00:00.000000000",
          "2025-06-22T00:00:00.000000000",
          "2025-06-29T00:00:00.000000000",
          "2025-07-06T00:00:00.000000000",
          "2025-07-13T00:00:00.000000000",
          "2025-07-20T00:00:00.000000000"
         ],
         "xaxis": "x",
         "y": {
          "bdata": "AAAAAAAAAAAAAAAAAAAAAAAAAAAADQIAAS4GDQwgDQkDBAIIAQAAAAAAAAAAAAAAAAAAAQAAAAAAAAAAAAsBAAEECQMAAgEABQUIDAwLBQECAAAAAAAAAAAAAAAAAAAAAAAAAAAAAAAAAAAAAAABAwUIBAMEAAAAAAAAAAAAAAAAAAAAAAAAAAAAAAAAAAAAAAAAAAAAAAAAAAAAAAAAAAAAAAAAAAAAAAAAAAAAAAAAAAAAAAAAAAAAAAAAAAAAAAAAAAAAAAAAAAAAAAAAAAAAAAAAAAAAAAEAAAAAAAAAAAAAAAAAAAAAAAAAAAAAAAABAgAAAQAAAAAAAAAAAAAAAAAAAAAAAAAAAA==",
          "dtype": "i1"
         },
         "yaxis": "y"
        }
       ],
       "layout": {
        "legend": {
         "tracegroupgap": 0
        },
        "margin": {
         "t": 60
        },
        "template": {
         "data": {
          "bar": [
           {
            "error_x": {
             "color": "#2a3f5f"
            },
            "error_y": {
             "color": "#2a3f5f"
            },
            "marker": {
             "line": {
              "color": "#E5ECF6",
              "width": 0.5
             },
             "pattern": {
              "fillmode": "overlay",
              "size": 10,
              "solidity": 0.2
             }
            },
            "type": "bar"
           }
          ],
          "barpolar": [
           {
            "marker": {
             "line": {
              "color": "#E5ECF6",
              "width": 0.5
             },
             "pattern": {
              "fillmode": "overlay",
              "size": 10,
              "solidity": 0.2
             }
            },
            "type": "barpolar"
           }
          ],
          "carpet": [
           {
            "aaxis": {
             "endlinecolor": "#2a3f5f",
             "gridcolor": "white",
             "linecolor": "white",
             "minorgridcolor": "white",
             "startlinecolor": "#2a3f5f"
            },
            "baxis": {
             "endlinecolor": "#2a3f5f",
             "gridcolor": "white",
             "linecolor": "white",
             "minorgridcolor": "white",
             "startlinecolor": "#2a3f5f"
            },
            "type": "carpet"
           }
          ],
          "choropleth": [
           {
            "colorbar": {
             "outlinewidth": 0,
             "ticks": ""
            },
            "type": "choropleth"
           }
          ],
          "contour": [
           {
            "colorbar": {
             "outlinewidth": 0,
             "ticks": ""
            },
            "colorscale": [
             [
              0,
              "#0d0887"
             ],
             [
              0.1111111111111111,
              "#46039f"
             ],
             [
              0.2222222222222222,
              "#7201a8"
             ],
             [
              0.3333333333333333,
              "#9c179e"
             ],
             [
              0.4444444444444444,
              "#bd3786"
             ],
             [
              0.5555555555555556,
              "#d8576b"
             ],
             [
              0.6666666666666666,
              "#ed7953"
             ],
             [
              0.7777777777777778,
              "#fb9f3a"
             ],
             [
              0.8888888888888888,
              "#fdca26"
             ],
             [
              1,
              "#f0f921"
             ]
            ],
            "type": "contour"
           }
          ],
          "contourcarpet": [
           {
            "colorbar": {
             "outlinewidth": 0,
             "ticks": ""
            },
            "type": "contourcarpet"
           }
          ],
          "heatmap": [
           {
            "colorbar": {
             "outlinewidth": 0,
             "ticks": ""
            },
            "colorscale": [
             [
              0,
              "#0d0887"
             ],
             [
              0.1111111111111111,
              "#46039f"
             ],
             [
              0.2222222222222222,
              "#7201a8"
             ],
             [
              0.3333333333333333,
              "#9c179e"
             ],
             [
              0.4444444444444444,
              "#bd3786"
             ],
             [
              0.5555555555555556,
              "#d8576b"
             ],
             [
              0.6666666666666666,
              "#ed7953"
             ],
             [
              0.7777777777777778,
              "#fb9f3a"
             ],
             [
              0.8888888888888888,
              "#fdca26"
             ],
             [
              1,
              "#f0f921"
             ]
            ],
            "type": "heatmap"
           }
          ],
          "histogram": [
           {
            "marker": {
             "pattern": {
              "fillmode": "overlay",
              "size": 10,
              "solidity": 0.2
             }
            },
            "type": "histogram"
           }
          ],
          "histogram2d": [
           {
            "colorbar": {
             "outlinewidth": 0,
             "ticks": ""
            },
            "colorscale": [
             [
              0,
              "#0d0887"
             ],
             [
              0.1111111111111111,
              "#46039f"
             ],
             [
              0.2222222222222222,
              "#7201a8"
             ],
             [
              0.3333333333333333,
              "#9c179e"
             ],
             [
              0.4444444444444444,
              "#bd3786"
             ],
             [
              0.5555555555555556,
              "#d8576b"
             ],
             [
              0.6666666666666666,
              "#ed7953"
             ],
             [
              0.7777777777777778,
              "#fb9f3a"
             ],
             [
              0.8888888888888888,
              "#fdca26"
             ],
             [
              1,
              "#f0f921"
             ]
            ],
            "type": "histogram2d"
           }
          ],
          "histogram2dcontour": [
           {
            "colorbar": {
             "outlinewidth": 0,
             "ticks": ""
            },
            "colorscale": [
             [
              0,
              "#0d0887"
             ],
             [
              0.1111111111111111,
              "#46039f"
             ],
             [
              0.2222222222222222,
              "#7201a8"
             ],
             [
              0.3333333333333333,
              "#9c179e"
             ],
             [
              0.4444444444444444,
              "#bd3786"
             ],
             [
              0.5555555555555556,
              "#d8576b"
             ],
             [
              0.6666666666666666,
              "#ed7953"
             ],
             [
              0.7777777777777778,
              "#fb9f3a"
             ],
             [
              0.8888888888888888,
              "#fdca26"
             ],
             [
              1,
              "#f0f921"
             ]
            ],
            "type": "histogram2dcontour"
           }
          ],
          "mesh3d": [
           {
            "colorbar": {
             "outlinewidth": 0,
             "ticks": ""
            },
            "type": "mesh3d"
           }
          ],
          "parcoords": [
           {
            "line": {
             "colorbar": {
              "outlinewidth": 0,
              "ticks": ""
             }
            },
            "type": "parcoords"
           }
          ],
          "pie": [
           {
            "automargin": true,
            "type": "pie"
           }
          ],
          "scatter": [
           {
            "fillpattern": {
             "fillmode": "overlay",
             "size": 10,
             "solidity": 0.2
            },
            "type": "scatter"
           }
          ],
          "scatter3d": [
           {
            "line": {
             "colorbar": {
              "outlinewidth": 0,
              "ticks": ""
             }
            },
            "marker": {
             "colorbar": {
              "outlinewidth": 0,
              "ticks": ""
             }
            },
            "type": "scatter3d"
           }
          ],
          "scattercarpet": [
           {
            "marker": {
             "colorbar": {
              "outlinewidth": 0,
              "ticks": ""
             }
            },
            "type": "scattercarpet"
           }
          ],
          "scattergeo": [
           {
            "marker": {
             "colorbar": {
              "outlinewidth": 0,
              "ticks": ""
             }
            },
            "type": "scattergeo"
           }
          ],
          "scattergl": [
           {
            "marker": {
             "colorbar": {
              "outlinewidth": 0,
              "ticks": ""
             }
            },
            "type": "scattergl"
           }
          ],
          "scattermap": [
           {
            "marker": {
             "colorbar": {
              "outlinewidth": 0,
              "ticks": ""
             }
            },
            "type": "scattermap"
           }
          ],
          "scattermapbox": [
           {
            "marker": {
             "colorbar": {
              "outlinewidth": 0,
              "ticks": ""
             }
            },
            "type": "scattermapbox"
           }
          ],
          "scatterpolar": [
           {
            "marker": {
             "colorbar": {
              "outlinewidth": 0,
              "ticks": ""
             }
            },
            "type": "scatterpolar"
           }
          ],
          "scatterpolargl": [
           {
            "marker": {
             "colorbar": {
              "outlinewidth": 0,
              "ticks": ""
             }
            },
            "type": "scatterpolargl"
           }
          ],
          "scatterternary": [
           {
            "marker": {
             "colorbar": {
              "outlinewidth": 0,
              "ticks": ""
             }
            },
            "type": "scatterternary"
           }
          ],
          "surface": [
           {
            "colorbar": {
             "outlinewidth": 0,
             "ticks": ""
            },
            "colorscale": [
             [
              0,
              "#0d0887"
             ],
             [
              0.1111111111111111,
              "#46039f"
             ],
             [
              0.2222222222222222,
              "#7201a8"
             ],
             [
              0.3333333333333333,
              "#9c179e"
             ],
             [
              0.4444444444444444,
              "#bd3786"
             ],
             [
              0.5555555555555556,
              "#d8576b"
             ],
             [
              0.6666666666666666,
              "#ed7953"
             ],
             [
              0.7777777777777778,
              "#fb9f3a"
             ],
             [
              0.8888888888888888,
              "#fdca26"
             ],
             [
              1,
              "#f0f921"
             ]
            ],
            "type": "surface"
           }
          ],
          "table": [
           {
            "cells": {
             "fill": {
              "color": "#EBF0F8"
             },
             "line": {
              "color": "white"
             }
            },
            "header": {
             "fill": {
              "color": "#C8D4E3"
             },
             "line": {
              "color": "white"
             }
            },
            "type": "table"
           }
          ]
         },
         "layout": {
          "annotationdefaults": {
           "arrowcolor": "#2a3f5f",
           "arrowhead": 0,
           "arrowwidth": 1
          },
          "autotypenumbers": "strict",
          "coloraxis": {
           "colorbar": {
            "outlinewidth": 0,
            "ticks": ""
           }
          },
          "colorscale": {
           "diverging": [
            [
             0,
             "#8e0152"
            ],
            [
             0.1,
             "#c51b7d"
            ],
            [
             0.2,
             "#de77ae"
            ],
            [
             0.3,
             "#f1b6da"
            ],
            [
             0.4,
             "#fde0ef"
            ],
            [
             0.5,
             "#f7f7f7"
            ],
            [
             0.6,
             "#e6f5d0"
            ],
            [
             0.7,
             "#b8e186"
            ],
            [
             0.8,
             "#7fbc41"
            ],
            [
             0.9,
             "#4d9221"
            ],
            [
             1,
             "#276419"
            ]
           ],
           "sequential": [
            [
             0,
             "#0d0887"
            ],
            [
             0.1111111111111111,
             "#46039f"
            ],
            [
             0.2222222222222222,
             "#7201a8"
            ],
            [
             0.3333333333333333,
             "#9c179e"
            ],
            [
             0.4444444444444444,
             "#bd3786"
            ],
            [
             0.5555555555555556,
             "#d8576b"
            ],
            [
             0.6666666666666666,
             "#ed7953"
            ],
            [
             0.7777777777777778,
             "#fb9f3a"
            ],
            [
             0.8888888888888888,
             "#fdca26"
            ],
            [
             1,
             "#f0f921"
            ]
           ],
           "sequentialminus": [
            [
             0,
             "#0d0887"
            ],
            [
             0.1111111111111111,
             "#46039f"
            ],
            [
             0.2222222222222222,
             "#7201a8"
            ],
            [
             0.3333333333333333,
             "#9c179e"
            ],
            [
             0.4444444444444444,
             "#bd3786"
            ],
            [
             0.5555555555555556,
             "#d8576b"
            ],
            [
             0.6666666666666666,
             "#ed7953"
            ],
            [
             0.7777777777777778,
             "#fb9f3a"
            ],
            [
             0.8888888888888888,
             "#fdca26"
            ],
            [
             1,
             "#f0f921"
            ]
           ]
          },
          "colorway": [
           "#636efa",
           "#EF553B",
           "#00cc96",
           "#ab63fa",
           "#FFA15A",
           "#19d3f3",
           "#FF6692",
           "#B6E880",
           "#FF97FF",
           "#FECB52"
          ],
          "font": {
           "color": "#2a3f5f"
          },
          "geo": {
           "bgcolor": "white",
           "lakecolor": "white",
           "landcolor": "#E5ECF6",
           "showlakes": true,
           "showland": true,
           "subunitcolor": "white"
          },
          "hoverlabel": {
           "align": "left"
          },
          "hovermode": "closest",
          "mapbox": {
           "style": "light"
          },
          "paper_bgcolor": "white",
          "plot_bgcolor": "#E5ECF6",
          "polar": {
           "angularaxis": {
            "gridcolor": "white",
            "linecolor": "white",
            "ticks": ""
           },
           "bgcolor": "#E5ECF6",
           "radialaxis": {
            "gridcolor": "white",
            "linecolor": "white",
            "ticks": ""
           }
          },
          "scene": {
           "xaxis": {
            "backgroundcolor": "#E5ECF6",
            "gridcolor": "white",
            "gridwidth": 2,
            "linecolor": "white",
            "showbackground": true,
            "ticks": "",
            "zerolinecolor": "white"
           },
           "yaxis": {
            "backgroundcolor": "#E5ECF6",
            "gridcolor": "white",
            "gridwidth": 2,
            "linecolor": "white",
            "showbackground": true,
            "ticks": "",
            "zerolinecolor": "white"
           },
           "zaxis": {
            "backgroundcolor": "#E5ECF6",
            "gridcolor": "white",
            "gridwidth": 2,
            "linecolor": "white",
            "showbackground": true,
            "ticks": "",
            "zerolinecolor": "white"
           }
          },
          "shapedefaults": {
           "line": {
            "color": "#2a3f5f"
           }
          },
          "ternary": {
           "aaxis": {
            "gridcolor": "white",
            "linecolor": "white",
            "ticks": ""
           },
           "baxis": {
            "gridcolor": "white",
            "linecolor": "white",
            "ticks": ""
           },
           "bgcolor": "#E5ECF6",
           "caxis": {
            "gridcolor": "white",
            "linecolor": "white",
            "ticks": ""
           }
          },
          "title": {
           "x": 0.05
          },
          "xaxis": {
           "automargin": true,
           "gridcolor": "white",
           "linecolor": "white",
           "ticks": "",
           "title": {
            "standoff": 15
           },
           "zerolinecolor": "white",
           "zerolinewidth": 2
          },
          "yaxis": {
           "automargin": true,
           "gridcolor": "white",
           "linecolor": "white",
           "ticks": "",
           "title": {
            "standoff": 15
           },
           "zerolinecolor": "white",
           "zerolinewidth": 2
          }
         }
        },
        "xaxis": {
         "anchor": "y",
         "domain": [
          0,
          1
         ],
         "title": {
          "text": "stat_week_sunday"
         }
        },
        "yaxis": {
         "anchor": "x",
         "domain": [
          0,
          1
         ],
         "title": {
          "text": "Chinook"
         }
        }
       }
      }
     },
     "metadata": {},
     "output_type": "display_data"
    }
   ],
   "source": [
    "import plotly.express as px\n",
    "\n",
    "fig = px.line(chinook_counts, x = 'stat_week_sunday', y = 'Chinook')\n",
    "fig.show()"
   ]
  },
  {
   "cell_type": "code",
   "execution_count": null,
   "id": "66f1a278",
   "metadata": {},
   "outputs": [],
   "source": []
  }
 ],
 "metadata": {
  "kernelspec": {
   "display_name": "salmonsignal",
   "language": "python",
   "name": "python3"
  },
  "language_info": {
   "codemirror_mode": {
    "name": "ipython",
    "version": 3
   },
   "file_extension": ".py",
   "mimetype": "text/x-python",
   "name": "python",
   "nbconvert_exporter": "python",
   "pygments_lexer": "ipython3",
   "version": "3.10.18"
  }
 },
 "nbformat": 4,
 "nbformat_minor": 5
}
