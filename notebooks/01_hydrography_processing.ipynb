{
 "cells": [
  {
   "cell_type": "code",
   "execution_count": null,
   "id": "3f0ed333",
   "metadata": {},
   "outputs": [],
   "source": [
    "# ------------------------------------- #\n",
    "#                MODULES                #\n",
    "\n",
    "# Standard Modules\n",
    "import os\n",
    "import warnings\n",
    "\n",
    "warnings.simplefilter(\"ignore\")\n",
    "\n",
    "# Third-Party Libraries\n",
    "import numpy as np\n",
    "import pandas as pd\n",
    "import geopandas as gpd\n",
    "from shapely.geometry import Polygon, Point\n",
    "\n",
    "#                                       #\n",
    "# ------------------------------------- #"
   ]
  },
  {
   "cell_type": "markdown",
   "id": "d59dd160",
   "metadata": {},
   "source": [
    "***\n",
    "\n",
    "## 0. Build Filtering Bounding Box"
   ]
  },
  {
   "cell_type": "code",
   "execution_count": 2,
   "id": "d0036e78",
   "metadata": {},
   "outputs": [],
   "source": [
    "# Define bounding box coordinates for HUC-17 (Pacific Northwest)\n",
    "bbox_coords = [(-125.5, 44), (-125.5, 51), (-115, 51), (-115, 44), (-125.5, 44)]\n",
    "bbox_polygon = Polygon(bbox_coords)\n",
    "\n",
    "# Create GeoDataFrame\n",
    "bbox_gdf = gpd.GeoDataFrame({\"geometry\": [bbox_polygon]}, crs=\"EPSG:4326\")"
   ]
  },
  {
   "cell_type": "markdown",
   "id": "58c8c0db",
   "metadata": {},
   "source": [
    "## 1. Full US Hydrology Data - Water Bodies"
   ]
  },
  {
   "cell_type": "code",
   "execution_count": 3,
   "id": "06f1585c",
   "metadata": {},
   "outputs": [],
   "source": [
    "# Open US Hydrography Waterbodies Data\n",
    "# Source: https://www.arcgis.com/home/item.html?id=f1f45a3ba37a4f03a5f48d7454e4b654\n",
    "us_hydrogaphy = gpd.read_file(\n",
    "    \"/Users/tylerstevenson/Documents/CODE/SalmonSignal/data/processed/GIS/inland_rivers/US_Detailed_Water_Bodies/USA_Detailed_Water_Bodies.shp\"\n",
    ")\n",
    "\n",
    "# Ensure Consistent CRS\n",
    "us_hydrogaphy = us_hydrogaphy.to_crs(\"EPSG:4326\")\n",
    "\n",
    "# Filter to Sources to Pacific\n",
    "us_hydrogaphy = us_hydrogaphy.clip(bbox_gdf)\n",
    "\n",
    "# Filter to Rivers\n",
    "us_hydrogaphy = us_hydrogaphy[\n",
    "    (us_hydrogaphy.FTYPE.isin([\"Canal/Ditch\", \"Stream/River\"]))\n",
    "    | (us_hydrogaphy.FCODE_DESC.astype(str).str.contains(\"River\"))\n",
    "]\n",
    "\n",
    "# Subset Columns\n",
    "us_hydrogaphy = us_hydrogaphy[[\"geometry\"]]\n",
    "\n",
    "# Dissolve Geometry to Simplify Geometries\n",
    "us_hydrogaphy = us_hydrogaphy.dissolve()\n",
    "us_hydrogaphy[\"AREA\"] = \"BODY\""
   ]
  },
  {
   "cell_type": "markdown",
   "id": "c2ecd9ec",
   "metadata": {},
   "source": [
    "## 2. Full US Hydrology Data - River/Stream Lines"
   ]
  },
  {
   "cell_type": "code",
   "execution_count": 4,
   "id": "2e5c5417",
   "metadata": {},
   "outputs": [],
   "source": [
    "# Open US Hydrography River/Streams Data\n",
    "# Source: https://hub.arcgis.com/datasets/esri::usa-rivers-and-streams/explore?location=46.118025%2C-122.384827%2C9.56\n",
    "us_rivers = gpd.read_file(\n",
    "    \"/Users/tylerstevenson/Documents/CODE/SalmonSignal/data/processed/GIS/inland_rivers/US_Detailed_Rivers_Lines/9ae73184-d43c-4ab8-940a-c8687f61952f2020328-1-r9gw71.0odx9.shp\"\n",
    ")\n",
    "\n",
    "# Ensure Consistent CRS\n",
    "us_rivers = us_rivers.to_crs(\"EPSG:4326\")\n",
    "\n",
    "# Filter to Sources to Pacific\n",
    "us_rivers = us_rivers.clip(bbox_gdf)\n",
    "\n",
    "# Subset to Columns\n",
    "us_rivers = us_rivers[[\"geometry\"]]\n",
    "\n",
    "# Dissolve Geometries\n",
    "us_rivers = us_rivers.dissolve()\n",
    "\n",
    "# Simplify\n",
    "us_rivers[\"geometry\"] = us_rivers[\"geometry\"].buffer(0.00025)\n",
    "us_rivers[\"AREA\"] = \"LINE\""
   ]
  },
  {
   "cell_type": "code",
   "execution_count": 5,
   "id": "6f8f7e09",
   "metadata": {},
   "outputs": [],
   "source": [
    "# Combine with US Hydorlogic Water Bodies\n",
    "us_hydrogaphy = pd.concat([us_rivers, us_hydrogaphy])"
   ]
  },
  {
   "cell_type": "markdown",
   "id": "ae4ceb03",
   "metadata": {},
   "source": [
    "***\n",
    "\n",
    "## 1. Washington State Hydrology"
   ]
  },
  {
   "cell_type": "code",
   "execution_count": 6,
   "id": "6cbebb87",
   "metadata": {},
   "outputs": [],
   "source": [
    "# Open Washington Hydrography Waterbodies Data\n",
    "# Source: https://geo.wa.gov/datasets/ -> Search \"NHDWaterbody\"\n",
    "washington_hydrography = gpd.read_file(\n",
    "    \"/Users/tylerstevenson/Documents/CODE/SalmonSignal/data/processed/GIS/inland_rivers/US_WUHD_Washington/NHDWaterbody.shp\"\n",
    ")\n",
    "\n",
    "# Ensure Consistent CRS\n",
    "washington_hydrography = washington_hydrography.to_crs(\"EPSG:4326\")\n",
    "\n",
    "# Enforce D-Type\n",
    "washington_hydrography[\"ReachCode\"] = washington_hydrography.ReachCode.str.strip(\"\")"
   ]
  },
  {
   "cell_type": "code",
   "execution_count": 7,
   "id": "c613b480",
   "metadata": {},
   "outputs": [],
   "source": [
    "# Select Lakes for Columbia River:\n",
    "location_selection = [\n",
    "    \"Lake Bonneville\",\n",
    "    \"Lake Celilo\",\n",
    "    \"Lake Chelan\",\n",
    "    \"Lake Entiat\",\n",
    "    \"Lake Merwin\",\n",
    "    \"Lake Sacajawea\",\n",
    "    \"Lake Umatilla\",\n",
    "    \"Lake Wallula\",\n",
    "    \"Mayfield Lake\",\n",
    "    \"Priest Rapids Lake\",\n",
    "    \"Riffe Lake\",\n",
    "    \"Sturgeon Lake\",\n",
    "    \"Swift Reservoir\",\n",
    "    \"Wanapum Lake\",\n",
    "    \"Yakima River\",\n",
    "    \"Yale Lake\",\n",
    "]"
   ]
  },
  {
   "cell_type": "code",
   "execution_count": 8,
   "id": "51819a24",
   "metadata": {},
   "outputs": [],
   "source": [
    "# Exclude Duplicate Names - Non River Systems\n",
    "river_system_wa = washington_hydrography[\n",
    "    ~washington_hydrography.ReachCode.isin([\"17080003037462\", \"17080003037449\"])\n",
    "].copy()\n",
    "\n",
    "# Filter to River System Lakes\n",
    "river_system_wa = river_system_wa[\n",
    "    washington_hydrography.GNIS_Name.isin(location_selection)\n",
    "]\n",
    "\n",
    "river_system_wa = river_system_wa.dissolve(by=\"GNIS_Name\")[[\"geometry\"]].reset_index()\n",
    "river_system_wa.columns = [\"NAME\", \"geometry\"]"
   ]
  },
  {
   "cell_type": "markdown",
   "id": "55dd5945",
   "metadata": {},
   "source": [
    "## 4. Combine Dataset to Create Unified Dataset"
   ]
  },
  {
   "cell_type": "code",
   "execution_count": 9,
   "id": "b77dd66f",
   "metadata": {},
   "outputs": [],
   "source": [
    "# Combine Data to Build Unified Dataset\n",
    "hydrography_area = pd.concat([us_hydrogaphy, river_system_wa])\n",
    "# hydrography_area = hydrography_area[[\"geometry\"]]\n",
    "# hydrography_area = hydrography_area.dissolve()"
   ]
  },
  {
   "cell_type": "code",
   "execution_count": 10,
   "id": "9d7d8ef7",
   "metadata": {},
   "outputs": [],
   "source": [
    "# Build Output Directory\n",
    "output_directory = \"../data/processed/GIS/inland_waters\"\n",
    "\n",
    "if not os.path.exists(output_directory):\n",
    "    os.makedirs(output_directory)\n",
    "\n",
    "# Save Inland Waters\n",
    "hydrography_area.to_parquet(f\"{output_directory}/US_INLAND_WATERS.parquet\")"
   ]
  },
  {
   "cell_type": "code",
   "execution_count": 16,
   "id": "16f25e51",
   "metadata": {},
   "outputs": [],
   "source": [
    "# Save Columbia River Connections\n",
    "hydrography_area = hydrography_area[[\"geometry\"]]\n",
    "hydrography_area = hydrography_area.dissolve()\n",
    "hydrography_areas = hydrography_area.explode()"
   ]
  },
  {
   "cell_type": "code",
   "execution_count": 17,
   "id": "927782f4",
   "metadata": {},
   "outputs": [],
   "source": [
    "# Coordinates for center of Columbia River near Portland, OR\n",
    "lat, lon = 46.225, -123.8\n",
    "\n",
    "# Create a GeoDataFrame with this point\n",
    "columbia_tie_point_gdf = gpd.GeoDataFrame(\n",
    "    {\"geometry\": [Point(lon, lat)]}, crs=\"EPSG:4326\"\n",
    ")"
   ]
  },
  {
   "cell_type": "code",
   "execution_count": 18,
   "id": "7eb60088",
   "metadata": {},
   "outputs": [],
   "source": [
    "columbia_hydrography_areas = hydrography_areas.sjoin(columbia_tie_point_gdf)"
   ]
  },
  {
   "cell_type": "code",
   "execution_count": 19,
   "id": "14f6caa3",
   "metadata": {},
   "outputs": [],
   "source": [
    "hydrography_area_reduced = pd.concat([us_hydrogaphy, river_system_wa])"
   ]
  },
  {
   "cell_type": "code",
   "execution_count": 20,
   "id": "866de74a",
   "metadata": {},
   "outputs": [
    {
     "data": {
      "text/html": [
       "<div>\n",
       "<style scoped>\n",
       "    .dataframe tbody tr th:only-of-type {\n",
       "        vertical-align: middle;\n",
       "    }\n",
       "\n",
       "    .dataframe tbody tr th {\n",
       "        vertical-align: top;\n",
       "    }\n",
       "\n",
       "    .dataframe thead th {\n",
       "        text-align: right;\n",
       "    }\n",
       "</style>\n",
       "<table border=\"1\" class=\"dataframe\">\n",
       "  <thead>\n",
       "    <tr style=\"text-align: right;\">\n",
       "      <th></th>\n",
       "      <th>geometry</th>\n",
       "      <th>index_right</th>\n",
       "    </tr>\n",
       "  </thead>\n",
       "  <tbody>\n",
       "    <tr>\n",
       "      <th>0</th>\n",
       "      <td>POLYGON Z ((-123.10679 44.0946 0, -123.10746 4...</td>\n",
       "      <td>0</td>\n",
       "    </tr>\n",
       "  </tbody>\n",
       "</table>\n",
       "</div>"
      ],
      "text/plain": [
       "                                            geometry  index_right\n",
       "0  POLYGON Z ((-123.10679 44.0946 0, -123.10746 4...            0"
      ]
     },
     "execution_count": 20,
     "metadata": {},
     "output_type": "execute_result"
    }
   ],
   "source": [
    "columbia_hydrography_areas.clip(hydrography_area_reduced)"
   ]
  },
  {
   "cell_type": "code",
   "execution_count": 29,
   "id": "2d30adc0",
   "metadata": {},
   "outputs": [],
   "source": [
    "columbia_hydrography_area_reduced = hydrography_area_reduced.clip(\n",
    "    columbia_hydrography_areas\n",
    ")\n",
    "\n",
    "columbia_hydrography_area_reduced[\"NAME\"] = np.where(\n",
    "    columbia_hydrography_area_reduced[\"AREA\"] == \"BODY\",\n",
    "    \"MAJOR\",\n",
    "    columbia_hydrography_area_reduced[\"NAME\"],\n",
    ")\n",
    "\n",
    "columbia_hydrography_area_reduced[\"NAME\"] = np.where(\n",
    "    columbia_hydrography_area_reduced[\"AREA\"] == \"LINE\",\n",
    "    \"MINOR\",\n",
    "    columbia_hydrography_area_reduced[\"NAME\"],\n",
    ")\n",
    "\n",
    "columbia_hydrography_area_reduced = columbia_hydrography_area_reduced[\n",
    "    [\"NAME\", \"geometry\"]\n",
    "]"
   ]
  },
  {
   "cell_type": "code",
   "execution_count": 33,
   "id": "29815e34",
   "metadata": {},
   "outputs": [],
   "source": [
    "def classify_river(name):\n",
    "    name = name.upper()\n",
    "    if \"MAJOR\" in name:\n",
    "        return \"MAJOR\"\n",
    "    elif \"MINOR\" in name:\n",
    "        return \"MINOR\"\n",
    "    else:\n",
    "        return \"OTHER\""
   ]
  },
  {
   "cell_type": "code",
   "execution_count": 34,
   "id": "6774f87a",
   "metadata": {},
   "outputs": [],
   "source": [
    "columbia_hydrography_area_reduced[\"RIVER_TYPE\"] = columbia_hydrography_area_reduced[\n",
    "    \"NAME\"\n",
    "].apply(classify_river)"
   ]
  },
  {
   "cell_type": "code",
   "execution_count": 35,
   "id": "afd74dfc",
   "metadata": {},
   "outputs": [],
   "source": [
    "columbia_hydrography_area_reduced.to_parquet(\n",
    "    f\"{output_directory}/US_INLAND_WATERS_COLUMBIA_R.parquet\"\n",
    ")"
   ]
  },
  {
   "cell_type": "code",
   "execution_count": null,
   "id": "5581021c",
   "metadata": {},
   "outputs": [],
   "source": []
  }
 ],
 "metadata": {
  "kernelspec": {
   "display_name": "salmonsignal",
   "language": "python",
   "name": "python3"
  },
  "language_info": {
   "codemirror_mode": {
    "name": "ipython",
    "version": 3
   },
   "file_extension": ".py",
   "mimetype": "text/x-python",
   "name": "python",
   "nbconvert_exporter": "python",
   "pygments_lexer": "ipython3",
   "version": "3.10.18"
  }
 },
 "nbformat": 4,
 "nbformat_minor": 5
}
