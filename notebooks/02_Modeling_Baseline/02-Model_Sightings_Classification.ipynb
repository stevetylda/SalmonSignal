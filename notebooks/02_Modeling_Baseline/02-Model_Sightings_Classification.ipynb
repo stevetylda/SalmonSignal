{
 "cells": [
  {
   "cell_type": "code",
   "execution_count": null,
   "id": "599d32fd",
   "metadata": {},
   "outputs": [],
   "source": [
    "# ========================================================= #\n",
    "#                   MODULES & IMPORTS                       #\n",
    "# ========================================================= #\n",
    "\n",
    "import os\n",
    "import warnings\n",
    "\n",
    "import h3\n",
    "import swifter\n",
    "import geopandas as gpd\n",
    "import numpy as np\n",
    "import pandas as pd\n",
    "import plotly.express as px\n",
    "import matplotlib.pyplot as plt\n",
    "import numpy as np\n",
    "import pandas as pd\n",
    "from sklearn.metrics import (\n",
    "    log_loss,\n",
    "    accuracy_score,\n",
    "    confusion_matrix,\n",
    "    classification_report,\n",
    "    roc_auc_score,\n",
    "    brier_score_loss,\n",
    ")\n",
    "from sklearn.model_selection import GroupKFold\n",
    "from sklearn.preprocessing import label_binarize\n",
    "import matplotlib.pyplot as plt\n",
    "from sklearn.calibration import calibration_curve\n",
    "\n",
    "from sklearn.base import clone\n",
    "from sklearn.pipeline import Pipeline\n",
    "from sklearn.compose import ColumnTransformer\n",
    "from sklearn.preprocessing import OneHotEncoder, StandardScaler\n",
    "from sklearn.metrics import (\n",
    "    log_loss,\n",
    "    classification_report,\n",
    "    accuracy_score,\n",
    "    confusion_matrix,\n",
    ")\n",
    "from sklearn.model_selection import GroupKFold\n",
    "from sklearn.calibration import CalibratedClassifierCV, calibration_curve\n",
    "from sklearn.linear_model import LogisticRegression\n",
    "from sklearn.ensemble import VotingClassifier, StackingClassifier\n",
    "\n",
    "import xgboost as xgb\n",
    "\n",
    "warnings.filterwarnings(\"ignore\", message=\"The `cv='prefit'` option is deprecated\")\n",
    "warnings.filterwarnings(\"ignore\", message=r\".*use_label_encoder.*\")\n",
    "\n",
    "\n",
    "# ========================================================= #\n",
    "#                      DATA HELPERS                         #\n",
    "# ========================================================= #\n",
    "\n",
    "\n",
    "def open_sightings(path: str) -> pd.DataFrame:\n",
    "    \"\"\"Open sightings data from CSV or Parquet.\"\"\"\n",
    "    if not os.path.exists(path):\n",
    "        raise FileNotFoundError(f\"Path does not exist: {path}\")\n",
    "    if path.endswith(\".csv\"):\n",
    "        return pd.read_csv(path)\n",
    "    if path.endswith(\".parquet\"):\n",
    "        return pd.read_parquet(path)\n",
    "    raise ValueError(\"Unsupported file type. Use .csv or .parquet.\")\n",
    "\n",
    "\n",
    "def quick_preprocess(data: pd.DataFrame, h3_resolution: int) -> pd.DataFrame:\n",
    "    \"\"\"Basic cleaning + H3 encoding + POD type fixes.\"\"\"\n",
    "    # Fix longitude sign\n",
    "    data[\"LONGITUDE\"] = np.where(\n",
    "        data[\"LONGITUDE\"] > 0, -data[\"LONGITUDE\"], data[\"LONGITUDE\"]\n",
    "    )\n",
    "    data = data[(data[\"LONGITUDE\"] < -115) & (data[\"LONGITUDE\"] > -160)].reset_index(\n",
    "        drop=True\n",
    "    )\n",
    "\n",
    "    # H3 cell assignment\n",
    "    data[\"H3_CELL\"] = data.swifter.apply(\n",
    "        lambda x: h3.latlng_to_cell(x[\"LATITUDE\"], x[\"LONGITUDE\"], h3_resolution),\n",
    "        axis=1,\n",
    "    )\n",
    "\n",
    "    # Ensure datetime + year col\n",
    "    data[\"DATE\"] = pd.to_datetime(data[\"DATE\"])\n",
    "    data[\"YEAR\"] = data[\"DATE\"].dt.year\n",
    "\n",
    "    # Pod type cleanup\n",
    "    data[\"POD_TYPE\"] = np.where(data[\"POD_TAG\"] == \"T\", \"TRANSIENT\", data[\"POD_TYPE\"])\n",
    "    data[\"POD_TYPE\"] = np.where(data[\"POD_TAG\"] == \"O\", \"OTHER\", data[\"POD_TYPE\"])\n",
    "    data[\"POD_TYPE\"] = np.where(\n",
    "        data[\"POD_TAG\"].isin([\"J\", \"K\", \"L\"]), \"SRKW\", data[\"POD_TYPE\"]\n",
    "    )\n",
    "    data[\"POD_TYPE\"] = np.where(\n",
    "        ~data[\"POD_TAG\"].isin([\"J\", \"K\", \"L\", \"O\", \"T\"]), \"NRKW\", data[\"POD_TYPE\"]\n",
    "    )\n",
    "\n",
    "    # Group blocks: H3 + year\n",
    "    data[\"BLOCK\"] = data[\"H3_CELL\"].astype(str) + \"_\" + data[\"YEAR\"].astype(str)\n",
    "    return data\n",
    "\n",
    "\n",
    "def add_cyclical_features(df, cyclical_cols=None):\n",
    "    \"\"\"Add sin/cos transforms for cyclical temporal features.\"\"\"\n",
    "    cyclical_cols = cyclical_cols or {\"DOY\": 365, \"WOY\": 52, \"MONTH\": 12}\n",
    "    for col, max_val in cyclical_cols.items():\n",
    "        df[f\"{col}_SIN\"] = np.sin(2 * np.pi * df[col] / max_val)\n",
    "        df[f\"{col}_COS\"] = np.cos(2 * np.pi * df[col] / max_val)\n",
    "    return df\n",
    "\n",
    "\n",
    "def split_data_by_categorization_other(df):\n",
    "    \"\"\"Split sightings into classed pods vs OTHER/NaN.\"\"\"\n",
    "    classed = df[df[\"POD_TYPE\"].isin([\"SRKW\", \"NRKW\", \"TRANSIENT\"])].copy()\n",
    "    other = df[(df[\"POD_TYPE\"] == \"OTHER\") | (df[\"POD_TYPE\"].isna())].copy()\n",
    "    return classed, other\n",
    "\n",
    "\n",
    "def build_feature_matrix(df, feature_cols, response):\n",
    "    \"\"\"Build feature matrix X and target y.\"\"\"\n",
    "    return df[feature_cols].copy(), df[response]\n",
    "\n",
    "\n",
    "# ========================================================= #\n",
    "#                   MODELING FUNCTIONS                      #\n",
    "# ========================================================= #\n",
    "\n",
    "\n",
    "def _safe_fit(clf, X, y, sample_weights=None):\n",
    "    \"\"\"Fit pipeline safely with sample weights (if supported).\"\"\"\n",
    "    try:\n",
    "        if sample_weights is not None:\n",
    "            clf.fit(X, y, model__sample_weight=sample_weights)\n",
    "        else:\n",
    "            clf.fit(X, y)\n",
    "    except TypeError:\n",
    "        # Some models in pipelines ignore sample_weight\n",
    "        clf.fit(X, y)\n",
    "    return clf\n",
    "\n",
    "\n",
    "def train_classifier(\n",
    "    X,\n",
    "    y,\n",
    "    groups,\n",
    "    categorical_features,\n",
    "    numeric_features,\n",
    "    base_model,\n",
    "    sample_weights=None,\n",
    "    n_splits=5,\n",
    "    calibrate=True,\n",
    "):\n",
    "    \"\"\"Train classifier with GroupKFold + OOF preds + optional calibration.\"\"\"\n",
    "    # Wrap if no predict_proba\n",
    "    if not hasattr(base_model, \"predict_proba\"):\n",
    "        base_model = CalibratedClassifierCV(base_model, cv=3, method=\"sigmoid\")\n",
    "\n",
    "    preprocessor = ColumnTransformer(\n",
    "        [\n",
    "            (\"cat\", OneHotEncoder(handle_unknown=\"ignore\"), categorical_features),\n",
    "            (\"num\", StandardScaler(), numeric_features),\n",
    "        ]\n",
    "    )\n",
    "\n",
    "    clf = Pipeline(steps=[(\"preprocessor\", preprocessor), (\"model\", base_model)])\n",
    "    classes = np.unique(y)\n",
    "    oof_preds = np.zeros((len(X), len(classes)))\n",
    "    gkf = GroupKFold(n_splits=n_splits)\n",
    "\n",
    "    for fold, (tr, va) in enumerate(gkf.split(X, y, groups)):\n",
    "        X_tr, X_va = X.iloc[tr], X.iloc[va]\n",
    "        y_tr, y_va = y.iloc[tr], y.iloc[va]\n",
    "        w_tr = None if sample_weights is None else sample_weights.iloc[tr]\n",
    "\n",
    "        _safe_fit(clf, X_tr, y_tr, w_tr)\n",
    "\n",
    "        preds = clf.predict_proba(X_va)\n",
    "        aligned = np.zeros((len(X_va), len(classes)))\n",
    "        for i, c in enumerate(clf.named_steps[\"model\"].classes_):\n",
    "            aligned[:, np.where(classes == c)[0][0]] = preds[:, i]\n",
    "        oof_preds[va] = aligned\n",
    "\n",
    "    # Final fit\n",
    "    _safe_fit(clf, X, y, sample_weights)\n",
    "\n",
    "    # Calibrate\n",
    "    if calibrate and not isinstance(clf.named_steps[\"model\"], CalibratedClassifierCV):\n",
    "        calibrator = CalibratedClassifierCV(\n",
    "            estimator=clf, cv=\"prefit\", method=\"isotonic\"\n",
    "        )\n",
    "        calibrator.fit(X, y)\n",
    "        return calibrator, oof_preds\n",
    "    return clf, oof_preds\n",
    "\n",
    "\n",
    "# ========================================================= #\n",
    "#                   MODELING EVALUATION                     #\n",
    "# ========================================================= #\n",
    "\n",
    "\n",
    "def evaluate_model(y_true, oof_preds, classes):\n",
    "    \"\"\"Evaluate model with accuracy, log loss, confusion matrix, calibration curves.\"\"\"\n",
    "    y_pred = classes[np.argmax(oof_preds, axis=1)]\n",
    "\n",
    "    print(f\"Accuracy: {accuracy_score(y_true, y_pred):.3f}\")\n",
    "    print(f\"Log Loss: {log_loss(y_true, oof_preds, labels=classes):.3f}\")\n",
    "\n",
    "    print(\"\\nConfusion Matrix:\")\n",
    "    print(confusion_matrix(y_true, y_pred, labels=classes))\n",
    "\n",
    "    print(\"\\nClassification Report:\")\n",
    "    print(classification_report(y_true, y_pred, labels=classes, zero_division=0))\n",
    "\n",
    "    # Calibration plot\n",
    "    plt.figure(figsize=(8, 6))\n",
    "    for i, c in enumerate(classes):\n",
    "        prob_true, prob_pred = calibration_curve(\n",
    "            (y_true == c).astype(int), oof_preds[:, i], n_bins=10\n",
    "        )\n",
    "        plt.plot(prob_pred, prob_true, marker=\"o\", label=str(c))\n",
    "    plt.plot([0, 1], [0, 1], \"k--\", label=\"Perfect\")\n",
    "    plt.xlabel(\"Mean Predicted Probability\")\n",
    "    plt.ylabel(\"Fraction of Positives\")\n",
    "    plt.title(\"Calibration Curves\")\n",
    "    plt.legend()\n",
    "    plt.show()\n",
    "\n",
    "\n",
    "def _as_class_index(y, classes):\n",
    "    idx_map = {c: i for i, c in enumerate(classes)}\n",
    "    return np.array([idx_map[v] for v in y])\n",
    "\n",
    "\n",
    "def multiclass_brier(y_true, probas, classes):\n",
    "    Y = label_binarize(y_true, classes=classes)\n",
    "    # Brier for multiclass = mean over samples of sum_k (p_k - y_k)^2\n",
    "    return float(np.mean(np.sum((probas - Y) ** 2, axis=1)))\n",
    "\n",
    "\n",
    "def top_label_ece(y_true, probas, classes, n_bins=15):\n",
    "    y_idx = _as_class_index(y_true, classes)\n",
    "    conf = probas.max(axis=1)\n",
    "    pred = probas.argmax(axis=1)\n",
    "    correct = (pred == y_idx).astype(float)\n",
    "\n",
    "    bins = np.linspace(0.0, 1.0, n_bins + 1)\n",
    "    ece = 0.0\n",
    "    rows = []\n",
    "    N = len(conf)\n",
    "    for i in range(n_bins):\n",
    "        lo, hi = bins[i], bins[i + 1]\n",
    "        mask = (conf > lo) & (conf <= hi) if i > 0 else (conf >= lo) & (conf <= hi)\n",
    "        m = mask.sum()\n",
    "        if m == 0:\n",
    "            rows.append((lo, hi, np.nan, np.nan, 0))\n",
    "            continue\n",
    "        acc = correct[mask].mean()\n",
    "        cbar = conf[mask].mean()\n",
    "        ece += (m / N) * abs(acc - cbar)\n",
    "        rows.append((lo, hi, acc, cbar, int(m)))\n",
    "    return float(ece), pd.DataFrame(\n",
    "        rows, columns=[\"bin_low\", \"bin_high\", \"accuracy\", \"confidence\", \"count\"]\n",
    "    )\n",
    "\n",
    "\n",
    "def verify_probabilities(oof, classes):\n",
    "    assert oof.ndim == 2, \"oof must be (n_samples, n_classes)\"\n",
    "    assert oof.shape[1] == len(classes), \"oof columns must match number of classes\"\n",
    "    if np.isnan(oof).any():\n",
    "        raise ValueError(\"NaNs found in oof predictions.\")\n",
    "    if (oof < -1e-12).any() or (oof > 1 + 1e-12).any():\n",
    "        raise ValueError(\"oof predictions outside [0,1].\")\n",
    "    sums = oof.sum(axis=1)\n",
    "    if not np.allclose(sums, 1.0, atol=1e-6):\n",
    "        raise ValueError(\"Rows of oof predictions do not sum to 1.\")\n",
    "    return {\n",
    "        \"n_samples\": oof.shape[0],\n",
    "        \"n_classes\": oof.shape[1],\n",
    "        \"row_sum_min\": float(sums.min()),\n",
    "        \"row_sum_max\": float(sums.max()),\n",
    "    }\n",
    "\n",
    "\n",
    "def baseline_entropy(y, classes):\n",
    "    \"\"\"Entropy of class distribution = log-loss of always predicting prevalence.\"\"\"\n",
    "    counts = pd.Series(y).value_counts().reindex(classes, fill_value=0).values\n",
    "    p = counts / counts.sum()\n",
    "    p = np.clip(p, 1e-15, 1.0)\n",
    "    return float(-(p * np.log(p)).sum()), dict(zip(classes, p))\n",
    "\n",
    "\n",
    "def per_fold_metrics(y, oof, groups, classes, n_splits):\n",
    "    gkf = GroupKFold(n_splits=n_splits)\n",
    "    fold_rows = []\n",
    "    idx_all = np.arange(len(y))\n",
    "    # Recreate the same fold geometry; we only read val idx here\n",
    "    for fold, (_, val_idx) in enumerate(gkf.split(idx_all, y, groups)):\n",
    "        yv = np.array(y)[val_idx]\n",
    "        pv = oof[val_idx]\n",
    "        acc = accuracy_score(yv, classes[pv.argmax(axis=1)])\n",
    "        try:\n",
    "            ll = log_loss(yv, pv, labels=classes)\n",
    "        except ValueError:\n",
    "            # if a val fold has zero instances of some class, labels=classes keeps it consistent\n",
    "            ll = log_loss(yv, pv, labels=classes)\n",
    "        fold_rows.append(\n",
    "            {\"fold\": fold, \"n_val\": len(val_idx), \"accuracy\": acc, \"log_loss\": ll}\n",
    "        )\n",
    "    return pd.DataFrame(fold_rows)\n",
    "\n",
    "\n",
    "def bootstrap_ci(y, oof, classes, n_boot=1000, seed=42):\n",
    "    rng = np.random.default_rng(seed)\n",
    "    n = len(y)\n",
    "    accs, lls = [], []\n",
    "    y = np.array(y)\n",
    "    for _ in range(n_boot):\n",
    "        idx = rng.integers(0, n, n)\n",
    "        accs.append(accuracy_score(y[idx], classes[oof[idx].argmax(axis=1)]))\n",
    "        lls.append(log_loss(y[idx], oof[idx], labels=classes))\n",
    "\n",
    "    def _ci(a):\n",
    "        lo, hi = np.percentile(a, [2.5, 97.5])\n",
    "        return float(np.mean(a)), float(lo), float(hi)\n",
    "\n",
    "    acc_mean, acc_lo, acc_hi = _ci(accs)\n",
    "    ll_mean, ll_lo, ll_hi = _ci(lls)\n",
    "    return {\n",
    "        \"accuracy_mean\": acc_mean,\n",
    "        \"accuracy_95CI\": (acc_lo, acc_hi),\n",
    "        \"logloss_mean\": ll_mean,\n",
    "        \"logloss_95CI\": (ll_lo, ll_hi),\n",
    "    }\n",
    "\n",
    "\n",
    "def plot_calibration_curves(y, oof, classes):\n",
    "    plt.figure(figsize=(8, 6))\n",
    "    for i, c in enumerate(classes):\n",
    "        yt = (np.array(y) == c).astype(int)\n",
    "        prob_true, prob_pred = calibration_curve(yt, oof[:, i], n_bins=10)\n",
    "        plt.plot(prob_pred, prob_true, marker=\"o\", label=str(c))\n",
    "    plt.plot([0, 1], [0, 1], \"k--\", label=\"Perfect\")\n",
    "    plt.xlabel(\"Mean Predicted Probability\")\n",
    "    plt.ylabel(\"Fraction of Positives\")\n",
    "    plt.title(\"Calibration Curves (OOF)\")\n",
    "    plt.legend()\n",
    "    plt.show()\n",
    "\n",
    "\n",
    "def extract_lr_coefficients(model, feature_names=None, top_k=15):\n",
    "    \"\"\"\n",
    "    Works when your final estimator is LogisticRegression inside a Pipeline,\n",
    "    optionally wrapped by CalibratedClassifierCV(cv='prefit').\n",
    "    \"\"\"\n",
    "    # unwrap calibrator if present\n",
    "    pipe = model\n",
    "    from sklearn.calibration import CalibratedClassifierCV\n",
    "\n",
    "    if isinstance(pipe, CalibratedClassifierCV):\n",
    "        pipe = pipe.estimator  # the fitted Pipeline\n",
    "\n",
    "    # get the LR object\n",
    "    lr = pipe.named_steps.get(\"model\", None)\n",
    "    if lr is None:\n",
    "        return None\n",
    "    from sklearn.linear_model import LogisticRegression\n",
    "\n",
    "    if not isinstance(lr, LogisticRegression):\n",
    "        return None\n",
    "\n",
    "    # feature names from preprocessor if not provided\n",
    "    if feature_names is None:\n",
    "        pre = pipe.named_steps[\"preprocessor\"]\n",
    "        try:\n",
    "            feature_names = pre.get_feature_names_out()\n",
    "        except Exception:\n",
    "            feature_names = [f\"f{i}\" for i in range(lr.coef_.shape[1])]\n",
    "\n",
    "    classes = lr.classes_\n",
    "    coefs = pd.DataFrame(lr.coef_, columns=feature_names, index=classes)\n",
    "\n",
    "    top = {}\n",
    "    for c in classes:\n",
    "        series = coefs.loc[c].sort_values(ascending=False)\n",
    "        top[c] = {\n",
    "            \"top_positive\": series.head(top_k),\n",
    "            \"top_negative\": series.tail(top_k),\n",
    "        }\n",
    "    return top\n",
    "\n",
    "\n",
    "# ========================================================= #\n",
    "#                    END OF MODULE                          #\n",
    "# ========================================================= #"
   ]
  },
  {
   "cell_type": "markdown",
   "id": "21c9181b",
   "metadata": {},
   "source": [
    "# Model - Classify Unspecified Orca Sightings for Later Modeling\n",
    "\n",
    "<b>POC</b>: Tyler Stevenson <br>\n",
    "<b>LAST MODIFIED</b>: 2025-08-17 <br>\n",
    "\n",
    "***\n",
    "\n",
    "### TL;DR\n",
    "\n",
    "We’ll convert ~20% “OTHER” orca sightings into probabilistic labels over pod type (SRKW, NRKW, Transient) and—when signal allows—pod tag (e.g., J/K/L). The classifier’s outputs are calibrated probabilities with an explicit reject/OOD option. Downstream presence models will consume these via soft labels (or via Monte Carlo label draws) with effort-aware weights, so we add signal without hallucinating certainty.\n",
    "\n",
    "***\n",
    "\n",
    "### 1. Problem Statement\n",
    "\n",
    "<b>Goal</b>: Accurately classify sightings labeled “OTHER” into pod types and (if possible) pod tags, returning well-calibrated probabilities and an abstain option when evidence is weak or out-of-distribution (OOD). These enriched records should measurably improve pod-specific presence forecasts.\n",
    "\n",
    "<b>Why</b>: “OTHER” is ~20% (≈42k) of the sightings corpus — ignoring it wastes information and may bias presence models toward over-represented labeled subsets.\n",
    "\n",
    "<b>What “OTHER” really represents?</b>\n",
    "- Confirmed orca sightings, but observer couldn’t distinguish pod type.\n",
    "- Often due to distance, poor visibility, or observer experience.\n",
    "- NRKW are inherently rare in the dataset, mostly appearing farther north, so generally, they’ll barely appear in “OTHER” within your study area.\n",
    "- SRKW and Transient orcas dominate the range — especially near the San Juans.\n",
    "\n",
    "#### 1a. Primary Success Criteria:\n",
    "- Calibration: Brier score ↓, ECE ≤ 0.03 for pod-type predictions.\n",
    "- Discrimination: Macro F1 ≥ baseline + 0.06, LogLoss ↓ ≥ 10% vs baseline.\n",
    "- Safety: OOD/Reject covers ≤ 10% of cases but captures ≥ 70% of major misclassifications.\n",
    "- Downstream lift: Pod-specific presence GAM/XGB shows ↑ AUCPR by ≥ 5% absolute on a temporal+spatial holdout. \n",
    "\n",
    "### 2. Data Overview\n",
    "\n",
    "#### 2a. Label Taxonomy\n",
    "\n",
    "<b>Level 1</b>: Pod Type (Ecotype) — {SRKW, NRKW, Transient}. (Mutually exclusive.) <br>\n",
    "<b>Level 2</b>: Pod Tag — SRKW: {J, K, L}; NRKW: (regional pods/tags as available); Transient: (if stable tag set exists). Many “OTHER” points will only be classifiable at Level 1. <br>\n",
    "<b>Unknown/Reject</b> — explicit label when confidence or coverage is low. <br>\n",
    "\n",
    "#### 2b. Sources\n",
    "- <b>The Whale Museum</b> (≤2023): \n",
    "- <b>Acartia</b> (2019-present): \n",
    "- [TBD] <b>Spyhopper</b> (pending):\n",
    "\n",
    "Provenance tracking: keep per-record source_id, report_cluster_id, feature_version, label_version.\n",
    "\n",
    "#### 2c. Preprocessing\n",
    "\n",
    "Text normalization: lowercase, strip URLs, normalize common misspellings (“residents”, “transients”), preserve species names.\n",
    "Outlier & NA handling: Winsorize env features at 1st/99th pct; median-impute with missing flags.\n",
    "\n",
    "### 3. Modeling Strategy\n",
    "#### 3a. Baseline\n",
    "\n",
    "Multinomial logistic regression with target encoding for H3 & regularization.\n",
    "GAM (multinomial via one-vs-rest) with smoothers over (lat, lon), DOY, SST, etc. Provides interpretability & a reference.\n",
    "\n",
    "#### 3b. Primary Classifier (Level 1: Pod Type (\"EcoType\" Model))\n",
    "\n",
    "Calibrated Gradient Boosting (LightGBM/XGBoost or CatBoost for categorical):\n",
    "- Loss: multiclass logloss.\n",
    "- Class weights or focal loss to handle imbalance.\n",
    "- Post-hoc calibration per class: isotonic or temperature scaling on a calibration fold.\n",
    "\n",
    "Hierarchical head for Level 2 Pod Tag:\n",
    "- Conditional models: one model per pod type (e.g., SRKW→{J,K,L}).\n",
    "- Joint multi-task network (optional): shared trunk, heads for pod type & pod tag.\n",
    "\n",
    "#### 3c. Semi-Supervised / Weak Supervision for \"OTHER\n",
    "\n",
    "Self-training with confidence thresholding: train on knowns → pseudo-label high-confidence OTHER → retrain; cap each class’s pseudo-label contribution.\n",
    "\n",
    "Weak rules (labeling functions): time/space windows around known SRKW seasonal occupancy, acoustic signatures, canonical corridor proximity; aggregate via Snorkel-style label model to produce probabilistic labels.\n",
    "\n",
    "#### 3d. Open-Set Recognition (Reject/OOD)\n",
    "\n",
    "Score-based reject: max softmax probability < τ or high predictive entropy.\n",
    "\n",
    "Density/OOD: Mahalanobis in feature space; isolation forest on learned embedding; energy-based scores.\n",
    "\n",
    "Route low-confidence/OOD to human review or remain as OTHER with probability mass left unassigned.\n",
    "\n",
    "#### 3e. Cost Sensitivity\n",
    "\n",
    "Define a misclassification cost matrix, e.g., mislabeling Transient as SRKW is highest cost. Use in training (class weights) and in thresholding decisions.\n",
    "\n",
    "#### 3f. Train/Validation Protocol (Leakage-proof)\n",
    "\n",
    "Grouping: Split by spatiotemporal blocks and report_cluster_id so the same event never appears in multiple folds. <br>\n",
    "Temporal holdout: Last N months as final test (e.g., 2024-10 → 2025-03) to reflect deployment. <br>\n",
    "Spatial blocking: H3 parent-level folds to enforce geographic generalization. <br>\n",
    "\n",
    "Metrics:\n",
    "- Discrimination: Macro F1, Macro AUPRC, MCC, Top-2 accuracy.\n",
    "- Probabilistic: LogLoss, Brier, ECE, classwise calibration curves.\n",
    "- Safety: Coverage vs accuracy under reject option.\n",
    "\n",
    "#### 3g. Calibration & Uncertainty\n",
    "\n",
    "Calibrate with temperature scaling (multiclass) or isotonic per one-vs-rest head. <br>\n",
    "Report reliability diagrams, ECE, and classwise Brier. <br>\n",
    "Conformal prediction: produce prediction sets with guaranteed error rate α (e.g., 10%). <br>\n",
    "\n",
    "#### 3h. Monitoring & Drift\n",
    "\n",
    "Online metrics: monthly ECE, classwise F1, reject rate, proportion of OTHER converted.<br>\n",
    "Drift signals: covariate shift (PSI), label shift (prior drift), calibration drift.<br>\n",
    "Retraining: trigger when ECE > 0.05 or macro F1 ↓ > 10% from baseline; or quarterly.<br>"
   ]
  },
  {
   "cell_type": "markdown",
   "id": "89272212",
   "metadata": {},
   "source": []
  },
  {
   "cell_type": "code",
   "execution_count": 117,
   "id": "835ec3ca",
   "metadata": {},
   "outputs": [],
   "source": [
    "# Parameters\n",
    "SIGHTINGS_PATH = (\n",
    "    \"../../data/processed/ORCA_SIGHTINGS/ORCA_SIGHTINGS.parquet\"  # Data Paths\n",
    ")\n",
    "H3_RESOLTION = 6"
   ]
  },
  {
   "cell_type": "code",
   "execution_count": 119,
   "id": "9bc5095a",
   "metadata": {},
   "outputs": [
    {
     "data": {
      "application/vnd.jupyter.widget-view+json": {
       "model_id": "58f42122a8674136b267aa96b9d37414",
       "version_major": 2,
       "version_minor": 0
      },
      "text/plain": [
       "Pandas Apply:   0%|          | 0/132227 [00:00<?, ?it/s]"
      ]
     },
     "metadata": {},
     "output_type": "display_data"
    }
   ],
   "source": [
    "################################################################################\n",
    "# PREPARE DATA\n",
    "\n",
    "# 1. Open Sightings Data\n",
    "sightings_data_raw = open_sightings(SIGHTINGS_PATH)\n",
    "\n",
    "# 2. Preprocess Sightings Data\n",
    "sightings_data_raw = quick_preprocess(\n",
    "    data=sightings_data_raw, h3_resolution=H3_RESOLTION\n",
    ")\n",
    "\n",
    "# 3. Add Cyclical Feature\n",
    "sightings_data_raw = add_cyclical_features(sightings_data_raw)\n",
    "\n",
    "# 4. Split Data Into Correctly Classified + Missing Classification\n",
    "sightings_data_class, sightings_data_other = split_data_by_categorization_other(\n",
    "    df=sightings_data_raw\n",
    ")\n",
    "\n",
    "################################################################################"
   ]
  },
  {
   "cell_type": "code",
   "execution_count": 128,
   "id": "9491e87a",
   "metadata": {},
   "outputs": [],
   "source": [
    "################################################################################\n",
    "# MODEL - PREPROCESSING PIPELINE\n",
    "\n",
    "\n",
    "# 1. Select Features + Response Variables\n",
    "features = [\n",
    "    \"LATITUDE\",\n",
    "    \"LONGITUDE\",\n",
    "    \"DOY_SIN\",\n",
    "    \"DOY_COS\",\n",
    "    # \"WOY_SIN\",\n",
    "    # \"WOY_COS\",\n",
    "    # \"MONTH_SIN\",\n",
    "    # \"MONTH_COS\",\n",
    "    \"SOURCE\",\n",
    "    \"H3_CELL\",\n",
    "]\n",
    "response = \"POD_TYPE\"\n",
    "\n",
    "# 2. Build Feature Matrix\n",
    "X_class, y_class = build_feature_matrix(sightings_data_class, features, response)\n",
    "sample_weights = sightings_data_class[\"COUNT\"]\n",
    "groups = sightings_data_class[\"BLOCK\"]\n",
    "\n",
    "# 3. Define Categorical Features\n",
    "categorical_features = [feat for feat in features if feat in [\"SOURCE\", \"H3_CELL\"]]\n",
    "numerical_features = [feat for feat in features if feat not in [\"SOURCE\", \"H3_CELL\"]]\n",
    "\n",
    "################################################################################"
   ]
  },
  {
   "cell_type": "code",
   "execution_count": 129,
   "id": "05c440ad",
   "metadata": {},
   "outputs": [],
   "source": [
    "################################################################################\n",
    "# MODEL - TRAIN MODELS"
   ]
  },
  {
   "cell_type": "markdown",
   "id": "2b459529",
   "metadata": {},
   "source": [
    "#### 1. Multi-Class Logistic Regression"
   ]
  },
  {
   "cell_type": "code",
   "execution_count": 130,
   "id": "2187c072",
   "metadata": {},
   "outputs": [],
   "source": [
    "###########################################\n",
    "# 1. Logistic Regression\n",
    "custom_weights = {\n",
    "    \"SRKW\": 1.0,\n",
    "    \"TRANSIENT\": 1.0,\n",
    "    \"NRKW\": 0.1,  # tiny weight for almost-absent class\n",
    "}\n",
    "\n",
    "log_reg = LogisticRegression(\n",
    "    max_iter=2000,\n",
    "    multi_class=\"multinomial\",\n",
    "    class_weight=custom_weights,\n",
    "    solver=\"lbfgs\",\n",
    "    C=0.5,  # stronger regularization\n",
    ")\n",
    "log_model, oof_lr = train_classifier(\n",
    "    X_class,\n",
    "    y_class,\n",
    "    groups=groups,\n",
    "    categorical_features=categorical_features,\n",
    "    numeric_features=numerical_features,\n",
    "    base_model=log_reg,\n",
    "    sample_weights=sample_weights,\n",
    "    n_splits=15,\n",
    "    calibrate=True,\n",
    ")\n",
    "\n",
    "###########################################"
   ]
  },
  {
   "cell_type": "code",
   "execution_count": 131,
   "id": "3f2c4dbd",
   "metadata": {},
   "outputs": [
    {
     "name": "stdout",
     "output_type": "stream",
     "text": [
      "Accuracy: 0.981\n",
      "Log Loss: 0.049\n",
      "\n",
      "Confusion Matrix:\n",
      "[[     0      6      0]\n",
      " [     0 102040   1156]\n",
      " [     0    918   6525]]\n",
      "\n",
      "Classification Report:\n",
      "              precision    recall  f1-score   support\n",
      "\n",
      "        NRKW       0.00      0.00      0.00         6\n",
      "        SRKW       0.99      0.99      0.99    103196\n",
      "   TRANSIENT       0.85      0.88      0.86      7443\n",
      "\n",
      "    accuracy                           0.98    110645\n",
      "   macro avg       0.61      0.62      0.62    110645\n",
      "weighted avg       0.98      0.98      0.98    110645\n",
      "\n"
     ]
    },
    {
     "data": {
      "image/png": "[encoded data removed]",
      "text/plain": [
       "<Figure size 800x600 with 1 Axes>"
      ]
     },
     "metadata": {},
     "output_type": "display_data"
    }
   ],
   "source": [
    "classes = np.unique(y_class)\n",
    "evaluate_model(y_class, oof_lr, classes)"
   ]
  },
  {
   "cell_type": "code",
   "execution_count": 136,
   "id": "95d3315f",
   "metadata": {},
   "outputs": [
    {
     "name": "stdout",
     "output_type": "stream",
     "text": [
      "POD_TYPE\n",
      "SRKW         0.932727\n",
      "TRANSIENT    0.067273\n",
      "Name: proportion, dtype: float64\n"
     ]
    }
   ],
   "source": [
    "###########################################\n",
    "# 1. Logistic Regression - Transient vs. SRKW\n",
    "\n",
    "\n",
    "def collapse_labels(y):\n",
    "    \"\"\"Collapse NRKW into OTHER and keep SRKW/TRANSIENT.\"\"\"\n",
    "    y_bin = y.copy()\n",
    "    y_bin = y_bin.replace({\"NRKW\": \"OTHER\"})\n",
    "    # Drop OTHER rows entirely (NRKW + misc)\n",
    "    y_bin = y_bin[y_bin.isin([\"SRKW\", \"TRANSIENT\"])]\n",
    "    return y_bin\n",
    "\n",
    "\n",
    "# Collapse labels\n",
    "y_class_bin = collapse_labels(y_class)\n",
    "\n",
    "# Match X to new y\n",
    "X_class_bin = X_class.loc[y_class_bin.index]\n",
    "groups_bin = groups.loc[y_class_bin.index]\n",
    "\n",
    "print(y_class_bin.value_counts(normalize=True))\n",
    "\n",
    "\n",
    "custom_weights = {\n",
    "    \"SRKW\": 1.0,\n",
    "    \"TRANSIENT\": 1.0,\n",
    "}\n",
    "\n",
    "log_reg = LogisticRegression(\n",
    "    max_iter=2000,\n",
    "    multi_class=\"multinomial\",\n",
    "    class_weight=custom_weights,\n",
    "    solver=\"lbfgs\",\n",
    "    C=0.5,  # stronger regularization\n",
    ")\n",
    "log_model, oof_lr = train_classifier(\n",
    "    X_class_bin,\n",
    "    y_class_bin,\n",
    "    groups=groups_bin,\n",
    "    categorical_features=categorical_features,\n",
    "    numeric_features=numerical_features,\n",
    "    base_model=log_reg,\n",
    "    sample_weights=sample_weights,\n",
    "    n_splits=15,\n",
    "    calibrate=True,\n",
    ")\n",
    "\n",
    "###########################################"
   ]
  },
  {
   "cell_type": "code",
   "execution_count": 138,
   "id": "4e670e9d",
   "metadata": {},
   "outputs": [
    {
     "name": "stdout",
     "output_type": "stream",
     "text": [
      "Accuracy: 0.981\n",
      "Log Loss: 0.048\n",
      "\n",
      "Confusion Matrix:\n",
      "[[102057   1139]\n",
      " [   909   6534]]\n",
      "\n",
      "Classification Report:\n",
      "              precision    recall  f1-score   support\n",
      "\n",
      "        SRKW       0.99      0.99      0.99    103196\n",
      "   TRANSIENT       0.85      0.88      0.86      7443\n",
      "\n",
      "    accuracy                           0.98    110639\n",
      "   macro avg       0.92      0.93      0.93    110639\n",
      "weighted avg       0.98      0.98      0.98    110639\n",
      "\n"
     ]
    },
    {
     "data": {
      "image/png": "[encoded data removed]",
      "text/plain": [
       "<Figure size 800x600 with 1 Axes>"
      ]
     },
     "metadata": {},
     "output_type": "display_data"
    }
   ],
   "source": [
    "classes = np.unique(y_class_bin)\n",
    "evaluate_model(y_class_bin, oof_lr, classes)"
   ]
  },
  {
   "cell_type": "markdown",
   "id": "4b44393f",
   "metadata": {},
   "source": [
    "For practical purposes, we can say: The model can distinguish SRKW from TRANSIENT with ~93% macro F1, highly calibrated probabilities, and >98% accuracy.\n",
    "\n",
    "NRKW sightings were excluded due to insufficient data (n=6). Classification restricted to SRKW vs TRANSIENT."
   ]
  },
  {
   "cell_type": "code",
   "execution_count": null,
   "id": "0d098313",
   "metadata": {},
   "outputs": [
    {
     "data": {
      "text/html": [
       "<style>#sk-container-id-6 {\n",
       "  /* Definition of color scheme common for light and dark mode */\n",
       "  --sklearn-color-text: #000;\n",
       "  --sklearn-color-text-muted: #666;\n",
       "  --sklearn-color-line: gray;\n",
       "  /* Definition of color scheme for unfitted estimators */\n",
       "  --sklearn-color-unfitted-level-0: #fff5e6;\n",
       "  --sklearn-color-unfitted-level-1: #f6e4d2;\n",
       "  --sklearn-color-unfitted-level-2: #ffe0b3;\n",
       "  --sklearn-color-unfitted-level-3: chocolate;\n",
       "  /* Definition of color scheme for fitted estimators */\n",
       "  --sklearn-color-fitted-level-0: #f0f8ff;\n",
       "  --sklearn-color-fitted-level-1: #d4ebff;\n",
       "  --sklearn-color-fitted-level-2: #b3dbfd;\n",
       "  --sklearn-color-fitted-level-3: cornflowerblue;\n",
       "\n",
       "  /* Specific color for light theme */\n",
       "  --sklearn-color-text-on-default-background: var(--sg-text-color, var(--theme-code-foreground, var(--jp-content-font-color1, black)));\n",
       "  --sklearn-color-background: var(--sg-background-color, var(--theme-background, var(--jp-layout-color0, white)));\n",
       "  --sklearn-color-border-box: var(--sg-text-color, var(--theme-code-foreground, var(--jp-content-font-color1, black)));\n",
       "  --sklearn-color-icon: #696969;\n",
       "\n",
       "  @media (prefers-color-scheme: dark) {\n",
       "    /* Redefinition of color scheme for dark theme */\n",
       "    --sklearn-color-text-on-default-background: var(--sg-text-color, var(--theme-code-foreground, var(--jp-content-font-color1, white)));\n",
       "    --sklearn-color-background: var(--sg-background-color, var(--theme-background, var(--jp-layout-color0, #111)));\n",
       "    --sklearn-color-border-box: var(--sg-text-color, var(--theme-code-foreground, var(--jp-content-font-color1, white)));\n",
       "    --sklearn-color-icon: #878787;\n",
       "  }\n",
       "}\n",
       "\n",
       "#sk-container-id-6 {\n",
       "  color: var(--sklearn-color-text);\n",
       "}\n",
       "\n",
       "#sk-container-id-6 pre {\n",
       "  padding: 0;\n",
       "}\n",
       "\n",
       "#sk-container-id-6 input.sk-hidden--visually {\n",
       "  border: 0;\n",
       "  clip: rect(1px 1px 1px 1px);\n",
       "  clip: rect(1px, 1px, 1px, 1px);\n",
       "  height: 1px;\n",
       "  margin: -1px;\n",
       "  overflow: hidden;\n",
       "  padding: 0;\n",
       "  position: absolute;\n",
       "  width: 1px;\n",
       "}\n",
       "\n",
       "#sk-container-id-6 div.sk-dashed-wrapped {\n",
       "  border: 1px dashed var(--sklearn-color-line);\n",
       "  margin: 0 0.4em 0.5em 0.4em;\n",
       "  box-sizing: border-box;\n",
       "  padding-bottom: 0.4em;\n",
       "  background-color: var(--sklearn-color-background);\n",
       "}\n",
       "\n",
       "#sk-container-id-6 div.sk-container {\n",
       "  /* jupyter's `normalize.less` sets `[hidden] { display: none; }`\n",
       "     but bootstrap.min.css set `[hidden] { display: none !important; }`\n",
       "     so we also need the `!important` here to be able to override the\n",
       "     default hidden behavior on the sphinx rendered scikit-learn.org.\n",
       "     See: https://github.com/scikit-learn/scikit-learn/issues/21755 */\n",
       "  display: inline-block !important;\n",
       "  position: relative;\n",
       "}\n",
       "\n",
       "#sk-container-id-6 div.sk-text-repr-fallback {\n",
       "  display: none;\n",
       "}\n",
       "\n",
       "div.sk-parallel-item,\n",
       "div.sk-serial,\n",
       "div.sk-item {\n",
       "  /* draw centered vertical line to link estimators */\n",
       "  background-image: linear-gradient(var(--sklearn-color-text-on-default-background), var(--sklearn-color-text-on-default-background));\n",
       "  background-size: 2px 100%;\n",
       "  background-repeat: no-repeat;\n",
       "  background-position: center center;\n",
       "}\n",
       "\n",
       "/* Parallel-specific style estimator block */\n",
       "\n",
       "#sk-container-id-6 div.sk-parallel-item::after {\n",
       "  content: \"\";\n",
       "  width: 100%;\n",
       "  border-bottom: 2px solid var(--sklearn-color-text-on-default-background);\n",
       "  flex-grow: 1;\n",
       "}\n",
       "\n",
       "#sk-container-id-6 div.sk-parallel {\n",
       "  display: flex;\n",
       "  align-items: stretch;\n",
       "  justify-content: center;\n",
       "  background-color: var(--sklearn-color-background);\n",
       "  position: relative;\n",
       "}\n",
       "\n",
       "#sk-container-id-6 div.sk-parallel-item {\n",
       "  display: flex;\n",
       "  flex-direction: column;\n",
       "}\n",
       "\n",
       "#sk-container-id-6 div.sk-parallel-item:first-child::after {\n",
       "  align-self: flex-end;\n",
       "  width: 50%;\n",
       "}\n",
       "\n",
       "#sk-container-id-6 div.sk-parallel-item:last-child::after {\n",
       "  align-self: flex-start;\n",
       "  width: 50%;\n",
       "}\n",
       "\n",
       "#sk-container-id-6 div.sk-parallel-item:only-child::after {\n",
       "  width: 0;\n",
       "}\n",
       "\n",
       "/* Serial-specific style estimator block */\n",
       "\n",
       "#sk-container-id-6 div.sk-serial {\n",
       "  display: flex;\n",
       "  flex-direction: column;\n",
       "  align-items: center;\n",
       "  background-color: var(--sklearn-color-background);\n",
       "  padding-right: 1em;\n",
       "  padding-left: 1em;\n",
       "}\n",
       "\n",
       "\n",
       "/* Toggleable style: style used for estimator/Pipeline/ColumnTransformer box that is\n",
       "clickable and can be expanded/collapsed.\n",
       "- Pipeline and ColumnTransformer use this feature and define the default style\n",
       "- Estimators will overwrite some part of the style using the `sk-estimator` class\n",
       "*/\n",
       "\n",
       "/* Pipeline and ColumnTransformer style (default) */\n",
       "\n",
       "#sk-container-id-6 div.sk-toggleable {\n",
       "  /* Default theme specific background. It is overwritten whether we have a\n",
       "  specific estimator or a Pipeline/ColumnTransformer */\n",
       "  background-color: var(--sklearn-color-background);\n",
       "}\n",
       "\n",
       "/* Toggleable label */\n",
       "#sk-container-id-6 label.sk-toggleable__label {\n",
       "  cursor: pointer;\n",
       "  display: flex;\n",
       "  width: 100%;\n",
       "  margin-bottom: 0;\n",
       "  padding: 0.5em;\n",
       "  box-sizing: border-box;\n",
       "  text-align: center;\n",
       "  align-items: start;\n",
       "  justify-content: space-between;\n",
       "  gap: 0.5em;\n",
       "}\n",
       "\n",
       "#sk-container-id-6 label.sk-toggleable__label .caption {\n",
       "  font-size: 0.6rem;\n",
       "  font-weight: lighter;\n",
       "  color: var(--sklearn-color-text-muted);\n",
       "}\n",
       "\n",
       "#sk-container-id-6 label.sk-toggleable__label-arrow:before {\n",
       "  /* Arrow on the left of the label */\n",
       "  content: \"▸\";\n",
       "  float: left;\n",
       "  margin-right: 0.25em;\n",
       "  color: var(--sklearn-color-icon);\n",
       "}\n",
       "\n",
       "#sk-container-id-6 label.sk-toggleable__label-arrow:hover:before {\n",
       "  color: var(--sklearn-color-text);\n",
       "}\n",
       "\n",
       "/* Toggleable content - dropdown */\n",
       "\n",
       "#sk-container-id-6 div.sk-toggleable__content {\n",
       "  max-height: 0;\n",
       "  max-width: 0;\n",
       "  overflow: hidden;\n",
       "  text-align: left;\n",
       "  /* unfitted */\n",
       "  background-color: var(--sklearn-color-unfitted-level-0);\n",
       "}\n",
       "\n",
       "#sk-container-id-6 div.sk-toggleable__content.fitted {\n",
       "  /* fitted */\n",
       "  background-color: var(--sklearn-color-fitted-level-0);\n",
       "}\n",
       "\n",
       "#sk-container-id-6 div.sk-toggleable__content pre {\n",
       "  margin: 0.2em;\n",
       "  border-radius: 0.25em;\n",
       "  color: var(--sklearn-color-text);\n",
       "  /* unfitted */\n",
       "  background-color: var(--sklearn-color-unfitted-level-0);\n",
       "}\n",
       "\n",
       "#sk-container-id-6 div.sk-toggleable__content.fitted pre {\n",
       "  /* unfitted */\n",
       "  background-color: var(--sklearn-color-fitted-level-0);\n",
       "}\n",
       "\n",
       "#sk-container-id-6 input.sk-toggleable__control:checked~div.sk-toggleable__content {\n",
       "  /* Expand drop-down */\n",
       "  max-height: 200px;\n",
       "  max-width: 100%;\n",
       "  overflow: auto;\n",
       "}\n",
       "\n",
       "#sk-container-id-6 input.sk-toggleable__control:checked~label.sk-toggleable__label-arrow:before {\n",
       "  content: \"▾\";\n",
       "}\n",
       "\n",
       "/* Pipeline/ColumnTransformer-specific style */\n",
       "\n",
       "#sk-container-id-6 div.sk-label input.sk-toggleable__control:checked~label.sk-toggleable__label {\n",
       "  color: var(--sklearn-color-text);\n",
       "  background-color: var(--sklearn-color-unfitted-level-2);\n",
       "}\n",
       "\n",
       "#sk-container-id-6 div.sk-label.fitted input.sk-toggleable__control:checked~label.sk-toggleable__label {\n",
       "  background-color: var(--sklearn-color-fitted-level-2);\n",
       "}\n",
       "\n",
       "/* Estimator-specific style */\n",
       "\n",
       "/* Colorize estimator box */\n",
       "#sk-container-id-6 div.sk-estimator input.sk-toggleable__control:checked~label.sk-toggleable__label {\n",
       "  /* unfitted */\n",
       "  background-color: var(--sklearn-color-unfitted-level-2);\n",
       "}\n",
       "\n",
       "#sk-container-id-6 div.sk-estimator.fitted input.sk-toggleable__control:checked~label.sk-toggleable__label {\n",
       "  /* fitted */\n",
       "  background-color: var(--sklearn-color-fitted-level-2);\n",
       "}\n",
       "\n",
       "#sk-container-id-6 div.sk-label label.sk-toggleable__label,\n",
       "#sk-container-id-6 div.sk-label label {\n",
       "  /* The background is the default theme color */\n",
       "  color: var(--sklearn-color-text-on-default-background);\n",
       "}\n",
       "\n",
       "/* On hover, darken the color of the background */\n",
       "#sk-container-id-6 div.sk-label:hover label.sk-toggleable__label {\n",
       "  color: var(--sklearn-color-text);\n",
       "  background-color: var(--sklearn-color-unfitted-level-2);\n",
       "}\n",
       "\n",
       "/* Label box, darken color on hover, fitted */\n",
       "#sk-container-id-6 div.sk-label.fitted:hover label.sk-toggleable__label.fitted {\n",
       "  color: var(--sklearn-color-text);\n",
       "  background-color: var(--sklearn-color-fitted-level-2);\n",
       "}\n",
       "\n",
       "/* Estimator label */\n",
       "\n",
       "#sk-container-id-6 div.sk-label label {\n",
       "  font-family: monospace;\n",
       "  font-weight: bold;\n",
       "  display: inline-block;\n",
       "  line-height: 1.2em;\n",
       "}\n",
       "\n",
       "#sk-container-id-6 div.sk-label-container {\n",
       "  text-align: center;\n",
       "}\n",
       "\n",
       "/* Estimator-specific */\n",
       "#sk-container-id-6 div.sk-estimator {\n",
       "  font-family: monospace;\n",
       "  border: 1px dotted var(--sklearn-color-border-box);\n",
       "  border-radius: 0.25em;\n",
       "  box-sizing: border-box;\n",
       "  margin-bottom: 0.5em;\n",
       "  /* unfitted */\n",
       "  background-color: var(--sklearn-color-unfitted-level-0);\n",
       "}\n",
       "\n",
       "#sk-container-id-6 div.sk-estimator.fitted {\n",
       "  /* fitted */\n",
       "  background-color: var(--sklearn-color-fitted-level-0);\n",
       "}\n",
       "\n",
       "/* on hover */\n",
       "#sk-container-id-6 div.sk-estimator:hover {\n",
       "  /* unfitted */\n",
       "  background-color: var(--sklearn-color-unfitted-level-2);\n",
       "}\n",
       "\n",
       "#sk-container-id-6 div.sk-estimator.fitted:hover {\n",
       "  /* fitted */\n",
       "  background-color: var(--sklearn-color-fitted-level-2);\n",
       "}\n",
       "\n",
       "/* Specification for estimator info (e.g. \"i\" and \"?\") */\n",
       "\n",
       "/* Common style for \"i\" and \"?\" */\n",
       "\n",
       ".sk-estimator-doc-link,\n",
       "a:link.sk-estimator-doc-link,\n",
       "a:visited.sk-estimator-doc-link {\n",
       "  float: right;\n",
       "  font-size: smaller;\n",
       "  line-height: 1em;\n",
       "  font-family: monospace;\n",
       "  background-color: var(--sklearn-color-background);\n",
       "  border-radius: 1em;\n",
       "  height: 1em;\n",
       "  width: 1em;\n",
       "  text-decoration: none !important;\n",
       "  margin-left: 0.5em;\n",
       "  text-align: center;\n",
       "  /* unfitted */\n",
       "  border: var(--sklearn-color-unfitted-level-1) 1pt solid;\n",
       "  color: var(--sklearn-color-unfitted-level-1);\n",
       "}\n",
       "\n",
       ".sk-estimator-doc-link.fitted,\n",
       "a:link.sk-estimator-doc-link.fitted,\n",
       "a:visited.sk-estimator-doc-link.fitted {\n",
       "  /* fitted */\n",
       "  border: var(--sklearn-color-fitted-level-1) 1pt solid;\n",
       "  color: var(--sklearn-color-fitted-level-1);\n",
       "}\n",
       "\n",
       "/* On hover */\n",
       "div.sk-estimator:hover .sk-estimator-doc-link:hover,\n",
       ".sk-estimator-doc-link:hover,\n",
       "div.sk-label-container:hover .sk-estimator-doc-link:hover,\n",
       ".sk-estimator-doc-link:hover {\n",
       "  /* unfitted */\n",
       "  background-color: var(--sklearn-color-unfitted-level-3);\n",
       "  color: var(--sklearn-color-background);\n",
       "  text-decoration: none;\n",
       "}\n",
       "\n",
       "div.sk-estimator.fitted:hover .sk-estimator-doc-link.fitted:hover,\n",
       ".sk-estimator-doc-link.fitted:hover,\n",
       "div.sk-label-container:hover .sk-estimator-doc-link.fitted:hover,\n",
       ".sk-estimator-doc-link.fitted:hover {\n",
       "  /* fitted */\n",
       "  background-color: var(--sklearn-color-fitted-level-3);\n",
       "  color: var(--sklearn-color-background);\n",
       "  text-decoration: none;\n",
       "}\n",
       "\n",
       "/* Span, style for the box shown on hovering the info icon */\n",
       ".sk-estimator-doc-link span {\n",
       "  display: none;\n",
       "  z-index: 9999;\n",
       "  position: relative;\n",
       "  font-weight: normal;\n",
       "  right: .2ex;\n",
       "  padding: .5ex;\n",
       "  margin: .5ex;\n",
       "  width: min-content;\n",
       "  min-width: 20ex;\n",
       "  max-width: 50ex;\n",
       "  color: var(--sklearn-color-text);\n",
       "  box-shadow: 2pt 2pt 4pt #999;\n",
       "  /* unfitted */\n",
       "  background: var(--sklearn-color-unfitted-level-0);\n",
       "  border: .5pt solid var(--sklearn-color-unfitted-level-3);\n",
       "}\n",
       "\n",
       ".sk-estimator-doc-link.fitted span {\n",
       "  /* fitted */\n",
       "  background: var(--sklearn-color-fitted-level-0);\n",
       "  border: var(--sklearn-color-fitted-level-3);\n",
       "}\n",
       "\n",
       ".sk-estimator-doc-link:hover span {\n",
       "  display: block;\n",
       "}\n",
       "\n",
       "/* \"?\"-specific style due to the `<a>` HTML tag */\n",
       "\n",
       "#sk-container-id-6 a.estimator_doc_link {\n",
       "  float: right;\n",
       "  font-size: 1rem;\n",
       "  line-height: 1em;\n",
       "  font-family: monospace;\n",
       "  background-color: var(--sklearn-color-background);\n",
       "  border-radius: 1rem;\n",
       "  height: 1rem;\n",
       "  width: 1rem;\n",
       "  text-decoration: none;\n",
       "  /* unfitted */\n",
       "  color: var(--sklearn-color-unfitted-level-1);\n",
       "  border: var(--sklearn-color-unfitted-level-1) 1pt solid;\n",
       "}\n",
       "\n",
       "#sk-container-id-6 a.estimator_doc_link.fitted {\n",
       "  /* fitted */\n",
       "  border: var(--sklearn-color-fitted-level-1) 1pt solid;\n",
       "  color: var(--sklearn-color-fitted-level-1);\n",
       "}\n",
       "\n",
       "/* On hover */\n",
       "#sk-container-id-6 a.estimator_doc_link:hover {\n",
       "  /* unfitted */\n",
       "  background-color: var(--sklearn-color-unfitted-level-3);\n",
       "  color: var(--sklearn-color-background);\n",
       "  text-decoration: none;\n",
       "}\n",
       "\n",
       "#sk-container-id-6 a.estimator_doc_link.fitted:hover {\n",
       "  /* fitted */\n",
       "  background-color: var(--sklearn-color-fitted-level-3);\n",
       "}\n",
       "</style><div id=\"sk-container-id-6\" class=\"sk-top-container\"><div class=\"sk-text-repr-fallback\"><pre>Pipeline(steps=[(&#x27;preprocessor&#x27;,\n",
       "                 ColumnTransformer(transformers=[(&#x27;cat&#x27;,\n",
       "                                                  OneHotEncoder(handle_unknown=&#x27;ignore&#x27;),\n",
       "                                                  [&#x27;SOURCE&#x27;, &#x27;H3_CELL&#x27;]),\n",
       "                                                 (&#x27;num&#x27;, StandardScaler(),\n",
       "                                                  [&#x27;LATITUDE&#x27;, &#x27;LONGITUDE&#x27;,\n",
       "                                                   &#x27;DOY_SIN&#x27;, &#x27;DOY_COS&#x27;])])),\n",
       "                (&#x27;model&#x27;,\n",
       "                 LogisticRegression(C=0.5,\n",
       "                                    class_weight={&#x27;SRKW&#x27;: 1.0,\n",
       "                                                  &#x27;TRANSIENT&#x27;: 1.0},\n",
       "                                    max_iter=2000,\n",
       "                                    multi_class=&#x27;multinomial&#x27;))])</pre><b>In a Jupyter environment, please rerun this cell to show the HTML representation or trust the notebook. <br />On GitHub, the HTML representation is unable to render, please try loading this page with nbviewer.org.</b></div><div class=\"sk-container\" hidden><div class=\"sk-item sk-dashed-wrapped\"><div class=\"sk-label-container\"><div class=\"sk-label fitted sk-toggleable\"><input class=\"sk-toggleable__control sk-hidden--visually\" id=\"sk-estimator-id-49\" type=\"checkbox\" ><label for=\"sk-estimator-id-49\" class=\"sk-toggleable__label fitted sk-toggleable__label-arrow\"><div><div>Pipeline</div></div><div><a class=\"sk-estimator-doc-link fitted\" rel=\"noreferrer\" target=\"_blank\" href=\"https://scikit-learn.org/1.6/modules/generated/sklearn.pipeline.Pipeline.html\">?<span>Documentation for Pipeline</span></a><span class=\"sk-estimator-doc-link fitted\">i<span>Fitted</span></span></div></label><div class=\"sk-toggleable__content fitted\"><pre>Pipeline(steps=[(&#x27;preprocessor&#x27;,\n",
       "                 ColumnTransformer(transformers=[(&#x27;cat&#x27;,\n",
       "                                                  OneHotEncoder(handle_unknown=&#x27;ignore&#x27;),\n",
       "                                                  [&#x27;SOURCE&#x27;, &#x27;H3_CELL&#x27;]),\n",
       "                                                 (&#x27;num&#x27;, StandardScaler(),\n",
       "                                                  [&#x27;LATITUDE&#x27;, &#x27;LONGITUDE&#x27;,\n",
       "                                                   &#x27;DOY_SIN&#x27;, &#x27;DOY_COS&#x27;])])),\n",
       "                (&#x27;model&#x27;,\n",
       "                 LogisticRegression(C=0.5,\n",
       "                                    class_weight={&#x27;SRKW&#x27;: 1.0,\n",
       "                                                  &#x27;TRANSIENT&#x27;: 1.0},\n",
       "                                    max_iter=2000,\n",
       "                                    multi_class=&#x27;multinomial&#x27;))])</pre></div> </div></div><div class=\"sk-serial\"><div class=\"sk-item sk-dashed-wrapped\"><div class=\"sk-label-container\"><div class=\"sk-label fitted sk-toggleable\"><input class=\"sk-toggleable__control sk-hidden--visually\" id=\"sk-estimator-id-50\" type=\"checkbox\" ><label for=\"sk-estimator-id-50\" class=\"sk-toggleable__label fitted sk-toggleable__label-arrow\"><div><div>preprocessor: ColumnTransformer</div></div><div><a class=\"sk-estimator-doc-link fitted\" rel=\"noreferrer\" target=\"_blank\" href=\"https://scikit-learn.org/1.6/modules/generated/sklearn.compose.ColumnTransformer.html\">?<span>Documentation for preprocessor: ColumnTransformer</span></a></div></label><div class=\"sk-toggleable__content fitted\"><pre>ColumnTransformer(transformers=[(&#x27;cat&#x27;, OneHotEncoder(handle_unknown=&#x27;ignore&#x27;),\n",
       "                                 [&#x27;SOURCE&#x27;, &#x27;H3_CELL&#x27;]),\n",
       "                                (&#x27;num&#x27;, StandardScaler(),\n",
       "                                 [&#x27;LATITUDE&#x27;, &#x27;LONGITUDE&#x27;, &#x27;DOY_SIN&#x27;,\n",
       "                                  &#x27;DOY_COS&#x27;])])</pre></div> </div></div><div class=\"sk-parallel\"><div class=\"sk-parallel-item\"><div class=\"sk-item\"><div class=\"sk-label-container\"><div class=\"sk-label fitted sk-toggleable\"><input class=\"sk-toggleable__control sk-hidden--visually\" id=\"sk-estimator-id-51\" type=\"checkbox\" ><label for=\"sk-estimator-id-51\" class=\"sk-toggleable__label fitted sk-toggleable__label-arrow\"><div><div>cat</div></div></label><div class=\"sk-toggleable__content fitted\"><pre>[&#x27;SOURCE&#x27;, &#x27;H3_CELL&#x27;]</pre></div> </div></div><div class=\"sk-serial\"><div class=\"sk-item\"><div class=\"sk-estimator fitted sk-toggleable\"><input class=\"sk-toggleable__control sk-hidden--visually\" id=\"sk-estimator-id-52\" type=\"checkbox\" ><label for=\"sk-estimator-id-52\" class=\"sk-toggleable__label fitted sk-toggleable__label-arrow\"><div><div>OneHotEncoder</div></div><div><a class=\"sk-estimator-doc-link fitted\" rel=\"noreferrer\" target=\"_blank\" href=\"https://scikit-learn.org/1.6/modules/generated/sklearn.preprocessing.OneHotEncoder.html\">?<span>Documentation for OneHotEncoder</span></a></div></label><div class=\"sk-toggleable__content fitted\"><pre>OneHotEncoder(handle_unknown=&#x27;ignore&#x27;)</pre></div> </div></div></div></div></div><div class=\"sk-parallel-item\"><div class=\"sk-item\"><div class=\"sk-label-container\"><div class=\"sk-label fitted sk-toggleable\"><input class=\"sk-toggleable__control sk-hidden--visually\" id=\"sk-estimator-id-53\" type=\"checkbox\" ><label for=\"sk-estimator-id-53\" class=\"sk-toggleable__label fitted sk-toggleable__label-arrow\"><div><div>num</div></div></label><div class=\"sk-toggleable__content fitted\"><pre>[&#x27;LATITUDE&#x27;, &#x27;LONGITUDE&#x27;, &#x27;DOY_SIN&#x27;, &#x27;DOY_COS&#x27;]</pre></div> </div></div><div class=\"sk-serial\"><div class=\"sk-item\"><div class=\"sk-estimator fitted sk-toggleable\"><input class=\"sk-toggleable__control sk-hidden--visually\" id=\"sk-estimator-id-54\" type=\"checkbox\" ><label for=\"sk-estimator-id-54\" class=\"sk-toggleable__label fitted sk-toggleable__label-arrow\"><div><div>StandardScaler</div></div><div><a class=\"sk-estimator-doc-link fitted\" rel=\"noreferrer\" target=\"_blank\" href=\"https://scikit-learn.org/1.6/modules/generated/sklearn.preprocessing.StandardScaler.html\">?<span>Documentation for StandardScaler</span></a></div></label><div class=\"sk-toggleable__content fitted\"><pre>StandardScaler()</pre></div> </div></div></div></div></div></div></div><div class=\"sk-item\"><div class=\"sk-estimator fitted sk-toggleable\"><input class=\"sk-toggleable__control sk-hidden--visually\" id=\"sk-estimator-id-55\" type=\"checkbox\" ><label for=\"sk-estimator-id-55\" class=\"sk-toggleable__label fitted sk-toggleable__label-arrow\"><div><div>LogisticRegression</div></div><div><a class=\"sk-estimator-doc-link fitted\" rel=\"noreferrer\" target=\"_blank\" href=\"https://scikit-learn.org/1.6/modules/generated/sklearn.linear_model.LogisticRegression.html\">?<span>Documentation for LogisticRegression</span></a></div></label><div class=\"sk-toggleable__content fitted\"><pre>LogisticRegression(C=0.5, class_weight={&#x27;SRKW&#x27;: 1.0, &#x27;TRANSIENT&#x27;: 1.0},\n",
       "                   max_iter=2000, multi_class=&#x27;multinomial&#x27;)</pre></div> </div></div></div></div></div></div>"
      ],
      "text/plain": [
       "Pipeline(steps=[('preprocessor',\n",
       "                 ColumnTransformer(transformers=[('cat',\n",
       "                                                  OneHotEncoder(handle_unknown='ignore'),\n",
       "                                                  ['SOURCE', 'H3_CELL']),\n",
       "                                                 ('num', StandardScaler(),\n",
       "                                                  ['LATITUDE', 'LONGITUDE',\n",
       "                                                   'DOY_SIN', 'DOY_COS'])])),\n",
       "                ('model',\n",
       "                 LogisticRegression(C=0.5,\n",
       "                                    class_weight={'SRKW': 1.0,\n",
       "                                                  'TRANSIENT': 1.0},\n",
       "                                    max_iter=2000,\n",
       "                                    multi_class='multinomial'))])"
      ]
     },
     "execution_count": 147,
     "metadata": {},
     "output_type": "execute_result"
    }
   ],
   "source": [
    "log_model.estimator.nam"
   ]
  },
  {
   "cell_type": "code",
   "execution_count": null,
   "id": "1d343e60",
   "metadata": {},
   "outputs": [
    {
     "data": {
      "text/html": [
       "<div>\n",
       "<style scoped>\n",
       "    .dataframe tbody tr th:only-of-type {\n",
       "        vertical-align: middle;\n",
       "    }\n",
       "\n",
       "    .dataframe tbody tr th {\n",
       "        vertical-align: top;\n",
       "    }\n",
       "\n",
       "    .dataframe thead th {\n",
       "        text-align: right;\n",
       "    }\n",
       "</style>\n",
       "<table border=\"1\" class=\"dataframe\">\n",
       "  <thead>\n",
       "    <tr style=\"text-align: right;\">\n",
       "      <th></th>\n",
       "      <th>TRANSIENT</th>\n",
       "    </tr>\n",
       "  </thead>\n",
       "  <tbody>\n",
       "    <tr>\n",
       "      <th>SOURCE_TWM</th>\n",
       "      <td>-2.593508</td>\n",
       "    </tr>\n",
       "    <tr>\n",
       "      <th>SOURCE_ACARTIA</th>\n",
       "      <td>1.880447</td>\n",
       "    </tr>\n",
       "    <tr>\n",
       "      <th>H3_CELL_8628d115fffffff</th>\n",
       "      <td>-1.843813</td>\n",
       "    </tr>\n",
       "    <tr>\n",
       "      <th>H3_CELL_8628d1067ffffff</th>\n",
       "      <td>-1.730992</td>\n",
       "    </tr>\n",
       "    <tr>\n",
       "      <th>H3_CELL_8628d106fffffff</th>\n",
       "      <td>-1.345089</td>\n",
       "    </tr>\n",
       "    <tr>\n",
       "      <th>H3_CELL_8628d12b7ffffff</th>\n",
       "      <td>-1.337988</td>\n",
       "    </tr>\n",
       "    <tr>\n",
       "      <th>H3_CELL_8628d1157ffffff</th>\n",
       "      <td>-1.315364</td>\n",
       "    </tr>\n",
       "    <tr>\n",
       "      <th>H3_CELL_8628d114fffffff</th>\n",
       "      <td>-1.294538</td>\n",
       "    </tr>\n",
       "    <tr>\n",
       "      <th>H3_CELL_8628d12c7ffffff</th>\n",
       "      <td>-1.235272</td>\n",
       "    </tr>\n",
       "    <tr>\n",
       "      <th>H3_CELL_8628d1237ffffff</th>\n",
       "      <td>-1.131083</td>\n",
       "    </tr>\n",
       "    <tr>\n",
       "      <th>H3_CELL_8628d5787ffffff</th>\n",
       "      <td>-1.102749</td>\n",
       "    </tr>\n",
       "    <tr>\n",
       "      <th>H3_CELL_8628d1d17ffffff</th>\n",
       "      <td>1.071684</td>\n",
       "    </tr>\n",
       "    <tr>\n",
       "      <th>H3_CELL_8628d5797ffffff</th>\n",
       "      <td>-1.037346</td>\n",
       "    </tr>\n",
       "    <tr>\n",
       "      <th>H3_CELL_8628d1337ffffff</th>\n",
       "      <td>-0.985354</td>\n",
       "    </tr>\n",
       "    <tr>\n",
       "      <th>H3_CELL_8628d556fffffff</th>\n",
       "      <td>0.979317</td>\n",
       "    </tr>\n",
       "  </tbody>\n",
       "</table>\n",
       "</div>"
      ],
      "text/plain": [
       "                         TRANSIENT\n",
       "SOURCE_TWM               -2.593508\n",
       "SOURCE_ACARTIA            1.880447\n",
       "H3_CELL_8628d115fffffff  -1.843813\n",
       "H3_CELL_8628d1067ffffff  -1.730992\n",
       "H3_CELL_8628d106fffffff  -1.345089\n",
       "H3_CELL_8628d12b7ffffff  -1.337988\n",
       "H3_CELL_8628d1157ffffff  -1.315364\n",
       "H3_CELL_8628d114fffffff  -1.294538\n",
       "H3_CELL_8628d12c7ffffff  -1.235272\n",
       "H3_CELL_8628d1237ffffff  -1.131083\n",
       "H3_CELL_8628d5787ffffff  -1.102749\n",
       "H3_CELL_8628d1d17ffffff   1.071684\n",
       "H3_CELL_8628d5797ffffff  -1.037346\n",
       "H3_CELL_8628d1337ffffff  -0.985354\n",
       "H3_CELL_8628d556fffffff   0.979317"
      ]
     },
     "execution_count": 150,
     "metadata": {},
     "output_type": "execute_result"
    }
   ],
   "source": [
    "import pandas as pd\n",
    "import numpy as np\n",
    "\n",
    "# Grab underlying pipeline if using CalibratedClassifierCV\n",
    "pipeline = log_model.estimator\n",
    "preprocessor = pipeline.named_steps[\"preprocessor\"]\n",
    "model = pipeline.named_steps[\"model\"]\n",
    "\n",
    "# Feature names\n",
    "cat_features = preprocessor.transformers_[0][2]\n",
    "num_features = preprocessor.transformers_[1][2]\n",
    "ohe = preprocessor.named_transformers_[\"cat\"]\n",
    "ohe_features = ohe.get_feature_names_out(cat_features)\n",
    "all_features = np.concatenate([ohe_features, num_features])\n",
    "\n",
    "# Coefficients DataFrame\n",
    "if model.coef_.shape[0] == 1:\n",
    "    # Binary classification (coef for second class vs first)\n",
    "    class_name = model.classes_[1]  # typically \"TRANSIENT\" in your case\n",
    "    coefs = pd.DataFrame(model.coef_, columns=all_features, index=[class_name])\n",
    "    coefs_sorted = coefs.T.sort_values(by=class_name, key=abs, ascending=False)\n",
    "else:\n",
    "    # Multiclass\n",
    "    coefs = pd.DataFrame(model.coef_, columns=all_features, index=model.classes_)\n",
    "    coefs[\"abs_SRKW_vs_TRANSIENT\"] = np.abs(coefs.loc[\"TRANSIENT\"] - coefs.loc[\"SRKW\"])\n",
    "    coefs_sorted = coefs.sort_values(\"abs_SRKW_vs_TRANSIENT\", ascending=False)\n",
    "\n",
    "coefs_sorted.head(15)"
   ]
  },
  {
   "cell_type": "code",
   "execution_count": null,
   "id": "09f3de50",
   "metadata": {},
   "outputs": [],
   "source": []
  },
  {
   "cell_type": "code",
   "execution_count": null,
   "id": "58a9458c",
   "metadata": {},
   "outputs": [
    {
     "data": {
      "application/vnd.plotly.v1+json": {
       "config": {
        "plotlyServerURL": "https://plot.ly"
       },
       "data": [
        {
         "customdata": [
          [
           66,
           4995
          ],
          [
           41,
           487
          ],
          [
           38,
           558
          ],
          [
           36,
           460
          ],
          [
           29,
           572
          ],
          [
           27,
           262
          ],
          [
           27,
           420
          ],
          [
           25,
           231
          ],
          [
           23,
           350
          ],
          [
           23,
           494
          ],
          [
           23,
           435
          ],
          [
           21,
           6238
          ],
          [
           20,
           469
          ],
          [
           19,
           395
          ],
          [
           18,
           242
          ],
          [
           18,
           573
          ],
          [
           17,
           247
          ],
          [
           16,
           6724
          ],
          [
           16,
           399
          ],
          [
           16,
           258
          ],
          [
           13,
           2079
          ],
          [
           13,
           8603
          ],
          [
           12,
           378
          ],
          [
           12,
           7140
          ],
          [
           11,
           169
          ],
          [
           11,
           251
          ],
          [
           10,
           374
          ],
          [
           8,
           262
          ],
          [
           8,
           87
          ],
          [
           8,
           333
          ],
          [
           7,
           3628
          ],
          [
           6,
           64
          ],
          [
           6,
           126
          ],
          [
           5,
           843
          ],
          [
           5,
           5071
          ],
          [
           5,
           1590
          ],
          [
           5,
           316
          ],
          [
           5,
           212
          ],
          [
           5,
           63
          ],
          [
           4,
           85
          ],
          [
           4,
           4022
          ],
          [
           3,
           323
          ],
          [
           3,
           1029
          ],
          [
           3,
           153
          ],
          [
           2,
           724
          ],
          [
           2,
           1333
          ],
          [
           2,
           190
          ],
          [
           2,
           1131
          ],
          [
           2,
           157
          ],
          [
           2,
           761
          ],
          [
           2,
           42
          ],
          [
           2,
           1289
          ],
          [
           2,
           158
          ],
          [
           1,
           2293
          ],
          [
           1,
           362
          ],
          [
           1,
           342
          ],
          [
           1,
           33
          ],
          [
           1,
           1101
          ],
          [
           1,
           89
          ],
          [
           1,
           13
          ],
          [
           1,
           642
          ],
          [
           1,
           52
          ],
          [
           1,
           323
          ],
          [
           1,
           1038
          ],
          [
           1,
           91
          ],
          [
           1,
           117
          ],
          [
           1,
           57
          ],
          [
           1,
           9
          ],
          [
           1,
           1
          ],
          [
           1,
           15
          ],
          [
           1,
           726
          ],
          [
           1,
           37
          ],
          [
           1,
           3
          ],
          [
           1,
           5
          ],
          [
           1,
           400
          ],
          [
           1,
           3
          ],
          [
           1,
           4
          ],
          [
           1,
           1
          ],
          [
           1,
           290
          ],
          [
           1,
           1
          ],
          [
           1,
           6
          ],
          [
           1,
           1226
          ],
          [
           1,
           2
          ],
          [
           1,
           10
          ],
          [
           1,
           764
          ],
          [
           1,
           1
          ],
          [
           1,
           4
          ],
          [
           1,
           1
          ],
          [
           1,
           454
          ],
          [
           1,
           1
          ],
          [
           1,
           279
          ],
          [
           1,
           7
          ],
          [
           1,
           1
          ],
          [
           1,
           1
          ],
          [
           1,
           1
          ],
          [
           1,
           1616
          ],
          [
           1,
           194
          ],
          [
           1,
           31
          ],
          [
           1,
           2
          ],
          [
           1,
           1
          ]
         ],
         "hovertemplate": "<b>%{hovertext}</b><br><br>misclassification_rate=%{marker.color}<br>lat=%{lat}<br>lon=%{lon}<br>misclassified_count=%{customdata[0]}<br>total_count=%{customdata[1]}<extra></extra>",
         "hovertext": [
          "8628d106fffffff",
          "8628d5787ffffff",
          "8628d5447ffffff",
          "8628d545fffffff",
          "8628d57b7ffffff",
          "8628d57a7ffffff",
          "8628d0b6fffffff",
          "8628d5797ffffff",
          "8628d5567ffffff",
          "8628d5467ffffff",
          "8628d579fffffff",
          "8628d1067ffffff",
          "8628d5c0fffffff",
          "8628d1d67ffffff",
          "8628d56a7ffffff",
          "8628d5547ffffff",
          "8628d5cf7ffffff",
          "8628d1337ffffff",
          "8628d56f7ffffff",
          "8628d56dfffffff",
          "8628d1157ffffff",
          "8628d115fffffff",
          "8628d56afffffff",
          "8628d1a97ffffff",
          "8628d554fffffff",
          "8628d56c7ffffff",
          "8628d0b4fffffff",
          "8628d1057ffffff",
          "8628d578fffffff",
          "8628d5cdfffffff",
          "8628d1237ffffff",
          "8628d1d27ffffff",
          "8628d5cc7ffffff",
          "8628d12c7ffffff",
          "8628d1317ffffff",
          "8628d1027ffffff",
          "8628d5577ffffff",
          "8628d1d6fffffff",
          "8628d5ce7ffffff",
          "8628d5c1fffffff",
          "8628d114fffffff",
          "8628d118fffffff",
          "8628d12b7ffffff",
          "8628d105fffffff",
          "8628d1aa7ffffff",
          "8628d1207ffffff",
          "8628c268fffffff",
          "8628d111fffffff",
          "8628d1327ffffff",
          "8628d1ab7ffffff",
          "8628d561fffffff",
          "8628d139fffffff",
          "8628d1d37ffffff",
          "8628d131fffffff",
          "8628d11a7ffffff",
          "8628d100fffffff",
          "8628d10efffffff",
          "8628d12e7ffffff",
          "8628d56efffffff",
          "8628d122fffffff",
          "8628d1a17ffffff",
          "8628d10f7ffffff",
          "8628d10a7ffffff",
          "8628d120fffffff",
          "8628d1747ffffff",
          "8628d1d77ffffff",
          "8628d1b6fffffff",
          "8628c27b7ffffff",
          "8628dd067ffffff",
          "8628d5c2fffffff",
          "8628d104fffffff",
          "8628dc6a7ffffff",
          "8628dc6efffffff",
          "8628dea1fffffff",
          "8628d1b4fffffff",
          "8628dc6e7ffffff",
          "8628d8077ffffff",
          "86129b8a7ffffff",
          "8628d1a9fffffff",
          "86129ba67ffffff",
          "8628de8dfffffff",
          "8628d138fffffff",
          "8628d8a17ffffff",
          "8628dc787ffffff",
          "8628d176fffffff",
          "8628d9d9fffffff",
          "8628d8c27ffffff",
          "8628d8187ffffff",
          "8628c2687ffffff",
          "8628d891fffffff",
          "8628d1b47ffffff",
          "8628dc61fffffff",
          "8628d882fffffff",
          "8628ca6c7ffffff",
          "8628d958fffffff",
          "8628d1147ffffff",
          "8628c26b7ffffff",
          "8628d568fffffff",
          "8628de16fffffff",
          "86129ba37ffffff"
         ],
         "lat": [
          48.53494057571889,
          47.844251773154184,
          47.70479828057148,
          47.75705919185152,
          47.80928280393903,
          47.79204933155055,
          47.91361783518178,
          47.861469042916646,
          47.51265965222914,
          47.65250014433094,
          47.89641684440801,
          48.50087373837577,
          47.320003208943405,
          48.122304033397604,
          47.93130645908102,
          47.56505316561466,
          47.389747327267784,
          48.56894889383569,
          48.00091104419932,
          48.08766867170502,
          48.43256456735365,
          48.466748397038145,
          47.9661378658861,
          48.483187036390504,
          47.60016485767688,
          48.03562597382173,
          47.96572910744652,
          48.57022862975846,
          47.879162582890544,
          47.47746883347177,
          48.706206692235945,
          48.07027078904135,
          47.42501719397379,
          48.87691497133065,
          48.62064329497516,
          48.45012412914873,
          47.529883469640495,
          48.15688108068518,
          47.37252862705597,
          47.33723766383521,
          48.44909867542478,
          48.48508315871782,
          48.79314296209595,
          48.60431099165259,
          48.41364043241663,
          48.740054748751646,
          48.373535607587854,
          48.41584478773251,
          48.55118826144361,
          48.431395971412336,
          47.94880963967771,
          48.74157808898365,
          48.08751315275162,
          48.65457151113995,
          48.398939060962064,
          48.5360877290404,
          48.6219121621643,
          48.82539846999272,
          48.01822381005832,
          48.72225220965466,
          48.39583220623499,
          48.60530331611685,
          48.53681452477487,
          48.77384419347214,
          48.77673559546893,
          48.13967386705727,
          48.27215355658613,
          48.16819915136435,
          49.16590339107863,
          47.26744101617692,
          48.58665651978877,
          49.244248587806446,
          49.32487169499515,
          49.38568230798629,
          48.32407539871285,
          49.29198475889558,
          49.808233566665656,
          50.74069863367717,
          48.51721690337318,
          50.57412008271887,
          49.28767903012503,
          48.7239190531944,
          49.68274594634522,
          49.159849170780646,
          48.75918365210895,
          49.8948772887734,
          49.514828903528944,
          49.74769541896602,
          48.339799987934455,
          49.353515240389704,
          48.29018633300903,
          49.25903903066019,
          49.4187305097984,
          49.96568599919161,
          50.245140240593976,
          48.41495183582065,
          48.30600596661923,
          48.01822308246378,
          49.35464991547482,
          50.59523726468901
         ],
         "legendgroup": "",
         "lon": [
          -123.17283152630124,
          -122.4583714568267,
          -122.44805075311557,
          -122.42451283069418,
          -122.40094225258062,
          -122.48190813522545,
          -122.35370288911248,
          -122.37733895876434,
          -122.46123783444246,
          -122.47155607973333,
          -122.43480208210505,
          -123.11486619491615,
          -122.47436375317434,
          -122.6991190647477,
          -122.49229416669326,
          -122.4377637820509,
          -122.37036996002787,
          -123.2308247249627,
          -122.60736484344233,
          -122.64147771644367,
          -122.99901952760572,
          -123.05692882929601,
          -122.54981511856828,
          -123.19601476086429,
          -122.49502887031406,
          -122.664943246701,
          -122.33003398336967,
          -123.01032375054591,
          -122.51582953774059,
          -122.40403512758746,
          -123.24252252049833,
          -122.50271434099199,
          -122.4275103791824,
          -123.3124774206303,
          -123.20764411565766,
          -122.91778227508108,
          -122.38052742056433,
          -122.756788985584,
          -122.45095323465084,
          -122.39384634856258,
          -123.1380845919452,
          -122.75508524360846,
          -123.05642446516417,
          -123.06833133998053,
          -123.30017107104626,
          -123.30064205465125,
          -123.90036858424278,
          -122.85989454712991,
          -123.31195835006001,
          -123.21916541270662,
          -122.63083195376632,
          -123.0797715343427,
          -122.42149139034977,
          -123.26570043604914,
          -122.72071125341861,
          -122.95234439404443,
          -122.98697202459502,
          -123.3356497417077,
          -122.74594874579164,
          -123.38189623710659,
          -123.38110134804063,
          -122.84751692820547,
          -122.73156082687855,
          -123.35878932660323,
          -122.91671936172567,
          -122.61797944887891,
          -123.72677699675565,
          -123.77210654516932,
          -125.87278493995625,
          -122.49774199381437,
          -123.14961564778996,
          -123.95469311360424,
          -124.21166215345697,
          -123.52393851109501,
          -123.70406432045455,
          -124.15307417528912,
          -124.51034159438586,
          -127.46873315802596,
          -123.2539727131371,
          -126.61853180117569,
          -123.12591289099262,
          -123.16118478792283,
          -124.85783461278429,
          -123.91898617412421,
          -122.99828298373896,
          -125.14101162371436,
          -123.98067720411149,
          -124.17035366983973,
          -123.84247835905258,
          -124.4911384999254,
          -123.64621791240201,
          -124.09451248384298,
          -124.60845079228453,
          -126.90589579552906,
          -125.20469643243574,
          -123.08018230476162,
          -123.78461446322518,
          -122.52628111855161,
          -123.24300626600363,
          -126.90087166104801
         ],
         "marker": {
          "color": [
           0.013213213213213212,
           0.08418891170431211,
           0.06810035842293907,
           0.0782608695652174,
           0.050699300699300696,
           0.10305343511450382,
           0.06428571428571428,
           0.10822510822510822,
           0.06571428571428571,
           0.0465587044534413,
           0.052873563218390804,
           0.0033664636101314524,
           0.042643923240938165,
           0.04810126582278481,
           0.0743801652892562,
           0.031413612565445025,
           0.06882591093117409,
           0.002379535990481856,
           0.040100250626566414,
           0.06201550387596899,
           0.006253006253006253,
           0.0015111007787980938,
           0.031746031746031744,
           0.0016806722689075631,
           0.0650887573964497,
           0.043824701195219126,
           0.026737967914438502,
           0.030534351145038167,
           0.09195402298850575,
           0.024024024024024024,
           0.0019294377067254685,
           0.09375,
           0.047619047619047616,
           0.005931198102016607,
           0.0009859988168014198,
           0.0031446540880503146,
           0.015822784810126583,
           0.02358490566037736,
           0.07936507936507936,
           0.047058823529411764,
           0.000994530084535057,
           0.009287925696594427,
           0.0029154518950437317,
           0.0196078431372549,
           0.0027624309392265192,
           0.0015003750937734434,
           0.010526315789473684,
           0.0017683465959328027,
           0.012738853503184714,
           0.002628120893561104,
           0.047619047619047616,
           0.0015515903801396431,
           0.012658227848101266,
           0.0004361098996947231,
           0.0027624309392265192,
           0.0029239766081871343,
           0.030303030303030304,
           0.0009082652134423251,
           0.011235955056179775,
           0.07692307692307693,
           0.001557632398753894,
           0.019230769230769232,
           0.0030959752321981426,
           0.0009633911368015414,
           0.01098901098901099,
           0.008547008547008548,
           0.017543859649122806,
           0.1111111111111111,
           1,
           0.06666666666666667,
           0.0013774104683195593,
           0.02702702702702703,
           0.3333333333333333,
           0.2,
           0.0025,
           0.3333333333333333,
           0.25,
           1,
           0.0034482758620689655,
           1,
           0.16666666666666666,
           0.0008156606851549756,
           0.5,
           0.1,
           0.0013089005235602095,
           1,
           0.25,
           1,
           0.0022026431718061676,
           1,
           0.0035842293906810036,
           0.14285714285714285,
           1,
           1,
           1,
           0.0006188118811881188,
           0.005154639175257732,
           0.03225806451612903,
           0.5,
           1
          ],
          "coloraxis": "coloraxis",
          "size": [
           0.013213213213213212,
           0.08418891170431211,
           0.06810035842293907,
           0.0782608695652174,
           0.050699300699300696,
           0.10305343511450382,
           0.06428571428571428,
           0.10822510822510822,
           0.06571428571428571,
           0.0465587044534413,
           0.052873563218390804,
           0.0033664636101314524,
           0.042643923240938165,
           0.04810126582278481,
           0.0743801652892562,
           0.031413612565445025,
           0.06882591093117409,
           0.002379535990481856,
           0.040100250626566414,
           0.06201550387596899,
           0.006253006253006253,
           0.0015111007787980938,
           0.031746031746031744,
           0.0016806722689075631,
           0.0650887573964497,
           0.043824701195219126,
           0.026737967914438502,
           0.030534351145038167,
           0.09195402298850575,
           0.024024024024024024,
           0.0019294377067254685,
           0.09375,
           0.047619047619047616,
           0.005931198102016607,
           0.0009859988168014198,
           0.0031446540880503146,
           0.015822784810126583,
           0.02358490566037736,
           0.07936507936507936,
           0.047058823529411764,
           0.000994530084535057,
           0.009287925696594427,
           0.0029154518950437317,
           0.0196078431372549,
           0.0027624309392265192,
           0.0015003750937734434,
           0.010526315789473684,
           0.0017683465959328027,
           0.012738853503184714,
           0.002628120893561104,
           0.047619047619047616,
           0.0015515903801396431,
           0.012658227848101266,
           0.0004361098996947231,
           0.0027624309392265192,
           0.0029239766081871343,
           0.030303030303030304,
           0.0009082652134423251,
           0.011235955056179775,
           0.07692307692307693,
           0.001557632398753894,
           0.019230769230769232,
           0.0030959752321981426,
           0.0009633911368015414,
           0.01098901098901099,
           0.008547008547008548,
           0.017543859649122806,
           0.1111111111111111,
           1,
           0.06666666666666667,
           0.0013774104683195593,
           0.02702702702702703,
           0.3333333333333333,
           0.2,
           0.0025,
           0.3333333333333333,
           0.25,
           1,
           0.0034482758620689655,
           1,
           0.16666666666666666,
           0.0008156606851549756,
           0.5,
           0.1,
           0.0013089005235602095,
           1,
           0.25,
           1,
           0.0022026431718061676,
           1,
           0.0035842293906810036,
           0.14285714285714285,
           1,
           1,
           1,
           0.0006188118811881188,
           0.005154639175257732,
           0.03225806451612903,
           0.5,
           1
          ],
          "sizemode": "area",
          "sizeref": 0.0016
         },
         "mode": "markers",
         "name": "",
         "showlegend": false,
         "subplot": "mapbox",
         "type": "scattermapbox"
        }
       ],
       "layout": {
        "coloraxis": {
         "colorbar": {
          "title": {
           "text": "misclassification_rate"
          }
         },
         "colorscale": [
          [
           0,
           "#30123b"
          ],
          [
           0.07142857142857142,
           "#4145ab"
          ],
          [
           0.14285714285714285,
           "#4675ed"
          ],
          [
           0.21428571428571427,
           "#39a2fc"
          ],
          [
           0.2857142857142857,
           "#1bcfd4"
          ],
          [
           0.35714285714285715,
           "#24eca6"
          ],
          [
           0.42857142857142855,
           "#61fc6c"
          ],
          [
           0.5,
           "#a4fc3b"
          ],
          [
           0.5714285714285714,
           "#d1e834"
          ],
          [
           0.6428571428571429,
           "#f3c63a"
          ],
          [
           0.7142857142857143,
           "#fe9b2d"
          ],
          [
           0.7857142857142857,
           "#f36315"
          ],
          [
           0.8571428571428571,
           "#d93806"
          ],
          [
           0.9285714285714286,
           "#b11901"
          ],
          [
           1,
           "#7a0402"
          ]
         ]
        },
        "height": 1000,
        "legend": {
         "itemsizing": "constant",
         "tracegroupgap": 0
        },
        "mapbox": {
         "center": {
          "lat": 48.51232802357009,
          "lon": -123.29754177111796
         },
         "domain": {
          "x": [
           0,
           1
          ],
          "y": [
           0,
           1
          ]
         },
         "style": "carto-positron",
         "zoom": 8
        },
        "template": {
         "data": {
          "bar": [
           {
            "error_x": {
             "color": "#2a3f5f"
            },
            "error_y": {
             "color": "#2a3f5f"
            },
            "marker": {
             "line": {
              "color": "#E5ECF6",
              "width": 0.5
             },
             "pattern": {
              "fillmode": "overlay",
              "size": 10,
              "solidity": 0.2
             }
            },
            "type": "bar"
           }
          ],
          "barpolar": [
           {
            "marker": {
             "line": {
              "color": "#E5ECF6",
              "width": 0.5
             },
             "pattern": {
              "fillmode": "overlay",
              "size": 10,
              "solidity": 0.2
             }
            },
            "type": "barpolar"
           }
          ],
          "carpet": [
           {
            "aaxis": {
             "endlinecolor": "#2a3f5f",
             "gridcolor": "white",
             "linecolor": "white",
             "minorgridcolor": "white",
             "startlinecolor": "#2a3f5f"
            },
            "baxis": {
             "endlinecolor": "#2a3f5f",
             "gridcolor": "white",
             "linecolor": "white",
             "minorgridcolor": "white",
             "startlinecolor": "#2a3f5f"
            },
            "type": "carpet"
           }
          ],
          "choropleth": [
           {
            "colorbar": {
             "outlinewidth": 0,
             "ticks": ""
            },
            "type": "choropleth"
           }
          ],
          "contour": [
           {
            "colorbar": {
             "outlinewidth": 0,
             "ticks": ""
            },
            "colorscale": [
             [
              0,
              "#0d0887"
             ],
             [
              0.1111111111111111,
              "#46039f"
             ],
             [
              0.2222222222222222,
              "#7201a8"
             ],
             [
              0.3333333333333333,
              "#9c179e"
             ],
             [
              0.4444444444444444,
              "#bd3786"
             ],
             [
              0.5555555555555556,
              "#d8576b"
             ],
             [
              0.6666666666666666,
              "#ed7953"
             ],
             [
              0.7777777777777778,
              "#fb9f3a"
             ],
             [
              0.8888888888888888,
              "#fdca26"
             ],
             [
              1,
              "#f0f921"
             ]
            ],
            "type": "contour"
           }
          ],
          "contourcarpet": [
           {
            "colorbar": {
             "outlinewidth": 0,
             "ticks": ""
            },
            "type": "contourcarpet"
           }
          ],
          "heatmap": [
           {
            "colorbar": {
             "outlinewidth": 0,
             "ticks": ""
            },
            "colorscale": [
             [
              0,
              "#0d0887"
             ],
             [
              0.1111111111111111,
              "#46039f"
             ],
             [
              0.2222222222222222,
              "#7201a8"
             ],
             [
              0.3333333333333333,
              "#9c179e"
             ],
             [
              0.4444444444444444,
              "#bd3786"
             ],
             [
              0.5555555555555556,
              "#d8576b"
             ],
             [
              0.6666666666666666,
              "#ed7953"
             ],
             [
              0.7777777777777778,
              "#fb9f3a"
             ],
             [
              0.8888888888888888,
              "#fdca26"
             ],
             [
              1,
              "#f0f921"
             ]
            ],
            "type": "heatmap"
           }
          ],
          "heatmapgl": [
           {
            "colorbar": {
             "outlinewidth": 0,
             "ticks": ""
            },
            "colorscale": [
             [
              0,
              "#0d0887"
             ],
             [
              0.1111111111111111,
              "#46039f"
             ],
             [
              0.2222222222222222,
              "#7201a8"
             ],
             [
              0.3333333333333333,
              "#9c179e"
             ],
             [
              0.4444444444444444,
              "#bd3786"
             ],
             [
              0.5555555555555556,
              "#d8576b"
             ],
             [
              0.6666666666666666,
              "#ed7953"
             ],
             [
              0.7777777777777778,
              "#fb9f3a"
             ],
             [
              0.8888888888888888,
              "#fdca26"
             ],
             [
              1,
              "#f0f921"
             ]
            ],
            "type": "heatmapgl"
           }
          ],
          "histogram": [
           {
            "marker": {
             "pattern": {
              "fillmode": "overlay",
              "size": 10,
              "solidity": 0.2
             }
            },
            "type": "histogram"
           }
          ],
          "histogram2d": [
           {
            "colorbar": {
             "outlinewidth": 0,
             "ticks": ""
            },
            "colorscale": [
             [
              0,
              "#0d0887"
             ],
             [
              0.1111111111111111,
              "#46039f"
             ],
             [
              0.2222222222222222,
              "#7201a8"
             ],
             [
              0.3333333333333333,
              "#9c179e"
             ],
             [
              0.4444444444444444,
              "#bd3786"
             ],
             [
              0.5555555555555556,
              "#d8576b"
             ],
             [
              0.6666666666666666,
              "#ed7953"
             ],
             [
              0.7777777777777778,
              "#fb9f3a"
             ],
             [
              0.8888888888888888,
              "#fdca26"
             ],
             [
              1,
              "#f0f921"
             ]
            ],
            "type": "histogram2d"
           }
          ],
          "histogram2dcontour": [
           {
            "colorbar": {
             "outlinewidth": 0,
             "ticks": ""
            },
            "colorscale": [
             [
              0,
              "#0d0887"
             ],
             [
              0.1111111111111111,
              "#46039f"
             ],
             [
              0.2222222222222222,
              "#7201a8"
             ],
             [
              0.3333333333333333,
              "#9c179e"
             ],
             [
              0.4444444444444444,
              "#bd3786"
             ],
             [
              0.5555555555555556,
              "#d8576b"
             ],
             [
              0.6666666666666666,
              "#ed7953"
             ],
             [
              0.7777777777777778,
              "#fb9f3a"
             ],
             [
              0.8888888888888888,
              "#fdca26"
             ],
             [
              1,
              "#f0f921"
             ]
            ],
            "type": "histogram2dcontour"
           }
          ],
          "mesh3d": [
           {
            "colorbar": {
             "outlinewidth": 0,
             "ticks": ""
            },
            "type": "mesh3d"
           }
          ],
          "parcoords": [
           {
            "line": {
             "colorbar": {
              "outlinewidth": 0,
              "ticks": ""
             }
            },
            "type": "parcoords"
           }
          ],
          "pie": [
           {
            "automargin": true,
            "type": "pie"
           }
          ],
          "scatter": [
           {
            "fillpattern": {
             "fillmode": "overlay",
             "size": 10,
             "solidity": 0.2
            },
            "type": "scatter"
           }
          ],
          "scatter3d": [
           {
            "line": {
             "colorbar": {
              "outlinewidth": 0,
              "ticks": ""
             }
            },
            "marker": {
             "colorbar": {
              "outlinewidth": 0,
              "ticks": ""
             }
            },
            "type": "scatter3d"
           }
          ],
          "scattercarpet": [
           {
            "marker": {
             "colorbar": {
              "outlinewidth": 0,
              "ticks": ""
             }
            },
            "type": "scattercarpet"
           }
          ],
          "scattergeo": [
           {
            "marker": {
             "colorbar": {
              "outlinewidth": 0,
              "ticks": ""
             }
            },
            "type": "scattergeo"
           }
          ],
          "scattergl": [
           {
            "marker": {
             "colorbar": {
              "outlinewidth": 0,
              "ticks": ""
             }
            },
            "type": "scattergl"
           }
          ],
          "scattermapbox": [
           {
            "marker": {
             "colorbar": {
              "outlinewidth": 0,
              "ticks": ""
             }
            },
            "type": "scattermapbox"
           }
          ],
          "scatterpolar": [
           {
            "marker": {
             "colorbar": {
              "outlinewidth": 0,
              "ticks": ""
             }
            },
            "type": "scatterpolar"
           }
          ],
          "scatterpolargl": [
           {
            "marker": {
             "colorbar": {
              "outlinewidth": 0,
              "ticks": ""
             }
            },
            "type": "scatterpolargl"
           }
          ],
          "scatterternary": [
           {
            "marker": {
             "colorbar": {
              "outlinewidth": 0,
              "ticks": ""
             }
            },
            "type": "scatterternary"
           }
          ],
          "surface": [
           {
            "colorbar": {
             "outlinewidth": 0,
             "ticks": ""
            },
            "colorscale": [
             [
              0,
              "#0d0887"
             ],
             [
              0.1111111111111111,
              "#46039f"
             ],
             [
              0.2222222222222222,
              "#7201a8"
             ],
             [
              0.3333333333333333,
              "#9c179e"
             ],
             [
              0.4444444444444444,
              "#bd3786"
             ],
             [
              0.5555555555555556,
              "#d8576b"
             ],
             [
              0.6666666666666666,
              "#ed7953"
             ],
             [
              0.7777777777777778,
              "#fb9f3a"
             ],
             [
              0.8888888888888888,
              "#fdca26"
             ],
             [
              1,
              "#f0f921"
             ]
            ],
            "type": "surface"
           }
          ],
          "table": [
           {
            "cells": {
             "fill": {
              "color": "#EBF0F8"
             },
             "line": {
              "color": "white"
             }
            },
            "header": {
             "fill": {
              "color": "#C8D4E3"
             },
             "line": {
              "color": "white"
             }
            },
            "type": "table"
           }
          ]
         },
         "layout": {
          "annotationdefaults": {
           "arrowcolor": "#2a3f5f",
           "arrowhead": 0,
           "arrowwidth": 1
          },
          "autotypenumbers": "strict",
          "coloraxis": {
           "colorbar": {
            "outlinewidth": 0,
            "ticks": ""
           }
          },
          "colorscale": {
           "diverging": [
            [
             0,
             "#8e0152"
            ],
            [
             0.1,
             "#c51b7d"
            ],
            [
             0.2,
             "#de77ae"
            ],
            [
             0.3,
             "#f1b6da"
            ],
            [
             0.4,
             "#fde0ef"
            ],
            [
             0.5,
             "#f7f7f7"
            ],
            [
             0.6,
             "#e6f5d0"
            ],
            [
             0.7,
             "#b8e186"
            ],
            [
             0.8,
             "#7fbc41"
            ],
            [
             0.9,
             "#4d9221"
            ],
            [
             1,
             "#276419"
            ]
           ],
           "sequential": [
            [
             0,
             "#0d0887"
            ],
            [
             0.1111111111111111,
             "#46039f"
            ],
            [
             0.2222222222222222,
             "#7201a8"
            ],
            [
             0.3333333333333333,
             "#9c179e"
            ],
            [
             0.4444444444444444,
             "#bd3786"
            ],
            [
             0.5555555555555556,
             "#d8576b"
            ],
            [
             0.6666666666666666,
             "#ed7953"
            ],
            [
             0.7777777777777778,
             "#fb9f3a"
            ],
            [
             0.8888888888888888,
             "#fdca26"
            ],
            [
             1,
             "#f0f921"
            ]
           ],
           "sequentialminus": [
            [
             0,
             "#0d0887"
            ],
            [
             0.1111111111111111,
             "#46039f"
            ],
            [
             0.2222222222222222,
             "#7201a8"
            ],
            [
             0.3333333333333333,
             "#9c179e"
            ],
            [
             0.4444444444444444,
             "#bd3786"
            ],
            [
             0.5555555555555556,
             "#d8576b"
            ],
            [
             0.6666666666666666,
             "#ed7953"
            ],
            [
             0.7777777777777778,
             "#fb9f3a"
            ],
            [
             0.8888888888888888,
             "#fdca26"
            ],
            [
             1,
             "#f0f921"
            ]
           ]
          },
          "colorway": [
           "#636efa",
           "#EF553B",
           "#00cc96",
           "#ab63fa",
           "#FFA15A",
           "#19d3f3",
           "#FF6692",
           "#B6E880",
           "#FF97FF",
           "#FECB52"
          ],
          "font": {
           "color": "#2a3f5f"
          },
          "geo": {
           "bgcolor": "white",
           "lakecolor": "white",
           "landcolor": "#E5ECF6",
           "showlakes": true,
           "showland": true,
           "subunitcolor": "white"
          },
          "hoverlabel": {
           "align": "left"
          },
          "hovermode": "closest",
          "mapbox": {
           "style": "light"
          },
          "paper_bgcolor": "white",
          "plot_bgcolor": "#E5ECF6",
          "polar": {
           "angularaxis": {
            "gridcolor": "white",
            "linecolor": "white",
            "ticks": ""
           },
           "bgcolor": "#E5ECF6",
           "radialaxis": {
            "gridcolor": "white",
            "linecolor": "white",
            "ticks": ""
           }
          },
          "scene": {
           "xaxis": {
            "backgroundcolor": "#E5ECF6",
            "gridcolor": "white",
            "gridwidth": 2,
            "linecolor": "white",
            "showbackground": true,
            "ticks": "",
            "zerolinecolor": "white"
           },
           "yaxis": {
            "backgroundcolor": "#E5ECF6",
            "gridcolor": "white",
            "gridwidth": 2,
            "linecolor": "white",
            "showbackground": true,
            "ticks": "",
            "zerolinecolor": "white"
           },
           "zaxis": {
            "backgroundcolor": "#E5ECF6",
            "gridcolor": "white",
            "gridwidth": 2,
            "linecolor": "white",
            "showbackground": true,
            "ticks": "",
            "zerolinecolor": "white"
           }
          },
          "shapedefaults": {
           "line": {
            "color": "#2a3f5f"
           }
          },
          "ternary": {
           "aaxis": {
            "gridcolor": "white",
            "linecolor": "white",
            "ticks": ""
           },
           "baxis": {
            "gridcolor": "white",
            "linecolor": "white",
            "ticks": ""
           },
           "bgcolor": "#E5ECF6",
           "caxis": {
            "gridcolor": "white",
            "linecolor": "white",
            "ticks": ""
           }
          },
          "title": {
           "x": 0.05
          },
          "xaxis": {
           "automargin": true,
           "gridcolor": "white",
           "linecolor": "white",
           "ticks": "",
           "title": {
            "standoff": 15
           },
           "zerolinecolor": "white",
           "zerolinewidth": 2
          },
          "yaxis": {
           "automargin": true,
           "gridcolor": "white",
           "linecolor": "white",
           "ticks": "",
           "title": {
            "standoff": 15
           },
           "zerolinecolor": "white",
           "zerolinewidth": 2
          }
         }
        },
        "title": {
         "text": "Misclassified TRANSIENTs → SRKW by H3 Cell"
        }
       }
      }
     },
     "metadata": {},
     "output_type": "display_data"
    }
   ],
   "source": [
    "import geopandas as gpd\n",
    "import h3\n",
    "import pandas as pd\n",
    "import plotly.express as px\n",
    "\n",
    "# ---------------------------------------\n",
    "# 1. Identify misclassified TRANSIENTs\n",
    "# ---------------------------------------\n",
    "y_pred = log_model.predict(X_class_bin)\n",
    "mis_idx = (y_class_bin == \"TRANSIENT\") & (y_pred == \"SRKW\")\n",
    "X_mis = X_class_bin.loc[mis_idx].copy()\n",
    "\n",
    "\n",
    "# ---------------------------------------\n",
    "# 2. Map H3 cells to centroids\n",
    "# ---------------------------------------\n",
    "# Make a GeoDataFrame of H3 cells\n",
    "def h3_to_latlon(h3_cells):\n",
    "    lats, lons = [], []\n",
    "    for cell in h3_cells:\n",
    "        lat, lon = h3.cell_to_latlng(cell)\n",
    "        lats.append(lat)\n",
    "        lons.append(lon)\n",
    "    return lats, lons\n",
    "\n",
    "\n",
    "# Count misclassifications per H3 cell\n",
    "mis_counts = X_mis[\"H3_CELL\"].value_counts().reset_index()\n",
    "mis_counts.columns = [\"H3_CELL\", \"misclassified_count\"]\n",
    "\n",
    "# Get centroids\n",
    "lats, lons = h3_to_latlon(mis_counts[\"H3_CELL\"])\n",
    "mis_counts[\"lat\"] = lats\n",
    "mis_counts[\"lon\"] = lons\n",
    "\n",
    "# ---------------------------------------\n",
    "# 3. Optional: add total sightings for context\n",
    "# ---------------------------------------\n",
    "total_counts = X_class_bin[\"H3_CELL\"].value_counts().reset_index()\n",
    "total_counts.columns = [\"H3_CELL\", \"total_count\"]\n",
    "mis_counts = mis_counts.merge(total_counts, on=\"H3_CELL\", how=\"left\")\n",
    "mis_counts[\"misclassification_rate\"] = (\n",
    "    mis_counts[\"misclassified_count\"] / mis_counts[\"total_count\"]\n",
    ")\n",
    "\n",
    "# ---------------------------------------\n",
    "# 4. Plot interactive heatmap\n",
    "# ---------------------------------------\n",
    "fig = px.scatter_mapbox(\n",
    "    mis_counts,\n",
    "    lat=\"lat\",\n",
    "    lon=\"lon\",\n",
    "    height=1000,\n",
    "    size=\"misclassification_rate\",  # relative bubble size\n",
    "    color=\"misclassification_rate\",  # color intensity\n",
    "    hover_name=\"H3_CELL\",\n",
    "    hover_data=[\"misclassified_count\", \"total_count\"],\n",
    "    color_continuous_scale=\"Turbo\",\n",
    "    size_max=25,\n",
    "    zoom=8,\n",
    "    mapbox_style=\"carto-positron\",\n",
    "    title=\"Misclassified TRANSIENTs → SRKW by H3 Cell\",\n",
    ")\n",
    "\n",
    "fig.show()"
   ]
  },
  {
   "cell_type": "code",
   "execution_count": 156,
   "id": "0e850c44",
   "metadata": {},
   "outputs": [],
   "source": [
    "# ------------------------------\n",
    "# 1️⃣ Prepare Local Sample Weights\n",
    "# ------------------------------\n",
    "# Compute per-cell class counts\n",
    "cell_counts = X_class_bin.groupby(\"H3_CELL\")[\"H3_CELL\"].count()\n",
    "transient_counts = (\n",
    "    X_class_bin[y_class_bin == \"TRANSIENT\"].groupby(\"H3_CELL\")[\"H3_CELL\"].count()\n",
    ")\n",
    "\n",
    "# Local weights: rare TRANSIENTs get boosted\n",
    "local_weights = 1 / (transient_counts + 1)  # avoid div-by-zero\n",
    "sample_weights = X_class_bin[\"H3_CELL\"].map(local_weights).fillna(1.0)\n",
    "\n",
    "\n",
    "# Multiply by global class weight\n",
    "global_class_weights = {\"SRKW\": 1.0, \"TRANSIENT\": 1.0}\n",
    "sample_weights *= y_class_bin.map(global_class_weights)\n",
    "\n",
    "# ------------------------------\n",
    "# 2️⃣ H3 Parent Aggregation (Spatial Smoothing)\n",
    "# ------------------------------\n",
    "import h3\n",
    "\n",
    "# Add H3 parent cells at one resolution up (e.g., res-4)\n",
    "X_class_bin[\"H3_PARENT_4\"] = X_class_bin[\"H3_CELL\"].apply(\n",
    "    lambda x: h3.cell_to_parent(x, 4)\n",
    ")\n",
    "X_class_bin[\"H3_PARENT_3\"] = X_class_bin[\"H3_CELL\"].apply(\n",
    "    lambda x: h3.cell_to_parent(x, 3)\n",
    ")\n",
    "\n",
    "# Compute counts of TRANSIENTs in parent cells\n",
    "parent_counts_4 = (\n",
    "    X_class_bin[y_class_bin == \"TRANSIENT\"].groupby(X_class_bin[\"H3_PARENT_4\"]).size()\n",
    ")\n",
    "parent_counts_3 = (\n",
    "    X_class_bin[y_class_bin == \"TRANSIENT\"].groupby(X_class_bin[\"H3_PARENT_3\"]).size()\n",
    ")\n",
    "\n",
    "X_class_bin[\"TRANSIENT_parent_4\"] = (\n",
    "    X_class_bin[\"H3_PARENT_4\"].map(parent_counts_4).fillna(0)\n",
    ")\n",
    "X_class_bin[\"TRANSIENT_parent_3\"] = (\n",
    "    X_class_bin[\"H3_PARENT_3\"].map(parent_counts_3).fillna(0)\n",
    ")\n",
    "\n",
    "# ------------------------------\n",
    "# 3️⃣ Optional Oversampling of Rare Northern Cells\n",
    "# ------------------------------\n",
    "from sklearn.utils import resample\n",
    "\n",
    "# Define threshold for \"rare\" H3 cells\n",
    "rare_threshold = 3  # cells with <=3 sightings\n",
    "rare_cells = (\n",
    "    X_class_bin[\"H3_CELL\"]\n",
    "    .value_counts()[X_class_bin[\"H3_CELL\"].value_counts() <= rare_threshold]\n",
    "    .index\n",
    ")\n",
    "\n",
    "# Filter rare TRANSIENTs\n",
    "transient_rare = X_class_bin[\n",
    "    (y_class_bin == \"TRANSIENT\") & (X_class_bin[\"H3_CELL\"].isin(rare_cells))\n",
    "]\n",
    "\n",
    "# Oversample\n",
    "X_oversampled = pd.concat(\n",
    "    [\n",
    "        X_class_bin,\n",
    "        resample(\n",
    "            transient_rare,\n",
    "            replace=True,\n",
    "            n_samples=len(transient_rare) * 5,\n",
    "            random_state=42,\n",
    "        ),\n",
    "    ]\n",
    ")\n",
    "y_oversampled = pd.concat(\n",
    "    [\n",
    "        y_class_bin,\n",
    "        resample(\n",
    "            y_class_bin[transient_rare.index],\n",
    "            replace=True,\n",
    "            n_samples=len(transient_rare) * 5,\n",
    "            random_state=42,\n",
    "        ),\n",
    "    ]\n",
    ")\n",
    "sample_weights_oversampled = pd.concat(\n",
    "    [\n",
    "        sample_weights,\n",
    "        resample(\n",
    "            sample_weights[transient_rare.index],\n",
    "            replace=True,\n",
    "            n_samples=len(transient_rare) * 5,\n",
    "            random_state=42,\n",
    "        ),\n",
    "    ]\n",
    ")\n",
    "\n",
    "# ------------------------------\n",
    "# 4️⃣ Train Logistic Regression with updated features\n",
    "# ------------------------------\n",
    "from sklearn.linear_model import LogisticRegression\n",
    "\n",
    "log_reg = LogisticRegression(\n",
    "    max_iter=2000, multi_class=\"multinomial\", solver=\"lbfgs\", C=0.5\n",
    ")\n",
    "\n",
    "# Feature columns: include original + H3 parent counts\n",
    "all_features = (\n",
    "    categorical_features\n",
    "    + numerical_features\n",
    "    + [\"TRANSIENT_parent_4\", \"TRANSIENT_parent_3\"]\n",
    ")\n",
    "\n",
    "log_model, oof_preds = train_classifier(\n",
    "    X_oversampled[all_features],\n",
    "    y_oversampled,\n",
    "    groups=groups.loc[X_oversampled.index],  # make sure groups align\n",
    "    categorical_features=categorical_features,\n",
    "    numeric_features=numerical_features + [\"TRANSIENT_parent_4\", \"TRANSIENT_parent_3\"],\n",
    "    base_model=log_reg,\n",
    "    sample_weights=sample_weights_oversampled,\n",
    "    n_splits=15,\n",
    "    calibrate=True,\n",
    ")"
   ]
  },
  {
   "cell_type": "code",
   "execution_count": 158,
   "id": "542e9bbd",
   "metadata": {},
   "outputs": [
    {
     "name": "stdout",
     "output_type": "stream",
     "text": [
      "Accuracy: 0.981\n",
      "Log Loss: 0.049\n",
      "\n",
      "Confusion Matrix:\n",
      "[[102028   1168]\n",
      " [   927   6921]]\n",
      "\n",
      "Classification Report:\n",
      "              precision    recall  f1-score   support\n",
      "\n",
      "        SRKW       0.99      0.99      0.99    103196\n",
      "   TRANSIENT       0.86      0.88      0.87      7848\n",
      "\n",
      "    accuracy                           0.98    111044\n",
      "   macro avg       0.92      0.94      0.93    111044\n",
      "weighted avg       0.98      0.98      0.98    111044\n",
      "\n"
     ]
    },
    {
     "data": {
      "image/png": "[encoded data removed]",
      "text/plain": [
       "<Figure size 800x600 with 1 Axes>"
      ]
     },
     "metadata": {},
     "output_type": "display_data"
    }
   ],
   "source": [
    "classes = np.unique(y_oversampled)\n",
    "evaluate_model(y_oversampled, oof_preds, classes)"
   ]
  },
  {
   "cell_type": "code",
   "execution_count": null,
   "id": "355029d2",
   "metadata": {},
   "outputs": [],
   "source": [
    "# Oversampling + local H3 weighting boosted rare TRANSIENT predictions without hurting SRKW."
   ]
  },
  {
   "cell_type": "code",
   "execution_count": 159,
   "metadata": {},
   "outputs": [
    {
     "data": {
      "application/vnd.plotly.v1+json": {
       "config": {
        "plotlyServerURL": "https://plot.ly"
       },
       "data": [
        {
         "customdata": [
          [
           66,
           4995
          ],
          [
           47,
           558
          ],
          [
           43,
           487
          ],
          [
           41,
           460
          ],
          [
           33,
           420
          ],
          [
           29,
           572
          ],
          [
           27,
           262
          ],
          [
           27,
           231
          ],
          [
           24,
           350
          ],
          [
           23,
           435
          ],
          [
           23,
           494
          ],
          [
           22,
           469
          ],
          [
           21,
           6238
          ],
          [
           21,
           573
          ],
          [
           20,
           247
          ],
          [
           20,
           395
          ],
          [
           18,
           242
          ],
          [
           17,
           374
          ],
          [
           16,
           258
          ],
          [
           16,
           399
          ],
          [
           16,
           6724
          ],
          [
           13,
           7140
          ],
          [
           13,
           2079
          ],
          [
           13,
           8603
          ],
          [
           12,
           251
          ],
          [
           12,
           378
          ],
          [
           11,
           169
          ],
          [
           8,
           262
          ],
          [
           8,
           333
          ],
          [
           8,
           87
          ],
          [
           7,
           1590
          ],
          [
           7,
           3628
          ],
          [
           6,
           64
          ],
          [
           6,
           5071
          ],
          [
           6,
           285
          ],
          [
           5,
           63
          ],
          [
           5,
           126
          ],
          [
           5,
           843
          ],
          [
           5,
           212
          ],
          [
           5,
           316
          ],
          [
           4,
           85
          ],
          [
           4,
           4022
          ],
          [
           4,
           323
          ],
          [
           3,
           342
          ],
          [
           3,
           29
          ],
          [
           3,
           1029
          ],
          [
           3,
           153
          ],
          [
           2,
           1333
          ],
          [
           2,
           400
          ],
          [
           2,
           764
          ],
          [
           2,
           42
          ],
          [
           2,
           724
          ],
          [
           2,
           104
          ],
          [
           2,
           1289
          ],
          [
           2,
           761
          ],
          [
           2,
           157
          ],
          [
           2,
           158
          ],
          [
           2,
           1131
          ],
          [
           1,
           2293
          ],
          [
           1,
           33
          ],
          [
           1,
           362
          ],
          [
           1,
           13
          ],
          [
           1,
           117
          ],
          [
           1,
           642
          ],
          [
           1,
           57
          ],
          [
           1,
           52
          ],
          [
           1,
           91
          ],
          [
           1,
           1038
          ],
          [
           1,
           9
          ],
          [
           1,
           190
          ],
          [
           1,
           323
          ],
          [
           1,
           89
          ],
          [
           1,
           1101
          ],
          [
           1,
           4
          ],
          [
           1,
           33
          ],
          [
           1,
           37
          ],
          [
           1,
           5
          ],
          [
           1,
           1226
          ],
          [
           1,
           290
          ],
          [
           1,
           6
          ],
          [
           1,
           726
          ],
          [
           1,
           15
          ],
          [
           1,
           113
          ],
          [
           1,
           199
          ],
          [
           1,
           279
          ],
          [
           1,
           454
          ],
          [
           1,
           1616
          ],
          [
           1,
           194
          ],
          [
           1,
           12
          ],
          [
           1,
           31
          ]
         ],
         "hovertemplate": "<b>%{hovertext}</b><br><br>misclassification_rate=%{marker.color}<br>lat=%{lat}<br>lon=%{lon}<br>misclassified_count=%{customdata[0]}<br>total_count=%{customdata[1]}<extra></extra>",
         "hovertext": [
          "8628d106fffffff",
          "8628d5447ffffff",
          "8628d5787ffffff",
          "8628d545fffffff",
          "8628d0b6fffffff",
          "8628d57b7ffffff",
          "8628d57a7ffffff",
          "8628d5797ffffff",
          "8628d5567ffffff",
          "8628d579fffffff",
          "8628d5467ffffff",
          "8628d5c0fffffff",
          "8628d1067ffffff",
          "8628d5547ffffff",
          "8628d5cf7ffffff",
          "8628d1d67ffffff",
          "8628d56a7ffffff",
          "8628d0b4fffffff",
          "8628d56dfffffff",
          "8628d56f7ffffff",
          "8628d1337ffffff",
          "8628d1a97ffffff",
          "8628d1157ffffff",
          "8628d115fffffff",
          "8628d56c7ffffff",
          "8628d56afffffff",
          "8628d554fffffff",
          "8628d1057ffffff",
          "8628d5cdfffffff",
          "8628d578fffffff",
          "8628d1027ffffff",
          "8628d1237ffffff",
          "8628d1d27ffffff",
          "8628d1317ffffff",
          "8628d0a6fffffff",
          "8628d5ce7ffffff",
          "8628d5cc7ffffff",
          "8628d12c7ffffff",
          "8628d1d6fffffff",
          "8628d5577ffffff",
          "8628d5c1fffffff",
          "8628d114fffffff",
          "8628d118fffffff",
          "8628d100fffffff",
          "8628d569fffffff",
          "8628d12b7ffffff",
          "8628d105fffffff",
          "8628d1207ffffff",
          "8628d1b4fffffff",
          "8628d176fffffff",
          "8628d561fffffff",
          "8628d1aa7ffffff",
          "8628d1897ffffff",
          "8628d139fffffff",
          "8628d1ab7ffffff",
          "8628d1327ffffff",
          "8628d1d37ffffff",
          "8628d111fffffff",
          "8628d131fffffff",
          "8628d10efffffff",
          "8628d11a7ffffff",
          "8628d122fffffff",
          "8628d1d77ffffff",
          "8628d1a17ffffff",
          "8628d1b6fffffff",
          "8628d10f7ffffff",
          "8628d1747ffffff",
          "8628d120fffffff",
          "8628c27b7ffffff",
          "8628c268fffffff",
          "8628d10a7ffffff",
          "8628d56efffffff",
          "8628d12e7ffffff",
          "8628d8077ffffff",
          "8628d18b7ffffff",
          "8628dc6a7ffffff",
          "8628dea1fffffff",
          "8628d138fffffff",
          "8628d1a9fffffff",
          "8628de8dfffffff",
          "8628d104fffffff",
          "8628d5c2fffffff",
          "8628d1757ffffff",
          "8628d1737ffffff",
          "8628d1b47ffffff",
          "8628c2687ffffff",
          "8628d1147ffffff",
          "8628c26b7ffffff",
          "8628d154fffffff",
          "8628d568fffffff"
         ],
         "lat": [
          48.53494057571889,
          47.70479828057148,
          47.844251773154184,
          47.75705919185152,
          47.91361783518178,
          47.80928280393903,
          47.79204933155055,
          47.861469042916646,
          47.51265965222914,
          47.89641684440801,
          47.65250014433094,
          47.320003208943405,
          48.50087373837577,
          47.56505316561466,
          47.389747327267784,
          48.122304033397604,
          47.93130645908102,
          47.96572910744652,
          48.08766867170502,
          48.00091104419932,
          48.56894889383569,
          48.483187036390504,
          48.43256456735365,
          48.466748397038145,
          48.03562597382173,
          47.9661378658861,
          47.60016485767688,
          48.57022862975846,
          47.47746883347177,
          47.879162582890544,
          48.45012412914873,
          48.706206692235945,
          48.07027078904135,
          48.62064329497516,
          48.05268710367858,
          47.37252862705597,
          47.42501719397379,
          48.87691497133065,
          48.15688108068518,
          47.529883469640495,
          47.33723766383521,
          48.44909867542478,
          48.48508315871782,
          48.5360877290404,
          48.035481816731064,
          48.79314296209595,
          48.60431099165259,
          48.740054748751646,
          48.32407539871285,
          48.75918365210895,
          47.94880963967771,
          48.41364043241663,
          48.24334102446281,
          48.74157808898365,
          48.431395971412336,
          48.55118826144361,
          48.08751315275162,
          48.41584478773251,
          48.65457151113995,
          48.6219121621643,
          48.398939060962064,
          48.72225220965466,
          48.13967386705727,
          48.39583220623499,
          48.27215355658613,
          48.60530331611685,
          48.77673559546893,
          48.77384419347214,
          48.16819915136435,
          48.373535607587854,
          48.53681452477487,
          48.01822381005832,
          48.82539846999272,
          49.808233566665656,
          48.191399794756265,
          49.244248587806446,
          49.38568230798629,
          48.7239190531944,
          48.51721690337318,
          49.28767903012503,
          48.58665651978877,
          47.26744101617692,
          48.79423377236004,
          48.69178089923444,
          48.29018633300903,
          48.339799987934455,
          48.41495183582065,
          48.30600596661923,
          48.57152589019089,
          48.01822308246378
         ],
         "legendgroup": "",
         "lon": [
          -123.17283152630124,
          -122.44805075311557,
          -122.4583714568267,
          -122.42451283069418,
          -122.35370288911248,
          -122.40094225258062,
          -122.48190813522545,
          -122.37733895876434,
          -122.46123783444246,
          -122.43480208210505,
          -122.47155607973333,
          -122.47436375317434,
          -123.11486619491615,
          -122.4377637820509,
          -122.37036996002787,
          -122.6991190647477,
          -122.49229416669326,
          -122.33003398336967,
          -122.64147771644367,
          -122.60736484344233,
          -123.2308247249627,
          -123.19601476086429,
          -122.99901952760572,
          -123.05692882929601,
          -122.664943246701,
          -122.54981511856828,
          -122.49502887031406,
          -123.01032375054591,
          -122.40403512758746,
          -122.51582953774059,
          -122.91778227508108,
          -123.24252252049833,
          -122.50271434099199,
          -123.20764411565766,
          -122.36389717754022,
          -122.45095323465084,
          -122.4275103791824,
          -123.3124774206303,
          -122.756788985584,
          -122.38052742056433,
          -122.39384634856258,
          -123.1380845919452,
          -122.75508524360846,
          -122.95234439404443,
          -122.44512515341904,
          -123.05642446516417,
          -123.06833133998053,
          -123.30064205465125,
          -123.70406432045455,
          -122.99828298373896,
          -122.63083195376632,
          -123.30017107104626,
          -122.79109251563152,
          -123.0797715343427,
          -123.21916541270662,
          -123.31195835006001,
          -122.42149139034977,
          -122.85989454712991,
          -123.26570043604914,
          -122.98697202459502,
          -122.72071125341861,
          -123.38189623710659,
          -122.61797944887891,
          -123.38110134804063,
          -123.72677699675565,
          -122.84751692820547,
          -122.91671936172567,
          -123.35878932660323,
          -123.77210654516932,
          -123.90036858424278,
          -122.73156082687855,
          -122.74594874579164,
          -123.3356497417077,
          -124.51034159438586,
          -122.81448738326496,
          -123.95469311360424,
          -123.52393851109501,
          -123.16118478792283,
          -123.2539727131371,
          -123.12591289099262,
          -123.14961564778996,
          -122.49774199381437,
          -122.83508089554975,
          -122.6607892052649,
          -123.64621791240201,
          -123.84247835905258,
          -123.08018230476162,
          -123.78461446322518,
          -122.56843302661335,
          -122.52628111855161
         ],
         "marker": {
          "color": [
           0.013213213213213212,
           0.08422939068100359,
           0.08829568788501027,
           0.0891304347826087,
           0.07857142857142857,
           0.050699300699300696,
           0.10305343511450382,
           0.11688311688311688,
           0.06857142857142857,
           0.052873563218390804,
           0.0465587044534413,
           0.046908315565031986,
           0.0033664636101314524,
           0.03664921465968586,
           0.08097165991902834,
           0.05063291139240506,
           0.0743801652892562,
           0.045454545454545456,
           0.06201550387596899,
           0.040100250626566414,
           0.002379535990481856,
           0.0018207282913165266,
           0.006253006253006253,
           0.0015111007787980938,
           0.04780876494023904,
           0.031746031746031744,
           0.0650887573964497,
           0.030534351145038167,
           0.024024024024024024,
           0.09195402298850575,
           0.00440251572327044,
           0.0019294377067254685,
           0.09375,
           0.0011831985801617037,
           0.021052631578947368,
           0.07936507936507936,
           0.03968253968253968,
           0.005931198102016607,
           0.02358490566037736,
           0.015822784810126583,
           0.047058823529411764,
           0.000994530084535057,
           0.01238390092879257,
           0.008771929824561403,
           0.10344827586206896,
           0.0029154518950437317,
           0.0196078431372549,
           0.0015003750937734434,
           0.005,
           0.002617801047120419,
           0.047619047619047616,
           0.0027624309392265192,
           0.019230769230769232,
           0.0015515903801396431,
           0.002628120893561104,
           0.012738853503184714,
           0.012658227848101266,
           0.0017683465959328027,
           0.0004361098996947231,
           0.030303030303030304,
           0.0027624309392265192,
           0.07692307692307693,
           0.008547008547008548,
           0.001557632398753894,
           0.017543859649122806,
           0.019230769230769232,
           0.01098901098901099,
           0.0009633911368015414,
           0.1111111111111111,
           0.005263157894736842,
           0.0030959752321981426,
           0.011235955056179775,
           0.0009082652134423251,
           0.25,
           0.030303030303030304,
           0.02702702702702703,
           0.2,
           0.0008156606851549756,
           0.0034482758620689655,
           0.16666666666666666,
           0.0013774104683195593,
           0.06666666666666667,
           0.008849557522123894,
           0.005025125628140704,
           0.0035842293906810036,
           0.0022026431718061676,
           0.0006188118811881188,
           0.005154639175257732,
           0.08333333333333333,
           0.03225806451612903
          ],
          "coloraxis": "coloraxis",
          "size": [
           0.013213213213213212,
           0.08422939068100359,
           0.08829568788501027,
           0.0891304347826087,
           0.07857142857142857,
           0.050699300699300696,
           0.10305343511450382,
           0.11688311688311688,
           0.06857142857142857,
           0.052873563218390804,
           0.0465587044534413,
           0.046908315565031986,
           0.0033664636101314524,
           0.03664921465968586,
           0.08097165991902834,
           0.05063291139240506,
           0.0743801652892562,
           0.045454545454545456,
           0.06201550387596899,
           0.040100250626566414,
           0.002379535990481856,
           0.0018207282913165266,
           0.006253006253006253,
           0.0015111007787980938,
           0.04780876494023904,
           0.031746031746031744,
           0.0650887573964497,
           0.030534351145038167,
           0.024024024024024024,
           0.09195402298850575,
           0.00440251572327044,
           0.0019294377067254685,
           0.09375,
           0.0011831985801617037,
           0.021052631578947368,
           0.07936507936507936,
           0.03968253968253968,
           0.005931198102016607,
           0.02358490566037736,
           0.015822784810126583,
           0.047058823529411764,
           0.000994530084535057,
           0.01238390092879257,
           0.008771929824561403,
           0.10344827586206896,
           0.0029154518950437317,
           0.0196078431372549,
           0.0015003750937734434,
           0.005,
           0.002617801047120419,
           0.047619047619047616,
           0.0027624309392265192,
           0.019230769230769232,
           0.0015515903801396431,
           0.002628120893561104,
           0.012738853503184714,
           0.012658227848101266,
           0.0017683465959328027,
           0.0004361098996947231,
           0.030303030303030304,
           0.0027624309392265192,
           0.07692307692307693,
           0.008547008547008548,
           0.001557632398753894,
           0.017543859649122806,
           0.019230769230769232,
           0.01098901098901099,
           0.0009633911368015414,
           0.1111111111111111,
           0.005263157894736842,
           0.0030959752321981426,
           0.011235955056179775,
           0.0009082652134423251,
           0.25,
           0.030303030303030304,
           0.02702702702702703,
           0.2,
           0.0008156606851549756,
           0.0034482758620689655,
           0.16666666666666666,
           0.0013774104683195593,
           0.06666666666666667,
           0.008849557522123894,
           0.005025125628140704,
           0.0035842293906810036,
           0.0022026431718061676,
           0.0006188118811881188,
           0.005154639175257732,
           0.08333333333333333,
           0.03225806451612903
          ],
          "sizemode": "area",
          "sizeref": 0.0004
         },
         "mode": "markers",
         "name": "",
         "showlegend": false,
         "subplot": "mapbox",
         "type": "scattermapbox"
        }
       ],
       "layout": {
        "coloraxis": {
         "colorbar": {
          "title": {
           "text": "misclassification_rate"
          }
         },
         "colorscale": [
          [
           0,
           "#30123b"
          ],
          [
           0.07142857142857142,
           "#4145ab"
          ],
          [
           0.14285714285714285,
           "#4675ed"
          ],
          [
           0.21428571428571427,
           "#39a2fc"
          ],
          [
           0.2857142857142857,
           "#1bcfd4"
          ],
          [
           0.35714285714285715,
           "#24eca6"
          ],
          [
           0.42857142857142855,
           "#61fc6c"
          ],
          [
           0.5,
           "#a4fc3b"
          ],
          [
           0.5714285714285714,
           "#d1e834"
          ],
          [
           0.6428571428571429,
           "#f3c63a"
          ],
          [
           0.7142857142857143,
           "#fe9b2d"
          ],
          [
           0.7857142857142857,
           "#f36315"
          ],
          [
           0.8571428571428571,
           "#d93806"
          ],
          [
           0.9285714285714286,
           "#b11901"
          ],
          [
           1,
           "#7a0402"
          ]
         ]
        },
        "height": 1000,
        "legend": {
         "itemsizing": "constant",
         "tracegroupgap": 0
        },
        "mapbox": {
         "center": {
          "lat": 48.272485324087405,
          "lon": -122.91545401139481
         },
         "domain": {
          "x": [
           0,
           1
          ],
          "y": [
           0,
           1
          ]
         },
         "style": "carto-positron",
         "zoom": 8
        },
        "template": {
         "data": {
          "bar": [
           {
            "error_x": {
             "color": "#2a3f5f"
            },
            "error_y": {
             "color": "#2a3f5f"
            },
            "marker": {
             "line": {
              "color": "#E5ECF6",
              "width": 0.5
             },
             "pattern": {
              "fillmode": "overlay",
              "size": 10,
              "solidity": 0.2
             }
            },
            "type": "bar"
           }
          ],
          "barpolar": [
           {
            "marker": {
             "line": {
              "color": "#E5ECF6",
              "width": 0.5
             },
             "pattern": {
              "fillmode": "overlay",
              "size": 10,
              "solidity": 0.2
             }
            },
            "type": "barpolar"
           }
          ],
          "carpet": [
           {
            "aaxis": {
             "endlinecolor": "#2a3f5f",
             "gridcolor": "white",
             "linecolor": "white",
             "minorgridcolor": "white",
             "startlinecolor": "#2a3f5f"
            },
            "baxis": {
             "endlinecolor": "#2a3f5f",
             "gridcolor": "white",
             "linecolor": "white",
             "minorgridcolor": "white",
             "startlinecolor": "#2a3f5f"
            },
            "type": "carpet"
           }
          ],
          "choropleth": [
           {
            "colorbar": {
             "outlinewidth": 0,
             "ticks": ""
            },
            "type": "choropleth"
           }
          ],
          "contour": [
           {
            "colorbar": {
             "outlinewidth": 0,
             "ticks": ""
            },
            "colorscale": [
             [
              0,
              "#0d0887"
             ],
             [
              0.1111111111111111,
              "#46039f"
             ],
             [
              0.2222222222222222,
              "#7201a8"
             ],
             [
              0.3333333333333333,
              "#9c179e"
             ],
             [
              0.4444444444444444,
              "#bd3786"
             ],
             [
              0.5555555555555556,
              "#d8576b"
             ],
             [
              0.6666666666666666,
              "#ed7953"
             ],
             [
              0.7777777777777778,
              "#fb9f3a"
             ],
             [
              0.8888888888888888,
              "#fdca26"
             ],
             [
              1,
              "#f0f921"
             ]
            ],
            "type": "contour"
           }
          ],
          "contourcarpet": [
           {
            "colorbar": {
             "outlinewidth": 0,
             "ticks": ""
            },
            "type": "contourcarpet"
           }
          ],
          "heatmap": [
           {
            "colorbar": {
             "outlinewidth": 0,
             "ticks": ""
            },
            "colorscale": [
             [
              0,
              "#0d0887"
             ],
             [
              0.1111111111111111,
              "#46039f"
             ],
             [
              0.2222222222222222,
              "#7201a8"
             ],
             [
              0.3333333333333333,
              "#9c179e"
             ],
             [
              0.4444444444444444,
              "#bd3786"
             ],
             [
              0.5555555555555556,
              "#d8576b"
             ],
             [
              0.6666666666666666,
              "#ed7953"
             ],
             [
              0.7777777777777778,
              "#fb9f3a"
             ],
             [
              0.8888888888888888,
              "#fdca26"
             ],
             [
              1,
              "#f0f921"
             ]
            ],
            "type": "heatmap"
           }
          ],
          "heatmapgl": [
           {
            "colorbar": {
             "outlinewidth": 0,
             "ticks": ""
            },
            "colorscale": [
             [
              0,
              "#0d0887"
             ],
             [
              0.1111111111111111,
              "#46039f"
             ],
             [
              0.2222222222222222,
              "#7201a8"
             ],
             [
              0.3333333333333333,
              "#9c179e"
             ],
             [
              0.4444444444444444,
              "#bd3786"
             ],
             [
              0.5555555555555556,
              "#d8576b"
             ],
             [
              0.6666666666666666,
              "#ed7953"
             ],
             [
              0.7777777777777778,
              "#fb9f3a"
             ],
             [
              0.8888888888888888,
              "#fdca26"
             ],
             [
              1,
              "#f0f921"
             ]
            ],
            "type": "heatmapgl"
           }
          ],
          "histogram": [
           {
            "marker": {
             "pattern": {
              "fillmode": "overlay",
              "size": 10,
              "solidity": 0.2
             }
            },
            "type": "histogram"
           }
          ],
          "histogram2d": [
           {
            "colorbar": {
             "outlinewidth": 0,
             "ticks": ""
            },
            "colorscale": [
             [
              0,
              "#0d0887"
             ],
             [
              0.1111111111111111,
              "#46039f"
             ],
             [
              0.2222222222222222,
              "#7201a8"
             ],
             [
              0.3333333333333333,
              "#9c179e"
             ],
             [
              0.4444444444444444,
              "#bd3786"
             ],
             [
              0.5555555555555556,
              "#d8576b"
             ],
             [
              0.6666666666666666,
              "#ed7953"
             ],
             [
              0.7777777777777778,
              "#fb9f3a"
             ],
             [
              0.8888888888888888,
              "#fdca26"
             ],
             [
              1,
              "#f0f921"
             ]
            ],
            "type": "histogram2d"
           }
          ],
          "histogram2dcontour": [
           {
            "colorbar": {
             "outlinewidth": 0,
             "ticks": ""
            },
            "colorscale": [
             [
              0,
              "#0d0887"
             ],
             [
              0.1111111111111111,
              "#46039f"
             ],
             [
              0.2222222222222222,
              "#7201a8"
             ],
             [
              0.3333333333333333,
              "#9c179e"
             ],
             [
              0.4444444444444444,
              "#bd3786"
             ],
             [
              0.5555555555555556,
              "#d8576b"
             ],
             [
              0.6666666666666666,
              "#ed7953"
             ],
             [
              0.7777777777777778,
              "#fb9f3a"
             ],
             [
              0.8888888888888888,
              "#fdca26"
             ],
             [
              1,
              "#f0f921"
             ]
            ],
            "type": "histogram2dcontour"
           }
          ],
          "mesh3d": [
           {
            "colorbar": {
             "outlinewidth": 0,
             "ticks": ""
            },
            "type": "mesh3d"
           }
          ],
          "parcoords": [
           {
            "line": {
             "colorbar": {
              "outlinewidth": 0,
              "ticks": ""
             }
            },
            "type": "parcoords"
           }
          ],
          "pie": [
           {
            "automargin": true,
            "type": "pie"
           }
          ],
          "scatter": [
           {
            "fillpattern": {
             "fillmode": "overlay",
             "size": 10,
             "solidity": 0.2
            },
            "type": "scatter"
           }
          ],
          "scatter3d": [
           {
            "line": {
             "colorbar": {
              "outlinewidth": 0,
              "ticks": ""
             }
            },
            "marker": {
             "colorbar": {
              "outlinewidth": 0,
              "ticks": ""
             }
            },
            "type": "scatter3d"
           }
          ],
          "scattercarpet": [
           {
            "marker": {
             "colorbar": {
              "outlinewidth": 0,
              "ticks": ""
             }
            },
            "type": "scattercarpet"
           }
          ],
          "scattergeo": [
           {
            "marker": {
             "colorbar": {
              "outlinewidth": 0,
              "ticks": ""
             }
            },
            "type": "scattergeo"
           }
          ],
          "scattergl": [
           {
            "marker": {
             "colorbar": {
              "outlinewidth": 0,
              "ticks": ""
             }
            },
            "type": "scattergl"
           }
          ],
          "scattermapbox": [
           {
            "marker": {
             "colorbar": {
              "outlinewidth": 0,
              "ticks": ""
             }
            },
            "type": "scattermapbox"
           }
          ],
          "scatterpolar": [
           {
            "marker": {
             "colorbar": {
              "outlinewidth": 0,
              "ticks": ""
             }
            },
            "type": "scatterpolar"
           }
          ],
          "scatterpolargl": [
           {
            "marker": {
             "colorbar": {
              "outlinewidth": 0,
              "ticks": ""
             }
            },
            "type": "scatterpolargl"
           }
          ],
          "scatterternary": [
           {
            "marker": {
             "colorbar": {
              "outlinewidth": 0,
              "ticks": ""
             }
            },
            "type": "scatterternary"
           }
          ],
          "surface": [
           {
            "colorbar": {
             "outlinewidth": 0,
             "ticks": ""
            },
            "colorscale": [
             [
              0,
              "#0d0887"
             ],
             [
              0.1111111111111111,
              "#46039f"
             ],
             [
              0.2222222222222222,
              "#7201a8"
             ],
             [
              0.3333333333333333,
              "#9c179e"
             ],
             [
              0.4444444444444444,
              "#bd3786"
             ],
             [
              0.5555555555555556,
              "#d8576b"
             ],
             [
              0.6666666666666666,
              "#ed7953"
             ],
             [
              0.7777777777777778,
              "#fb9f3a"
             ],
             [
              0.8888888888888888,
              "#fdca26"
             ],
             [
              1,
              "#f0f921"
             ]
            ],
            "type": "surface"
           }
          ],
          "table": [
           {
            "cells": {
             "fill": {
              "color": "#EBF0F8"
             },
             "line": {
              "color": "white"
             }
            },
            "header": {
             "fill": {
              "color": "#C8D4E3"
             },
             "line": {
              "color": "white"
             }
            },
            "type": "table"
           }
          ]
         },
         "layout": {
          "annotationdefaults": {
           "arrowcolor": "#2a3f5f",
           "arrowhead": 0,
           "arrowwidth": 1
          },
          "autotypenumbers": "strict",
          "coloraxis": {
           "colorbar": {
            "outlinewidth": 0,
            "ticks": ""
           }
          },
          "colorscale": {
           "diverging": [
            [
             0,
             "#8e0152"
            ],
            [
             0.1,
             "#c51b7d"
            ],
            [
             0.2,
             "#de77ae"
            ],
            [
             0.3,
             "#f1b6da"
            ],
            [
             0.4,
             "#fde0ef"
            ],
            [
             0.5,
             "#f7f7f7"
            ],
            [
             0.6,
             "#e6f5d0"
            ],
            [
             0.7,
             "#b8e186"
            ],
            [
             0.8,
             "#7fbc41"
            ],
            [
             0.9,
             "#4d9221"
            ],
            [
             1,
             "#276419"
            ]
           ],
           "sequential": [
            [
             0,
             "#0d0887"
            ],
            [
             0.1111111111111111,
             "#46039f"
            ],
            [
             0.2222222222222222,
             "#7201a8"
            ],
            [
             0.3333333333333333,
             "#9c179e"
            ],
            [
             0.4444444444444444,
             "#bd3786"
            ],
            [
             0.5555555555555556,
             "#d8576b"
            ],
            [
             0.6666666666666666,
             "#ed7953"
            ],
            [
             0.7777777777777778,
             "#fb9f3a"
            ],
            [
             0.8888888888888888,
             "#fdca26"
            ],
            [
             1,
             "#f0f921"
            ]
           ],
           "sequentialminus": [
            [
             0,
             "#0d0887"
            ],
            [
             0.1111111111111111,
             "#46039f"
            ],
            [
             0.2222222222222222,
             "#7201a8"
            ],
            [
             0.3333333333333333,
             "#9c179e"
            ],
            [
             0.4444444444444444,
             "#bd3786"
            ],
            [
             0.5555555555555556,
             "#d8576b"
            ],
            [
             0.6666666666666666,
             "#ed7953"
            ],
            [
             0.7777777777777778,
             "#fb9f3a"
            ],
            [
             0.8888888888888888,
             "#fdca26"
            ],
            [
             1,
             "#f0f921"
            ]
           ]
          },
          "colorway": [
           "#636efa",
           "#EF553B",
           "#00cc96",
           "#ab63fa",
           "#FFA15A",
           "#19d3f3",
           "#FF6692",
           "#B6E880",
           "#FF97FF",
           "#FECB52"
          ],
          "font": {
           "color": "#2a3f5f"
          },
          "geo": {
           "bgcolor": "white",
           "lakecolor": "white",
           "landcolor": "#E5ECF6",
           "showlakes": true,
           "showland": true,
           "subunitcolor": "white"
          },
          "hoverlabel": {
           "align": "left"
          },
          "hovermode": "closest",
          "mapbox": {
           "style": "light"
          },
          "paper_bgcolor": "white",
          "plot_bgcolor": "#E5ECF6",
          "polar": {
           "angularaxis": {
            "gridcolor": "white",
            "linecolor": "white",
            "ticks": ""
           },
           "bgcolor": "#E5ECF6",
           "radialaxis": {
            "gridcolor": "white",
            "linecolor": "white",
            "ticks": ""
           }
          },
          "scene": {
           "xaxis": {
            "backgroundcolor": "#E5ECF6",
            "gridcolor": "white",
            "gridwidth": 2,
            "linecolor": "white",
            "showbackground": true,
            "ticks": "",
            "zerolinecolor": "white"
           },
           "yaxis": {
            "backgroundcolor": "#E5ECF6",
            "gridcolor": "white",
            "gridwidth": 2,
            "linecolor": "white",
            "showbackground": true,
            "ticks": "",
            "zerolinecolor": "white"
           },
           "zaxis": {
            "backgroundcolor": "#E5ECF6",
            "gridcolor": "white",
            "gridwidth": 2,
            "linecolor": "white",
            "showbackground": true,
            "ticks": "",
            "zerolinecolor": "white"
           }
          },
          "shapedefaults": {
           "line": {
            "color": "#2a3f5f"
           }
          },
          "ternary": {
           "aaxis": {
            "gridcolor": "white",
            "linecolor": "white",
            "ticks": ""
           },
           "baxis": {
            "gridcolor": "white",
            "linecolor": "white",
            "ticks": ""
           },
           "bgcolor": "#E5ECF6",
           "caxis": {
            "gridcolor": "white",
            "linecolor": "white",
            "ticks": ""
           }
          },
          "title": {
           "x": 0.05
          },
          "xaxis": {
           "automargin": true,
           "gridcolor": "white",
           "linecolor": "white",
           "ticks": "",
           "title": {
            "standoff": 15
           },
           "zerolinecolor": "white",
           "zerolinewidth": 2
          },
          "yaxis": {
           "automargin": true,
           "gridcolor": "white",
           "linecolor": "white",
           "ticks": "",
           "title": {
            "standoff": 15
           },
           "zerolinecolor": "white",
           "zerolinewidth": 2
          }
         }
        },
        "title": {
         "text": "Misclassified TRANSIENTs → SRKW by H3 Cell"
        }
       }
      }
     },
     "metadata": {},
     "output_type": "display_data"
    }
   ],
   "source": [
    "import geopandas as gpd\n",
    "import h3\n",
    "import pandas as pd\n",
    "import plotly.express as px\n",
    "\n",
    "# ---------------------------------------\n",
    "# 1. Identify misclassified TRANSIENTs\n",
    "# ---------------------------------------\n",
    "y_pred = log_model.predict(X_class_bin)\n",
    "mis_idx = (y_class_bin == \"TRANSIENT\") & (y_pred == \"SRKW\")\n",
    "X_mis = X_class_bin.loc[mis_idx].copy()\n",
    "\n",
    "\n",
    "# ---------------------------------------\n",
    "# 2. Map H3 cells to centroids\n",
    "# ---------------------------------------\n",
    "# Make a GeoDataFrame of H3 cells\n",
    "def h3_to_latlon(h3_cells):\n",
    "    lats, lons = [], []\n",
    "    for cell in h3_cells:\n",
    "        lat, lon = h3.cell_to_latlng(cell)\n",
    "        lats.append(lat)\n",
    "        lons.append(lon)\n",
    "    return lats, lons\n",
    "\n",
    "\n",
    "# Count misclassifications per H3 cell\n",
    "mis_counts = X_mis[\"H3_CELL\"].value_counts().reset_index()\n",
    "mis_counts.columns = [\"H3_CELL\", \"misclassified_count\"]\n",
    "\n",
    "# Get centroids\n",
    "lats, lons = h3_to_latlon(mis_counts[\"H3_CELL\"])\n",
    "mis_counts[\"lat\"] = lats\n",
    "mis_counts[\"lon\"] = lons\n",
    "\n",
    "# ---------------------------------------\n",
    "# 3. Optional: add total sightings for context\n",
    "# ---------------------------------------\n",
    "total_counts = X_class_bin[\"H3_CELL\"].value_counts().reset_index()\n",
    "total_counts.columns = [\"H3_CELL\", \"total_count\"]\n",
    "mis_counts = mis_counts.merge(total_counts, on=\"H3_CELL\", how=\"left\")\n",
    "mis_counts[\"misclassification_rate\"] = (\n",
    "    mis_counts[\"misclassified_count\"] / mis_counts[\"total_count\"]\n",
    ")\n",
    "\n",
    "# ---------------------------------------\n",
    "# 4. Plot interactive heatmap\n",
    "# ---------------------------------------\n",
    "fig = px.scatter_mapbox(\n",
    "    mis_counts,\n",
    "    lat=\"lat\",\n",
    "    lon=\"lon\",\n",
    "    height=1000,\n",
    "    size=\"misclassification_rate\",  # relative bubble size\n",
    "    color=\"misclassification_rate\",  # color intensity\n",
    "    hover_name=\"H3_CELL\",\n",
    "    hover_data=[\"misclassified_count\", \"total_count\"],\n",
    "    color_continuous_scale=\"Turbo\",\n",
    "    size_max=25,\n",
    "    zoom=8,\n",
    "    mapbox_style=\"carto-positron\",\n",
    "    title=\"Misclassified TRANSIENTs → SRKW by H3 Cell\",\n",
    ")\n",
    "\n",
    "fig.show()"
   ]
  },
  {
   "cell_type": "code",
   "execution_count": 161,
   "metadata": {},
   "outputs": [
    {
     "name": "stdout",
     "output_type": "stream",
     "text": [
      "             SRKW   TRANSIENT\n",
      "count  927.000000  927.000000\n",
      "mean     0.694802    0.305198\n",
      "std      0.141720    0.141720\n",
      "min      0.500265    0.000016\n",
      "25%      0.575090    0.199994\n",
      "50%      0.660190    0.339810\n",
      "75%      0.800006    0.424910\n",
      "max      0.999984    0.499735\n",
      "            SRKW  TRANSIENT  SRKW_vs_TRANSIENT_diff\n",
      "130567  0.500265   0.499735                0.000529\n",
      "118688  0.500284   0.499716                0.000567\n",
      "118687  0.500470   0.499530                0.000939\n",
      "128510  0.500493   0.499507                0.000986\n",
      "123427  0.501047   0.498953                0.002095\n",
      "130205  0.501397   0.498603                0.002795\n",
      "119960  0.502417   0.497583                0.004834\n",
      "128019  0.502571   0.497429                0.005141\n",
      "119975  0.503747   0.496253                0.007493\n",
      "117557  0.503761   0.496239                0.007522\n",
      "123254  0.503771   0.496229                0.007543\n",
      "117292  0.503896   0.496104                0.007792\n",
      "119959  0.504122   0.495878                0.008244\n",
      "124875  0.504375   0.495625                0.008750\n",
      "123073  0.504726   0.495274                0.009452\n",
      "119958  0.504883   0.495117                0.009765\n",
      "127981  0.505069   0.494931                0.010137\n",
      "120037  0.505136   0.494864                0.010273\n",
      "123505  0.505230   0.494770                0.010460\n",
      "119962  0.505567   0.494433                0.011135\n"
     ]
    }
   ],
   "source": [
    "# Assuming:\n",
    "# oof_preds: (n_samples, n_classes) from train_classifier\n",
    "# y_true: true labels (y_class or y_oversampled)\n",
    "# classes: list or array of class names in same order as oof_preds\n",
    "\n",
    "import pandas as pd\n",
    "y_true = y_oversampled\n",
    "\n",
    "# 1️⃣ Identify misclassified TRANSIENTs\n",
    "pred_labels = classes[np.argmax(oof_preds, axis=1)]\n",
    "mask_misclassified_transients = (y_true == 'TRANSIENT') & (pred_labels != 'TRANSIENT')\n",
    "\n",
    "# 2️⃣ Extract probabilities for these cases\n",
    "misclassified_probs = pd.DataFrame(\n",
    "    oof_preds[mask_misclassified_transients],\n",
    "    columns=classes,\n",
    "    index=y_true.index[mask_misclassified_transients]\n",
    ")\n",
    "\n",
    "# 3️⃣ Quick summary\n",
    "print(misclassified_probs.describe())\n",
    "\n",
    "# 4️⃣ Optional: look at top “on-the-fence” cases\n",
    "misclassified_probs['SRKW_vs_TRANSIENT_diff'] = misclassified_probs['SRKW'] - misclassified_probs['TRANSIENT']\n",
    "top_uncertain = misclassified_probs.iloc[(misclassified_probs['SRKW_vs_TRANSIENT_diff'].abs()).argsort()[:20]]\n",
    "print(top_uncertain)\n"
   ]
  },
  {
   "cell_type": "code",
   "execution_count": null,
   "metadata": {},
   "outputs": [],
   "source": [
    "import geopandas as gpd\n",
    "import h3\n",
    "import pandas as pd\n",
    "import matplotlib.pyplot as plt\n",
    "from shapely.geometry import Polygon\n",
    "\n",
    "# Ensure everything has the same index\n",
    "X_bin_aligned = X_class_bin.loc[y_true.index]\n",
    "\n",
    "# Mask misclassified TRANSIENTs\n",
    "mask_misclassified_transients = (y_true == 'TRANSIENT') & (pred_labels != 'TRANSIENT')\n",
    "\n",
    "# Select H3_CELL and predicted probability safely\n",
    "df_misclassified = pd.DataFrame({\n",
    "    'H3_CELL': X_bin_aligned.loc[mask_misclassified_transients, 'H3_CELL'],\n",
    "    'TRANSIENT_PROBA': oof_preds[mask_misclassified_transients, classes.tolist().index('TRANSIENT')]\n",
    "})\n",
    "\n",
    "\n",
    "# ----------------------------\n",
    "# 2️⃣ Aggregate by H3 cell to get mean probability\n",
    "# ----------------------------\n",
    "grid_probs = df_misclassified.groupby('H3_CELL')['TRANSIENT_PROBA'].mean().reset_index()\n",
    "\n",
    "# ----------------------------\n",
    "# 3️⃣ Convert H3 to polygons\n",
    "# ----------------------------\n",
    "def h3_to_polygon(h):\n",
    "    boundary = h3.cell_to_boundary(h)\n",
    "    return gpd.GeoSeries([Polygon(boundary)])\n",
    "\n",
    "    grid_probs['geometry'] = grid_probs['H3_CELL'].apply(\n",
    "    lambda h: Polygon([(lon, lat) for lat, lon in h3.h3_to_geo_boundary(h, geo_json=True)])\n",
    ")\n",
    "\n",
    "grid_probs['geometry'] = grid_probs['H3_CELL'].apply(lambda h: gpd.GeoSeries([Polygon([(lon, lat) for lat, lon in h3.cell_to_boundary(h)])])[0])\n",
    "gdf = gpd.GeoDataFrame(grid_probs, geometry='geometry', crs=\"EPSG:4326\")\n",
    "\n",
    "gdf.explore('TRANSIENT_PROBA', cmap = 'RdBu').save('transient_ms.html')"
   ]
  },
  {
   "cell_type": "code",
   "execution_count": null,
   "metadata": {},
   "outputs": [],
   "source": []
  },
  {
   "cell_type": "code",
   "execution_count": null,
   "metadata": {},
   "outputs": [],
   "source": []
  },
  {
   "cell_type": "code",
   "execution_count": null,
   "id": "878090c1",
   "metadata": {},
   "outputs": [],
   "source": []
  },
  {
   "cell_type": "code",
   "execution_count": null,
   "id": "a74ce5a3",
   "metadata": {},
   "outputs": [],
   "source": []
  },
  {
   "cell_type": "code",
   "execution_count": null,
   "metadata": {},
   "outputs": [],
   "source": []
  },
  {
   "cell_type": "code",
   "execution_count": null,
   "id": "2a010ce6",
   "metadata": {},
   "outputs": [
    {
     "name": "stdout",
     "output_type": "stream",
     "text": [
      "=== OOF Verification Summary ===\n",
      "Samples: 110645 | Classes: 3\n",
      "Row-sum ~1.0? [1.000000, 1.000000]\n",
      "Accuracy: 0.9812\n",
      "LogLoss:  0.0491  | Baseline (entropy): 0.2471\n",
      "Brier (multiclass): 0.0290\n",
      "ECE (top-label):    0.0040\n",
      "\n",
      "Class prevalence: {'NRKW': np.float64(5.4227484296624336e-05), 'SRKW': np.float64(0.9326765782457409), 'TRANSIENT': np.float64(0.06726919426996249)}\n",
      "Mean predicted prob by class: {'NRKW': np.float64(1.777385955537351e-05), 'SRKW': np.float64(0.9327657301942638), 'TRANSIENT': np.float64(0.06721649594618577)}\n",
      "\n",
      "Per-fold metrics (head):\n",
      "    fold  n_val  accuracy  log_loss\n",
      "0     0   7377  0.983462  0.040436\n",
      "1     1   7377  0.978582  0.053296\n",
      "2     2   7377  0.984818  0.037432\n",
      "3     3   7377  0.985360  0.035028\n",
      "4     4   7377  0.978175  0.049199\n",
      "\n",
      "Bootstrap 95% CIs: {'accuracy_mean': 0.9812067965113651, 'accuracy_95CI': (0.9803780107551177, 0.9820507026978174), 'logloss_mean': 0.04911095203474912, 'logloss_95CI': (0.04736253425045297, 0.05081830729810729)}\n",
      "\n",
      "Classification report:\n",
      "               precision    recall  f1-score   support\n",
      "\n",
      "        NRKW       0.00      0.00      0.00         6\n",
      "        SRKW       0.99      0.99      0.99    103196\n",
      "   TRANSIENT       0.85      0.88      0.86      7443\n",
      "\n",
      "    accuracy                           0.98    110645\n",
      "   macro avg       0.61      0.62      0.62    110645\n",
      "weighted avg       0.98      0.98      0.98    110645\n",
      "\n"
     ]
    },
    {
     "data": {
      "image/png": "[encoded data removed]",
      "text/plain": [
       "<Figure size 800x600 with 1 Axes>"
      ]
     },
     "metadata": {},
     "output_type": "display_data"
    },
    {
     "data": {
      "text/html": [
       "<div>\n",
       "<style scoped>\n",
       "    .dataframe tbody tr th:only-of-type {\n",
       "        vertical-align: middle;\n",
       "    }\n",
       "\n",
       "    .dataframe tbody tr th {\n",
       "        vertical-align: top;\n",
       "    }\n",
       "\n",
       "    .dataframe thead th {\n",
       "        text-align: right;\n",
       "    }\n",
       "</style>\n",
       "<table border=\"1\" class=\"dataframe\">\n",
       "  <thead>\n",
       "    <tr style=\"text-align: right;\">\n",
       "      <th></th>\n",
       "      <th>bin_low</th>\n",
       "      <th>bin_high</th>\n",
       "      <th>accuracy</th>\n",
       "      <th>confidence</th>\n",
       "      <th>count</th>\n",
       "    </tr>\n",
       "  </thead>\n",
       "  <tbody>\n",
       "    <tr>\n",
       "      <th>0</th>\n",
       "      <td>0.000000</td>\n",
       "      <td>0.066667</td>\n",
       "      <td>NaN</td>\n",
       "      <td>NaN</td>\n",
       "      <td>0</td>\n",
       "    </tr>\n",
       "    <tr>\n",
       "      <th>1</th>\n",
       "      <td>0.066667</td>\n",
       "      <td>0.133333</td>\n",
       "      <td>NaN</td>\n",
       "      <td>NaN</td>\n",
       "      <td>0</td>\n",
       "    </tr>\n",
       "    <tr>\n",
       "      <th>2</th>\n",
       "      <td>0.133333</td>\n",
       "      <td>0.200000</td>\n",
       "      <td>NaN</td>\n",
       "      <td>NaN</td>\n",
       "      <td>0</td>\n",
       "    </tr>\n",
       "    <tr>\n",
       "      <th>3</th>\n",
       "      <td>0.200000</td>\n",
       "      <td>0.266667</td>\n",
       "      <td>NaN</td>\n",
       "      <td>NaN</td>\n",
       "      <td>0</td>\n",
       "    </tr>\n",
       "    <tr>\n",
       "      <th>4</th>\n",
       "      <td>0.266667</td>\n",
       "      <td>0.333333</td>\n",
       "      <td>NaN</td>\n",
       "      <td>NaN</td>\n",
       "      <td>0</td>\n",
       "    </tr>\n",
       "    <tr>\n",
       "      <th>5</th>\n",
       "      <td>0.333333</td>\n",
       "      <td>0.400000</td>\n",
       "      <td>NaN</td>\n",
       "      <td>NaN</td>\n",
       "      <td>0</td>\n",
       "    </tr>\n",
       "    <tr>\n",
       "      <th>6</th>\n",
       "      <td>0.400000</td>\n",
       "      <td>0.466667</td>\n",
       "      <td>NaN</td>\n",
       "      <td>NaN</td>\n",
       "      <td>0</td>\n",
       "    </tr>\n",
       "    <tr>\n",
       "      <th>7</th>\n",
       "      <td>0.466667</td>\n",
       "      <td>0.533333</td>\n",
       "      <td>0.509128</td>\n",
       "      <td>0.516196</td>\n",
       "      <td>493</td>\n",
       "    </tr>\n",
       "    <tr>\n",
       "      <th>8</th>\n",
       "      <td>0.533333</td>\n",
       "      <td>0.600000</td>\n",
       "      <td>0.654545</td>\n",
       "      <td>0.566351</td>\n",
       "      <td>1100</td>\n",
       "    </tr>\n",
       "    <tr>\n",
       "      <th>9</th>\n",
       "      <td>0.600000</td>\n",
       "      <td>0.666667</td>\n",
       "      <td>0.751926</td>\n",
       "      <td>0.634643</td>\n",
       "      <td>1298</td>\n",
       "    </tr>\n",
       "    <tr>\n",
       "      <th>10</th>\n",
       "      <td>0.666667</td>\n",
       "      <td>0.733333</td>\n",
       "      <td>0.758204</td>\n",
       "      <td>0.698921</td>\n",
       "      <td>1158</td>\n",
       "    </tr>\n",
       "    <tr>\n",
       "      <th>11</th>\n",
       "      <td>0.733333</td>\n",
       "      <td>0.800000</td>\n",
       "      <td>0.808946</td>\n",
       "      <td>0.767098</td>\n",
       "      <td>1319</td>\n",
       "    </tr>\n",
       "  </tbody>\n",
       "</table>\n",
       "</div>"
      ],
      "text/plain": [
       "     bin_low  bin_high  accuracy  confidence  count\n",
       "0   0.000000  0.066667       NaN         NaN      0\n",
       "1   0.066667  0.133333       NaN         NaN      0\n",
       "2   0.133333  0.200000       NaN         NaN      0\n",
       "3   0.200000  0.266667       NaN         NaN      0\n",
       "4   0.266667  0.333333       NaN         NaN      0\n",
       "5   0.333333  0.400000       NaN         NaN      0\n",
       "6   0.400000  0.466667       NaN         NaN      0\n",
       "7   0.466667  0.533333  0.509128    0.516196    493\n",
       "8   0.533333  0.600000  0.654545    0.566351   1100\n",
       "9   0.600000  0.666667  0.751926    0.634643   1298\n",
       "10  0.666667  0.733333  0.758204    0.698921   1158\n",
       "11  0.733333  0.800000  0.808946    0.767098   1319"
      ]
     },
     "metadata": {},
     "output_type": "display_data"
    }
   ],
   "source": [
    "# --------- RUN AUDIT ---------\n",
    "classes_used = np.unique(y_class)\n",
    "audit = {}\n",
    "\n",
    "# 1) Sanity checks on OOF probabilities\n",
    "audit[\"proba_sanity\"] = verify_probabilities(oof_lr, classes_used)\n",
    "\n",
    "# 2) Core metrics vs baseline\n",
    "audit[\"accuracy\"] = float(accuracy_score(y_class, classes_used[oof_lr.argmax(axis=1)]))\n",
    "audit[\"log_loss\"] = float(log_loss(y_class, oof_lr, labels=classes_used))\n",
    "\n",
    "baseline_ll, prev = baseline_entropy(y_class, classes_used)\n",
    "audit[\"baseline_log_loss_entropy\"] = baseline_ll\n",
    "audit[\"class_prevalence\"] = prev\n",
    "\n",
    "# 3) Brier + ECE\n",
    "audit[\"brier_multiclass\"] = multiclass_brier(y_class, oof_lr, classes_used)\n",
    "audit[\"ece_toplabel\"], ece_table = top_label_ece(\n",
    "    y_class, oof_lr, classes_used, n_bins=15\n",
    ")\n",
    "\n",
    "# 4) ROC-AUC (one-vs-rest), if feasible\n",
    "try:\n",
    "    Y_bin = label_binarize(y_class, classes=classes_used)\n",
    "    audit[\"roc_auc_ovr_macro\"] = float(\n",
    "        roc_auc_score(Y_bin, oof_lr, average=\"macro\", multi_class=\"ovr\")\n",
    "    )\n",
    "except Exception as e:\n",
    "    audit[\"roc_auc_ovr_macro\"] = f\"unavailable: {e}\"\n",
    "\n",
    "# 5) Per-fold diagnostics (recreated from groups)\n",
    "audit[\"per_fold\"] = per_fold_metrics(y_class, oof_lr, groups, classes_used, n_splits=15)\n",
    "\n",
    "# 6) Bootstrap CIs\n",
    "audit[\"bootstrap_CIs\"] = bootstrap_ci(\n",
    "    y_class, oof_lr, classes_used, n_boot=1000, seed=42\n",
    ")\n",
    "\n",
    "# 7) Full classification report\n",
    "audit[\"classification_report\"] = classification_report(\n",
    "    y_class, classes_used[oof_lr.argmax(axis=1)], labels=classes_used, zero_division=0\n",
    ")\n",
    "\n",
    "# 8) Compare mean predicted probs to prevalence (calibration-at-aggregate)\n",
    "audit[\"mean_predicted_prob_by_class\"] = dict(zip(classes_used, oof_lr.mean(axis=0)))\n",
    "\n",
    "# 9) Extract LR coefficients (if LR final estimator)\n",
    "audit[\"lr_feature_importance\"] = extract_lr_coefficients(log_model)\n",
    "\n",
    "# 10) Print summary\n",
    "print(\"=== OOF Verification Summary ===\")\n",
    "print(\n",
    "    f\"Samples: {audit['proba_sanity']['n_samples']} | Classes: {audit['proba_sanity']['n_classes']}\"\n",
    ")\n",
    "print(\n",
    "    f\"Row-sum ~1.0? [{audit['proba_sanity']['row_sum_min']:.6f}, {audit['proba_sanity']['row_sum_max']:.6f}]\"\n",
    ")\n",
    "print(f\"Accuracy: {audit['accuracy']:.4f}\")\n",
    "print(\n",
    "    f\"LogLoss:  {audit['log_loss']:.4f}  | Baseline (entropy): {audit['baseline_log_loss_entropy']:.4f}\"\n",
    ")\n",
    "print(f\"Brier (multiclass): {audit['brier_multiclass']:.4f}\")\n",
    "print(f\"ECE (top-label):    {audit['ece_toplabel']:.4f}\")\n",
    "print(\"\\nClass prevalence:\", audit[\"class_prevalence\"])\n",
    "print(\"Mean predicted prob by class:\", audit[\"mean_predicted_prob_by_class\"])\n",
    "print(\"\\nPer-fold metrics (head):\\n\", audit[\"per_fold\"].head())\n",
    "print(\"\\nBootstrap 95% CIs:\", audit[\"bootstrap_CIs\"])\n",
    "print(\"\\nClassification report:\\n\", audit[\"classification_report\"])\n",
    "\n",
    "# 11) Nice-to-have plots\n",
    "plot_calibration_curves(y_class, oof_lr, classes_used)\n",
    "\n",
    "# Optional: visualize ECE table\n",
    "display(ece_table.head(12))"
   ]
  },
  {
   "cell_type": "code",
   "execution_count": null,
   "metadata": {},
   "outputs": [],
   "source": []
  },
  {
   "cell_type": "code",
   "execution_count": null,
   "metadata": {},
   "outputs": [],
   "source": []
  },
  {
   "cell_type": "code",
   "execution_count": null,
   "id": "e02a6031",
   "metadata": {},
   "outputs": [],
   "source": []
  },
  {
   "cell_type": "code",
   "execution_count": null,
   "id": "92d3b885",
   "metadata": {},
   "outputs": [],
   "source": []
  },
  {
   "cell_type": "markdown",
   "id": "ced23f35",
   "metadata": {},
   "source": [
    "#### Support Vector Machine (SVM)"
   ]
  },
  {
   "cell_type": "code",
   "execution_count": 38,
   "id": "0335fd7c",
   "metadata": {},
   "outputs": [
    {
     "name": "stdout",
     "output_type": "stream",
     "text": [
      "⚠️ LinearSVC has no predict_proba. Wrapping with CalibratedClassifierCV (sigmoid).\n"
     ]
    }
   ],
   "source": [
    "# 2. SVM (probability=True so it outputs probs)\n",
    "svm = LinearSVC()\n",
    "\n",
    "svm_model, oof_svm = train_classifier(\n",
    "    X_class,\n",
    "    y_class,\n",
    "    groups=groups,\n",
    "    categorical_features=categorical_features,\n",
    "    numeric_features=numerical_features,\n",
    "    base_model=svm,\n",
    "    sample_weights=sample_weights,\n",
    "    n_splits=10,\n",
    "    calibrate=False,\n",
    ")"
   ]
  },
  {
   "cell_type": "code",
   "execution_count": 39,
   "id": "1c2d543d",
   "metadata": {},
   "outputs": [
    {
     "name": "stdout",
     "output_type": "stream",
     "text": [
      "Accuracy: 0.970\n",
      "Log Loss: 0.064\n",
      "Confusion Matrix:\n",
      "[[     0      6      0]\n",
      " [     0 100114   3082]\n",
      " [     0    264   7179]]\n",
      "\n",
      "Classification Report:\n",
      "              precision    recall  f1-score   support\n",
      "\n",
      "        NRKW       0.00      0.00      0.00         6\n",
      "        SRKW       1.00      0.97      0.98    103196\n",
      "   TRANSIENT       0.70      0.96      0.81      7443\n",
      "\n",
      "    accuracy                           0.97    110645\n",
      "   macro avg       0.57      0.64      0.60    110645\n",
      "weighted avg       0.98      0.97      0.97    110645\n",
      "\n"
     ]
    },
    {
     "data": {
      "image/png": "[encoded data removed]",
      "text/plain": [
       "<Figure size 800x600 with 1 Axes>"
      ]
     },
     "metadata": {},
     "output_type": "display_data"
    }
   ],
   "source": [
    "classes = np.unique(y_class)\n",
    "evaluate_model(y_class, oof_svm, classes)"
   ]
  },
  {
   "cell_type": "markdown",
   "id": "aac4c51c",
   "metadata": {},
   "source": [
    "#### XG Boost"
   ]
  },
  {
   "cell_type": "code",
   "execution_count": 40,
   "id": "df097287",
   "metadata": {},
   "outputs": [],
   "source": [
    "# Filter out NRKW from your training data\n",
    "mask = y_class != \"NRKW\"  # keep only SRKW and Transient\n",
    "X_class_filtered = X_class[mask].reset_index(drop=True)\n",
    "y_class_filtered = y_class[mask].reset_index(drop=True)\n",
    "groups_filtered = groups[mask].reset_index(drop=True) if groups is not None else None\n",
    "sample_weights_filtered = (\n",
    "    sample_weights[mask].reset_index(drop=True) if sample_weights is not None else None\n",
    ")\n",
    "\n",
    "# Encode labels\n",
    "le = LabelEncoder()\n",
    "y_encoded = le.fit_transform(y_class_filtered)  # 0 = SRKW, 1 = Transient\n",
    "# scale_pos_weight = len(y_encoded[y_encoded == 0]) / len(y_encoded[y_encoded == 1])\n",
    "y_encoded = pd.Series(y_encoded, index=y_class_filtered.index)\n",
    "unique_classes = np.unique(y_encoded)\n",
    "\n",
    "# Train XGBoost\n",
    "xgb_model = xgb.XGBClassifier(\n",
    "    objective=\"multi:softprob\",\n",
    "    n_estimators=500,\n",
    "    eval_metric=\"mlogloss\",\n",
    "    learning_rate=0.05,\n",
    "    max_depth=6,\n",
    "    num_class=len(unique_classes),\n",
    ")\n",
    "\n",
    "xgb_trained, oof_xgb = train_classifier(\n",
    "    X_class_filtered,\n",
    "    y_encoded,\n",
    "    groups=groups_filtered,\n",
    "    categorical_features=categorical_features,\n",
    "    numeric_features=numerical_features,\n",
    "    base_model=xgb_model,\n",
    "    sample_weights=sample_weights_filtered,\n",
    "    n_splits=10,\n",
    "    calibrate=True,\n",
    ")\n",
    "\n",
    "# Convert predictions back to original labels\n",
    "pred_labels = le.inverse_transform(np.argmax(oof_xgb, axis=1))"
   ]
  },
  {
   "cell_type": "code",
   "execution_count": 41,
   "id": "c0aa93bc",
   "metadata": {},
   "outputs": [
    {
     "name": "stdout",
     "output_type": "stream",
     "text": [
      "Accuracy: 0.9823028046168168\n",
      "Confusion Matrix:\n",
      " [[102166   1030]\n",
      " [   928   6515]]\n",
      "              precision    recall  f1-score   support\n",
      "\n",
      "        SRKW       0.99      0.99      0.99    103196\n",
      "   TRANSIENT       0.86      0.88      0.87      7443\n",
      "\n",
      "    accuracy                           0.98    110639\n",
      "   macro avg       0.93      0.93      0.93    110639\n",
      "weighted avg       0.98      0.98      0.98    110639\n",
      "\n"
     ]
    }
   ],
   "source": [
    "mask = y_class != \"NRKW\"\n",
    "y_class_filtered = y_class[mask].reset_index(drop=True)\n",
    "from sklearn.metrics import accuracy_score, classification_report, confusion_matrix\n",
    "\n",
    "acc = accuracy_score(y_class_filtered, pred_labels)\n",
    "print(\"Accuracy:\", acc)\n",
    "print(\n",
    "    \"Confusion Matrix:\\n\",\n",
    "    confusion_matrix(y_class_filtered, pred_labels, labels=[\"SRKW\", \"TRANSIENT\"]),\n",
    ")\n",
    "print(\n",
    "    classification_report(y_class_filtered, pred_labels, labels=[\"SRKW\", \"TRANSIENT\"])\n",
    ")"
   ]
  },
  {
   "cell_type": "code",
   "execution_count": 42,
   "id": "7af5083a",
   "metadata": {},
   "outputs": [],
   "source": [
    "################################################################################"
   ]
  },
  {
   "cell_type": "code",
   "execution_count": null,
   "id": "2f6741d2",
   "metadata": {},
   "outputs": [],
   "source": []
  },
  {
   "cell_type": "code",
   "execution_count": null,
   "id": "9d03ed8a",
   "metadata": {},
   "outputs": [],
   "source": []
  },
  {
   "cell_type": "code",
   "execution_count": null,
   "id": "b7a1426f",
   "metadata": {},
   "outputs": [],
   "source": []
  },
  {
   "cell_type": "code",
   "execution_count": null,
   "id": "fac5f997",
   "metadata": {},
   "outputs": [],
   "source": [
    "# Implications for modeling\n",
    "# NRKW predictions being zero is not a dealbreaker here.\n",
    "# Only 6 sightings; you literally don’t have enough signal to learn anything meaningful from the OTHER class about NRKW.\n",
    "# Trying to force predictions could add noise rather than signal.\n",
    "# SRKW and Transient predictions are the key for the downstream presence model.\n",
    "# If your OOF predictions correctly classify these two, then your “OTHER” sightings are effectively usable.\n",
    "# You can inject them as probabilistic SRKW/Transient labels into the presence model.\n",
    "# Geography is your friend.\n",
    "# “OTHER” sightings near the San Juans → SRKW\n",
    "# Farther north → could be Transient or rare NRKW\n",
    "# The model will learn these spatial patterns naturally if H3-cell + latitude/longitude are included as features.\n",
    "\n",
    "\n",
    "# Don’t obsess over the NRKW metrics for the OTHER classification — they are essentially irrelevant in your range.\n",
    "# Focus on precision, recall, F1 for SRKW and Transient, because they dominate what you’ll feed into the next model.\n",
    "# Calibration is still important — you want the predicted probabilities to reflect uncertainty, especially for ambiguous OTHER sightings.\n",
    "\n",
    "# Current logistic regression / OOF predictions look good for SRKW and Transient → you’re fine for downstream presence modeling.\n",
    "# NRKW can be ignored in this context; if the rare northern sightings appear in your dataset, the model might predict them as low-probability SRKW or Transient, which is acceptable given the small count.\n",
    "# Keep spatial features, time-of-year, and any observer metadata to help the model infer SRKW vs Transient patterns from OTHER sightings.\n",
    "\n",
    "# Optional extras:\n",
    "# Stratified metrics by BLOCK / YEAR — check if some regions or years are systematically misclassified.\n",
    "# Top-K accuracy — sometimes useful if you want the most probable 2 predictions for downstream modeling.\n",
    "\n",
    "# If you want, I can also whip up a visual spatiotemporal validation — like a map showing where “OTHER” predictions were likely SRKW/NRKW/Transient,\n",
    "# so you can eyeball them against known patterns. That’s super clutch for sanity checks before feeding probabilities downstream."
   ]
  },
  {
   "cell_type": "markdown",
   "id": "c76ff469",
   "metadata": {},
   "source": [
    "#### Voting Ensemble"
   ]
  },
  {
   "cell_type": "code",
   "execution_count": 61,
   "id": "8938a6ac",
   "metadata": {},
   "outputs": [],
   "source": [
    "# # After encoding\n",
    "# le = LabelEncoder()\n",
    "# y_encoded = le.fit_transform(y_class)\n",
    "\n",
    "# # Build numeric-mapped weights\n",
    "# custom_weights = {\n",
    "#     le.transform([cls])[0]: w\n",
    "#     for cls, w in {\"SRKW\": 1.0, \"TRANSIENT\": 2.0, \"NRKW\": 0.5}.items()\n",
    "# }\n",
    "\n",
    "\n",
    "# # Voting Ensemble:\n",
    "# models_list = [\n",
    "#     (\n",
    "#         \"log\",\n",
    "#         LogisticRegression(\n",
    "#             max_iter=2000,\n",
    "#             multi_class=\"multinomial\",\n",
    "#             class_weight=custom_weights,\n",
    "#             solver=\"lbfgs\",\n",
    "#             C=0.5,  # stronger regularization\n",
    "#         ),\n",
    "#     ),\n",
    "#     (\"rf\", RandomForestClassifier(n_estimators=50, n_jobs=-1, max_depth=5)),\n",
    "#     (\n",
    "#         \"xgb\",\n",
    "#         xgb.XGBClassifier(\n",
    "#             objective=\"multi:softprob\",\n",
    "#             n_estimators=500,\n",
    "#             eval_metric=\"mlogloss\",\n",
    "#             learning_rate=0.05,\n",
    "#             max_depth=6,\n",
    "#         ),\n",
    "#     ),\n",
    "# ]\n",
    "\n",
    "# model, oof_voting = train_ensemble(\n",
    "#     X_class,\n",
    "#     y_class,\n",
    "#     groups=sightings_data_class[\"BLOCK\"],\n",
    "#     models=models_list,\n",
    "#     ensemble_mode=\"voting\",\n",
    "#     categorical_features=categorical_features,\n",
    "#     numeric_features=numerical_features,\n",
    "#     voting_type=\"soft\",\n",
    "# )"
   ]
  },
  {
   "cell_type": "code",
   "execution_count": 62,
   "id": "de98a4b3",
   "metadata": {},
   "outputs": [],
   "source": [
    "# classes = np.unique(y_class)\n",
    "# evaluate_model(y_class, oof_voting, classes)"
   ]
  },
  {
   "cell_type": "markdown",
   "id": "e161473a",
   "metadata": {},
   "source": [
    "#### Stacked Ensemble"
   ]
  },
  {
   "cell_type": "code",
   "execution_count": 63,
   "id": "9ab05096",
   "metadata": {},
   "outputs": [],
   "source": [
    "# # Stacking Ensemble:\n",
    "# stack_models = [\n",
    "#     (\n",
    "#         \"log\",\n",
    "#         LogisticRegression(\n",
    "#             max_iter=2000,\n",
    "#             multi_class=\"multinomial\",\n",
    "#             class_weight=custom_weights,\n",
    "#             solver=\"lbfgs\",\n",
    "#             C=0.5,  # stronger regularization\n",
    "#         ),\n",
    "#     ),\n",
    "#     # (\"rf\", RandomForestClassifier(n_estimators=50, n_jobs=-1, max_depth=5)),\n",
    "#     (\n",
    "#         \"xgb\",\n",
    "#         xgb.XGBClassifier(\n",
    "#             objective=\"multi:softprob\",\n",
    "#             n_estimators=500,\n",
    "#             eval_metric=\"mlogloss\",\n",
    "#             learning_rate=0.05,\n",
    "#             max_depth=6,\n",
    "#         ),\n",
    "#     ),\n",
    "# ]\n",
    "\n",
    "# model, oof_stack = train_ensemble(\n",
    "#     X_class,\n",
    "#     y_class,\n",
    "#     groups=sightings_data_class[\"BLOCK\"],\n",
    "#     models=stack_models,\n",
    "#     ensemble_mode=\"stacking\",\n",
    "#     final_estimator=LogisticRegression(max_iter=2000),\n",
    "#     categorical_features=categorical_features,\n",
    "#     numeric_features=numerical_features,\n",
    "# )"
   ]
  },
  {
   "cell_type": "code",
   "execution_count": 64,
   "id": "7c0b8a9d",
   "metadata": {},
   "outputs": [],
   "source": [
    "# classes = np.unique(y_class)\n",
    "# evaluate_model(y_class, oof_stack, classes)"
   ]
  },
  {
   "cell_type": "code",
   "execution_count": null,
   "id": "0a9caf23",
   "metadata": {},
   "outputs": [],
   "source": []
  },
  {
   "cell_type": "markdown",
   "id": "930ae1f6",
   "metadata": {},
   "source": [
    "#### Predicting Pod Tag\n",
    "\n",
    "Class balance → are J/K/L evenly represented, or is one super dominant? If not, you’ll need class weights / resampling.\n",
    "Features → are there pod-level features in your data (geography, call types, seasonality)? Because pods often segregate spatially and temporally.\n",
    "Cross-validation → make sure your folds don’t split individuals (e.g., all J pod in training, none in val). You’ll want group-based CV so pods/general contexts are represented across folds."
   ]
  },
  {
   "cell_type": "code",
   "execution_count": null,
   "id": "03b4240d",
   "metadata": {},
   "outputs": [
    {
     "data": {
      "text/plain": [
       "POD_TAG\n",
       "J    0.411361\n",
       "L    0.273668\n",
       "K    0.247648\n",
       "T    0.067269\n",
       "A    0.000018\n",
       "G    0.000018\n",
       "R    0.000018\n",
       "Name: proportion, dtype: float64"
      ]
     },
     "execution_count": 58,
     "metadata": {},
     "output_type": "execute_result"
    }
   ],
   "source": [
    "sightings_data_class.POD_TAG.value_counts(normalize=True)"
   ]
  },
  {
   "cell_type": "code",
   "execution_count": 94,
   "id": "5aacac29",
   "metadata": {},
   "outputs": [],
   "source": [
    "################################################################################\n",
    "# MODEL - PREPROCESSING PIPELINE\n",
    "\n",
    "\n",
    "# 1. Select Features + Response Variables\n",
    "features = [\n",
    "    \"LATITUDE\",\n",
    "    \"LONGITUDE\",\n",
    "    \"DOY_SIN\",\n",
    "    \"DOY_COS\",\n",
    "    \"WOY_SIN\",\n",
    "    \"WOY_COS\",\n",
    "    \"MONTH_SIN\",\n",
    "    \"MONTH_COS\",\n",
    "    # \"SOURCE\",\n",
    "    \"H3_CELL\",\n",
    "]\n",
    "response = \"POD_TAG\"\n",
    "\n",
    "# 2. Build Feature Matrix\n",
    "X_class, y_class = build_feature_matrix(sightings_data_class, features, response)\n",
    "sample_weights = sightings_data_class[\"COUNT\"]\n",
    "groups = sightings_data_class[\"BLOCK\"]\n",
    "\n",
    "# 3. Define Categorical Features\n",
    "categorical_features = [feat for feat in features if feat in [\"SOURCE\", \"H3_CELL\"]]\n",
    "numerical_features = [feat for feat in features if feat not in [\"SOURCE\", \"H3_CELL\"]]\n",
    "\n",
    "################################################################################"
   ]
  },
  {
   "cell_type": "code",
   "execution_count": 87,
   "id": "4562edc8",
   "metadata": {},
   "outputs": [],
   "source": [
    "# Step 2: Pod classifier (J/K/L)\n",
    "mask_pods = y_class.isin([\"J\", \"K\", \"L\"])\n",
    "X_stage2 = X_class[mask_pods].reset_index(drop=True)\n",
    "y_stage2 = y_class[mask_pods].reset_index(drop=True)\n",
    "groups_stage2 = groups[mask_pods].reset_index(drop=True)\n",
    "\n",
    "le_stage2 = LabelEncoder()\n",
    "y_stage2_enc = le_stage2.fit_transform(y_stage2)  # 0=J, 1=K, 2=L\n",
    "y_stage2_enc = pd.Series(y_stage2_enc, index=y_stage2.index)\n",
    "unique_classes = np.unique(y_stage2_enc)\n",
    "\n",
    "custom_weights = {\n",
    "    0: 1.0,\n",
    "    1: 1.0,\n",
    "    2: 1.0,\n",
    "}\n",
    "\n",
    "# base_model = LogisticRegression(\n",
    "#     max_iter=2000,\n",
    "#     multi_class=\"multinomial\",\n",
    "#     class_weight=custom_weights,\n",
    "#     solver=\"lbfgs\",\n",
    "#     C=0.5,\n",
    "# )\n",
    "\n",
    "# base_model = RandomForestClassifier(max_depth=10, n_estimators=200, n_jobs=-1)\n",
    "\n",
    "base_model = xgb.XGBClassifier(\n",
    "    n_estimators=300, max_depth=8, tree_method=\"hist\", eval_metric=\"mlogloss\", n_jobs=-1\n",
    ")\n",
    "\n",
    "\n",
    "stage2_model, oof_stage2 = train_classifier(\n",
    "    X_stage2,\n",
    "    y_stage2_enc,\n",
    "    groups=groups[mask_pods],\n",
    "    categorical_features=categorical_features,\n",
    "    numeric_features=numerical_features,\n",
    "    base_model=base_model,\n",
    "    sample_weights=sample_weights[mask_pods],\n",
    "    n_splits=15,\n",
    "    calibrate=True,\n",
    ")"
   ]
  },
  {
   "cell_type": "code",
   "execution_count": 89,
   "id": "481fd712",
   "metadata": {},
   "outputs": [
    {
     "name": "stdout",
     "output_type": "stream",
     "text": [
      "Accuracy: 0.460\n",
      "Log Loss: 1.054\n",
      "Confusion Matrix:\n",
      "[[32204  3871  9440]\n",
      " [16099  3729  7573]\n",
      " [15924  2844 11512]]\n",
      "\n",
      "Classification Report:\n"
     ]
    },
    {
     "name": "stderr",
     "output_type": "stream",
     "text": [
      "/opt/anaconda3/envs/salmonsignal/lib/python3.10/site-packages/sklearn/metrics/_classification.py:3001: UserWarning: The y_pred values do not sum to one. Make sure to pass probabilities.\n",
      "  warnings.warn(\n"
     ]
    },
    {
     "name": "stdout",
     "output_type": "stream",
     "text": [
      "              precision    recall  f1-score   support\n",
      "\n",
      "           0       0.50      0.71      0.59     45515\n",
      "           1       0.36      0.14      0.20     27401\n",
      "           2       0.40      0.38      0.39     30280\n",
      "\n",
      "    accuracy                           0.46    103196\n",
      "   macro avg       0.42      0.41      0.39    103196\n",
      "weighted avg       0.43      0.46      0.43    103196\n",
      "\n"
     ]
    },
    {
     "data": {
      "image/png": "[encoded data removed]",
      "text/plain": [
       "<Figure size 800x600 with 1 Axes>"
      ]
     },
     "metadata": {},
     "output_type": "display_data"
    }
   ],
   "source": [
    "classes = np.unique(y_stage2_enc)\n",
    "evaluate_model(y_stage2_enc, oof_stage2, classes)"
   ]
  },
  {
   "cell_type": "code",
   "execution_count": null,
   "id": "dd163c5f",
   "metadata": {},
   "outputs": [],
   "source": [
    "# One vs Rest"
   ]
  },
  {
   "cell_type": "code",
   "execution_count": null,
   "id": "13ff67f8",
   "metadata": {},
   "outputs": [],
   "source": [
    "from sklearn.preprocessing import OneHotEncoder, StandardScaler, LabelEncoder\n",
    "from sklearn.compose import ColumnTransformer\n",
    "from sklearn.model_selection import GroupKFold\n",
    "from sklearn.calibration import CalibratedClassifierCV\n",
    "import xgboost as xgb\n",
    "import numpy as np\n",
    "import pandas as pd\n",
    "\n",
    "# ---- Step 0: Filter pods ----\n",
    "mask_pods = y_class.isin([\"J\", \"K\", \"L\"])\n",
    "X_pods = X_class[mask_pods].reset_index(drop=True)\n",
    "y_pods = y_class[mask_pods].reset_index(drop=True)\n",
    "groups_pods = groups[mask_pods].reset_index(drop=True)\n",
    "\n",
    "# ---- Encode labels ----\n",
    "le = LabelEncoder()\n",
    "y_encoded = le.fit_transform(y_pods)  # 0=J, 1=K, 2=L\n",
    "classes = np.unique(y_encoded)\n",
    "\n",
    "# ---- Preprocessing ----\n",
    "preprocessor = ColumnTransformer(\n",
    "    transformers=[\n",
    "        (\"cat\", OneHotEncoder(handle_unknown=\"ignore\"), categorical_features),\n",
    "        (\"num\", StandardScaler(), numerical_features),\n",
    "    ]\n",
    ")\n",
    "\n",
    "# ---- Apply preprocessing ----\n",
    "# X_processed = preprocessor.fit_transform(X_pods)\n",
    "# ---- Apply preprocessing (convert to dense) ----\n",
    "X_processed = preprocessor.fit_transform(X_pods).toarray()\n",
    "\n",
    "# ---- OOF predictions array ----\n",
    "oof_preds = np.zeros((len(X_pods), len(classes)))\n",
    "\n",
    "# ---- GroupKFold ----\n",
    "gkf = GroupKFold(n_splits=5)\n",
    "\n",
    "# ---- One-vs-Rest with XGBoost ----\n",
    "for fold, (train_idx, val_idx) in enumerate(\n",
    "    gkf.split(X_processed, y_encoded, groups_pods)\n",
    "):\n",
    "    X_train, X_val = X_processed[train_idx], X_processed[val_idx]\n",
    "    y_train, y_val = y_encoded[train_idx], y_encoded[val_idx]\n",
    "\n",
    "    fold_preds = np.zeros((len(X_val), len(classes)))\n",
    "\n",
    "    for i, c in enumerate(classes):\n",
    "        # Binary labels for this OVR classifier\n",
    "        y_bin = (y_train == c).astype(int)\n",
    "        # Optional: compute pos weight for imbalance\n",
    "        scale_pos_weight = max(1.0, (len(y_bin) - y_bin.sum()) / y_bin.sum())\n",
    "\n",
    "        xgb_clf = xgb.XGBClassifier(\n",
    "            objective=\"binary:logistic\",\n",
    "            eval_metric=\"logloss\",\n",
    "            tree_method=\"hist\",\n",
    "            n_estimators=300,\n",
    "            max_depth=6,\n",
    "            learning_rate=0.05,\n",
    "            n_jobs=-1,\n",
    "        )\n",
    "\n",
    "        # Fit model with sample weight\n",
    "        xgb_clf.fit(\n",
    "            X_train, y_bin, sample_weight=np.where(y_bin == 1, scale_pos_weight, 1.0)\n",
    "        )\n",
    "\n",
    "        # Predict probabilities\n",
    "        fold_preds[:, i] = xgb_clf.predict_proba(X_val)[:, 1]\n",
    "\n",
    "    oof_preds[val_idx] = fold_preds\n",
    "\n",
    "# ---- Calibrate final OVR classifier ----\n",
    "# Fit on full dataset for final predictions\n",
    "final_preds = np.zeros((len(X_pods), len(classes)))\n",
    "final_models = []\n",
    "\n",
    "for i, c in enumerate(classes):\n",
    "    y_bin = (y_encoded == c).astype(int)\n",
    "    scale_pos_weight = max(1.0, (len(y_bin) - y_bin.sum()) / y_bin.sum())\n",
    "\n",
    "    xgb_clf = xgb.XGBClassifier(\n",
    "        objective=\"binary:logistic\",\n",
    "        eval_metric=\"logloss\",\n",
    "        tree_method=\"hist\",\n",
    "        n_estimators=300,\n",
    "        max_depth=6,\n",
    "        learning_rate=0.05,\n",
    "        n_jobs=-1,\n",
    "    )\n",
    "\n",
    "    xgb_clf.fit(\n",
    "        X_processed, y_bin, sample_weight=np.where(y_bin == 1, scale_pos_weight, 1.0)\n",
    "    )\n",
    "\n",
    "    # Calibrate\n",
    "    calibrator = CalibratedClassifierCV(xgb_clf, cv=\"prefit\", method=\"isotonic\")\n",
    "    calibrator.fit(X_processed, y_bin)\n",
    "    final_models.append(calibrator)\n",
    "\n",
    "    final_preds[:, i] = calibrator.predict_proba(X_processed)[:, 1]\n",
    "\n",
    "# ---- Convert back to pod labels ----\n",
    "pred_labels = le.inverse_transform(np.argmax(final_preds, axis=1))\n",
    "\n",
    "# ---- You can now evaluate pred_labels vs y_pods ----"
   ]
  },
  {
   "cell_type": "code",
   "execution_count": null,
   "id": "05a478d7",
   "metadata": {},
   "outputs": [
    {
     "name": "stdout",
     "output_type": "stream",
     "text": [
      "Accuracy: 0.4234466452188069\n",
      "Confusion Matrix:\n",
      " [[17848 12913 14754]\n",
      " [ 6118 10131 11152]\n",
      " [ 5571  8990 15719]]\n",
      "              precision    recall  f1-score   support\n",
      "\n",
      "           J       0.60      0.39      0.48     45515\n",
      "           K       0.32      0.37      0.34     27401\n",
      "           L       0.38      0.52      0.44     30280\n",
      "\n",
      "    accuracy                           0.42    103196\n",
      "   macro avg       0.43      0.43      0.42    103196\n",
      "weighted avg       0.46      0.42      0.43    103196\n",
      "\n"
     ]
    }
   ],
   "source": [
    "from sklearn.metrics import classification_report, confusion_matrix, accuracy_score\n",
    "\n",
    "pred_labels = le_stage2.inverse_transform(np.argmax(oof_preds, axis=1))\n",
    "print(\"Accuracy:\", accuracy_score(y_pods, pred_labels))\n",
    "print(\n",
    "    \"Confusion Matrix:\\n\", confusion_matrix(y_pods, pred_labels, labels=[\"J\", \"K\", \"L\"])\n",
    ")\n",
    "print(classification_report(y_pods, pred_labels, labels=[\"J\", \"K\", \"L\"]))"
   ]
  },
  {
   "cell_type": "code",
   "execution_count": null,
   "id": "eb5a0fb8",
   "metadata": {},
   "outputs": [],
   "source": []
  },
  {
   "cell_type": "code",
   "execution_count": null,
   "id": "ae42da30",
   "metadata": {},
   "outputs": [],
   "source": []
  },
  {
   "cell_type": "code",
   "execution_count": null,
   "id": "31013f51",
   "metadata": {},
   "outputs": [],
   "source": []
  },
  {
   "cell_type": "code",
   "execution_count": null,
   "id": "ab57ce44",
   "metadata": {},
   "outputs": [],
   "source": []
  },
  {
   "cell_type": "markdown",
   "id": "f74cedee",
   "metadata": {},
   "source": [
    "#### Acceptance Policy for Using OTHER in Downstream Models\n",
    "\n",
    "We won’t hard-assign labels. Two options:\n",
    "- Soft-label ingestion: pass p(type) and p(tag|type) into presence models as covariates; or use expected label indicators E[1_{class}] = p(class).\n",
    "- Monte Carlo label draws: sample K label realizations from the classifier per record, fit the presence model K times (or via bagging-like resampling), then average predictions. This propagates label uncertainty.<br>\n",
    "\n",
    "Eligibility thresholds:\n",
    "- If max p(type) ≥ 0.7 and calibration OK → include as soft label with full weight.\n",
    "- If 0.5 ≤ max p(type) < 0.7 → include with down-weight (e.g., ×0.5) and flag.\n",
    "- If max p(type) < 0.5 or OOD → keep as OTHER (excluded from pod-specific labeling but available as unlabeled signal).\n",
    "\n",
    "#### Integration into Pod-Specific Presence Models\n",
    "\n",
    "Add features: p_SRKW, p_NRKW, p_Transient and, conditionally, p_J, p_K, p_L.<br>\n",
    "For presence targets built from mixed sources, weight examples by Effort Index × classification confidence.<br>\n",
    "\n",
    "Compare three training modes:<br>\n",
    "- No-OTHER baseline.\n",
    "- Soft OTHER (probabilities as covariates only).\n",
    "- Imputed OTHER (Monte Carlo labels).\n",
    "- Evaluate lift on spatiotemporal holdout and by marine area.\n",
    "\n",
    "#### Risks & Mitigations\n",
    "\n",
    "Observer bias leaks → include Effort Index; block CV; penalize overfit features.<br>\n",
    "Catastrophic mislabeling of SRKW → cost matrix + reject option + manual review queue.<br>\n",
    "Domain drift (new areas/conditions) → OOD detection + drift monitors + regular recalibration.<br>\n",
    "Text noise/ambiguity → curate lexicons; consider small domain LM for entity hints; keep NLP features bounded.<br>\n",
    "\n",
    "<br><br>\n",
    "\n",
    "***\n",
    "\n",
    "<center><b>END OF NOTEBOOK</b></center>\n",
    "\n",
    "***"
   ]
  }
 ],
 "metadata": {
  "kernelspec": {
   "display_name": "salmonsignal",
   "language": "python",
   "name": "python3"
  },
  "language_info": {
   "codemirror_mode": {
    "name": "ipython",
    "version": 3
   },
   "file_extension": ".py",
   "mimetype": "text/x-python",
   "name": "python",
   "nbconvert_exporter": "python",
   "pygments_lexer": "ipython3",
   "version": "3.10.18"
  }
 },
 "nbformat": 4,
 "nbformat_minor": 5
}
