{
 "cells": [
  {
   "cell_type": "code",
   "execution_count": null,
   "id": "5415680b",
   "metadata": {},
   "outputs": [],
   "source": [
    "import pandas as pd\n",
    "import os\n",
    "import geopandas as gpd\n",
    "from shapely.geometry import Point"
   ]
  },
  {
   "cell_type": "code",
   "execution_count": null,
   "id": "857d0cd4",
   "metadata": {},
   "outputs": [],
   "source": [
    "# List of key locations with approximate lat/lon\n",
    "locations = [\n",
    "    {\"NAME\": \"Bonneville Dam\", \"LAT\": 45.643, \"LON\": -121.939, \"TYPE\": \"Dam\", \"DAM\": \"BON\"},\n",
    "    {\"NAME\": \"Ice Harbor Dam\", \"LAT\": 46.2494, \"LON\": -118.8797, \"TYPE\": \"Dam\", \"DAM\": \"IHR\"},\n",
    "    {\"NAME\": \"John Day Dam\", \"LAT\": 45.717, \"LON\": -120.709, \"TYPE\": \"Dam\", \"DAM\":\"JDA\"},\n",
    "    {\"NAME\": \"Little Goose Dam\", \"LAT\": 46.5856, \"LON\": -118.0273, \"TYPE\": \"Dam\", \"DAM\":\"LGS\"},\n",
    "    {\n",
    "        \"NAME\": \"Lower Granite Dam\",\n",
    "        \"LAT\": 46.6602,\n",
    "        \"LON\": -117.4289,\n",
    "        \"TYPE\": \"Dam\",  \"DAM\":\"LGR\"\n",
    "    },\n",
    "    {\n",
    "        \"NAME\": \"Lower Monument Dam\",\n",
    "        \"LAT\": 46.5618,\n",
    "        \"LON\": -118.5383,\n",
    "        \"TYPE\": \"Dam\", \"DAM\":\"LMN\"\n",
    "    },\n",
    "    {\"NAME\": \"McNary Dam\", \"LAT\": 45.9368, \"LON\": -119.2982, \"TYPE\": \"Dam\", \"DAM\":\"MCN\"},\n",
    "    {\n",
    "        \"NAME\": \"Priest Rapids Dam\",\n",
    "        \"LAT\": 46.6440,\n",
    "        \"LON\": -119.91189,\n",
    "        \"TYPE\": \"Dam\", \"DAM\":\"PRD\"\n",
    "    },\n",
    "    {\n",
    "        \"NAME\": \"Rock Island\",\n",
    "        \"LAT\": 47.34249,\n",
    "        \"LON\": -120.09343,\n",
    "        \"TYPE\": \"Dam\", \"DAM\":\"RIS\"\n",
    "    },\n",
    "    {\"NAME\": \"Rocky Reach Dam\", \"LAT\": 47.53248, \"LON\": -120.2954, \"TYPE\": \"Dam\", \"DAM\":\"RRH\"},\n",
    "    {\"NAME\": \"The Dalles Dam\", \"LAT\": 45.617, \"LON\": -121.130, \"TYPE\": \"Dam\", \"DAM\":\"TDA\"},\n",
    "    {\"NAME\": \"Wanapum Dam\", \"LAT\": 46.8731, \"LON\": -119.9715, \"TYPE\": \"Dam\", \"DAM\":\"WAN\"},\n",
    "    {\n",
    "        \"NAME\": \"Willamette Falls Dam\",\n",
    "        \"LAT\": 45.353456425637596,\n",
    "        \"LON\": -122.6189,\n",
    "        \"TYPE\": \"Dam\", \"DAM\":\"WFA\"\n",
    "    },\n",
    "    {\"NAME\": \"Wells Dam\", \"LAT\": 47.760, \"LON\": -119.9718, \"TYPE\": \"Dam\", \"DAM\":\"WEL\"},\n",
    "]\n",
    "\n",
    "dam_locations = pd.DataFrame(locations)\n",
    "geometry = [Point(xy) for xy in zip(dam_locations[\"LON\"], dam_locations[\"LAT\"])]\n",
    "gdf = gpd.GeoDataFrame(dam_locations, geometry=geometry, crs=\"EPSG:4326\")"
   ]
  },
  {
   "cell_type": "code",
   "execution_count": null,
   "id": "d5216327",
   "metadata": {},
   "outputs": [],
   "source": [
    "output_dir = \"../data/processed/GIS/important_locations\"\n",
    "if not os.path.exists(output_dir):\n",
    "    os.makedirs(output_dir)"
   ]
  },
  {
   "cell_type": "code",
   "execution_count": null,
   "id": "2a9e9782",
   "metadata": {},
   "outputs": [],
   "source": [
    "gdf.to_parquet(f\"{output_dir}/columbia_snake_dams.parquet\")"
   ]
  },
  {
   "cell_type": "code",
   "execution_count": null,
   "id": "0f128e80",
   "metadata": {},
   "outputs": [],
   "source": [
    "f\"{output_dir}/columbia_snake_dams.parquet\""
   ]
  },
  {
   "cell_type": "code",
   "execution_count": null,
   "metadata": {},
   "outputs": [],
   "source": []
  },
  {
   "cell_type": "code",
   "execution_count": null,
   "id": "0d20a4c5",
   "metadata": {},
   "outputs": [],
   "source": [
    "# Load marine areas\n",
    "marine = gpd.read_parquet(\n",
    "    \"../data/processed/GIS/ocean/TERRITORIAL_WATERS.parquet\"\n",
    ").to_crs(\"EPSG:4326\")\n",
    "rivers = gpd.read_parquet(\n",
    "    \"../data/processed/GIS/inland_waters/US_INLAND_WATERS_COLUMBIA_R.parquet\"\n",
    ")\n",
    "rivers = rivers.dissolve()"
   ]
  },
  {
   "cell_type": "code",
   "execution_count": null,
   "id": "462406c0",
   "metadata": {},
   "outputs": [],
   "source": [
    "# Create buffer at Columbia River mouth (12 NM = 22224 meters)\n",
    "buffer_geom = (\n",
    "    gpd.GeoSeries([Point(-123.95, 46.25)], crs=\"EPSG:4326\")\n",
    "    .to_crs(epsg=3857)\n",
    "    .buffer(22224 * 2)\n",
    "    .to_crs(epsg=4326)\n",
    ")\n",
    "\n",
    "# Clip marine zones to buffer\n",
    "marine_clipped = marine[marine.intersects(buffer_geom.iloc[0])]\n",
    "marine_clipped[\"geometry\"] = marine_clipped.intersection(buffer_geom.iloc[0])\n",
    "\n",
    "marine_clipped = marine_clipped.dissolve()"
   ]
  },
  {
   "cell_type": "code",
   "execution_count": null,
   "id": "94b95f8c",
   "metadata": {},
   "outputs": [],
   "source": [
    "marine_clipped[\"geometry\"] = marine_clipped.difference(rivers)\n",
    "marine_clipped = marine_clipped.explode()\n",
    "marine_clipped = marine_clipped[marine_clipped.area == marine_clipped.area.max()]\n",
    "\n",
    "marine_clipped.to_parquet(\n",
    "    \"../data/processed/GIS/ocean/TERRITORIAL_COLUMBIA_MOUNT.parquet\"\n",
    ")"
   ]
  },
  {
   "cell_type": "code",
   "execution_count": null,
   "id": "2ddb3ca2",
   "metadata": {},
   "outputs": [],
   "source": []
  },
  {
   "cell_type": "code",
   "execution_count": null,
   "id": "f0b9b9f5",
   "metadata": {},
   "outputs": [],
   "source": []
  },
  {
   "cell_type": "code",
   "execution_count": null,
   "id": "07766dc9",
   "metadata": {},
   "outputs": [],
   "source": [
    "## Ocean Columbia Mouth\n",
    "columbia_river_mouth = \"../data/processed/GIS/ocean/TERRITORIAL_COLUMBIA_MOUNT.parquet\"\n",
    "\n",
    "## River Polygons\n",
    "river_polygons = (\n",
    "    \"../data/processed/GIS/inland_waters/US_INLAND_WATERS_COLUMBIA_R.parquet\"\n",
    ")\n",
    "\n",
    "## Important Areas Polygons\n",
    "dam_points = \"../data/processed/GIS/important_locations/columbia_snake_dams.parquet\"\n",
    "\n",
    "columbia_river_mouth = gpd.read_parquet(columbia_river_mouth).to_crs(\"EPSG:4326\")\n",
    "river_gdf = gpd.read_parquet(river_polygons).to_crs(\"EPSG:4326\")\n",
    "dams = gpd.read_parquet(dam_points).to_crs(\"EPSG:4326\")\n",
    "\n",
    "columbia_river_mouth = columbia_river_mouth.explode()\n",
    "columbia_river_mouth[\"geometry\"] = columbia_river_mouth[\"geometry\"].buffer(0)\n",
    "\n",
    "river_gdf = gpd.read_parquet(river_polygons).to_crs(\"EPSG:4326\")\n",
    "river_gdf = river_gdf.dissolve(by=\"RIVER_TYPE\")\n",
    "river_gdf = river_gdf.reset_index()[[\"RIVER_TYPE\", \"geometry\"]]\n",
    "river_gdf = river_gdf.explode()\n",
    "river_gdf[\"geometry\"] = river_gdf[\"geometry\"].buffer(0)\n",
    "\n",
    "river_gdf_MO = river_gdf[\n",
    "    (river_gdf.RIVER_TYPE == \"MAJOR\") | (river_gdf.RIVER_TYPE == \"OTHER\")\n",
    "]\n",
    "river_gdf_MO[\"geometry\"] = river_gdf_MO.geometry.force_2d()\n",
    "river_gdf_MO = river_gdf_MO.dissolve()\n",
    "river_gdf_MO[\"RIVER_TYPE\"] = \"MAJOR\"\n",
    "\n",
    "river_gdf_MI = river_gdf[\n",
    "    ~((river_gdf.RIVER_TYPE == \"MAJOR\") | (river_gdf.RIVER_TYPE == \"OTHER\"))\n",
    "]\n",
    "river_gdf_MI[\"geometry\"] = river_gdf_MI.geometry.force_2d()\n",
    "river_gdf_MI = river_gdf_MI.dissolve()\n",
    "\n",
    "river_gdf_MI[\"geometry\"] = river_gdf_MI.difference(river_gdf_MO)\n",
    "\n",
    "river_gdf = pd.concat([river_gdf_MI, river_gdf_MO])\n",
    "\n",
    "\n",
    "dams = gpd.read_parquet(dam_points).to_crs(\"EPSG:4326\")"
   ]
  },
  {
   "cell_type": "code",
   "execution_count": null,
   "id": "f5ce39d2",
   "metadata": {},
   "outputs": [],
   "source": [
    "river_gdf.to_parquet(river_polygons)"
   ]
  },
  {
   "cell_type": "code",
   "execution_count": null,
   "id": "4f51a68e",
   "metadata": {},
   "outputs": [],
   "source": [
    "dams"
   ]
  },
  {
   "cell_type": "code",
   "execution_count": null,
   "id": "5d49987f",
   "metadata": {},
   "outputs": [],
   "source": [
    "from shapely.geometry import mapping\n",
    "import folium\n",
    "\n",
    "\n",
    "def create_and_save_map(columbia_river_mouth, river_gdf, dams):\n",
    "    # --- Color Map ---\n",
    "    color_map = {\n",
    "        \"MAJOR\": \"#084594\",\n",
    "        \"MINOR\": \"#deebf7\",\n",
    "    }\n",
    "\n",
    "    # --- Folium Map ---\n",
    "    m = folium.Map(location=[46.25, -123.95], zoom_start=8, tiles=\"CartoDB Positron\")\n",
    "\n",
    "    # --- Add River Polygons ---\n",
    "    for _, row in river_gdf.iterrows():\n",
    "        if row[\"geometry\"] and not row[\"geometry\"].is_empty:\n",
    "            folium.GeoJson(\n",
    "                mapping(row[\"geometry\"]),\n",
    "                name=f\"{row['RIVER_TYPE']}\",\n",
    "                style_function=lambda x, row=row: {\n",
    "                    \"fillColor\": color_map.get(row[\"RIVER_TYPE\"], \"#cccccc\"),\n",
    "                    \"color\": color_map.get(row[\"RIVER_TYPE\"], \"#cccccc\"),\n",
    "                    \"weight\": 1,\n",
    "                    \"fillOpacity\": 0.6 if row[\"RIVER_TYPE\"] != \"MINOR\" else 0.3,\n",
    "                },\n",
    "            ).add_to(m)\n",
    "\n",
    "    # --- Add Marine Area Polygons ---\n",
    "    for _, row in columbia_river_mouth.iterrows():\n",
    "        if row[\"geometry\"] and not row[\"geometry\"].is_empty:\n",
    "            folium.GeoJson(\n",
    "                mapping(row[\"geometry\"]),\n",
    "                name=\"Marine Area\",\n",
    "                style_function=lambda x: {\n",
    "                    \"fillColor\": \"#a6bddb\",\n",
    "                    \"color\": \"#3690c0\",\n",
    "                    \"weight\": 1,\n",
    "                    \"fillOpacity\": 0.4,\n",
    "                },\n",
    "                tooltip=\"Marine Area\",\n",
    "            ).add_to(m)\n",
    "\n",
    "    # --- Add Dams ---\n",
    "    for _, row in dams.iterrows():\n",
    "        if row.geometry.geom_type == \"Point\":\n",
    "            folium.Marker(\n",
    "                location=[row.geometry.y, row.geometry.x],\n",
    "                fill_opacity=0.75,\n",
    "                icon=folium.Icon(icon=\"fa-house-flood-water\", prefix=\"fa\"),\n",
    "                color=\"#042A2B\",\n",
    "                fill_color=\"#042A2B\",\n",
    "                tooltip=row.get(\"NAME\", \"Dam\"),\n",
    "            ).add_to(m)\n",
    "\n",
    "    # --- Add Layer Control ---\n",
    "    folium.LayerControl().add_to(m)\n",
    "\n",
    "    # --- Save ---\n",
    "    # m.save(\"map.html\")\n",
    "    return m"
   ]
  },
  {
   "cell_type": "code",
   "execution_count": null,
   "id": "c3f5cefc",
   "metadata": {},
   "outputs": [],
   "source": [
    "create_and_save_map(columbia_river_mouth, river_gdf, dams)"
   ]
  },
  {
   "cell_type": "code",
   "execution_count": null,
   "id": "a3af7015",
   "metadata": {},
   "outputs": [],
   "source": [
    "# dams"
   ]
  },
  {
   "cell_type": "code",
   "execution_count": null,
   "id": "db501cdf",
   "metadata": {},
   "outputs": [],
   "source": []
  }
 ],
 "metadata": {
  "kernelspec": {
   "display_name": "salmonsignal",
   "language": "python",
   "name": "python3"
  },
  "language_info": {
   "codemirror_mode": {
    "name": "ipython",
    "version": 3
   },
   "file_extension": ".py",
   "mimetype": "text/x-python",
   "name": "python",
   "nbconvert_exporter": "python",
   "pygments_lexer": "ipython3",
   "version": "3.10.18"
  }
 },
 "nbformat": 4,
 "nbformat_minor": 5
}
